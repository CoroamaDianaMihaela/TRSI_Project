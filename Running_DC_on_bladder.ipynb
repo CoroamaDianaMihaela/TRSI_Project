{
  "cells": [
    {
      "cell_type": "markdown",
      "metadata": {
        "papermill": {
          "duration": 0.046265,
          "end_time": "2022-05-14T18:40:20.114414",
          "exception": false,
          "start_time": "2022-05-14T18:40:20.068149",
          "status": "completed"
        },
        "tags": [],
        "id": "IG59n4TnNS22"
      },
      "source": [
        "# README\n",
        "This notebook is a work in progress. This project is focused on bladder cancer segmentation.\n",
        "In this notebook we construct the model, train and evaluate the performance of the model."
      ]
    },
    {
      "cell_type": "code",
      "execution_count": null,
      "metadata": {
        "execution": {
          "iopub.execute_input": "2022-05-14T18:40:20.209939Z",
          "iopub.status.busy": "2022-05-14T18:40:20.209246Z",
          "iopub.status.idle": "2022-05-14T18:40:25.211027Z",
          "shell.execute_reply": "2022-05-14T18:40:25.212519Z",
          "shell.execute_reply.started": "2022-05-13T20:03:44.611863Z"
        },
        "id": "OL2rjQ-PAVGm",
        "papermill": {
          "duration": 5.053699,
          "end_time": "2022-05-14T18:40:25.213160",
          "exception": false,
          "start_time": "2022-05-14T18:40:20.159461",
          "status": "completed"
        },
        "tags": [],
        "outputId": "040648f4-ff89-4969-e633-ba1a9ef715c2"
      },
      "outputs": [
        {
          "name": "stdout",
          "output_type": "stream",
          "text": [
            "2.4.1\n",
            "2.4.3\n"
          ]
        }
      ],
      "source": [
        "import tensorflow as tf\n",
        "import keras\n",
        "print(tf.__version__)\n",
        "print(keras.__version__)"
      ]
    },
    {
      "cell_type": "markdown",
      "metadata": {
        "papermill": {
          "duration": 0.074505,
          "end_time": "2022-05-14T18:40:25.374048",
          "exception": false,
          "start_time": "2022-05-14T18:40:25.299543",
          "status": "completed"
        },
        "tags": [],
        "id": "ZxE3KnudNS3C"
      },
      "source": [
        "# Set up Tensorboard\n",
        "Currently we do not use this because it takes up too much RAM."
      ]
    },
    {
      "cell_type": "code",
      "execution_count": null,
      "metadata": {
        "execution": {
          "iopub.execute_input": "2022-05-14T18:40:25.531005Z",
          "iopub.status.busy": "2022-05-14T18:40:25.530154Z",
          "iopub.status.idle": "2022-05-14T18:40:25.532212Z",
          "shell.execute_reply": "2022-05-14T18:40:25.532858Z",
          "shell.execute_reply.started": "2022-05-10T18:21:35.777785Z"
        },
        "papermill": {
          "duration": 0.084221,
          "end_time": "2022-05-14T18:40:25.533054",
          "exception": false,
          "start_time": "2022-05-14T18:40:25.448833",
          "status": "completed"
        },
        "tags": [],
        "id": "dtAX9hPENS3F"
      },
      "outputs": [],
      "source": [
        "# # Download Ngrok to tunnel the tensorboard port to an external port\n",
        "# !wget https://bin.equinox.io/c/4VmDzA7iaHb/ngrok-stable-linux-amd64.zip\n",
        "# !unzip ngrok-stable-linux-amd64.zip\n",
        "\n",
        "# # Run tensorboard as well as Ngrox (for tunneling as non-blocking processes)\n",
        "# import os\n",
        "# import multiprocessing\n",
        "\n",
        "\n",
        "# pool = multiprocessing.Pool(processes = 10)\n",
        "# results_of_processes = [pool.apply_async(os.system, args=(cmd, ), callback = None )\n",
        "#                         for cmd in [\n",
        "#                         f\"tensorboard --logdir ./logs/ --host 0.0.0.0 --port 6006 &\",\n",
        "#                         \"./ngrok http 6006 &\"\n",
        "#                         ]]"
      ]
    },
    {
      "cell_type": "code",
      "execution_count": null,
      "metadata": {
        "execution": {
          "iopub.execute_input": "2022-05-14T18:40:25.689550Z",
          "iopub.status.busy": "2022-05-14T18:40:25.688380Z",
          "iopub.status.idle": "2022-05-14T18:40:25.693927Z",
          "shell.execute_reply": "2022-05-14T18:40:25.693359Z",
          "shell.execute_reply.started": "2022-05-10T18:21:35.784174Z"
        },
        "papermill": {
          "duration": 0.086219,
          "end_time": "2022-05-14T18:40:25.694054",
          "exception": false,
          "start_time": "2022-05-14T18:40:25.607835",
          "status": "completed"
        },
        "tags": [],
        "id": "MINaHv9HNS3L"
      },
      "outputs": [],
      "source": [
        "# ! curl -s http://localhost:4040/api/tunnels | python3 -c \\\n",
        "#     \"import sys, json; print(json.load(sys.stdin)['tunnels'][0]['public_url'])\""
      ]
    },
    {
      "cell_type": "markdown",
      "metadata": {
        "papermill": {
          "duration": 0.045726,
          "end_time": "2022-05-14T18:40:25.785973",
          "exception": false,
          "start_time": "2022-05-14T18:40:25.740247",
          "status": "completed"
        },
        "tags": [],
        "id": "PxgEA-wbNS3N"
      },
      "source": [
        "# Importing the libraries"
      ]
    },
    {
      "cell_type": "code",
      "execution_count": null,
      "metadata": {
        "execution": {
          "iopub.execute_input": "2022-05-14T18:40:25.883067Z",
          "iopub.status.busy": "2022-05-14T18:40:25.882462Z",
          "iopub.status.idle": "2022-05-14T18:40:33.203823Z",
          "shell.execute_reply": "2022-05-14T18:40:33.202994Z",
          "shell.execute_reply.started": "2022-05-13T20:03:49.910779Z"
        },
        "papermill": {
          "duration": 7.371901,
          "end_time": "2022-05-14T18:40:33.203987",
          "exception": false,
          "start_time": "2022-05-14T18:40:25.832086",
          "status": "completed"
        },
        "tags": [],
        "id": "DIb1HFCzNS3Q",
        "outputId": "0f33f516-729a-4bab-d718-8475c760b8f9"
      },
      "outputs": [
        {
          "name": "stdout",
          "output_type": "stream",
          "text": [
            "Collecting pynrrd\r\n",
            "  Downloading pynrrd-0.4.3-py2.py3-none-any.whl (18 kB)\r\n",
            "Requirement already satisfied: numpy>=1.11.1 in /opt/conda/lib/python3.7/site-packages (from pynrrd) (1.19.5)\r\n",
            "Installing collected packages: pynrrd\r\n",
            "Successfully installed pynrrd-0.4.3\r\n",
            "\u001b[33mWARNING: You are using pip version 21.0.1; however, version 22.1 is available.\r\n",
            "You should consider upgrading via the '/opt/conda/bin/python3.7 -m pip install --upgrade pip' command.\u001b[0m\r\n"
          ]
        }
      ],
      "source": [
        "!pip install pynrrd"
      ]
    },
    {
      "cell_type": "code",
      "execution_count": null,
      "metadata": {
        "execution": {
          "iopub.execute_input": "2022-05-14T18:40:33.322711Z",
          "iopub.status.busy": "2022-05-14T18:40:33.321824Z",
          "iopub.status.idle": "2022-05-14T18:40:34.339553Z",
          "shell.execute_reply": "2022-05-14T18:40:34.339083Z",
          "shell.execute_reply.started": "2022-05-13T20:03:57.694495Z"
        },
        "papermill": {
          "duration": 1.085624,
          "end_time": "2022-05-14T18:40:34.339716",
          "exception": false,
          "start_time": "2022-05-14T18:40:33.254092",
          "status": "completed"
        },
        "tags": [],
        "id": "IEutZnOsNS3S"
      },
      "outputs": [],
      "source": [
        "%matplotlib inline\n",
        "\n",
        "# Importing libraries needed for data processing\n",
        "import os\n",
        "import numpy as np\n",
        "import nrrd\n",
        "import tensorflow as tf\n",
        "from numpy import load\n",
        "\n",
        "# Adding a path\n",
        "from pathlib import Path\n",
        "\n",
        "\n",
        "# Necessary libraries for image alteration and animations\n",
        "from ipywidgets import interact, interactive, IntSlider, ToggleButtons\n",
        "from scipy import ndimage\n",
        "from skimage import measure\n",
        "import matplotlib.pyplot as plt\n",
        "import matplotlib.animation as animation\n",
        "\n",
        "\n",
        "# Keras\n",
        "import os\n",
        "import skimage.io as io\n",
        "import skimage.transform as trans\n",
        "from tensorflow.keras.models import *\n",
        "from keras.layers import *\n",
        "from keras.optimizers import *\n",
        "from keras.callbacks import ModelCheckpoint, LearningRateScheduler,EarlyStopping , ReduceLROnPlateau\n",
        "from keras import backend as keras\n",
        "from keras import utils\n",
        "from keras.utils import np_utils\n",
        "from functools import partial\n",
        "from keras import backend as K\n",
        "\n",
        "\n",
        "# Importing needed libraries for constructing 3DUnet\n",
        "from keras.layers import Input, LeakyReLU, Add, UpSampling3D, Activation, SpatialDropout3D, Conv3D,Conv3DTranspose,PReLU,Softmax,ReLU,Concatenate, MaxPooling3D \n",
        "from keras.engine import Model\n",
        "from keras.optimizers import Adam\n",
        "from keras.layers.normalization import BatchNormalization\n",
        "from keras.layers.merge import concatenate\n",
        "from keras.losses import categorical_crossentropy,mse\n",
        "K.set_image_data_format(\"channels_last\")\n",
        "\n",
        "# Time\n",
        "from tqdm.notebook import tqdm\n",
        "import time\n",
        "import datetime\n",
        "\n",
        "# Visualization\n",
        "import tensorboard\n",
        "\n",
        "# Post-processing\n",
        "from skimage.restoration import (denoise_tv_chambolle, denoise_bilateral,\n",
        "                                 denoise_wavelet, estimate_sigma)"
      ]
    },
    {
      "cell_type": "markdown",
      "metadata": {
        "papermill": {
          "duration": 0.046491,
          "end_time": "2022-05-14T18:40:34.433607",
          "exception": false,
          "start_time": "2022-05-14T18:40:34.387116",
          "status": "completed"
        },
        "tags": [],
        "id": "oJyh1DfcNS3Y"
      },
      "source": [
        "# Loading the data"
      ]
    },
    {
      "cell_type": "code",
      "execution_count": null,
      "metadata": {
        "execution": {
          "iopub.execute_input": "2022-05-14T18:40:34.532896Z",
          "iopub.status.busy": "2022-05-14T18:40:34.532361Z",
          "iopub.status.idle": "2022-05-14T18:40:34.816488Z",
          "shell.execute_reply": "2022-05-14T18:40:34.815995Z",
          "shell.execute_reply.started": "2022-05-13T20:03:58.790028Z"
        },
        "papermill": {
          "duration": 0.336632,
          "end_time": "2022-05-14T18:40:34.816630",
          "exception": false,
          "start_time": "2022-05-14T18:40:34.479998",
          "status": "completed"
        },
        "tags": [],
        "id": "z9XSmhGLNS3a"
      },
      "outputs": [],
      "source": [
        "# Training data\n",
        "\n",
        "package = 'date5perpacient'\n",
        "x_interm_train = load('../input/'+ package +'/x_first_batch.npz')\n",
        "y_interm_train = load('../input/'+ package +'/y_first_batch.npz')\n",
        "\n",
        "# Validation data\n",
        "x_interm_valid = load('../input/'+ package +'/x_valid_first_batch.npz')\n",
        "y_interm_valid = load('../input/'+ package +'/y_valid_first_batch.npz')\n",
        "\n",
        "# Data from the second batch of patients\n",
        "x_second = load('../input/'+ package +'/x_second_batch.npz')\n",
        "y_second = load('../input/'+ package +'/y_second_batch.npz')\n",
        "\n",
        "# Validation data from the second batch of patients\n",
        "x_valid_second = load('../input/'+ package +'/x_valid_second_batch.npz')\n",
        "y_valid_second = load('../input/'+ package +'/y_valid_second_batch.npz')\n",
        "\n",
        "# Data from the second batch of patients\n",
        "x_test = load('../input/'+ package +'/x_test.npz')\n",
        "y_test = load('../input/'+ package +'/y_test.npz')\n"
      ]
    },
    {
      "cell_type": "code",
      "execution_count": null,
      "metadata": {
        "execution": {
          "iopub.execute_input": "2022-05-14T18:40:34.934283Z",
          "iopub.status.busy": "2022-05-14T18:40:34.933125Z",
          "iopub.status.idle": "2022-05-14T18:40:41.504125Z",
          "shell.execute_reply": "2022-05-14T18:40:41.503008Z",
          "shell.execute_reply.started": "2022-05-13T20:03:59.011858Z"
        },
        "papermill": {
          "duration": 6.640095,
          "end_time": "2022-05-14T18:40:41.504280",
          "exception": false,
          "start_time": "2022-05-14T18:40:34.864185",
          "status": "completed"
        },
        "tags": [],
        "id": "CVJQyzXrNS3d"
      },
      "outputs": [],
      "source": [
        "x_train_first = x_interm_train['arr_0']\n",
        "y_train_first = y_interm_train['arr_0']\n",
        "\n",
        "x_valid_first = x_interm_valid['arr_0']\n",
        "y_valid_first = y_interm_valid['arr_0']\n",
        "\n",
        "x_train_second = x_second['arr_0']\n",
        "y_train_second = y_second['arr_0']\n",
        "\n",
        "x_valid_second = x_valid_second['arr_0']\n",
        "y_valid_second = y_valid_second['arr_0']\n",
        "\n",
        "x_test = x_test['arr_0']\n",
        "y_test = y_test['arr_0']"
      ]
    },
    {
      "cell_type": "code",
      "execution_count": null,
      "metadata": {
        "execution": {
          "iopub.execute_input": "2022-05-14T18:40:41.610861Z",
          "iopub.status.busy": "2022-05-14T18:40:41.609858Z",
          "iopub.status.idle": "2022-05-14T18:40:41.615920Z",
          "shell.execute_reply": "2022-05-14T18:40:41.616583Z",
          "shell.execute_reply.started": "2022-05-13T20:04:04.7113Z"
        },
        "papermill": {
          "duration": 0.065459,
          "end_time": "2022-05-14T18:40:41.616817",
          "exception": false,
          "start_time": "2022-05-14T18:40:41.551358",
          "status": "completed"
        },
        "tags": [],
        "id": "rXIDc6CdNS3f",
        "outputId": "0f2402ce-e6da-4078-d8e9-cfb4b77c0ccb"
      },
      "outputs": [
        {
          "name": "stdout",
          "output_type": "stream",
          "text": [
            "|---------------------------------------------|\n",
            "|           X          |           Y          |\n",
            "|----------------------|----------------------|\n",
            "|                First   batch                |\n",
            "|---------------------------------------------|\n",
            "|(42, 128, 128, 32, 1) |(42, 128, 128, 32, 3) |\n",
            "|(7, 128, 128, 32, 1)  |(7, 128, 128, 32, 3)  |\n",
            "|---------------------------------------------|\n",
            "|                 Second batch                |\n",
            "|---------------------------------------------|\n",
            "|(42, 128, 128, 32, 1) |(42, 128, 128, 32, 3) |\n",
            "|(7, 128, 128, 32, 1)  | (7, 128, 128, 32, 3) |\n",
            "|---------------------------------------------|\n",
            "|                    Test                     |\n",
            "|---------------------------------------------|\n",
            "| (5, 128, 128, 32, 1) | (5, 128, 128, 32, 3) |\n",
            "|---------------------------------------------|\n"
          ]
        }
      ],
      "source": [
        "print('|---------------------------------------------|')\n",
        "print('|           X          |           Y          |')\n",
        "print('|----------------------|----------------------|')\n",
        "print('|                First   batch                |')\n",
        "print('|---------------------------------------------|')\n",
        "print('|'+str(x_train_first.shape)+' |'+str(y_train_first.shape)+' |')\n",
        "print('|'+str(x_valid_first.shape)+'  |'+str(y_valid_first.shape)+'  |')\n",
        "print('|---------------------------------------------|')\n",
        "print('|                 Second batch                |')\n",
        "print('|---------------------------------------------|')\n",
        "print('|'+str(x_train_second.shape)+' |'+str(y_train_second.shape)+' |')\n",
        "print('|'+str(x_valid_second.shape)+'  | '+str(y_valid_second.shape)+' |')\n",
        "print('|---------------------------------------------|')\n",
        "print('|                    Test                     |')\n",
        "print('|---------------------------------------------|')\n",
        "print('| '+str(x_test.shape)+' | '+str(y_test.shape)+' |')\n",
        "print('|---------------------------------------------|')"
      ]
    },
    {
      "cell_type": "code",
      "execution_count": null,
      "metadata": {
        "execution": {
          "iopub.execute_input": "2022-05-14T18:40:41.727283Z",
          "iopub.status.busy": "2022-05-14T18:40:41.726670Z",
          "iopub.status.idle": "2022-05-14T18:40:45.029350Z",
          "shell.execute_reply": "2022-05-14T18:40:45.028502Z",
          "shell.execute_reply.started": "2022-05-13T20:04:04.724728Z"
        },
        "papermill": {
          "duration": 3.35782,
          "end_time": "2022-05-14T18:40:45.029492",
          "exception": false,
          "start_time": "2022-05-14T18:40:41.671672",
          "status": "completed"
        },
        "tags": [],
        "id": "0x7L6D_uNS3h"
      },
      "outputs": [],
      "source": [
        "x_train_first = concatenate([x_train_first,x_train_second],axis=0)\n",
        "y_train_first = concatenate([y_train_first,y_train_second],axis=0)"
      ]
    },
    {
      "cell_type": "code",
      "execution_count": null,
      "metadata": {
        "execution": {
          "iopub.execute_input": "2022-05-14T18:40:45.167864Z",
          "iopub.status.busy": "2022-05-14T18:40:45.166640Z",
          "iopub.status.idle": "2022-05-14T18:40:45.270812Z",
          "shell.execute_reply": "2022-05-14T18:40:45.269808Z",
          "shell.execute_reply.started": "2022-05-13T20:04:08.200765Z"
        },
        "papermill": {
          "duration": 0.193782,
          "end_time": "2022-05-14T18:40:45.270973",
          "exception": false,
          "start_time": "2022-05-14T18:40:45.077191",
          "status": "completed"
        },
        "tags": [],
        "id": "y8L5yy3LNS3j"
      },
      "outputs": [],
      "source": [
        "x_valid_first = concatenate([x_valid_first,x_valid_second],axis=0)\n",
        "y_valid_first = concatenate([y_valid_first,y_valid_second],axis=0)"
      ]
    },
    {
      "cell_type": "markdown",
      "metadata": {
        "papermill": {
          "duration": 0.047224,
          "end_time": "2022-05-14T18:40:45.365480",
          "exception": false,
          "start_time": "2022-05-14T18:40:45.318256",
          "status": "completed"
        },
        "tags": [],
        "id": "jcigvKo3NS3k"
      },
      "source": [
        "# Vizualizing the data"
      ]
    },
    {
      "cell_type": "code",
      "execution_count": null,
      "metadata": {
        "execution": {
          "iopub.execute_input": "2022-05-14T18:40:45.467239Z",
          "iopub.status.busy": "2022-05-14T18:40:45.466427Z",
          "iopub.status.idle": "2022-05-14T18:40:45.468796Z",
          "shell.execute_reply": "2022-05-14T18:40:45.469268Z",
          "shell.execute_reply.started": "2022-05-13T20:04:08.345021Z"
        },
        "papermill": {
          "duration": 0.056893,
          "end_time": "2022-05-14T18:40:45.469409",
          "exception": false,
          "start_time": "2022-05-14T18:40:45.412516",
          "status": "completed"
        },
        "tags": [],
        "id": "M1MJFoXSNS3l"
      },
      "outputs": [],
      "source": [
        "def ground_truth_visualize(x,nr):\n",
        "    fig, ax = plt.subplots(1,3, figsize=[12, 12])\n",
        "    img_org = x_train_first[nr][:,:,x]\n",
        "    img_label_1 = y_train_first[nr][:,:,x,1]\n",
        "    img_label_2 = y_train_first[nr][:,:,x,2]\n",
        "    rotated_img = ndimage.rotate(img_org, 270)\n",
        "    rotated_img_lb = ndimage.rotate(img_label_1, 270)\n",
        "    rotated_img_lb_2 = ndimage.rotate(img_label_2, 270)\n",
        "#     ax[0].set_title(\" Original \")\n",
        "    ax[0].imshow(rotated_img,cmap='gray')\n",
        "    ax[0].axis('off')\n",
        "#     ax[1].set_title(\"Segmentation Class 1\")\n",
        "    ax[1].imshow(rotated_img_lb,cmap='gray')\n",
        "    ax[1].axis('off')\n",
        "#     ax[2].set_title(\"Segmentation Class 2\")\n",
        "    ax[2].imshow(rotated_img_lb_2,cmap='gray')\n",
        "    ax[2].axis('off')\n",
        "    plt.show()"
      ]
    },
    {
      "cell_type": "code",
      "execution_count": null,
      "metadata": {
        "execution": {
          "iopub.execute_input": "2022-05-14T18:40:45.594521Z",
          "iopub.status.busy": "2022-05-14T18:40:45.593667Z",
          "iopub.status.idle": "2022-05-14T18:40:46.268218Z",
          "shell.execute_reply": "2022-05-14T18:40:46.268605Z",
          "shell.execute_reply.started": "2022-05-13T20:04:08.355483Z"
        },
        "papermill": {
          "duration": 0.752178,
          "end_time": "2022-05-14T18:40:46.268783",
          "exception": false,
          "start_time": "2022-05-14T18:40:45.516605",
          "status": "completed"
        },
        "tags": [],
        "id": "eXR6xFxINS3n",
        "outputId": "003fc5ba-86b7-4191-dd74-0942185c0244"
      },
      "outputs": [
        {
          "data": {
            "image/png": "[encoded data removed]",
            "text/plain": [
              "<Figure size 864x864 with 3 Axes>"
            ]
          },
          "metadata": {
            "needs_background": "light"
          },
          "output_type": "display_data"
        },
        {
          "data": {
            "image/png": "[encoded data removed]",
            "text/plain": [
              "<Figure size 864x864 with 3 Axes>"
            ]
          },
          "metadata": {
            "needs_background": "light"
          },
          "output_type": "display_data"
        },
        {
          "data": {
            "image/png": "[encoded data removed]",
            "text/plain": [
              "<Figure size 864x864 with 3 Axes>"
            ]
          },
          "metadata": {
            "needs_background": "light"
          },
          "output_type": "display_data"
        }
      ],
      "source": [
        "ground_truth_visualize(10,15)\n",
        "ground_truth_visualize(6,9)\n",
        "ground_truth_visualize(15,19)"
      ]
    },
    {
      "cell_type": "markdown",
      "metadata": {
        "papermill": {
          "duration": 0.051636,
          "end_time": "2022-05-14T18:40:46.371975",
          "exception": false,
          "start_time": "2022-05-14T18:40:46.320339",
          "status": "completed"
        },
        "tags": [],
        "id": "U5zV9QzbNS3p"
      },
      "source": [
        "#### Shuffling the data"
      ]
    },
    {
      "cell_type": "code",
      "execution_count": null,
      "metadata": {
        "execution": {
          "iopub.execute_input": "2022-05-14T18:40:46.481231Z",
          "iopub.status.busy": "2022-05-14T18:40:46.480415Z",
          "iopub.status.idle": "2022-05-14T18:40:46.483242Z",
          "shell.execute_reply": "2022-05-14T18:40:46.482817Z",
          "shell.execute_reply.started": "2022-05-13T20:04:09.061004Z"
        },
        "papermill": {
          "duration": 0.059973,
          "end_time": "2022-05-14T18:40:46.483368",
          "exception": false,
          "start_time": "2022-05-14T18:40:46.423395",
          "status": "completed"
        },
        "tags": [],
        "id": "QsCZ1YXUNS3q"
      },
      "outputs": [],
      "source": [
        "def function_delete_surplus_data_nr(X,Y,nr):\n",
        "  \n",
        "    indexes = [i for i in range(X.shape[0])]\n",
        "    indexes_2 = np.random.choice(indexes,size=nr,replace=False)\n",
        "\n",
        "    x_l=[X[i] for i in indexes_2]\n",
        "    y_l=[Y[i] for i in indexes_2]\n",
        "    return x_l,y_l"
      ]
    },
    {
      "cell_type": "code",
      "execution_count": null,
      "metadata": {
        "execution": {
          "iopub.execute_input": "2022-05-14T18:40:46.593440Z",
          "iopub.status.busy": "2022-05-14T18:40:46.592854Z",
          "iopub.status.idle": "2022-05-14T18:40:46.597501Z",
          "shell.execute_reply": "2022-05-14T18:40:46.597013Z",
          "shell.execute_reply.started": "2022-05-13T20:04:09.069129Z"
        },
        "papermill": {
          "duration": 0.062614,
          "end_time": "2022-05-14T18:40:46.597630",
          "exception": false,
          "start_time": "2022-05-14T18:40:46.535016",
          "status": "completed"
        },
        "tags": [],
        "id": "Z3u7bGOuNS3s"
      },
      "outputs": [],
      "source": [
        "def function_shuffle(X,Y):\n",
        "  \n",
        "    indexes = [i for i in range(X.shape[0])]\n",
        "    trainSample = np.random.choice(indexes,size=len(indexes),replace=False)\n",
        "\n",
        "    x_train=[X[i] for i in trainSample]\n",
        "    y_train=[Y[i] for i in trainSample]\n",
        "    \n",
        "    y_train = np.array(y_train)\n",
        "    x_train = np.array(x_train)\n",
        "\n",
        "    return x_train,y_train"
      ]
    },
    {
      "cell_type": "code",
      "execution_count": null,
      "metadata": {
        "execution": {
          "iopub.execute_input": "2022-05-14T18:40:46.720321Z",
          "iopub.status.busy": "2022-05-14T18:40:46.719377Z",
          "iopub.status.idle": "2022-05-14T18:40:47.439224Z",
          "shell.execute_reply": "2022-05-14T18:40:47.439761Z",
          "shell.execute_reply.started": "2022-05-13T20:04:09.081702Z"
        },
        "papermill": {
          "duration": 0.786131,
          "end_time": "2022-05-14T18:40:47.439932",
          "exception": false,
          "start_time": "2022-05-14T18:40:46.653801",
          "status": "completed"
        },
        "tags": [],
        "id": "s8tyhOk6NS3t"
      },
      "outputs": [],
      "source": [
        "x_train_first, y_train_first = function_shuffle(x_train_first, y_train_first)"
      ]
    },
    {
      "cell_type": "markdown",
      "metadata": {
        "papermill": {
          "duration": 0.083785,
          "end_time": "2022-05-14T18:40:47.607516",
          "exception": false,
          "start_time": "2022-05-14T18:40:47.523731",
          "status": "completed"
        },
        "tags": [],
        "id": "QhsokSAmNS3u"
      },
      "source": [
        "# Metrics and loss functions\n",
        "\n",
        "Various loss function that we have tried and metrics for evaluating the performance of the model."
      ]
    },
    {
      "cell_type": "code",
      "execution_count": null,
      "metadata": {
        "execution": {
          "iopub.execute_input": "2022-05-14T18:40:47.799217Z",
          "iopub.status.busy": "2022-05-14T18:40:47.797329Z",
          "iopub.status.idle": "2022-05-14T18:40:47.799811Z",
          "shell.execute_reply": "2022-05-14T18:40:47.800228Z",
          "shell.execute_reply.started": "2022-05-13T20:04:09.737174Z"
        },
        "papermill": {
          "duration": 0.107762,
          "end_time": "2022-05-14T18:40:47.800375",
          "exception": false,
          "start_time": "2022-05-14T18:40:47.692613",
          "status": "completed"
        },
        "tags": [],
        "id": "jgRXJ3L7NS3u"
      },
      "outputs": [],
      "source": [
        "def dice_coef(y_true, y_pred, smooth=1.):\n",
        "    y_true_f = K.flatten(y_true)\n",
        "    y_pred_f = K.flatten(y_pred)\n",
        "    intersection = K.sum(y_true_f * y_pred_f)\n",
        "    return (2. * intersection + smooth) / (K.sum(y_true_f) + K.sum(y_pred_f) + smooth)\n",
        "\n",
        "def dice_coef_multilabel(y_true, y_pred, numLabels=3,weights=[0.1,0.4,0.5]):\n",
        "    dice=0\n",
        "    for index in range(numLabels):\n",
        "        dice += weights[index]*dice_coef(y_true[:,index,:,:,:], y_pred[:,index,:,:,:])\n",
        "    \n",
        "    return 1-dice\n",
        "\n",
        "def dice_coefficient_loss(y_true, y_pred, axis=(1, 2, 3), \n",
        "                     epsilon=0.00001):\n",
        "    \n",
        "    dice_numerator = 2*K.sum(y_true*y_pred,axis=(1,2,3))+epsilon\n",
        "    dice_denominator = K.sum(y_true+y_pred,axis=(1,2,3))+epsilon\n",
        "    dice_coefficient = K.mean(dice_numerator/dice_denominator)\n",
        "   \n",
        "    return 1-dice_coefficient\n",
        "\n",
        "def soft_dice_loss(y_true, y_pred, axis=(1, 2, 3), \n",
        "                   epsilon=0.00001):\n",
        "   \n",
        "    dice_numerator = 2.*K.sum(y_true*y_pred,axis=(0,1,2,3))+epsilon\n",
        "    dice_denominator = K.sum(y_true*y_true + y_pred*y_pred,axis=(0,1,2,3))+epsilon\n",
        "    \n",
        "    dice_loss = 3 - K.sum(dice_numerator/dice_denominator)\n",
        "\n",
        "    return dice_loss\n",
        "\n",
        "# --- METRICS ---\n",
        "\n",
        "def dice_coefficient(y_true, y_pred, smooth=1.):\n",
        "    \"\"\"\n",
        "    Calcularea coeficientul DICE\n",
        "    :param y_true:(3D Numpy Array) imaginea originala\n",
        "    :param y_true:(3D Numpy Array) imaginea prezisa de model\n",
        "    :returns:\n",
        "    coeficientul DICE (float)\n",
        "    \"\"\"\n",
        "    y_true_f = K.flatten(y_true)\n",
        "    y_pred_f = K.flatten(y_pred)\n",
        "    intersection = K.sum(y_true_f * y_pred_f)\n",
        "    return (2. * intersection + smooth) / (K.sum(y_true_f) + K.sum(y_pred_f) + smooth)\n",
        "\n",
        "\n",
        "def dsc(y_true, y_pred):\n",
        "    smooth = 1.\n",
        "    y_true_f = K.flatten(y_true)\n",
        "    y_pred_f = K.flatten(y_pred)\n",
        "    intersection = K.sum(y_true_f * y_pred_f)\n",
        "    score = (2. * intersection + smooth) / (K.sum(y_true_f) + K.sum(y_pred_f) + smooth)\n",
        "    return score\n",
        "\n",
        "\n",
        "def auc(y_true, y_pred):\n",
        "    smooth = 1\n",
        "    y_pred_pos = np.round(np.clip(y_pred, 0, 1))\n",
        "    y_pred_neg = 1 - y_pred_pos\n",
        "    y_pos = np.round(np.clip(y_true, 0, 1))\n",
        "    y_neg = 1 - y_pos\n",
        "    tp = np.sum(y_pos * y_pred_pos)\n",
        "    tn = np.sum(y_neg * y_pred_neg)\n",
        "    fp = np.sum(y_neg * y_pred_pos)\n",
        "    fn = np.sum(y_pos * y_pred_neg)\n",
        "    tpr = (tp + smooth) / (tp + fn + smooth) #recall\n",
        "    tnr = (tn + smooth) / (tn + fp + smooth)\n",
        "    prec = (tp + smooth) / (tp + fp + smooth) #precision\n",
        "    return [tpr, tnr, prec]\n",
        "\n",
        "def confusion(y_true, y_pred):\n",
        "    smooth=1\n",
        "    y_pred_pos = K.clip(y_pred, 0, 1)\n",
        "    y_pred_neg = 1 - y_pred_pos\n",
        "    y_pos = K.clip(y_true, 0, 1)\n",
        "    y_neg = 1 - y_pos\n",
        "    tp = K.sum(y_pos * y_pred_pos)\n",
        "    fp = K.sum(y_neg * y_pred_pos)\n",
        "    fn = K.sum(y_pos * y_pred_neg) \n",
        "    prec = (tp + smooth)/(tp+fp+smooth)\n",
        "    recall = (tp+smooth)/(tp+fn+smooth)\n",
        "    return prec, recall\n"
      ]
    },
    {
      "cell_type": "code",
      "execution_count": null,
      "metadata": {
        "execution": {
          "iopub.execute_input": "2022-05-14T18:40:47.910621Z",
          "iopub.status.busy": "2022-05-14T18:40:47.909851Z",
          "iopub.status.idle": "2022-05-14T18:40:47.912953Z",
          "shell.execute_reply": "2022-05-14T18:40:47.912494Z",
          "shell.execute_reply.started": "2022-05-13T20:04:09.761101Z"
        },
        "papermill": {
          "duration": 0.061368,
          "end_time": "2022-05-14T18:40:47.913074",
          "exception": false,
          "start_time": "2022-05-14T18:40:47.851706",
          "status": "completed"
        },
        "tags": [],
        "id": "fGPy1jRrNS3w"
      },
      "outputs": [],
      "source": [
        "# Ref: salehi17, \"Twersky loss function for image segmentation using 3D FCDN\"\n",
        "# -> the score is computed for each class separately and then summed\n",
        "# alpha=beta=0.5 : dice coefficient\n",
        "# alpha=beta=1   : tanimoto coefficient (also known as jaccard)\n",
        "# alpha+beta=1   : produces set of F*-scores\n",
        "# implemented by E. Moebel, 06/04/18\n",
        "\n",
        "def tversky_loss(y_true, y_pred):\n",
        "    alpha = 0.5\n",
        "    beta  = 0.5\n",
        "    ones = K.ones(K.shape(y_true))\n",
        "    p0 = y_pred      # proba that voxels are class i\n",
        "    p1 = ones-y_pred # proba that voxels are not class i\n",
        "    g0 = y_true\n",
        "    g1 = ones-y_true\n",
        "    # alpha - FP      beta - FN\n",
        "    num = K.sum(p0*g0, (0,1,2,3))\n",
        "    den = num + alpha*K.sum(p0*g1,(0,1,2,3)) + beta*K.sum(p1*g0,(0,1,2,3))\n",
        "    \n",
        "    T = K.sum(num/den) # when summing over classes, T has dynamic range [0 Ncl]\n",
        "    \n",
        "    Ncl = K.cast(K.shape(y_true)[-1], 'float32')\n",
        "    return Ncl - T\n",
        "\n"
      ]
    },
    {
      "cell_type": "code",
      "execution_count": null,
      "metadata": {
        "execution": {
          "iopub.execute_input": "2022-05-14T18:40:48.022900Z",
          "iopub.status.busy": "2022-05-14T18:40:48.022111Z",
          "iopub.status.idle": "2022-05-14T18:40:48.024951Z",
          "shell.execute_reply": "2022-05-14T18:40:48.024481Z",
          "shell.execute_reply.started": "2022-05-13T20:04:09.772161Z"
        },
        "papermill": {
          "duration": 0.060563,
          "end_time": "2022-05-14T18:40:48.025076",
          "exception": false,
          "start_time": "2022-05-14T18:40:47.964513",
          "status": "completed"
        },
        "tags": [],
        "id": "AcATcQgqNS3x"
      },
      "outputs": [],
      "source": [
        "def focal_loss_mean(y_true, y_pred,gamma=2., alpha=.25):\n",
        "\n",
        "    pt_1 = tf.where(tf.equal(y_true, 1), y_pred, tf.ones_like(y_pred))\n",
        "    pt_0 = tf.where(tf.equal(y_true, 0), y_pred, tf.zeros_like(y_pred))\n",
        "\n",
        "    return -K.mean(alpha * K.pow(1. - pt_1, gamma) * K.log(pt_1+K.epsilon())) - K.mean((1 - alpha) * K.pow(pt_0, gamma) * K.log(1. - pt_0 + K.epsilon()))"
      ]
    },
    {
      "cell_type": "code",
      "execution_count": null,
      "metadata": {
        "execution": {
          "iopub.execute_input": "2022-05-14T18:40:48.134707Z",
          "iopub.status.busy": "2022-05-14T18:40:48.133824Z",
          "iopub.status.idle": "2022-05-14T18:40:48.136366Z",
          "shell.execute_reply": "2022-05-14T18:40:48.135863Z"
        },
        "papermill": {
          "duration": 0.059447,
          "end_time": "2022-05-14T18:40:48.136518",
          "exception": false,
          "start_time": "2022-05-14T18:40:48.077071",
          "status": "completed"
        },
        "tags": [],
        "id": "vtb6UBQUNS3y"
      },
      "outputs": [],
      "source": [
        "def tanimoto_coefficient(y_true, y_pred, smooth=1.):\n",
        "    \"\"\"\n",
        "    Calcularea coeficientul DICE\n",
        "    :param y_true:(3D Numpy Array) imaginea originala\n",
        "    :param y_true:(3D Numpy Array) imaginea prezisa de model\n",
        "    :returns:\n",
        "    coeficientul DICE (float)\n",
        "    \"\"\"\n",
        "    y_true_f = K.flatten(y_true)\n",
        "    y_pred_f = K.flatten(y_pred)\n",
        "    intersection = K.sum(y_true_f * y_pred_f)\n",
        "    return (intersection + smooth) / (K.sum(y_true_f) + K.sum(y_pred_f) - intersection + smooth)"
      ]
    },
    {
      "cell_type": "code",
      "execution_count": null,
      "metadata": {
        "execution": {
          "iopub.execute_input": "2022-05-14T18:40:48.247261Z",
          "iopub.status.busy": "2022-05-14T18:40:48.246467Z",
          "iopub.status.idle": "2022-05-14T18:40:48.249307Z",
          "shell.execute_reply": "2022-05-14T18:40:48.248835Z",
          "shell.execute_reply.started": "2022-05-13T20:04:09.784499Z"
        },
        "papermill": {
          "duration": 0.06091,
          "end_time": "2022-05-14T18:40:48.249436",
          "exception": false,
          "start_time": "2022-05-14T18:40:48.188526",
          "status": "completed"
        },
        "tags": [],
        "id": "XRetAIjnNS3z"
      },
      "outputs": [],
      "source": [
        "def focal_loss_sum_mean(y_true, y_pred,gamma=2., alpha=.25):\n",
        "\n",
        "    pt_1 = tf.where(tf.equal(y_true, 1), y_pred, tf.ones_like(y_pred))\n",
        "    pt_0 = tf.where(tf.equal(y_true, 0), y_pred, tf.zeros_like(y_pred))\n",
        "\n",
        "    return -K.sum(alpha * K.mean(K.pow(1. - pt_1, gamma) * K.log(pt_1+K.epsilon()),axis=(0,1,2,3))) - K.sum((1 - alpha) * K.mean(K.pow(pt_0, gamma) * K.log(1. - pt_0 + K.epsilon()),axis=(0,1,2,3)))\n"
      ]
    },
    {
      "cell_type": "code",
      "execution_count": null,
      "metadata": {
        "execution": {
          "iopub.execute_input": "2022-05-14T18:40:48.359506Z",
          "iopub.status.busy": "2022-05-14T18:40:48.358585Z",
          "iopub.status.idle": "2022-05-14T18:40:48.361255Z",
          "shell.execute_reply": "2022-05-14T18:40:48.361635Z",
          "shell.execute_reply.started": "2022-05-13T20:04:09.795814Z"
        },
        "papermill": {
          "duration": 0.06021,
          "end_time": "2022-05-14T18:40:48.361801",
          "exception": false,
          "start_time": "2022-05-14T18:40:48.301591",
          "status": "completed"
        },
        "tags": [],
        "id": "SimMQrGrNS3z"
      },
      "outputs": [],
      "source": [
        "def weighted_categorical_crossentropy(y_true,y_pred,weights=[1,10,5]):\n",
        "    \"\"\"\n",
        "    A weighted version of keras.objectives.categorical_crossentropy\n",
        "    \n",
        "    Variables:\n",
        "        weights: numpy array of shape (C,) where C is the number of classes\n",
        "\n",
        "    Usage:\n",
        "        weights = np.array([0.5,2,10]) # Class one at 0.5, class 2 twice the normal weights, class 3 10x.\n",
        "        loss = weighted_categorical_crossentropy(weights)\n",
        "        model.compile(loss=loss,optimizer='adam')\n",
        "    \"\"\"\n",
        "    weights = K.variable(weights)\n",
        "    # scale predictions so that the class probas of each sample sum to 1\n",
        "    y_pred /= K.sum(y_pred, axis=-1, keepdims=True)\n",
        "    # clip to prevent NaN's and Inf's\n",
        "    y_pred = K.clip(y_pred, K.epsilon(), 1 - K.epsilon())\n",
        "    # calc\n",
        "    loss = y_true * K.log(y_pred) * weights\n",
        "    loss = -K.sum(loss, -1)\n",
        "    return loss"
      ]
    },
    {
      "cell_type": "code",
      "execution_count": null,
      "metadata": {
        "execution": {
          "iopub.execute_input": "2022-05-14T18:40:48.471160Z",
          "iopub.status.busy": "2022-05-14T18:40:48.470372Z",
          "iopub.status.idle": "2022-05-14T18:40:48.473374Z",
          "shell.execute_reply": "2022-05-14T18:40:48.472963Z",
          "shell.execute_reply.started": "2022-05-13T20:04:09.805032Z"
        },
        "papermill": {
          "duration": 0.060145,
          "end_time": "2022-05-14T18:40:48.473494",
          "exception": false,
          "start_time": "2022-05-14T18:40:48.413349",
          "status": "completed"
        },
        "tags": [],
        "id": "aPAvi-5PNS31"
      },
      "outputs": [],
      "source": [
        "def weighted_categorical_crossentropy_a(y_true,y_pred,weights=[1,10,5]):\n",
        "    \"\"\"\n",
        "    A weighted version of keras.objectives.categorical_crossentropy\n",
        "    \n",
        "    Variables:\n",
        "        weights: numpy array of shape (C,) where C is the number of classes\n",
        "\n",
        "    Usage:\n",
        "        weights = np.array([0.5,2,10]) # Class one at 0.5, class 2 twice the normal weights, class 3 10x.\n",
        "        loss = weighted_categorical_crossentropy(weights)\n",
        "        model.compile(loss=loss,optimizer='adam')\n",
        "    \"\"\"\n",
        "\n",
        "    weights = K.variable(weights)\n",
        "    # scale predictions so that the class probas of each sample sum to 1\n",
        "    y_pred /= K.sum(y_pred, axis=-1, keepdims=True)\n",
        "    # clip to prevent NaN's and Inf's\n",
        "    y_pred = K.clip(y_pred, K.epsilon(), 1 - K.epsilon())\n",
        "    # calc\n",
        "    loss = y_true * K.log(y_pred) * weights\n",
        "    loss = -K.mean(loss)\n",
        "    return loss\n",
        "\n",
        "  "
      ]
    },
    {
      "cell_type": "code",
      "execution_count": null,
      "metadata": {
        "execution": {
          "iopub.execute_input": "2022-05-14T18:40:48.583283Z",
          "iopub.status.busy": "2022-05-14T18:40:48.582465Z",
          "iopub.status.idle": "2022-05-14T18:40:48.585221Z",
          "shell.execute_reply": "2022-05-14T18:40:48.584708Z",
          "shell.execute_reply.started": "2022-05-13T20:04:09.816092Z"
        },
        "papermill": {
          "duration": 0.060419,
          "end_time": "2022-05-14T18:40:48.585341",
          "exception": false,
          "start_time": "2022-05-14T18:40:48.524922",
          "status": "completed"
        },
        "tags": [],
        "id": "jUmbuu6UNS32"
      },
      "outputs": [],
      "source": [
        "\n",
        "def weighted_categorical_crossentropy_inverse(y_true,y_pred):\n",
        "    #     A weighted version of keras.objectives.categorical_crossentropy\n",
        "    \"\"\"\n",
        "     Variables:\n",
        "         weights: numpy array of shape (C,) where C is the number of classes\n",
        "\n",
        "     Usage:\n",
        "         weights = np.array([0.5,2,10]) # Class one at 0.5, class 2 twice the normal weights, class 3 10x.\n",
        "         loss = weighted_categorical_crossentropy(weights)\n",
        "         model.compile(loss=loss,optimizer='adam')\n",
        "     \"\"\"\n",
        "    \n",
        "    N = K.sum(K.ones(y_true.shape[1:-1]))\n",
        "    N = tf.cast(N,tf.float32)\n",
        "    \n",
        "#     weights = K.variable(weights)\n",
        "\n",
        "    weights = 1/K.sum(y_true,axis=(0,1,2,3))\n",
        "    \n",
        "    # scale predictions so that the class probas of each sample sum to 1\n",
        "#     y_pred /= K.sum(y_pred, axis=-1, keepdims=True)\n",
        "    \n",
        "    # clip to prevent NaN's and Inf's\n",
        "    y_pred = K.clip(y_pred, K.epsilon(), 1 - K.epsilon())\n",
        "    loss = K.sum(y_true * K.log(y_pred) * weights,axis=-1)\n",
        "    loss = loss * 1/N\n",
        "    # calc\n",
        "    \n",
        "    return -loss"
      ]
    },
    {
      "cell_type": "code",
      "execution_count": null,
      "metadata": {
        "execution": {
          "iopub.execute_input": "2022-05-14T18:40:48.705079Z",
          "iopub.status.busy": "2022-05-14T18:40:48.704427Z",
          "iopub.status.idle": "2022-05-14T18:40:48.708913Z",
          "shell.execute_reply": "2022-05-14T18:40:48.708264Z",
          "shell.execute_reply.started": "2022-05-13T20:04:09.826086Z"
        },
        "papermill": {
          "duration": 0.070697,
          "end_time": "2022-05-14T18:40:48.709055",
          "exception": false,
          "start_time": "2022-05-14T18:40:48.638358",
          "status": "completed"
        },
        "tags": [],
        "id": "r8GtooHLNS32"
      },
      "outputs": [],
      "source": [
        "def weighted_categorical_crossentropy_median(y_true,y_pred):\n",
        "    #     A weighted version of keras.objectives.categorical_crossentropy\n",
        "    \"\"\"\n",
        "     Variables:\n",
        "         weights: numpy array of shape (C,) where C is the number of classes\n",
        "\n",
        "     Usage:\n",
        "         weights = np.array([0.5,2,10]) # Class one at 0.5, class 2 twice the normal weights, class 3 10x.\n",
        "         loss = weighted_categorical_crossentropy(weights)\n",
        "         model.compile(loss=loss,optimizer='adam')\n",
        "     \"\"\"\n",
        "    \n",
        "    N = K.sum(K.ones(y_true.shape[1:-1]))\n",
        "    N = tf.cast(N,tf.float32)\n",
        "    \n",
        "    Fc = K.sum(y_true,axis=(0,1,2,3))/N\n",
        "    medianFc= K.mean(Fc)\n",
        "#     weights = K.variable(weights)\n",
        "\n",
        "    weights = medianFc/Fc\n",
        "    \n",
        "    # scale predictions so that the class probas of each sample sum to 1\n",
        "#     y_pred /= K.sum(y_pred, axis=-1, keepdims=True)\n",
        "    \n",
        "    # clip to prevent NaN's and Inf's\n",
        "    y_pred = K.clip(y_pred, K.epsilon(), 1 - K.epsilon())\n",
        "    loss = K.sum(y_true * K.log(y_pred) * weights,axis=-1)\n",
        "    \n",
        "    loss = loss * 1/N\n",
        "    # calc\n",
        "    return - loss"
      ]
    },
    {
      "cell_type": "code",
      "execution_count": null,
      "metadata": {
        "execution": {
          "iopub.execute_input": "2022-05-14T18:40:48.833401Z",
          "iopub.status.busy": "2022-05-14T18:40:48.832452Z",
          "iopub.status.idle": "2022-05-14T18:40:48.835062Z",
          "shell.execute_reply": "2022-05-14T18:40:48.835455Z",
          "shell.execute_reply.started": "2022-05-13T20:04:09.837009Z"
        },
        "papermill": {
          "duration": 0.068493,
          "end_time": "2022-05-14T18:40:48.835610",
          "exception": false,
          "start_time": "2022-05-14T18:40:48.767117",
          "status": "completed"
        },
        "tags": [],
        "id": "gegANEjBNS34"
      },
      "outputs": [],
      "source": [
        "def weighted_categorical_crossentropy_focal(y_true,y_pred):\n",
        "    \"\"\"\n",
        "     Variables:\n",
        "         weights: numpy array of shape (C,) where C is the number of classes\n",
        "\n",
        "     Usage:\n",
        "         weights = np.array([0.5,2,10]) # Class one at 0.5, class 2 twice the normal weights, class 3 10x.\n",
        "         loss = weighted_categorical_crossentropy(weights)\n",
        "         model.compile(loss=loss,optimizer='adam')\n",
        "     \"\"\"\n",
        "    N = K.sum(K.ones(y_true.shape[1:-1]))\n",
        "    N = tf.cast(N,tf.float32)\n",
        "\n",
        "    # clip to prevent NaN's and Inf's\n",
        "    y_pred = K.clip(y_pred, K.epsilon(), 1 - K.epsilon())\n",
        "    loss = K.sum(y_true * (1-y_pred) * (1-y_pred) * K.log(y_pred),axis=-1)\n",
        "\n",
        "    loss = loss * 1/N\n",
        "    # calc\n",
        "    return - loss"
      ]
    },
    {
      "cell_type": "code",
      "execution_count": null,
      "metadata": {
        "execution": {
          "iopub.execute_input": "2022-05-14T18:40:48.957295Z",
          "iopub.status.busy": "2022-05-14T18:40:48.956448Z",
          "iopub.status.idle": "2022-05-14T18:40:48.959058Z",
          "shell.execute_reply": "2022-05-14T18:40:48.959426Z",
          "shell.execute_reply.started": "2022-05-13T20:04:09.847586Z"
        },
        "papermill": {
          "duration": 0.066823,
          "end_time": "2022-05-14T18:40:48.959570",
          "exception": false,
          "start_time": "2022-05-14T18:40:48.892747",
          "status": "completed"
        },
        "tags": [],
        "id": "039dXQWzNS35"
      },
      "outputs": [],
      "source": [
        "def ELL_Dice(y_true,y_pred,gamma=1):\n",
        "    num = K.sum(2*y_true*y_pred + 1.,axis=(0,1,2,3))\n",
        "    dem = K.sum(y_true+y_pred +1.,axis=(0,1,2,3))\n",
        "    dice = num/dem\n",
        "    dice = K.mean(K.pow(-K.log(dice),gamma))\n",
        "    return dice"
      ]
    },
    {
      "cell_type": "code",
      "execution_count": null,
      "metadata": {
        "execution": {
          "iopub.execute_input": "2022-05-14T18:40:49.068973Z",
          "iopub.status.busy": "2022-05-14T18:40:49.068268Z",
          "iopub.status.idle": "2022-05-14T18:40:49.072387Z",
          "shell.execute_reply": "2022-05-14T18:40:49.071931Z",
          "shell.execute_reply.started": "2022-05-13T20:04:09.869728Z"
        },
        "papermill": {
          "duration": 0.060873,
          "end_time": "2022-05-14T18:40:49.072512",
          "exception": false,
          "start_time": "2022-05-14T18:40:49.011639",
          "status": "completed"
        },
        "tags": [],
        "id": "ONnXywI2NS36"
      },
      "outputs": [],
      "source": [
        "def ELL(y_true,y_pred):\n",
        "    weight = K.sum(y_pred,axis=(0,1,2,3))\n",
        "    weight = weight/K.sum(y_true,axis=(0,1,2,3))\n",
        "    T = K.mean(weight*y_true*K.log(y_pred))\n",
        "    D = ELL_Dice(y_true,y_pred)\n",
        "    return T + D"
      ]
    },
    {
      "cell_type": "markdown",
      "metadata": {
        "papermill": {
          "duration": 0.055934,
          "end_time": "2022-05-14T18:40:49.181001",
          "exception": false,
          "start_time": "2022-05-14T18:40:49.125067",
          "status": "completed"
        },
        "tags": [],
        "id": "6j_IA8E0NS37"
      },
      "source": [
        "# Loading the model"
      ]
    },
    {
      "cell_type": "code",
      "execution_count": null,
      "metadata": {
        "execution": {
          "iopub.execute_input": "2022-05-14T18:40:49.304507Z",
          "iopub.status.busy": "2022-05-14T18:40:49.303505Z",
          "iopub.status.idle": "2022-05-14T18:40:49.305592Z",
          "shell.execute_reply": "2022-05-14T18:40:49.306117Z",
          "shell.execute_reply.started": "2022-05-13T20:04:09.878962Z"
        },
        "papermill": {
          "duration": 0.066437,
          "end_time": "2022-05-14T18:40:49.306292",
          "exception": false,
          "start_time": "2022-05-14T18:40:49.239855",
          "status": "completed"
        },
        "tags": [],
        "id": "qFRHKpuyNS38"
      },
      "outputs": [],
      "source": [
        "# dependencies = {\n",
        "#     'dice_coefficient' : dice_coefficient,\n",
        "#     'auc' : auc,\n",
        "#     'confusion' : confusion,\n",
        "#     'weighted_categorical_crossentropy': weighted_categorical_crossentropy\n",
        "# }\n",
        "\n",
        "# # # import tensorflow as tf\n",
        "# # # mdel=tf.keras.models.load_model(\"../input/modele-antrenate/model_antrenat.h5\",custom_objects=dependencies)\n",
        "\n",
        "# import tensorflow as tf\n",
        "# model_dc_unet = tf.keras.models.load_model(\"../input/150-epochs-bladder/model_sigmoid_nuclei.h5\", custom_objects=dependencies)"
      ]
    },
    {
      "cell_type": "markdown",
      "metadata": {
        "papermill": {
          "duration": 0.053529,
          "end_time": "2022-05-14T18:40:49.420156",
          "exception": false,
          "start_time": "2022-05-14T18:40:49.366627",
          "status": "completed"
        },
        "tags": [],
        "id": "S5WJGweZNS39"
      },
      "source": [
        "# DC-Unet"
      ]
    },
    {
      "cell_type": "code",
      "execution_count": null,
      "metadata": {
        "execution": {
          "iopub.execute_input": "2022-05-14T18:40:49.530171Z",
          "iopub.status.busy": "2022-05-14T18:40:49.529435Z",
          "iopub.status.idle": "2022-05-14T18:40:49.855441Z",
          "shell.execute_reply": "2022-05-14T18:40:49.854966Z",
          "shell.execute_reply.started": "2022-05-13T20:04:09.888356Z"
        },
        "papermill": {
          "duration": 0.384006,
          "end_time": "2022-05-14T18:40:49.855585",
          "exception": false,
          "start_time": "2022-05-14T18:40:49.471579",
          "status": "completed"
        },
        "tags": [],
        "id": "AhE20eOJNS3-"
      },
      "outputs": [],
      "source": [
        "import os\n",
        "import cv2\n",
        "import numpy as np\n",
        "from tqdm import tqdm\n",
        "import matplotlib.pyplot as plt\n",
        "from keras import initializers\n",
        "from keras.layers import SpatialDropout3D, Input, Conv3D, MaxPooling3D, Conv3DTranspose, concatenate,AveragePooling3D, UpSampling3D, BatchNormalization, Activation, add, Dropout, Permute, ZeroPadding3D,Add, Reshape\n",
        "from keras.models import Model, model_from_json\n",
        "from keras.optimizers import Adam\n",
        "from keras.layers.advanced_activations import ELU, LeakyReLU, ReLU, PReLU\n",
        "from keras.utils.vis_utils import plot_model\n",
        "from keras import backend as K \n",
        "from sklearn.model_selection import train_test_split\n",
        "from sklearn.metrics import classification_report\n",
        "from keras import applications, optimizers, callbacks\n",
        "import matplotlib\n",
        "import keras\n",
        "import tensorflow as tf\n",
        "from keras.layers import *"
      ]
    },
    {
      "cell_type": "code",
      "execution_count": null,
      "metadata": {
        "execution": {
          "iopub.execute_input": "2022-05-14T18:40:49.965991Z",
          "iopub.status.busy": "2022-05-14T18:40:49.965220Z",
          "iopub.status.idle": "2022-05-14T18:40:49.967913Z",
          "shell.execute_reply": "2022-05-14T18:40:49.968283Z",
          "shell.execute_reply.started": "2022-05-13T20:04:10.227101Z"
        },
        "papermill": {
          "duration": 0.061234,
          "end_time": "2022-05-14T18:40:49.968429",
          "exception": false,
          "start_time": "2022-05-14T18:40:49.907195",
          "status": "completed"
        },
        "tags": [],
        "id": "CcN_yTmKNS3_"
      },
      "outputs": [],
      "source": [
        "\n",
        "def conv2d_bn(x, filters, num_row, num_col, num_z, padding='same', strides=(1, 1, 1), activation='relu', name=None):\n",
        "    '''\n",
        "    2D Convolutional layers\n",
        "    \n",
        "    Arguments:\n",
        "        x {keras layer} -- input layer \n",
        "        filters {int} -- number of filters\n",
        "        num_row {int} -- number of rows in filters\n",
        "        num_col {int} -- number of columns in filters\n",
        "    \n",
        "    Keyword Arguments:\n",
        "        padding {str} -- mode of padding (default: {'same'})\n",
        "        strides {tuple} -- stride of convolution operation (default: {(1, 1)})\n",
        "        activation {str} -- activation function (default: {'relu'})\n",
        "        name {str} -- name of the layer (default: {None})\n",
        "    \n",
        "    Returns:\n",
        "        [keras layer] -- [output layer]\n",
        "    '''\n",
        "\n",
        "    x = Conv3D(filters, (num_row, num_col, num_z), strides=strides, padding=padding, use_bias=False)(x)\n",
        "    \n",
        "    if(activation == None):\n",
        "        return x\n",
        "\n",
        "    if (activation=='relu'):\n",
        "        x = Activation('relu')(x)\n",
        "    elif (activation=='prelu'):\n",
        "        x = PReLU()(x)\n",
        "        \n",
        "    x = BatchNormalization(axis=4, scale=False)(x)\n",
        "    \n",
        "    return x\n"
      ]
    },
    {
      "cell_type": "code",
      "execution_count": null,
      "metadata": {
        "execution": {
          "iopub.execute_input": "2022-05-14T18:40:50.081930Z",
          "iopub.status.busy": "2022-05-14T18:40:50.081180Z",
          "iopub.status.idle": "2022-05-14T18:40:50.084081Z",
          "shell.execute_reply": "2022-05-14T18:40:50.083484Z",
          "shell.execute_reply.started": "2022-05-13T20:04:10.245437Z"
        },
        "papermill": {
          "duration": 0.064022,
          "end_time": "2022-05-14T18:40:50.084212",
          "exception": false,
          "start_time": "2022-05-14T18:40:50.020190",
          "status": "completed"
        },
        "tags": [],
        "id": "ZbgshqXHNS4B"
      },
      "outputs": [],
      "source": [
        "\n",
        "def DCBlock3(U, inp, alpha = 1.67, activation='relu'):\n",
        "    '''\n",
        "    DC Block\n",
        "    \n",
        "    Arguments:\n",
        "        U {int} -- Number of filters in a corrsponding UNet stage\n",
        "        inp {keras layer} -- input layer \n",
        "    \n",
        "    Returns:\n",
        "        [keras layer] -- [output layer]\n",
        "    '''\n",
        "\n",
        "    W = U\n",
        "\n",
        "    conv3x3_1 = conv2d_bn(inp, int(W*0.167), 3, 3,  3,\n",
        "                        activation=activation, padding='same')\n",
        "\n",
        "    conv5x5_1 = conv2d_bn(conv3x3_1, int(W*0.333), 3, 3, 3,\n",
        "                        activation=activation, padding='same')\n",
        "\n",
        "    conv7x7_1 = conv2d_bn(conv5x5_1, int(W*0.5), 3, 3, 3,\n",
        "                        activation=activation, padding='same')\n",
        "\n",
        "    out1 = concatenate([conv3x3_1, conv5x5_1, conv7x7_1], axis=4)\n",
        "    out1 = BatchNormalization(axis=4)(out1)\n",
        "    \n",
        "    conv3x3_2 = conv2d_bn(inp, int(W*0.167), 3, 3, 3,\n",
        "                        activation=activation, padding='same')\n",
        "\n",
        "    conv5x5_2 = conv2d_bn(conv3x3_2, int(W*0.333), 3, 3, 3,\n",
        "                        activation=activation, padding='same')\n",
        "\n",
        "    conv7x7_2 = conv2d_bn(conv5x5_2, int(W*0.5), 3, 3, 3,\n",
        "                        activation=activation, padding='same')\n",
        "    \n",
        "    out2 = concatenate([conv3x3_2, conv5x5_2, conv7x7_2], axis=4)\n",
        "    out2 = BatchNormalization(axis=4)(out2)\n",
        "\n",
        "    out = add([out1, out2])\n",
        "    if (activation=='relu'):\n",
        "        out = Activation('relu')(out)\n",
        "    elif (activation=='prelu'):\n",
        "        out = PReLU()(out)\n",
        "                          \n",
        "    out = BatchNormalization(axis=4)(out)\n",
        "\n",
        "    return out"
      ]
    },
    {
      "cell_type": "code",
      "execution_count": null,
      "metadata": {
        "execution": {
          "iopub.execute_input": "2022-05-14T18:40:50.197841Z",
          "iopub.status.busy": "2022-05-14T18:40:50.196989Z",
          "iopub.status.idle": "2022-05-14T18:40:50.199737Z",
          "shell.execute_reply": "2022-05-14T18:40:50.199292Z",
          "shell.execute_reply.started": "2022-05-13T20:04:10.259534Z"
        },
        "papermill": {
          "duration": 0.062828,
          "end_time": "2022-05-14T18:40:50.199867",
          "exception": false,
          "start_time": "2022-05-14T18:40:50.137039",
          "status": "completed"
        },
        "tags": [],
        "id": "RgKeK6y6NS4B"
      },
      "outputs": [],
      "source": [
        "def ResPath3(filters, length, inp, activation = 'relu'):\n",
        "    '''\n",
        "    ResPath\n",
        "    Arguments:\n",
        "        filters {int} -- [description]\n",
        "        length {int} -- length of ResPath\n",
        "        inp {keras layer} -- input layer \n",
        "    \n",
        "    Returns:\n",
        "        [keras layer] -- [output layer]\n",
        "    '''\n",
        "    shortcut = inp\n",
        "    shortcut = conv2d_bn(shortcut, filters, 1, 1, 1,\n",
        "                         activation=None, padding='same')\n",
        "    \n",
        "    out = conv2d_bn(inp, filters, 3, 3, 3, activation=activation, padding='same')\n",
        "    \n",
        "    out = add([shortcut, out])\n",
        "    \n",
        "    if (activation=='relu'):\n",
        "        out = Activation('relu')(out)\n",
        "    elif (activation=='prelu'):\n",
        "        out = PReLU()(out)\n",
        "        \n",
        "    out = BatchNormalization(axis=4)(out)\n",
        "\n",
        "    for i in range(length-1):\n",
        "\n",
        "        shortcut = out\n",
        "        shortcut = conv2d_bn(shortcut, filters, 1, 1, 1,\n",
        "                             activation=None, padding='same')\n",
        "\n",
        "        out = conv2d_bn(out, filters, 3, 3, 3, activation=activation, padding='same')\n",
        "\n",
        "        out = add([shortcut, out])\n",
        "\n",
        "        if (activation=='relu'):\n",
        "            out = Activation('relu')(out)\n",
        "        elif (activation=='prelu'):\n",
        "            out = PReLU()(out)\n",
        "            \n",
        "        out = BatchNormalization(axis=4)(out)\n",
        "\n",
        "    return out"
      ]
    },
    {
      "cell_type": "code",
      "execution_count": null,
      "metadata": {
        "execution": {
          "iopub.execute_input": "2022-05-14T18:40:50.311541Z",
          "iopub.status.busy": "2022-05-14T18:40:50.305867Z",
          "iopub.status.idle": "2022-05-14T18:40:50.322149Z",
          "shell.execute_reply": "2022-05-14T18:40:50.321697Z",
          "shell.execute_reply.started": "2022-05-13T20:04:10.272281Z"
        },
        "papermill": {
          "duration": 0.071066,
          "end_time": "2022-05-14T18:40:50.322274",
          "exception": false,
          "start_time": "2022-05-14T18:40:50.251208",
          "status": "completed"
        },
        "tags": [],
        "id": "XVYrjvN4NS4C"
      },
      "outputs": [],
      "source": [
        "def DCUNet3(activation_middle = 'relu', loss_name = 'binary', input_size=(128, 128, 32, 1),  initial_learning_rate = 1e-4):\n",
        "    '''\n",
        "    DC-UNet\n",
        "    \n",
        "    Arguments:\n",
        "        height {int} -- height of image \n",
        "        width {int} -- width of image \n",
        "        n_channels {int} -- number of channels in image\n",
        "    \n",
        "    Returns:\n",
        "        [keras model] -- MultiResUNet model\n",
        "    '''\n",
        "    inputs = Input(input_size)\n",
        "\n",
        "    dcblock1 = DCBlock3(32, inputs, activation = activation_middle)\n",
        "    pool1 = MaxPooling3D(pool_size=(2, 2, 2))(dcblock1)\n",
        "    dcblock1 = ResPath3(32, 4, dcblock1, activation = activation_middle)\n",
        "\n",
        "    dcblock2 = DCBlock3(32*2, pool1, activation = activation_middle)\n",
        "    pool2 = MaxPooling3D(pool_size=(2, 2, 2))(dcblock2)\n",
        "    dcblock2 = ResPath3(32*2, 3, dcblock2, activation = activation_middle)\n",
        "\n",
        "    dcblock3 = DCBlock3(32*4, pool2, activation = activation_middle)\n",
        "    pool3 = MaxPooling3D(pool_size=(2, 2, 2))(dcblock3)\n",
        "    dcblock3 = ResPath3(32*4, 2, dcblock3)\n",
        "\n",
        "    dcblock4 = DCBlock3(32*8, pool3, activation = activation_middle)\n",
        "    pool4 = MaxPooling3D(pool_size=(2, 2, 2))(dcblock4)\n",
        "    dcblock4 = ResPath3(32*8, 1, dcblock4, activation = activation_middle)\n",
        "\n",
        "    dcblock5 = DCBlock3(32*16, pool4, activation = activation_middle)\n",
        "\n",
        "    up6 = concatenate([Conv3DTranspose(\n",
        "        32*8, (2, 2, 2), strides=(2, 2, 2), padding='same')(dcblock5), dcblock4], axis=4)\n",
        "    dcblock6 = DCBlock3(32*8, up6)\n",
        "\n",
        "    up7 = concatenate([Conv3DTranspose(\n",
        "        32*4, (2, 2, 2), strides=(2, 2, 2), padding='same')(dcblock6), dcblock3], axis=4)\n",
        "    dcblock7 = DCBlock3(32*4, up7)\n",
        "\n",
        "    up8 = concatenate([Conv3DTranspose(\n",
        "        32*2, (2, 2, 2), strides=(2, 2, 2), padding='same')(dcblock7), dcblock2], axis=4)\n",
        "    dcblock8 = DCBlock3(32*2, up8)\n",
        "\n",
        "    up9 = concatenate([Conv3DTranspose(32, (2, 2, 2), strides=(\n",
        "        2, 2, 2), padding='same')(dcblock8), dcblock1], axis=4)\n",
        "    dcblock9 = DCBlock3(32, up9, activation = activation_middle)\n",
        "    \n",
        "    outputs = Conv3D(3, (1, 1, 1), activation='softmax', name='output_1',padding='same')(dcblock9)\n",
        "        \n",
        "    model = Model(inputs=[inputs], outputs=[outputs])\n",
        "    \n",
        "    if loss_name == \"categorical\":\n",
        "        model.compile(optimizer=Adam(lr=initial_learning_rate), loss = tf.keras.losses.categorical_crossentropy, metrics=['accuracy', auc, dice_coefficient, confusion, tanimoto_coefficient])\n",
        "    elif loss_name == \"weighted\":\n",
        "        model.compile(optimizer=Adam(lr=initial_learning_rate), loss = weighted_categorical_crossentropy, metrics=['accuracy', auc, dice_coefficient, confusion, tanimoto_coefficient])\n",
        "    elif loss_name==\"tversky\":\n",
        "        model.compile(optimizer=Adam(lr=initial_learning_rate), loss = tversky_loss, metrics=['accuracy', auc, dice_coefficient, confusion, tanimoto_coefficient])\n",
        "        \n",
        "    model.summary()\n",
        "    return model"
      ]
    },
    {
      "cell_type": "code",
      "execution_count": null,
      "metadata": {
        "execution": {
          "iopub.execute_input": "2022-05-14T18:40:50.437465Z",
          "iopub.status.busy": "2022-05-14T18:40:50.436522Z",
          "iopub.status.idle": "2022-05-14T18:40:52.162925Z",
          "shell.execute_reply": "2022-05-14T18:40:52.163610Z",
          "shell.execute_reply.started": "2022-05-13T20:04:10.293482Z"
        },
        "papermill": {
          "duration": 1.789047,
          "end_time": "2022-05-14T18:40:52.163865",
          "exception": false,
          "start_time": "2022-05-14T18:40:50.374818",
          "status": "completed"
        },
        "tags": [],
        "id": "IYP9YKcANS4E",
        "outputId": "2616b629-da46-4113-c93a-cb22e633bd2d"
      },
      "outputs": [
        {
          "name": "stdout",
          "output_type": "stream",
          "text": [
            "Model: \"model\"\n",
            "__________________________________________________________________________________________________\n",
            "Layer (type)                    Output Shape         Param #     Connected to                     \n",
            "==================================================================================================\n",
            "input_1 (InputLayer)            [(None, 128, 128, 32 0                                            \n",
            "__________________________________________________________________________________________________\n",
            "conv3d (Conv3D)                 (None, 128, 128, 32, 135         input_1[0][0]                    \n",
            "__________________________________________________________________________________________________\n",
            "conv3d_3 (Conv3D)               (None, 128, 128, 32, 135         input_1[0][0]                    \n",
            "__________________________________________________________________________________________________\n",
            "activation (Activation)         (None, 128, 128, 32, 0           conv3d[0][0]                     \n",
            "__________________________________________________________________________________________________\n",
            "activation_3 (Activation)       (None, 128, 128, 32, 0           conv3d_3[0][0]                   \n",
            "__________________________________________________________________________________________________\n",
            "batch_normalization (BatchNorma (None, 128, 128, 32, 15          activation[0][0]                 \n",
            "__________________________________________________________________________________________________\n",
            "batch_normalization_4 (BatchNor (None, 128, 128, 32, 15          activation_3[0][0]               \n",
            "__________________________________________________________________________________________________\n",
            "conv3d_1 (Conv3D)               (None, 128, 128, 32, 1350        batch_normalization[0][0]        \n",
            "__________________________________________________________________________________________________\n",
            "conv3d_4 (Conv3D)               (None, 128, 128, 32, 1350        batch_normalization_4[0][0]      \n",
            "__________________________________________________________________________________________________\n",
            "activation_1 (Activation)       (None, 128, 128, 32, 0           conv3d_1[0][0]                   \n",
            "__________________________________________________________________________________________________\n",
            "activation_4 (Activation)       (None, 128, 128, 32, 0           conv3d_4[0][0]                   \n",
            "__________________________________________________________________________________________________\n",
            "batch_normalization_1 (BatchNor (None, 128, 128, 32, 30          activation_1[0][0]               \n",
            "__________________________________________________________________________________________________\n",
            "batch_normalization_5 (BatchNor (None, 128, 128, 32, 30          activation_4[0][0]               \n",
            "__________________________________________________________________________________________________\n",
            "conv3d_2 (Conv3D)               (None, 128, 128, 32, 4320        batch_normalization_1[0][0]      \n",
            "__________________________________________________________________________________________________\n",
            "conv3d_5 (Conv3D)               (None, 128, 128, 32, 4320        batch_normalization_5[0][0]      \n",
            "__________________________________________________________________________________________________\n",
            "activation_2 (Activation)       (None, 128, 128, 32, 0           conv3d_2[0][0]                   \n",
            "__________________________________________________________________________________________________\n",
            "activation_5 (Activation)       (None, 128, 128, 32, 0           conv3d_5[0][0]                   \n",
            "__________________________________________________________________________________________________\n",
            "batch_normalization_2 (BatchNor (None, 128, 128, 32, 48          activation_2[0][0]               \n",
            "__________________________________________________________________________________________________\n",
            "batch_normalization_6 (BatchNor (None, 128, 128, 32, 48          activation_5[0][0]               \n",
            "__________________________________________________________________________________________________\n",
            "concatenate_4 (Concatenate)     (None, 128, 128, 32, 0           batch_normalization[0][0]        \n",
            "                                                                 batch_normalization_1[0][0]      \n",
            "                                                                 batch_normalization_2[0][0]      \n",
            "__________________________________________________________________________________________________\n",
            "concatenate_5 (Concatenate)     (None, 128, 128, 32, 0           batch_normalization_4[0][0]      \n",
            "                                                                 batch_normalization_5[0][0]      \n",
            "                                                                 batch_normalization_6[0][0]      \n",
            "__________________________________________________________________________________________________\n",
            "batch_normalization_3 (BatchNor (None, 128, 128, 32, 124         concatenate_4[0][0]              \n",
            "__________________________________________________________________________________________________\n",
            "batch_normalization_7 (BatchNor (None, 128, 128, 32, 124         concatenate_5[0][0]              \n",
            "__________________________________________________________________________________________________\n",
            "add (Add)                       (None, 128, 128, 32, 0           batch_normalization_3[0][0]      \n",
            "                                                                 batch_normalization_7[0][0]      \n",
            "__________________________________________________________________________________________________\n",
            "activation_6 (Activation)       (None, 128, 128, 32, 0           add[0][0]                        \n",
            "__________________________________________________________________________________________________\n",
            "batch_normalization_8 (BatchNor (None, 128, 128, 32, 124         activation_6[0][0]               \n",
            "__________________________________________________________________________________________________\n",
            "max_pooling3d (MaxPooling3D)    (None, 64, 64, 16, 3 0           batch_normalization_8[0][0]      \n",
            "__________________________________________________________________________________________________\n",
            "conv3d_14 (Conv3D)              (None, 64, 64, 16, 1 8370        max_pooling3d[0][0]              \n",
            "__________________________________________________________________________________________________\n",
            "conv3d_17 (Conv3D)              (None, 64, 64, 16, 1 8370        max_pooling3d[0][0]              \n",
            "__________________________________________________________________________________________________\n",
            "activation_15 (Activation)      (None, 64, 64, 16, 1 0           conv3d_14[0][0]                  \n",
            "__________________________________________________________________________________________________\n",
            "activation_18 (Activation)      (None, 64, 64, 16, 1 0           conv3d_17[0][0]                  \n",
            "__________________________________________________________________________________________________\n",
            "batch_normalization_17 (BatchNo (None, 64, 64, 16, 1 30          activation_15[0][0]              \n",
            "__________________________________________________________________________________________________\n",
            "batch_normalization_21 (BatchNo (None, 64, 64, 16, 1 30          activation_18[0][0]              \n",
            "__________________________________________________________________________________________________\n",
            "conv3d_15 (Conv3D)              (None, 64, 64, 16, 2 5670        batch_normalization_17[0][0]     \n",
            "__________________________________________________________________________________________________\n",
            "conv3d_18 (Conv3D)              (None, 64, 64, 16, 2 5670        batch_normalization_21[0][0]     \n",
            "__________________________________________________________________________________________________\n",
            "activation_16 (Activation)      (None, 64, 64, 16, 2 0           conv3d_15[0][0]                  \n",
            "__________________________________________________________________________________________________\n",
            "activation_19 (Activation)      (None, 64, 64, 16, 2 0           conv3d_18[0][0]                  \n",
            "__________________________________________________________________________________________________\n",
            "batch_normalization_18 (BatchNo (None, 64, 64, 16, 2 63          activation_16[0][0]              \n",
            "__________________________________________________________________________________________________\n",
            "batch_normalization_22 (BatchNo (None, 64, 64, 16, 2 63          activation_19[0][0]              \n",
            "__________________________________________________________________________________________________\n",
            "conv3d_16 (Conv3D)              (None, 64, 64, 16, 3 18144       batch_normalization_18[0][0]     \n",
            "__________________________________________________________________________________________________\n",
            "conv3d_19 (Conv3D)              (None, 64, 64, 16, 3 18144       batch_normalization_22[0][0]     \n",
            "__________________________________________________________________________________________________\n",
            "activation_17 (Activation)      (None, 64, 64, 16, 3 0           conv3d_16[0][0]                  \n",
            "__________________________________________________________________________________________________\n",
            "activation_20 (Activation)      (None, 64, 64, 16, 3 0           conv3d_19[0][0]                  \n",
            "__________________________________________________________________________________________________\n",
            "batch_normalization_19 (BatchNo (None, 64, 64, 16, 3 96          activation_17[0][0]              \n",
            "__________________________________________________________________________________________________\n",
            "batch_normalization_23 (BatchNo (None, 64, 64, 16, 3 96          activation_20[0][0]              \n",
            "__________________________________________________________________________________________________\n",
            "concatenate_6 (Concatenate)     (None, 64, 64, 16, 6 0           batch_normalization_17[0][0]     \n",
            "                                                                 batch_normalization_18[0][0]     \n",
            "                                                                 batch_normalization_19[0][0]     \n",
            "__________________________________________________________________________________________________\n",
            "concatenate_7 (Concatenate)     (None, 64, 64, 16, 6 0           batch_normalization_21[0][0]     \n",
            "                                                                 batch_normalization_22[0][0]     \n",
            "                                                                 batch_normalization_23[0][0]     \n",
            "__________________________________________________________________________________________________\n",
            "batch_normalization_20 (BatchNo (None, 64, 64, 16, 6 252         concatenate_6[0][0]              \n",
            "__________________________________________________________________________________________________\n",
            "batch_normalization_24 (BatchNo (None, 64, 64, 16, 6 252         concatenate_7[0][0]              \n",
            "__________________________________________________________________________________________________\n",
            "add_5 (Add)                     (None, 64, 64, 16, 6 0           batch_normalization_20[0][0]     \n",
            "                                                                 batch_normalization_24[0][0]     \n",
            "__________________________________________________________________________________________________\n",
            "activation_21 (Activation)      (None, 64, 64, 16, 6 0           add_5[0][0]                      \n",
            "__________________________________________________________________________________________________\n",
            "batch_normalization_25 (BatchNo (None, 64, 64, 16, 6 252         activation_21[0][0]              \n",
            "__________________________________________________________________________________________________\n",
            "max_pooling3d_1 (MaxPooling3D)  (None, 32, 32, 8, 63 0           batch_normalization_25[0][0]     \n",
            "__________________________________________________________________________________________________\n",
            "conv3d_26 (Conv3D)              (None, 32, 32, 8, 21 35721       max_pooling3d_1[0][0]            \n",
            "__________________________________________________________________________________________________\n",
            "conv3d_29 (Conv3D)              (None, 32, 32, 8, 21 35721       max_pooling3d_1[0][0]            \n",
            "__________________________________________________________________________________________________\n",
            "activation_28 (Activation)      (None, 32, 32, 8, 21 0           conv3d_26[0][0]                  \n",
            "__________________________________________________________________________________________________\n",
            "activation_31 (Activation)      (None, 32, 32, 8, 21 0           conv3d_29[0][0]                  \n",
            "__________________________________________________________________________________________________\n",
            "batch_normalization_32 (BatchNo (None, 32, 32, 8, 21 63          activation_28[0][0]              \n",
            "__________________________________________________________________________________________________\n",
            "batch_normalization_36 (BatchNo (None, 32, 32, 8, 21 63          activation_31[0][0]              \n",
            "__________________________________________________________________________________________________\n",
            "conv3d_27 (Conv3D)              (None, 32, 32, 8, 42 23814       batch_normalization_32[0][0]     \n",
            "__________________________________________________________________________________________________\n",
            "conv3d_30 (Conv3D)              (None, 32, 32, 8, 42 23814       batch_normalization_36[0][0]     \n",
            "__________________________________________________________________________________________________\n",
            "activation_29 (Activation)      (None, 32, 32, 8, 42 0           conv3d_27[0][0]                  \n",
            "__________________________________________________________________________________________________\n",
            "activation_32 (Activation)      (None, 32, 32, 8, 42 0           conv3d_30[0][0]                  \n",
            "__________________________________________________________________________________________________\n",
            "batch_normalization_33 (BatchNo (None, 32, 32, 8, 42 126         activation_29[0][0]              \n",
            "__________________________________________________________________________________________________\n",
            "batch_normalization_37 (BatchNo (None, 32, 32, 8, 42 126         activation_32[0][0]              \n",
            "__________________________________________________________________________________________________\n",
            "conv3d_28 (Conv3D)              (None, 32, 32, 8, 64 72576       batch_normalization_33[0][0]     \n",
            "__________________________________________________________________________________________________\n",
            "conv3d_31 (Conv3D)              (None, 32, 32, 8, 64 72576       batch_normalization_37[0][0]     \n",
            "__________________________________________________________________________________________________\n",
            "activation_30 (Activation)      (None, 32, 32, 8, 64 0           conv3d_28[0][0]                  \n",
            "__________________________________________________________________________________________________\n",
            "activation_33 (Activation)      (None, 32, 32, 8, 64 0           conv3d_31[0][0]                  \n",
            "__________________________________________________________________________________________________\n",
            "batch_normalization_34 (BatchNo (None, 32, 32, 8, 64 192         activation_30[0][0]              \n",
            "__________________________________________________________________________________________________\n",
            "batch_normalization_38 (BatchNo (None, 32, 32, 8, 64 192         activation_33[0][0]              \n",
            "__________________________________________________________________________________________________\n",
            "concatenate_8 (Concatenate)     (None, 32, 32, 8, 12 0           batch_normalization_32[0][0]     \n",
            "                                                                 batch_normalization_33[0][0]     \n",
            "                                                                 batch_normalization_34[0][0]     \n",
            "__________________________________________________________________________________________________\n",
            "concatenate_9 (Concatenate)     (None, 32, 32, 8, 12 0           batch_normalization_36[0][0]     \n",
            "                                                                 batch_normalization_37[0][0]     \n",
            "                                                                 batch_normalization_38[0][0]     \n",
            "__________________________________________________________________________________________________\n",
            "batch_normalization_35 (BatchNo (None, 32, 32, 8, 12 508         concatenate_8[0][0]              \n",
            "__________________________________________________________________________________________________\n",
            "batch_normalization_39 (BatchNo (None, 32, 32, 8, 12 508         concatenate_9[0][0]              \n",
            "__________________________________________________________________________________________________\n",
            "add_9 (Add)                     (None, 32, 32, 8, 12 0           batch_normalization_35[0][0]     \n",
            "                                                                 batch_normalization_39[0][0]     \n",
            "__________________________________________________________________________________________________\n",
            "activation_34 (Activation)      (None, 32, 32, 8, 12 0           add_9[0][0]                      \n",
            "__________________________________________________________________________________________________\n",
            "batch_normalization_40 (BatchNo (None, 32, 32, 8, 12 508         activation_34[0][0]              \n",
            "__________________________________________________________________________________________________\n",
            "max_pooling3d_2 (MaxPooling3D)  (None, 16, 16, 4, 12 0           batch_normalization_40[0][0]     \n",
            "__________________________________________________________________________________________________\n",
            "conv3d_36 (Conv3D)              (None, 16, 16, 4, 42 144018      max_pooling3d_2[0][0]            \n",
            "__________________________________________________________________________________________________\n",
            "conv3d_39 (Conv3D)              (None, 16, 16, 4, 42 144018      max_pooling3d_2[0][0]            \n",
            "__________________________________________________________________________________________________\n",
            "activation_39 (Activation)      (None, 16, 16, 4, 42 0           conv3d_36[0][0]                  \n",
            "__________________________________________________________________________________________________\n",
            "activation_42 (Activation)      (None, 16, 16, 4, 42 0           conv3d_39[0][0]                  \n",
            "__________________________________________________________________________________________________\n",
            "batch_normalization_45 (BatchNo (None, 16, 16, 4, 42 126         activation_39[0][0]              \n",
            "__________________________________________________________________________________________________\n",
            "batch_normalization_49 (BatchNo (None, 16, 16, 4, 42 126         activation_42[0][0]              \n",
            "__________________________________________________________________________________________________\n",
            "conv3d_37 (Conv3D)              (None, 16, 16, 4, 85 96390       batch_normalization_45[0][0]     \n",
            "__________________________________________________________________________________________________\n",
            "conv3d_40 (Conv3D)              (None, 16, 16, 4, 85 96390       batch_normalization_49[0][0]     \n",
            "__________________________________________________________________________________________________\n",
            "activation_40 (Activation)      (None, 16, 16, 4, 85 0           conv3d_37[0][0]                  \n",
            "__________________________________________________________________________________________________\n",
            "activation_43 (Activation)      (None, 16, 16, 4, 85 0           conv3d_40[0][0]                  \n",
            "__________________________________________________________________________________________________\n",
            "batch_normalization_46 (BatchNo (None, 16, 16, 4, 85 255         activation_40[0][0]              \n",
            "__________________________________________________________________________________________________\n",
            "batch_normalization_50 (BatchNo (None, 16, 16, 4, 85 255         activation_43[0][0]              \n",
            "__________________________________________________________________________________________________\n",
            "conv3d_38 (Conv3D)              (None, 16, 16, 4, 12 293760      batch_normalization_46[0][0]     \n",
            "__________________________________________________________________________________________________\n",
            "conv3d_41 (Conv3D)              (None, 16, 16, 4, 12 293760      batch_normalization_50[0][0]     \n",
            "__________________________________________________________________________________________________\n",
            "activation_41 (Activation)      (None, 16, 16, 4, 12 0           conv3d_38[0][0]                  \n",
            "__________________________________________________________________________________________________\n",
            "activation_44 (Activation)      (None, 16, 16, 4, 12 0           conv3d_41[0][0]                  \n",
            "__________________________________________________________________________________________________\n",
            "batch_normalization_47 (BatchNo (None, 16, 16, 4, 12 384         activation_41[0][0]              \n",
            "__________________________________________________________________________________________________\n",
            "batch_normalization_51 (BatchNo (None, 16, 16, 4, 12 384         activation_44[0][0]              \n",
            "__________________________________________________________________________________________________\n",
            "concatenate_10 (Concatenate)    (None, 16, 16, 4, 25 0           batch_normalization_45[0][0]     \n",
            "                                                                 batch_normalization_46[0][0]     \n",
            "                                                                 batch_normalization_47[0][0]     \n",
            "__________________________________________________________________________________________________\n",
            "concatenate_11 (Concatenate)    (None, 16, 16, 4, 25 0           batch_normalization_49[0][0]     \n",
            "                                                                 batch_normalization_50[0][0]     \n",
            "                                                                 batch_normalization_51[0][0]     \n",
            "__________________________________________________________________________________________________\n",
            "batch_normalization_48 (BatchNo (None, 16, 16, 4, 25 1020        concatenate_10[0][0]             \n",
            "__________________________________________________________________________________________________\n",
            "batch_normalization_52 (BatchNo (None, 16, 16, 4, 25 1020        concatenate_11[0][0]             \n",
            "__________________________________________________________________________________________________\n",
            "add_12 (Add)                    (None, 16, 16, 4, 25 0           batch_normalization_48[0][0]     \n",
            "                                                                 batch_normalization_52[0][0]     \n",
            "__________________________________________________________________________________________________\n",
            "activation_45 (Activation)      (None, 16, 16, 4, 25 0           add_12[0][0]                     \n",
            "__________________________________________________________________________________________________\n",
            "batch_normalization_53 (BatchNo (None, 16, 16, 4, 25 1020        activation_45[0][0]              \n",
            "__________________________________________________________________________________________________\n",
            "max_pooling3d_3 (MaxPooling3D)  (None, 8, 8, 2, 255) 0           batch_normalization_53[0][0]     \n",
            "__________________________________________________________________________________________________\n",
            "conv3d_44 (Conv3D)              (None, 8, 8, 2, 85)  585225      max_pooling3d_3[0][0]            \n",
            "__________________________________________________________________________________________________\n",
            "conv3d_47 (Conv3D)              (None, 8, 8, 2, 85)  585225      max_pooling3d_3[0][0]            \n",
            "__________________________________________________________________________________________________\n",
            "activation_48 (Activation)      (None, 8, 8, 2, 85)  0           conv3d_44[0][0]                  \n",
            "__________________________________________________________________________________________________\n",
            "activation_51 (Activation)      (None, 8, 8, 2, 85)  0           conv3d_47[0][0]                  \n",
            "__________________________________________________________________________________________________\n",
            "batch_normalization_56 (BatchNo (None, 8, 8, 2, 85)  255         activation_48[0][0]              \n",
            "__________________________________________________________________________________________________\n",
            "batch_normalization_60 (BatchNo (None, 8, 8, 2, 85)  255         activation_51[0][0]              \n",
            "__________________________________________________________________________________________________\n",
            "conv3d_45 (Conv3D)              (None, 8, 8, 2, 170) 390150      batch_normalization_56[0][0]     \n",
            "__________________________________________________________________________________________________\n",
            "conv3d_48 (Conv3D)              (None, 8, 8, 2, 170) 390150      batch_normalization_60[0][0]     \n",
            "__________________________________________________________________________________________________\n",
            "activation_49 (Activation)      (None, 8, 8, 2, 170) 0           conv3d_45[0][0]                  \n",
            "__________________________________________________________________________________________________\n",
            "activation_52 (Activation)      (None, 8, 8, 2, 170) 0           conv3d_48[0][0]                  \n",
            "__________________________________________________________________________________________________\n",
            "batch_normalization_57 (BatchNo (None, 8, 8, 2, 170) 510         activation_49[0][0]              \n",
            "__________________________________________________________________________________________________\n",
            "batch_normalization_61 (BatchNo (None, 8, 8, 2, 170) 510         activation_52[0][0]              \n",
            "__________________________________________________________________________________________________\n",
            "conv3d_46 (Conv3D)              (None, 8, 8, 2, 256) 1175040     batch_normalization_57[0][0]     \n",
            "__________________________________________________________________________________________________\n",
            "conv3d_49 (Conv3D)              (None, 8, 8, 2, 256) 1175040     batch_normalization_61[0][0]     \n",
            "__________________________________________________________________________________________________\n",
            "activation_50 (Activation)      (None, 8, 8, 2, 256) 0           conv3d_46[0][0]                  \n",
            "__________________________________________________________________________________________________\n",
            "activation_53 (Activation)      (None, 8, 8, 2, 256) 0           conv3d_49[0][0]                  \n",
            "__________________________________________________________________________________________________\n",
            "batch_normalization_58 (BatchNo (None, 8, 8, 2, 256) 768         activation_50[0][0]              \n",
            "__________________________________________________________________________________________________\n",
            "batch_normalization_62 (BatchNo (None, 8, 8, 2, 256) 768         activation_53[0][0]              \n",
            "__________________________________________________________________________________________________\n",
            "concatenate_12 (Concatenate)    (None, 8, 8, 2, 511) 0           batch_normalization_56[0][0]     \n",
            "                                                                 batch_normalization_57[0][0]     \n",
            "                                                                 batch_normalization_58[0][0]     \n",
            "__________________________________________________________________________________________________\n",
            "concatenate_13 (Concatenate)    (None, 8, 8, 2, 511) 0           batch_normalization_60[0][0]     \n",
            "                                                                 batch_normalization_61[0][0]     \n",
            "                                                                 batch_normalization_62[0][0]     \n",
            "__________________________________________________________________________________________________\n",
            "conv3d_43 (Conv3D)              (None, 16, 16, 4, 25 1762560     batch_normalization_53[0][0]     \n",
            "__________________________________________________________________________________________________\n",
            "batch_normalization_59 (BatchNo (None, 8, 8, 2, 511) 2044        concatenate_12[0][0]             \n",
            "__________________________________________________________________________________________________\n",
            "batch_normalization_63 (BatchNo (None, 8, 8, 2, 511) 2044        concatenate_13[0][0]             \n",
            "__________________________________________________________________________________________________\n",
            "activation_46 (Activation)      (None, 16, 16, 4, 25 0           conv3d_43[0][0]                  \n",
            "__________________________________________________________________________________________________\n",
            "add_14 (Add)                    (None, 8, 8, 2, 511) 0           batch_normalization_59[0][0]     \n",
            "                                                                 batch_normalization_63[0][0]     \n",
            "__________________________________________________________________________________________________\n",
            "conv3d_42 (Conv3D)              (None, 16, 16, 4, 25 65280       batch_normalization_53[0][0]     \n",
            "__________________________________________________________________________________________________\n",
            "batch_normalization_54 (BatchNo (None, 16, 16, 4, 25 768         activation_46[0][0]              \n",
            "__________________________________________________________________________________________________\n",
            "activation_54 (Activation)      (None, 8, 8, 2, 511) 0           add_14[0][0]                     \n",
            "__________________________________________________________________________________________________\n",
            "add_13 (Add)                    (None, 16, 16, 4, 25 0           conv3d_42[0][0]                  \n",
            "                                                                 batch_normalization_54[0][0]     \n",
            "__________________________________________________________________________________________________\n",
            "batch_normalization_64 (BatchNo (None, 8, 8, 2, 511) 2044        activation_54[0][0]              \n",
            "__________________________________________________________________________________________________\n",
            "activation_47 (Activation)      (None, 16, 16, 4, 25 0           add_13[0][0]                     \n",
            "__________________________________________________________________________________________________\n",
            "conv3d_transpose (Conv3DTranspo (None, 16, 16, 4, 25 1046784     batch_normalization_64[0][0]     \n",
            "__________________________________________________________________________________________________\n",
            "batch_normalization_55 (BatchNo (None, 16, 16, 4, 25 1024        activation_47[0][0]              \n",
            "__________________________________________________________________________________________________\n",
            "concatenate_14 (Concatenate)    (None, 16, 16, 4, 51 0           conv3d_transpose[0][0]           \n",
            "                                                                 batch_normalization_55[0][0]     \n",
            "__________________________________________________________________________________________________\n",
            "conv3d_50 (Conv3D)              (None, 16, 16, 4, 42 580608      concatenate_14[0][0]             \n",
            "__________________________________________________________________________________________________\n",
            "conv3d_53 (Conv3D)              (None, 16, 16, 4, 42 580608      concatenate_14[0][0]             \n",
            "__________________________________________________________________________________________________\n",
            "activation_55 (Activation)      (None, 16, 16, 4, 42 0           conv3d_50[0][0]                  \n",
            "__________________________________________________________________________________________________\n",
            "activation_58 (Activation)      (None, 16, 16, 4, 42 0           conv3d_53[0][0]                  \n",
            "__________________________________________________________________________________________________\n",
            "batch_normalization_65 (BatchNo (None, 16, 16, 4, 42 126         activation_55[0][0]              \n",
            "__________________________________________________________________________________________________\n",
            "batch_normalization_69 (BatchNo (None, 16, 16, 4, 42 126         activation_58[0][0]              \n",
            "__________________________________________________________________________________________________\n",
            "conv3d_51 (Conv3D)              (None, 16, 16, 4, 85 96390       batch_normalization_65[0][0]     \n",
            "__________________________________________________________________________________________________\n",
            "conv3d_54 (Conv3D)              (None, 16, 16, 4, 85 96390       batch_normalization_69[0][0]     \n",
            "__________________________________________________________________________________________________\n",
            "conv3d_33 (Conv3D)              (None, 32, 32, 8, 12 438912      batch_normalization_40[0][0]     \n",
            "__________________________________________________________________________________________________\n",
            "activation_56 (Activation)      (None, 16, 16, 4, 85 0           conv3d_51[0][0]                  \n",
            "__________________________________________________________________________________________________\n",
            "activation_59 (Activation)      (None, 16, 16, 4, 85 0           conv3d_54[0][0]                  \n",
            "__________________________________________________________________________________________________\n",
            "activation_35 (Activation)      (None, 32, 32, 8, 12 0           conv3d_33[0][0]                  \n",
            "__________________________________________________________________________________________________\n",
            "batch_normalization_66 (BatchNo (None, 16, 16, 4, 85 255         activation_56[0][0]              \n",
            "__________________________________________________________________________________________________\n",
            "batch_normalization_70 (BatchNo (None, 16, 16, 4, 85 255         activation_59[0][0]              \n",
            "__________________________________________________________________________________________________\n",
            "conv3d_32 (Conv3D)              (None, 32, 32, 8, 12 16256       batch_normalization_40[0][0]     \n",
            "__________________________________________________________________________________________________\n",
            "batch_normalization_41 (BatchNo (None, 32, 32, 8, 12 384         activation_35[0][0]              \n",
            "__________________________________________________________________________________________________\n",
            "conv3d_52 (Conv3D)              (None, 16, 16, 4, 12 293760      batch_normalization_66[0][0]     \n",
            "__________________________________________________________________________________________________\n",
            "conv3d_55 (Conv3D)              (None, 16, 16, 4, 12 293760      batch_normalization_70[0][0]     \n",
            "__________________________________________________________________________________________________\n",
            "add_10 (Add)                    (None, 32, 32, 8, 12 0           conv3d_32[0][0]                  \n",
            "                                                                 batch_normalization_41[0][0]     \n",
            "__________________________________________________________________________________________________\n",
            "activation_57 (Activation)      (None, 16, 16, 4, 12 0           conv3d_52[0][0]                  \n",
            "__________________________________________________________________________________________________\n",
            "activation_60 (Activation)      (None, 16, 16, 4, 12 0           conv3d_55[0][0]                  \n",
            "__________________________________________________________________________________________________\n",
            "activation_36 (Activation)      (None, 32, 32, 8, 12 0           add_10[0][0]                     \n",
            "__________________________________________________________________________________________________\n",
            "batch_normalization_67 (BatchNo (None, 16, 16, 4, 12 384         activation_57[0][0]              \n",
            "__________________________________________________________________________________________________\n",
            "batch_normalization_71 (BatchNo (None, 16, 16, 4, 12 384         activation_60[0][0]              \n",
            "__________________________________________________________________________________________________\n",
            "batch_normalization_42 (BatchNo (None, 32, 32, 8, 12 512         activation_36[0][0]              \n",
            "__________________________________________________________________________________________________\n",
            "concatenate_15 (Concatenate)    (None, 16, 16, 4, 25 0           batch_normalization_65[0][0]     \n",
            "                                                                 batch_normalization_66[0][0]     \n",
            "                                                                 batch_normalization_67[0][0]     \n",
            "__________________________________________________________________________________________________\n",
            "concatenate_16 (Concatenate)    (None, 16, 16, 4, 25 0           batch_normalization_69[0][0]     \n",
            "                                                                 batch_normalization_70[0][0]     \n",
            "                                                                 batch_normalization_71[0][0]     \n",
            "__________________________________________________________________________________________________\n",
            "conv3d_35 (Conv3D)              (None, 32, 32, 8, 12 442368      batch_normalization_42[0][0]     \n",
            "__________________________________________________________________________________________________\n",
            "batch_normalization_68 (BatchNo (None, 16, 16, 4, 25 1020        concatenate_15[0][0]             \n",
            "__________________________________________________________________________________________________\n",
            "batch_normalization_72 (BatchNo (None, 16, 16, 4, 25 1020        concatenate_16[0][0]             \n",
            "__________________________________________________________________________________________________\n",
            "activation_37 (Activation)      (None, 32, 32, 8, 12 0           conv3d_35[0][0]                  \n",
            "__________________________________________________________________________________________________\n",
            "add_15 (Add)                    (None, 16, 16, 4, 25 0           batch_normalization_68[0][0]     \n",
            "                                                                 batch_normalization_72[0][0]     \n",
            "__________________________________________________________________________________________________\n",
            "conv3d_34 (Conv3D)              (None, 32, 32, 8, 12 16384       batch_normalization_42[0][0]     \n",
            "__________________________________________________________________________________________________\n",
            "batch_normalization_43 (BatchNo (None, 32, 32, 8, 12 384         activation_37[0][0]              \n",
            "__________________________________________________________________________________________________\n",
            "activation_61 (Activation)      (None, 16, 16, 4, 25 0           add_15[0][0]                     \n",
            "__________________________________________________________________________________________________\n",
            "add_11 (Add)                    (None, 32, 32, 8, 12 0           conv3d_34[0][0]                  \n",
            "                                                                 batch_normalization_43[0][0]     \n",
            "__________________________________________________________________________________________________\n",
            "batch_normalization_73 (BatchNo (None, 16, 16, 4, 25 1020        activation_61[0][0]              \n",
            "__________________________________________________________________________________________________\n",
            "activation_38 (Activation)      (None, 32, 32, 8, 12 0           add_11[0][0]                     \n",
            "__________________________________________________________________________________________________\n",
            "conv3d_21 (Conv3D)              (None, 64, 64, 16, 6 108864      batch_normalization_25[0][0]     \n",
            "__________________________________________________________________________________________________\n",
            "conv3d_transpose_1 (Conv3DTrans (None, 32, 32, 8, 12 261248      batch_normalization_73[0][0]     \n",
            "__________________________________________________________________________________________________\n",
            "batch_normalization_44 (BatchNo (None, 32, 32, 8, 12 512         activation_38[0][0]              \n",
            "__________________________________________________________________________________________________\n",
            "activation_22 (Activation)      (None, 64, 64, 16, 6 0           conv3d_21[0][0]                  \n",
            "__________________________________________________________________________________________________\n",
            "concatenate_17 (Concatenate)    (None, 32, 32, 8, 25 0           conv3d_transpose_1[0][0]         \n",
            "                                                                 batch_normalization_44[0][0]     \n",
            "__________________________________________________________________________________________________\n",
            "conv3d_20 (Conv3D)              (None, 64, 64, 16, 6 4032        batch_normalization_25[0][0]     \n",
            "__________________________________________________________________________________________________\n",
            "batch_normalization_26 (BatchNo (None, 64, 64, 16, 6 192         activation_22[0][0]              \n",
            "__________________________________________________________________________________________________\n",
            "conv3d_56 (Conv3D)              (None, 32, 32, 8, 21 145152      concatenate_17[0][0]             \n",
            "__________________________________________________________________________________________________\n",
            "conv3d_59 (Conv3D)              (None, 32, 32, 8, 21 145152      concatenate_17[0][0]             \n",
            "__________________________________________________________________________________________________\n",
            "add_6 (Add)                     (None, 64, 64, 16, 6 0           conv3d_20[0][0]                  \n",
            "                                                                 batch_normalization_26[0][0]     \n",
            "__________________________________________________________________________________________________\n",
            "activation_62 (Activation)      (None, 32, 32, 8, 21 0           conv3d_56[0][0]                  \n",
            "__________________________________________________________________________________________________\n",
            "activation_65 (Activation)      (None, 32, 32, 8, 21 0           conv3d_59[0][0]                  \n",
            "__________________________________________________________________________________________________\n",
            "activation_23 (Activation)      (None, 64, 64, 16, 6 0           add_6[0][0]                      \n",
            "__________________________________________________________________________________________________\n",
            "batch_normalization_74 (BatchNo (None, 32, 32, 8, 21 63          activation_62[0][0]              \n",
            "__________________________________________________________________________________________________\n",
            "batch_normalization_78 (BatchNo (None, 32, 32, 8, 21 63          activation_65[0][0]              \n",
            "__________________________________________________________________________________________________\n",
            "batch_normalization_27 (BatchNo (None, 64, 64, 16, 6 256         activation_23[0][0]              \n",
            "__________________________________________________________________________________________________\n",
            "conv3d_57 (Conv3D)              (None, 32, 32, 8, 42 23814       batch_normalization_74[0][0]     \n",
            "__________________________________________________________________________________________________\n",
            "conv3d_60 (Conv3D)              (None, 32, 32, 8, 42 23814       batch_normalization_78[0][0]     \n",
            "__________________________________________________________________________________________________\n",
            "conv3d_23 (Conv3D)              (None, 64, 64, 16, 6 110592      batch_normalization_27[0][0]     \n",
            "__________________________________________________________________________________________________\n",
            "activation_63 (Activation)      (None, 32, 32, 8, 42 0           conv3d_57[0][0]                  \n",
            "__________________________________________________________________________________________________\n",
            "activation_66 (Activation)      (None, 32, 32, 8, 42 0           conv3d_60[0][0]                  \n",
            "__________________________________________________________________________________________________\n",
            "activation_24 (Activation)      (None, 64, 64, 16, 6 0           conv3d_23[0][0]                  \n",
            "__________________________________________________________________________________________________\n",
            "batch_normalization_75 (BatchNo (None, 32, 32, 8, 42 126         activation_63[0][0]              \n",
            "__________________________________________________________________________________________________\n",
            "batch_normalization_79 (BatchNo (None, 32, 32, 8, 42 126         activation_66[0][0]              \n",
            "__________________________________________________________________________________________________\n",
            "conv3d_22 (Conv3D)              (None, 64, 64, 16, 6 4096        batch_normalization_27[0][0]     \n",
            "__________________________________________________________________________________________________\n",
            "batch_normalization_28 (BatchNo (None, 64, 64, 16, 6 192         activation_24[0][0]              \n",
            "__________________________________________________________________________________________________\n",
            "conv3d_58 (Conv3D)              (None, 32, 32, 8, 64 72576       batch_normalization_75[0][0]     \n",
            "__________________________________________________________________________________________________\n",
            "conv3d_61 (Conv3D)              (None, 32, 32, 8, 64 72576       batch_normalization_79[0][0]     \n",
            "__________________________________________________________________________________________________\n",
            "add_7 (Add)                     (None, 64, 64, 16, 6 0           conv3d_22[0][0]                  \n",
            "                                                                 batch_normalization_28[0][0]     \n",
            "__________________________________________________________________________________________________\n",
            "activation_64 (Activation)      (None, 32, 32, 8, 64 0           conv3d_58[0][0]                  \n",
            "__________________________________________________________________________________________________\n",
            "activation_67 (Activation)      (None, 32, 32, 8, 64 0           conv3d_61[0][0]                  \n",
            "__________________________________________________________________________________________________\n",
            "activation_25 (Activation)      (None, 64, 64, 16, 6 0           add_7[0][0]                      \n",
            "__________________________________________________________________________________________________\n",
            "conv3d_7 (Conv3D)               (None, 128, 128, 32, 26784       batch_normalization_8[0][0]      \n",
            "__________________________________________________________________________________________________\n",
            "batch_normalization_76 (BatchNo (None, 32, 32, 8, 64 192         activation_64[0][0]              \n",
            "__________________________________________________________________________________________________\n",
            "batch_normalization_80 (BatchNo (None, 32, 32, 8, 64 192         activation_67[0][0]              \n",
            "__________________________________________________________________________________________________\n",
            "batch_normalization_29 (BatchNo (None, 64, 64, 16, 6 256         activation_25[0][0]              \n",
            "__________________________________________________________________________________________________\n",
            "activation_7 (Activation)       (None, 128, 128, 32, 0           conv3d_7[0][0]                   \n",
            "__________________________________________________________________________________________________\n",
            "concatenate_18 (Concatenate)    (None, 32, 32, 8, 12 0           batch_normalization_74[0][0]     \n",
            "                                                                 batch_normalization_75[0][0]     \n",
            "                                                                 batch_normalization_76[0][0]     \n",
            "__________________________________________________________________________________________________\n",
            "concatenate_19 (Concatenate)    (None, 32, 32, 8, 12 0           batch_normalization_78[0][0]     \n",
            "                                                                 batch_normalization_79[0][0]     \n",
            "                                                                 batch_normalization_80[0][0]     \n",
            "__________________________________________________________________________________________________\n",
            "conv3d_25 (Conv3D)              (None, 64, 64, 16, 6 110592      batch_normalization_29[0][0]     \n",
            "__________________________________________________________________________________________________\n",
            "conv3d_6 (Conv3D)               (None, 128, 128, 32, 992         batch_normalization_8[0][0]      \n",
            "__________________________________________________________________________________________________\n",
            "batch_normalization_9 (BatchNor (None, 128, 128, 32, 96          activation_7[0][0]               \n",
            "__________________________________________________________________________________________________\n",
            "batch_normalization_77 (BatchNo (None, 32, 32, 8, 12 508         concatenate_18[0][0]             \n",
            "__________________________________________________________________________________________________\n",
            "batch_normalization_81 (BatchNo (None, 32, 32, 8, 12 508         concatenate_19[0][0]             \n",
            "__________________________________________________________________________________________________\n",
            "activation_26 (Activation)      (None, 64, 64, 16, 6 0           conv3d_25[0][0]                  \n",
            "__________________________________________________________________________________________________\n",
            "add_1 (Add)                     (None, 128, 128, 32, 0           conv3d_6[0][0]                   \n",
            "                                                                 batch_normalization_9[0][0]      \n",
            "__________________________________________________________________________________________________\n",
            "add_16 (Add)                    (None, 32, 32, 8, 12 0           batch_normalization_77[0][0]     \n",
            "                                                                 batch_normalization_81[0][0]     \n",
            "__________________________________________________________________________________________________\n",
            "conv3d_24 (Conv3D)              (None, 64, 64, 16, 6 4096        batch_normalization_29[0][0]     \n",
            "__________________________________________________________________________________________________\n",
            "batch_normalization_30 (BatchNo (None, 64, 64, 16, 6 192         activation_26[0][0]              \n",
            "__________________________________________________________________________________________________\n",
            "activation_8 (Activation)       (None, 128, 128, 32, 0           add_1[0][0]                      \n",
            "__________________________________________________________________________________________________\n",
            "activation_68 (Activation)      (None, 32, 32, 8, 12 0           add_16[0][0]                     \n",
            "__________________________________________________________________________________________________\n",
            "add_8 (Add)                     (None, 64, 64, 16, 6 0           conv3d_24[0][0]                  \n",
            "                                                                 batch_normalization_30[0][0]     \n",
            "__________________________________________________________________________________________________\n",
            "batch_normalization_10 (BatchNo (None, 128, 128, 32, 128         activation_8[0][0]               \n",
            "__________________________________________________________________________________________________\n",
            "batch_normalization_82 (BatchNo (None, 32, 32, 8, 12 508         activation_68[0][0]              \n",
            "__________________________________________________________________________________________________\n",
            "activation_27 (Activation)      (None, 64, 64, 16, 6 0           add_8[0][0]                      \n",
            "__________________________________________________________________________________________________\n",
            "conv3d_9 (Conv3D)               (None, 128, 128, 32, 27648       batch_normalization_10[0][0]     \n",
            "__________________________________________________________________________________________________\n",
            "conv3d_transpose_2 (Conv3DTrans (None, 64, 64, 16, 6 65088       batch_normalization_82[0][0]     \n",
            "__________________________________________________________________________________________________\n",
            "batch_normalization_31 (BatchNo (None, 64, 64, 16, 6 256         activation_27[0][0]              \n",
            "__________________________________________________________________________________________________\n",
            "activation_9 (Activation)       (None, 128, 128, 32, 0           conv3d_9[0][0]                   \n",
            "__________________________________________________________________________________________________\n",
            "concatenate_20 (Concatenate)    (None, 64, 64, 16, 1 0           conv3d_transpose_2[0][0]         \n",
            "                                                                 batch_normalization_31[0][0]     \n",
            "__________________________________________________________________________________________________\n",
            "conv3d_8 (Conv3D)               (None, 128, 128, 32, 1024        batch_normalization_10[0][0]     \n",
            "__________________________________________________________________________________________________\n",
            "batch_normalization_11 (BatchNo (None, 128, 128, 32, 96          activation_9[0][0]               \n",
            "__________________________________________________________________________________________________\n",
            "conv3d_62 (Conv3D)              (None, 64, 64, 16, 1 34560       concatenate_20[0][0]             \n",
            "__________________________________________________________________________________________________\n",
            "conv3d_65 (Conv3D)              (None, 64, 64, 16, 1 34560       concatenate_20[0][0]             \n",
            "__________________________________________________________________________________________________\n",
            "add_2 (Add)                     (None, 128, 128, 32, 0           conv3d_8[0][0]                   \n",
            "                                                                 batch_normalization_11[0][0]     \n",
            "__________________________________________________________________________________________________\n",
            "activation_69 (Activation)      (None, 64, 64, 16, 1 0           conv3d_62[0][0]                  \n",
            "__________________________________________________________________________________________________\n",
            "activation_72 (Activation)      (None, 64, 64, 16, 1 0           conv3d_65[0][0]                  \n",
            "__________________________________________________________________________________________________\n",
            "activation_10 (Activation)      (None, 128, 128, 32, 0           add_2[0][0]                      \n",
            "__________________________________________________________________________________________________\n",
            "batch_normalization_83 (BatchNo (None, 64, 64, 16, 1 30          activation_69[0][0]              \n",
            "__________________________________________________________________________________________________\n",
            "batch_normalization_87 (BatchNo (None, 64, 64, 16, 1 30          activation_72[0][0]              \n",
            "__________________________________________________________________________________________________\n",
            "batch_normalization_12 (BatchNo (None, 128, 128, 32, 128         activation_10[0][0]              \n",
            "__________________________________________________________________________________________________\n",
            "conv3d_63 (Conv3D)              (None, 64, 64, 16, 2 5670        batch_normalization_83[0][0]     \n",
            "__________________________________________________________________________________________________\n",
            "conv3d_66 (Conv3D)              (None, 64, 64, 16, 2 5670        batch_normalization_87[0][0]     \n",
            "__________________________________________________________________________________________________\n",
            "conv3d_11 (Conv3D)              (None, 128, 128, 32, 27648       batch_normalization_12[0][0]     \n",
            "__________________________________________________________________________________________________\n",
            "activation_70 (Activation)      (None, 64, 64, 16, 2 0           conv3d_63[0][0]                  \n",
            "__________________________________________________________________________________________________\n",
            "activation_73 (Activation)      (None, 64, 64, 16, 2 0           conv3d_66[0][0]                  \n",
            "__________________________________________________________________________________________________\n",
            "activation_11 (Activation)      (None, 128, 128, 32, 0           conv3d_11[0][0]                  \n",
            "__________________________________________________________________________________________________\n",
            "batch_normalization_84 (BatchNo (None, 64, 64, 16, 2 63          activation_70[0][0]              \n",
            "__________________________________________________________________________________________________\n",
            "batch_normalization_88 (BatchNo (None, 64, 64, 16, 2 63          activation_73[0][0]              \n",
            "__________________________________________________________________________________________________\n",
            "conv3d_10 (Conv3D)              (None, 128, 128, 32, 1024        batch_normalization_12[0][0]     \n",
            "__________________________________________________________________________________________________\n",
            "batch_normalization_13 (BatchNo (None, 128, 128, 32, 96          activation_11[0][0]              \n",
            "__________________________________________________________________________________________________\n",
            "conv3d_64 (Conv3D)              (None, 64, 64, 16, 3 18144       batch_normalization_84[0][0]     \n",
            "__________________________________________________________________________________________________\n",
            "conv3d_67 (Conv3D)              (None, 64, 64, 16, 3 18144       batch_normalization_88[0][0]     \n",
            "__________________________________________________________________________________________________\n",
            "add_3 (Add)                     (None, 128, 128, 32, 0           conv3d_10[0][0]                  \n",
            "                                                                 batch_normalization_13[0][0]     \n",
            "__________________________________________________________________________________________________\n",
            "activation_71 (Activation)      (None, 64, 64, 16, 3 0           conv3d_64[0][0]                  \n",
            "__________________________________________________________________________________________________\n",
            "activation_74 (Activation)      (None, 64, 64, 16, 3 0           conv3d_67[0][0]                  \n",
            "__________________________________________________________________________________________________\n",
            "activation_12 (Activation)      (None, 128, 128, 32, 0           add_3[0][0]                      \n",
            "__________________________________________________________________________________________________\n",
            "batch_normalization_85 (BatchNo (None, 64, 64, 16, 3 96          activation_71[0][0]              \n",
            "__________________________________________________________________________________________________\n",
            "batch_normalization_89 (BatchNo (None, 64, 64, 16, 3 96          activation_74[0][0]              \n",
            "__________________________________________________________________________________________________\n",
            "batch_normalization_14 (BatchNo (None, 128, 128, 32, 128         activation_12[0][0]              \n",
            "__________________________________________________________________________________________________\n",
            "concatenate_21 (Concatenate)    (None, 64, 64, 16, 6 0           batch_normalization_83[0][0]     \n",
            "                                                                 batch_normalization_84[0][0]     \n",
            "                                                                 batch_normalization_85[0][0]     \n",
            "__________________________________________________________________________________________________\n",
            "concatenate_22 (Concatenate)    (None, 64, 64, 16, 6 0           batch_normalization_87[0][0]     \n",
            "                                                                 batch_normalization_88[0][0]     \n",
            "                                                                 batch_normalization_89[0][0]     \n",
            "__________________________________________________________________________________________________\n",
            "conv3d_13 (Conv3D)              (None, 128, 128, 32, 27648       batch_normalization_14[0][0]     \n",
            "__________________________________________________________________________________________________\n",
            "batch_normalization_86 (BatchNo (None, 64, 64, 16, 6 252         concatenate_21[0][0]             \n",
            "__________________________________________________________________________________________________\n",
            "batch_normalization_90 (BatchNo (None, 64, 64, 16, 6 252         concatenate_22[0][0]             \n",
            "__________________________________________________________________________________________________\n",
            "activation_13 (Activation)      (None, 128, 128, 32, 0           conv3d_13[0][0]                  \n",
            "__________________________________________________________________________________________________\n",
            "add_17 (Add)                    (None, 64, 64, 16, 6 0           batch_normalization_86[0][0]     \n",
            "                                                                 batch_normalization_90[0][0]     \n",
            "__________________________________________________________________________________________________\n",
            "conv3d_12 (Conv3D)              (None, 128, 128, 32, 1024        batch_normalization_14[0][0]     \n",
            "__________________________________________________________________________________________________\n",
            "batch_normalization_15 (BatchNo (None, 128, 128, 32, 96          activation_13[0][0]              \n",
            "__________________________________________________________________________________________________\n",
            "activation_75 (Activation)      (None, 64, 64, 16, 6 0           add_17[0][0]                     \n",
            "__________________________________________________________________________________________________\n",
            "add_4 (Add)                     (None, 128, 128, 32, 0           conv3d_12[0][0]                  \n",
            "                                                                 batch_normalization_15[0][0]     \n",
            "__________________________________________________________________________________________________\n",
            "batch_normalization_91 (BatchNo (None, 64, 64, 16, 6 252         activation_75[0][0]              \n",
            "__________________________________________________________________________________________________\n",
            "activation_14 (Activation)      (None, 128, 128, 32, 0           add_4[0][0]                      \n",
            "__________________________________________________________________________________________________\n",
            "conv3d_transpose_3 (Conv3DTrans (None, 128, 128, 32, 16160       batch_normalization_91[0][0]     \n",
            "__________________________________________________________________________________________________\n",
            "batch_normalization_16 (BatchNo (None, 128, 128, 32, 128         activation_14[0][0]              \n",
            "__________________________________________________________________________________________________\n",
            "concatenate_23 (Concatenate)    (None, 128, 128, 32, 0           conv3d_transpose_3[0][0]         \n",
            "                                                                 batch_normalization_16[0][0]     \n",
            "__________________________________________________________________________________________________\n",
            "conv3d_68 (Conv3D)              (None, 128, 128, 32, 8640        concatenate_23[0][0]             \n",
            "__________________________________________________________________________________________________\n",
            "conv3d_71 (Conv3D)              (None, 128, 128, 32, 8640        concatenate_23[0][0]             \n",
            "__________________________________________________________________________________________________\n",
            "activation_76 (Activation)      (None, 128, 128, 32, 0           conv3d_68[0][0]                  \n",
            "__________________________________________________________________________________________________\n",
            "activation_79 (Activation)      (None, 128, 128, 32, 0           conv3d_71[0][0]                  \n",
            "__________________________________________________________________________________________________\n",
            "batch_normalization_92 (BatchNo (None, 128, 128, 32, 15          activation_76[0][0]              \n",
            "__________________________________________________________________________________________________\n",
            "batch_normalization_96 (BatchNo (None, 128, 128, 32, 15          activation_79[0][0]              \n",
            "__________________________________________________________________________________________________\n",
            "conv3d_69 (Conv3D)              (None, 128, 128, 32, 1350        batch_normalization_92[0][0]     \n",
            "__________________________________________________________________________________________________\n",
            "conv3d_72 (Conv3D)              (None, 128, 128, 32, 1350        batch_normalization_96[0][0]     \n",
            "__________________________________________________________________________________________________\n",
            "activation_77 (Activation)      (None, 128, 128, 32, 0           conv3d_69[0][0]                  \n",
            "__________________________________________________________________________________________________\n",
            "activation_80 (Activation)      (None, 128, 128, 32, 0           conv3d_72[0][0]                  \n",
            "__________________________________________________________________________________________________\n",
            "batch_normalization_93 (BatchNo (None, 128, 128, 32, 30          activation_77[0][0]              \n",
            "__________________________________________________________________________________________________\n",
            "batch_normalization_97 (BatchNo (None, 128, 128, 32, 30          activation_80[0][0]              \n",
            "__________________________________________________________________________________________________\n",
            "conv3d_70 (Conv3D)              (None, 128, 128, 32, 4320        batch_normalization_93[0][0]     \n",
            "__________________________________________________________________________________________________\n",
            "conv3d_73 (Conv3D)              (None, 128, 128, 32, 4320        batch_normalization_97[0][0]     \n",
            "__________________________________________________________________________________________________\n",
            "activation_78 (Activation)      (None, 128, 128, 32, 0           conv3d_70[0][0]                  \n",
            "__________________________________________________________________________________________________\n",
            "activation_81 (Activation)      (None, 128, 128, 32, 0           conv3d_73[0][0]                  \n",
            "__________________________________________________________________________________________________\n",
            "batch_normalization_94 (BatchNo (None, 128, 128, 32, 48          activation_78[0][0]              \n",
            "__________________________________________________________________________________________________\n",
            "batch_normalization_98 (BatchNo (None, 128, 128, 32, 48          activation_81[0][0]              \n",
            "__________________________________________________________________________________________________\n",
            "concatenate_24 (Concatenate)    (None, 128, 128, 32, 0           batch_normalization_92[0][0]     \n",
            "                                                                 batch_normalization_93[0][0]     \n",
            "                                                                 batch_normalization_94[0][0]     \n",
            "__________________________________________________________________________________________________\n",
            "concatenate_25 (Concatenate)    (None, 128, 128, 32, 0           batch_normalization_96[0][0]     \n",
            "                                                                 batch_normalization_97[0][0]     \n",
            "                                                                 batch_normalization_98[0][0]     \n",
            "__________________________________________________________________________________________________\n",
            "batch_normalization_95 (BatchNo (None, 128, 128, 32, 124         concatenate_24[0][0]             \n",
            "__________________________________________________________________________________________________\n",
            "batch_normalization_99 (BatchNo (None, 128, 128, 32, 124         concatenate_25[0][0]             \n",
            "__________________________________________________________________________________________________\n",
            "add_18 (Add)                    (None, 128, 128, 32, 0           batch_normalization_95[0][0]     \n",
            "                                                                 batch_normalization_99[0][0]     \n",
            "__________________________________________________________________________________________________\n",
            "activation_82 (Activation)      (None, 128, 128, 32, 0           add_18[0][0]                     \n",
            "__________________________________________________________________________________________________\n",
            "batch_normalization_100 (BatchN (None, 128, 128, 32, 124         activation_82[0][0]              \n",
            "__________________________________________________________________________________________________\n",
            "output_1 (Conv3D)               (None, 128, 128, 32, 96          batch_normalization_100[0][0]    \n",
            "==================================================================================================\n",
            "Total params: 12,898,692\n",
            "Trainable params: 12,880,734\n",
            "Non-trainable params: 17,958\n",
            "__________________________________________________________________________________________________\n"
          ]
        }
      ],
      "source": [
        "model = DCUNet3(activation_middle = 'relu', loss_name = 'categorical')"
      ]
    },
    {
      "cell_type": "markdown",
      "metadata": {
        "id": "q-Iri01eb6vJ",
        "papermill": {
          "duration": 0.064634,
          "end_time": "2022-05-14T18:40:52.319713",
          "exception": false,
          "start_time": "2022-05-14T18:40:52.255079",
          "status": "completed"
        },
        "tags": []
      },
      "source": [
        "# Antrenarea modelului"
      ]
    },
    {
      "cell_type": "code",
      "execution_count": null,
      "metadata": {
        "execution": {
          "iopub.execute_input": "2022-05-14T18:40:52.444733Z",
          "iopub.status.busy": "2022-05-14T18:40:52.443761Z",
          "iopub.status.idle": "2022-05-14T18:40:52.446005Z",
          "shell.execute_reply": "2022-05-14T18:40:52.446530Z",
          "shell.execute_reply.started": "2022-05-13T20:04:11.984228Z"
        },
        "papermill": {
          "duration": 0.066933,
          "end_time": "2022-05-14T18:40:52.446705",
          "exception": false,
          "start_time": "2022-05-14T18:40:52.379772",
          "status": "completed"
        },
        "tags": [],
        "id": "Hfa45fVNNS4H"
      },
      "outputs": [],
      "source": [
        "callbacks = [\n",
        "        tf.keras.callbacks.EarlyStopping(patience=10, monitor='val_tanimoto_coefficient',mode='max'),\n",
        "        tf.keras.callbacks.ModelCheckpoint('model_sigmoid_nuclei.h5', monitor='val_tanimoto_coefficient',\n",
        "                                           verbose=1, save_best_only=True,mode='max')\n",
        "]"
      ]
    },
    {
      "cell_type": "code",
      "execution_count": null,
      "metadata": {
        "execution": {
          "iopub.execute_input": "2022-05-14T18:40:52.568387Z",
          "iopub.status.busy": "2022-05-14T18:40:52.567733Z",
          "iopub.status.idle": "2022-05-14T18:40:52.571926Z",
          "shell.execute_reply": "2022-05-14T18:40:52.571407Z",
          "shell.execute_reply.started": "2022-05-13T20:04:11.996001Z"
        },
        "papermill": {
          "duration": 0.066976,
          "end_time": "2022-05-14T18:40:52.572070",
          "exception": false,
          "start_time": "2022-05-14T18:40:52.505094",
          "status": "completed"
        },
        "tags": [],
        "id": "elMe6CoQNS4H"
      },
      "outputs": [],
      "source": [
        "import tensorflow as tf\n",
        "tf.config.experimental_run_functions_eagerly(True)"
      ]
    },
    {
      "cell_type": "code",
      "execution_count": null,
      "metadata": {
        "execution": {
          "iopub.execute_input": "2022-05-14T18:40:52.692166Z",
          "iopub.status.busy": "2022-05-14T18:40:52.691565Z",
          "iopub.status.idle": "2022-05-14T18:40:52.695690Z",
          "shell.execute_reply": "2022-05-14T18:40:52.695191Z",
          "shell.execute_reply.started": "2022-05-13T20:04:12.004829Z"
        },
        "papermill": {
          "duration": 0.066327,
          "end_time": "2022-05-14T18:40:52.695820",
          "exception": false,
          "start_time": "2022-05-14T18:40:52.629493",
          "status": "completed"
        },
        "tags": [],
        "id": "gUdRhr4nNS4I"
      },
      "outputs": [],
      "source": [
        "steps_per_epoch = int(np.ceil(x_train_first.shape[0] / 2))"
      ]
    },
    {
      "cell_type": "code",
      "execution_count": null,
      "metadata": {
        "execution": {
          "iopub.execute_input": "2022-05-14T18:40:52.809106Z",
          "iopub.status.busy": "2022-05-14T18:40:52.808449Z",
          "iopub.status.idle": "2022-05-14T22:29:03.165130Z",
          "shell.execute_reply": "2022-05-14T22:29:03.166157Z",
          "shell.execute_reply.started": "2022-05-13T20:43:55.851356Z"
        },
        "papermill": {
          "duration": 13690.417682,
          "end_time": "2022-05-14T22:29:03.166414",
          "exception": false,
          "start_time": "2022-05-14T18:40:52.748732",
          "status": "completed"
        },
        "tags": [],
        "id": "7GCH2_iMNS4K",
        "outputId": "d9294cc4-f1e4-4bb4-fc13-40c8c05e54b2"
      },
      "outputs": [
        {
          "name": "stderr",
          "output_type": "stream",
          "text": [
            "/opt/conda/lib/python3.7/site-packages/tensorflow/python/data/ops/dataset_ops.py:3504: UserWarning: Even though the tf.config.experimental_run_functions_eagerly option is set, this option does not apply to tf.data functions. tf.data functions are still traced and executed as graphs.\n",
            "  \"Even though the tf.config.experimental_run_functions_eagerly \"\n"
          ]
        },
        {
          "name": "stdout",
          "output_type": "stream",
          "text": [
            "Epoch 1/50\n",
            "84/84 [==============================] - 281s 3s/step - loss: 1.2435 - accuracy: 0.3681 - auc: 0.4834 - dice_coefficient: 0.3379 - confusion: 0.3379 - tanimoto_coefficient: 0.2033 - val_loss: 1.0381 - val_accuracy: 0.9236 - val_auc: 0.3547 - val_dice_coefficient: 0.3549 - val_confusion: 0.3549 - val_tanimoto_coefficient: 0.2157\n",
            "\n",
            "Epoch 00001: val_tanimoto_coefficient improved from -inf to 0.21574, saving model to model_sigmoid_nuclei.h5\n",
            "Epoch 2/50\n",
            "84/84 [==============================] - 274s 3s/step - loss: 1.0359 - accuracy: 0.8224 - auc: 0.5132 - dice_coefficient: 0.3598 - confusion: 0.3598 - tanimoto_coefficient: 0.2194 - val_loss: 0.9753 - val_accuracy: 0.9581 - val_auc: 0.6099 - val_dice_coefficient: 0.3777 - val_confusion: 0.3777 - val_tanimoto_coefficient: 0.2328\n",
            "\n",
            "Epoch 00002: val_tanimoto_coefficient improved from 0.21574 to 0.23282, saving model to model_sigmoid_nuclei.h5\n",
            "Epoch 3/50\n",
            "84/84 [==============================] - 273s 3s/step - loss: 0.9711 - accuracy: 0.8923 - auc: 0.5603 - dice_coefficient: 0.3827 - confusion: 0.3827 - tanimoto_coefficient: 0.2367 - val_loss: 0.8979 - val_accuracy: 0.9652 - val_auc: 0.6619 - val_dice_coefficient: 0.4094 - val_confusion: 0.4094 - val_tanimoto_coefficient: 0.2574\n",
            "\n",
            "Epoch 00003: val_tanimoto_coefficient improved from 0.23282 to 0.25743, saving model to model_sigmoid_nuclei.h5\n",
            "Epoch 4/50\n",
            "84/84 [==============================] - 273s 3s/step - loss: 0.9041 - accuracy: 0.9138 - auc: 0.5989 - dice_coefficient: 0.4105 - confusion: 0.4105 - tanimoto_coefficient: 0.2583 - val_loss: 0.8221 - val_accuracy: 0.9650 - val_auc: 0.6769 - val_dice_coefficient: 0.4425 - val_confusion: 0.4425 - val_tanimoto_coefficient: 0.2841\n",
            "\n",
            "Epoch 00004: val_tanimoto_coefficient improved from 0.25743 to 0.28413, saving model to model_sigmoid_nuclei.h5\n",
            "Epoch 5/50\n",
            "84/84 [==============================] - 272s 3s/step - loss: 0.8287 - accuracy: 0.9242 - auc: 0.6257 - dice_coefficient: 0.4477 - confusion: 0.4477 - tanimoto_coefficient: 0.2886 - val_loss: 0.7742 - val_accuracy: 0.9399 - val_auc: 0.6793 - val_dice_coefficient: 0.4724 - val_confusion: 0.4724 - val_tanimoto_coefficient: 0.3093\n",
            "\n",
            "Epoch 00005: val_tanimoto_coefficient improved from 0.28413 to 0.30929, saving model to model_sigmoid_nuclei.h5\n",
            "Epoch 6/50\n",
            "84/84 [==============================] - 273s 3s/step - loss: 0.7492 - accuracy: 0.9455 - auc: 0.7564 - dice_coefficient: 0.4882 - confusion: 0.4882 - tanimoto_coefficient: 0.3233 - val_loss: 0.7055 - val_accuracy: 0.9451 - val_auc: 0.9166 - val_dice_coefficient: 0.5189 - val_confusion: 0.5190 - val_tanimoto_coefficient: 0.3504\n",
            "\n",
            "Epoch 00006: val_tanimoto_coefficient improved from 0.30929 to 0.35044, saving model to model_sigmoid_nuclei.h5\n",
            "Epoch 7/50\n",
            "84/84 [==============================] - 273s 3s/step - loss: 0.6748 - accuracy: 0.9596 - auc: 0.9441 - dice_coefficient: 0.5302 - confusion: 0.5302 - tanimoto_coefficient: 0.3614 - val_loss: 0.8987 - val_accuracy: 0.8718 - val_auc: 0.8794 - val_dice_coefficient: 0.5102 - val_confusion: 0.5102 - val_tanimoto_coefficient: 0.3429\n",
            "\n",
            "Epoch 00007: val_tanimoto_coefficient did not improve from 0.35044\n",
            "Epoch 8/50\n",
            "84/84 [==============================] - 273s 3s/step - loss: 0.6088 - accuracy: 0.9690 - auc: 0.9677 - dice_coefficient: 0.5679 - confusion: 0.5679 - tanimoto_coefficient: 0.3971 - val_loss: 0.5539 - val_accuracy: 0.9683 - val_auc: 0.9740 - val_dice_coefficient: 0.6168 - val_confusion: 0.6168 - val_tanimoto_coefficient: 0.4460\n",
            "\n",
            "Epoch 00008: val_tanimoto_coefficient improved from 0.35044 to 0.44601, saving model to model_sigmoid_nuclei.h5\n",
            "Epoch 9/50\n",
            "84/84 [==============================] - 273s 3s/step - loss: 0.5286 - accuracy: 0.9739 - auc: 0.9760 - dice_coefficient: 0.6193 - confusion: 0.6193 - tanimoto_coefficient: 0.4499 - val_loss: 0.4868 - val_accuracy: 0.9655 - val_auc: 0.9713 - val_dice_coefficient: 0.6426 - val_confusion: 0.6426 - val_tanimoto_coefficient: 0.4734\n",
            "\n",
            "Epoch 00009: val_tanimoto_coefficient improved from 0.44601 to 0.47340, saving model to model_sigmoid_nuclei.h5\n",
            "Epoch 10/50\n",
            "84/84 [==============================] - 273s 3s/step - loss: 0.4653 - accuracy: 0.9790 - auc: 0.9816 - dice_coefficient: 0.6567 - confusion: 0.6567 - tanimoto_coefficient: 0.4901 - val_loss: 0.3822 - val_accuracy: 0.9846 - val_auc: 0.9878 - val_dice_coefficient: 0.7019 - val_confusion: 0.7019 - val_tanimoto_coefficient: 0.5408\n",
            "\n",
            "Epoch 00010: val_tanimoto_coefficient improved from 0.47340 to 0.54079, saving model to model_sigmoid_nuclei.h5\n",
            "Epoch 11/50\n",
            "84/84 [==============================] - 272s 3s/step - loss: 0.4160 - accuracy: 0.9831 - auc: 0.9855 - dice_coefficient: 0.6885 - confusion: 0.6885 - tanimoto_coefficient: 0.5258 - val_loss: 0.3319 - val_accuracy: 0.9861 - val_auc: 0.9888 - val_dice_coefficient: 0.7314 - val_confusion: 0.7314 - val_tanimoto_coefficient: 0.5766\n",
            "\n",
            "Epoch 00011: val_tanimoto_coefficient improved from 0.54079 to 0.57664, saving model to model_sigmoid_nuclei.h5\n",
            "Epoch 12/50\n",
            "84/84 [==============================] - 273s 3s/step - loss: 0.3566 - accuracy: 0.9854 - auc: 0.9876 - dice_coefficient: 0.7290 - confusion: 0.7290 - tanimoto_coefficient: 0.5751 - val_loss: 0.2795 - val_accuracy: 0.9879 - val_auc: 0.9903 - val_dice_coefficient: 0.7685 - val_confusion: 0.7685 - val_tanimoto_coefficient: 0.6242\n",
            "\n",
            "Epoch 00012: val_tanimoto_coefficient improved from 0.57664 to 0.62418, saving model to model_sigmoid_nuclei.h5\n",
            "Epoch 13/50\n",
            "84/84 [==============================] - 273s 3s/step - loss: 0.3213 - accuracy: 0.9867 - auc: 0.9889 - dice_coefficient: 0.7530 - confusion: 0.7530 - tanimoto_coefficient: 0.6051 - val_loss: 0.2545 - val_accuracy: 0.9883 - val_auc: 0.9906 - val_dice_coefficient: 0.7892 - val_confusion: 0.7892 - val_tanimoto_coefficient: 0.6520\n",
            "\n",
            "Epoch 00013: val_tanimoto_coefficient improved from 0.62418 to 0.65196, saving model to model_sigmoid_nuclei.h5\n",
            "Epoch 14/50\n",
            "84/84 [==============================] - 273s 3s/step - loss: 0.2708 - accuracy: 0.9873 - auc: 0.9896 - dice_coefficient: 0.7876 - confusion: 0.7876 - tanimoto_coefficient: 0.6516 - val_loss: 0.2276 - val_accuracy: 0.9884 - val_auc: 0.9907 - val_dice_coefficient: 0.8091 - val_confusion: 0.8091 - val_tanimoto_coefficient: 0.6795\n",
            "\n",
            "Epoch 00014: val_tanimoto_coefficient improved from 0.65196 to 0.67950, saving model to model_sigmoid_nuclei.h5\n",
            "Epoch 15/50\n",
            "84/84 [==============================] - 273s 3s/step - loss: 0.2461 - accuracy: 0.9890 - auc: 0.9910 - dice_coefficient: 0.8053 - confusion: 0.8053 - tanimoto_coefficient: 0.6755 - val_loss: 0.2054 - val_accuracy: 0.9891 - val_auc: 0.9912 - val_dice_coefficient: 0.8288 - val_confusion: 0.8288 - val_tanimoto_coefficient: 0.7078\n",
            "\n",
            "Epoch 00015: val_tanimoto_coefficient improved from 0.67950 to 0.70777, saving model to model_sigmoid_nuclei.h5\n",
            "Epoch 16/50\n",
            "84/84 [==============================] - 274s 3s/step - loss: 0.2208 - accuracy: 0.9898 - auc: 0.9918 - dice_coefficient: 0.8243 - confusion: 0.8243 - tanimoto_coefficient: 0.7024 - val_loss: 0.1776 - val_accuracy: 0.9891 - val_auc: 0.9911 - val_dice_coefficient: 0.8523 - val_confusion: 0.8523 - val_tanimoto_coefficient: 0.7427\n",
            "\n",
            "Epoch 00016: val_tanimoto_coefficient improved from 0.70777 to 0.74271, saving model to model_sigmoid_nuclei.h5\n",
            "Epoch 17/50\n",
            "84/84 [==============================] - 272s 3s/step - loss: 0.1926 - accuracy: 0.9894 - auc: 0.9914 - dice_coefficient: 0.8469 - confusion: 0.8469 - tanimoto_coefficient: 0.7353 - val_loss: 0.1587 - val_accuracy: 0.9901 - val_auc: 0.9919 - val_dice_coefficient: 0.8679 - val_confusion: 0.8679 - val_tanimoto_coefficient: 0.7667\n",
            "\n",
            "Epoch 00017: val_tanimoto_coefficient improved from 0.74271 to 0.76671, saving model to model_sigmoid_nuclei.h5\n",
            "Epoch 18/50\n",
            "84/84 [==============================] - 273s 3s/step - loss: 0.1743 - accuracy: 0.9913 - auc: 0.9929 - dice_coefficient: 0.8579 - confusion: 0.8579 - tanimoto_coefficient: 0.7518 - val_loss: 0.1468 - val_accuracy: 0.9888 - val_auc: 0.9908 - val_dice_coefficient: 0.8803 - val_confusion: 0.8803 - val_tanimoto_coefficient: 0.7865\n",
            "\n",
            "Epoch 00018: val_tanimoto_coefficient improved from 0.76671 to 0.78645, saving model to model_sigmoid_nuclei.h5\n",
            "Epoch 19/50\n",
            "84/84 [==============================] - 272s 3s/step - loss: 0.1579 - accuracy: 0.9907 - auc: 0.9924 - dice_coefficient: 0.8727 - confusion: 0.8727 - tanimoto_coefficient: 0.7750 - val_loss: 0.1336 - val_accuracy: 0.9898 - val_auc: 0.9917 - val_dice_coefficient: 0.8916 - val_confusion: 0.8916 - val_tanimoto_coefficient: 0.8046\n",
            "\n",
            "Epoch 00019: val_tanimoto_coefficient improved from 0.78645 to 0.80457, saving model to model_sigmoid_nuclei.h5\n",
            "Epoch 20/50\n",
            "84/84 [==============================] - 273s 3s/step - loss: 0.1430 - accuracy: 0.9922 - auc: 0.9937 - dice_coefficient: 0.8834 - confusion: 0.8834 - tanimoto_coefficient: 0.7919 - val_loss: 0.1224 - val_accuracy: 0.9897 - val_auc: 0.9916 - val_dice_coefficient: 0.9007 - val_confusion: 0.9007 - val_tanimoto_coefficient: 0.8196\n",
            "\n",
            "Epoch 00020: val_tanimoto_coefficient improved from 0.80457 to 0.81955, saving model to model_sigmoid_nuclei.h5\n",
            "Epoch 21/50\n",
            "84/84 [==============================] - 272s 3s/step - loss: 0.1305 - accuracy: 0.9915 - auc: 0.9931 - dice_coefficient: 0.8945 - confusion: 0.8945 - tanimoto_coefficient: 0.8099 - val_loss: 0.1137 - val_accuracy: 0.9891 - val_auc: 0.9910 - val_dice_coefficient: 0.9097 - val_confusion: 0.9097 - val_tanimoto_coefficient: 0.8346\n",
            "\n",
            "Epoch 00021: val_tanimoto_coefficient improved from 0.81955 to 0.83457, saving model to model_sigmoid_nuclei.h5\n",
            "Epoch 22/50\n",
            "84/84 [==============================] - 272s 3s/step - loss: 0.1170 - accuracy: 0.9927 - auc: 0.9940 - dice_coefficient: 0.9046 - confusion: 0.9046 - tanimoto_coefficient: 0.8262 - val_loss: 0.1070 - val_accuracy: 0.9893 - val_auc: 0.9912 - val_dice_coefficient: 0.9158 - val_confusion: 0.9158 - val_tanimoto_coefficient: 0.8449\n",
            "\n",
            "Epoch 00022: val_tanimoto_coefficient improved from 0.83457 to 0.84490, saving model to model_sigmoid_nuclei.h5\n",
            "Epoch 23/50\n",
            "84/84 [==============================] - 272s 3s/step - loss: 0.1072 - accuracy: 0.9919 - auc: 0.9934 - dice_coefficient: 0.9143 - confusion: 0.9143 - tanimoto_coefficient: 0.8426 - val_loss: 0.0980 - val_accuracy: 0.9901 - val_auc: 0.9918 - val_dice_coefficient: 0.9228 - val_confusion: 0.9228 - val_tanimoto_coefficient: 0.8568\n",
            "\n",
            "Epoch 00023: val_tanimoto_coefficient improved from 0.84490 to 0.85677, saving model to model_sigmoid_nuclei.h5\n",
            "Epoch 24/50\n",
            "84/84 [==============================] - 273s 3s/step - loss: 0.1007 - accuracy: 0.9916 - auc: 0.9931 - dice_coefficient: 0.9203 - confusion: 0.9203 - tanimoto_coefficient: 0.8528 - val_loss: 0.0921 - val_accuracy: 0.9906 - val_auc: 0.9923 - val_dice_coefficient: 0.9294 - val_confusion: 0.9294 - val_tanimoto_coefficient: 0.8683\n",
            "\n",
            "Epoch 00024: val_tanimoto_coefficient improved from 0.85677 to 0.86826, saving model to model_sigmoid_nuclei.h5\n",
            "Epoch 25/50\n",
            "84/84 [==============================] - 272s 3s/step - loss: 0.0889 - accuracy: 0.9923 - auc: 0.9937 - dice_coefficient: 0.9297 - confusion: 0.9297 - tanimoto_coefficient: 0.8690 - val_loss: 0.0877 - val_accuracy: 0.9896 - val_auc: 0.9914 - val_dice_coefficient: 0.9339 - val_confusion: 0.9339 - val_tanimoto_coefficient: 0.8763\n",
            "\n",
            "Epoch 00025: val_tanimoto_coefficient improved from 0.86826 to 0.87632, saving model to model_sigmoid_nuclei.h5\n",
            "Epoch 26/50\n",
            "84/84 [==============================] - 273s 3s/step - loss: 0.0794 - accuracy: 0.9931 - auc: 0.9944 - dice_coefficient: 0.9364 - confusion: 0.9364 - tanimoto_coefficient: 0.8806 - val_loss: 0.0817 - val_accuracy: 0.9901 - val_auc: 0.9918 - val_dice_coefficient: 0.9389 - val_confusion: 0.9389 - val_tanimoto_coefficient: 0.8852\n",
            "\n",
            "Epoch 00026: val_tanimoto_coefficient improved from 0.87632 to 0.88516, saving model to model_sigmoid_nuclei.h5\n",
            "Epoch 27/50\n",
            "84/84 [==============================] - 272s 3s/step - loss: 0.0757 - accuracy: 0.9927 - auc: 0.9940 - dice_coefficient: 0.9403 - confusion: 0.9403 - tanimoto_coefficient: 0.8876 - val_loss: 0.0759 - val_accuracy: 0.9904 - val_auc: 0.9921 - val_dice_coefficient: 0.9431 - val_confusion: 0.9431 - val_tanimoto_coefficient: 0.8925\n",
            "\n",
            "Epoch 00027: val_tanimoto_coefficient improved from 0.88516 to 0.89251, saving model to model_sigmoid_nuclei.h5\n",
            "Epoch 28/50\n",
            "84/84 [==============================] - 272s 3s/step - loss: 0.0716 - accuracy: 0.9934 - auc: 0.9946 - dice_coefficient: 0.9431 - confusion: 0.9431 - tanimoto_coefficient: 0.8925 - val_loss: 0.0705 - val_accuracy: 0.9903 - val_auc: 0.9920 - val_dice_coefficient: 0.9486 - val_confusion: 0.9486 - val_tanimoto_coefficient: 0.9025\n",
            "\n",
            "Epoch 00028: val_tanimoto_coefficient improved from 0.89251 to 0.90252, saving model to model_sigmoid_nuclei.h5\n",
            "Epoch 29/50\n",
            "84/84 [==============================] - 272s 3s/step - loss: 0.0638 - accuracy: 0.9940 - auc: 0.9951 - dice_coefficient: 0.9484 - confusion: 0.9484 - tanimoto_coefficient: 0.9020 - val_loss: 0.0701 - val_accuracy: 0.9907 - val_auc: 0.9923 - val_dice_coefficient: 0.9497 - val_confusion: 0.9497 - val_tanimoto_coefficient: 0.9044\n",
            "\n",
            "Epoch 00029: val_tanimoto_coefficient improved from 0.90252 to 0.90441, saving model to model_sigmoid_nuclei.h5\n",
            "Epoch 30/50\n",
            "84/84 [==============================] - 273s 3s/step - loss: 0.0608 - accuracy: 0.9939 - auc: 0.9950 - dice_coefficient: 0.9514 - confusion: 0.9514 - tanimoto_coefficient: 0.9074 - val_loss: 0.0635 - val_accuracy: 0.9910 - val_auc: 0.9926 - val_dice_coefficient: 0.9549 - val_confusion: 0.9549 - val_tanimoto_coefficient: 0.9140\n",
            "\n",
            "Epoch 00030: val_tanimoto_coefficient improved from 0.90441 to 0.91396, saving model to model_sigmoid_nuclei.h5\n",
            "Epoch 31/50\n",
            "84/84 [==============================] - 272s 3s/step - loss: 0.0567 - accuracy: 0.9938 - auc: 0.9949 - dice_coefficient: 0.9551 - confusion: 0.9551 - tanimoto_coefficient: 0.9142 - val_loss: 0.0582 - val_accuracy: 0.9918 - val_auc: 0.9932 - val_dice_coefficient: 0.9584 - val_confusion: 0.9584 - val_tanimoto_coefficient: 0.9202\n",
            "\n",
            "Epoch 00031: val_tanimoto_coefficient improved from 0.91396 to 0.92023, saving model to model_sigmoid_nuclei.h5\n",
            "Epoch 32/50\n",
            "84/84 [==============================] - 272s 3s/step - loss: 0.0527 - accuracy: 0.9943 - auc: 0.9953 - dice_coefficient: 0.9579 - confusion: 0.9579 - tanimoto_coefficient: 0.9192 - val_loss: 0.0579 - val_accuracy: 0.9911 - val_auc: 0.9926 - val_dice_coefficient: 0.9602 - val_confusion: 0.9602 - val_tanimoto_coefficient: 0.9237\n",
            "\n",
            "Epoch 00032: val_tanimoto_coefficient improved from 0.92023 to 0.92372, saving model to model_sigmoid_nuclei.h5\n",
            "Epoch 33/50\n",
            "84/84 [==============================] - 272s 3s/step - loss: 0.0499 - accuracy: 0.9947 - auc: 0.9956 - dice_coefficient: 0.9599 - confusion: 0.9599 - tanimoto_coefficient: 0.9230 - val_loss: 0.0527 - val_accuracy: 0.9914 - val_auc: 0.9929 - val_dice_coefficient: 0.9640 - val_confusion: 0.9640 - val_tanimoto_coefficient: 0.9307\n",
            "\n",
            "Epoch 00033: val_tanimoto_coefficient improved from 0.92372 to 0.93074, saving model to model_sigmoid_nuclei.h5\n",
            "Epoch 34/50\n",
            "84/84 [==============================] - 274s 3s/step - loss: 0.0458 - accuracy: 0.9946 - auc: 0.9955 - dice_coefficient: 0.9637 - confusion: 0.9637 - tanimoto_coefficient: 0.9301 - val_loss: 0.0525 - val_accuracy: 0.9911 - val_auc: 0.9926 - val_dice_coefficient: 0.9652 - val_confusion: 0.9652 - val_tanimoto_coefficient: 0.9328\n",
            "\n",
            "Epoch 00034: val_tanimoto_coefficient improved from 0.93074 to 0.93283, saving model to model_sigmoid_nuclei.h5\n",
            "Epoch 35/50\n",
            "84/84 [==============================] - 273s 3s/step - loss: 0.0428 - accuracy: 0.9946 - auc: 0.9956 - dice_coefficient: 0.9663 - confusion: 0.9663 - tanimoto_coefficient: 0.9349 - val_loss: 0.0515 - val_accuracy: 0.9907 - val_auc: 0.9923 - val_dice_coefficient: 0.9672 - val_confusion: 0.9672 - val_tanimoto_coefficient: 0.9366\n",
            "\n",
            "Epoch 00035: val_tanimoto_coefficient improved from 0.93283 to 0.93665, saving model to model_sigmoid_nuclei.h5\n",
            "Epoch 36/50\n",
            "84/84 [==============================] - 273s 3s/step - loss: 0.0401 - accuracy: 0.9947 - auc: 0.9957 - dice_coefficient: 0.9686 - confusion: 0.9686 - tanimoto_coefficient: 0.9392 - val_loss: 0.0508 - val_accuracy: 0.9908 - val_auc: 0.9924 - val_dice_coefficient: 0.9682 - val_confusion: 0.9682 - val_tanimoto_coefficient: 0.9386\n",
            "\n",
            "Epoch 00036: val_tanimoto_coefficient improved from 0.93665 to 0.93863, saving model to model_sigmoid_nuclei.h5\n",
            "Epoch 37/50\n",
            "84/84 [==============================] - 273s 3s/step - loss: 0.0393 - accuracy: 0.9947 - auc: 0.9957 - dice_coefficient: 0.9695 - confusion: 0.9695 - tanimoto_coefficient: 0.9409 - val_loss: 0.0475 - val_accuracy: 0.9913 - val_auc: 0.9928 - val_dice_coefficient: 0.9700 - val_confusion: 0.9700 - val_tanimoto_coefficient: 0.9419\n",
            "\n",
            "Epoch 00037: val_tanimoto_coefficient improved from 0.93863 to 0.94190, saving model to model_sigmoid_nuclei.h5\n",
            "Epoch 38/50\n",
            "84/84 [==============================] - 273s 3s/step - loss: 0.0372 - accuracy: 0.9943 - auc: 0.9953 - dice_coefficient: 0.9720 - confusion: 0.9720 - tanimoto_coefficient: 0.9455 - val_loss: 0.0462 - val_accuracy: 0.9910 - val_auc: 0.9925 - val_dice_coefficient: 0.9713 - val_confusion: 0.9713 - val_tanimoto_coefficient: 0.9445\n",
            "\n",
            "Epoch 00038: val_tanimoto_coefficient improved from 0.94190 to 0.94445, saving model to model_sigmoid_nuclei.h5\n",
            "Epoch 39/50\n",
            "84/84 [==============================] - 273s 3s/step - loss: 0.0345 - accuracy: 0.9948 - auc: 0.9957 - dice_coefficient: 0.9737 - confusion: 0.9737 - tanimoto_coefficient: 0.9488 - val_loss: 0.0444 - val_accuracy: 0.9913 - val_auc: 0.9928 - val_dice_coefficient: 0.9731 - val_confusion: 0.9731 - val_tanimoto_coefficient: 0.9478\n",
            "\n",
            "Epoch 00039: val_tanimoto_coefficient improved from 0.94445 to 0.94781, saving model to model_sigmoid_nuclei.h5\n",
            "Epoch 40/50\n",
            "84/84 [==============================] - 273s 3s/step - loss: 0.0319 - accuracy: 0.9954 - auc: 0.9962 - dice_coefficient: 0.9751 - confusion: 0.9751 - tanimoto_coefficient: 0.9515 - val_loss: 0.0450 - val_accuracy: 0.9908 - val_auc: 0.9924 - val_dice_coefficient: 0.9747 - val_confusion: 0.9747 - val_tanimoto_coefficient: 0.9510\n",
            "\n",
            "Epoch 00040: val_tanimoto_coefficient improved from 0.94781 to 0.95096, saving model to model_sigmoid_nuclei.h5\n",
            "Epoch 41/50\n",
            "84/84 [==============================] - 272s 3s/step - loss: 0.0306 - accuracy: 0.9954 - auc: 0.9962 - dice_coefficient: 0.9766 - confusion: 0.9766 - tanimoto_coefficient: 0.9542 - val_loss: 0.0414 - val_accuracy: 0.9914 - val_auc: 0.9929 - val_dice_coefficient: 0.9759 - val_confusion: 0.9759 - val_tanimoto_coefficient: 0.9531\n",
            "\n",
            "Epoch 00041: val_tanimoto_coefficient improved from 0.95096 to 0.95315, saving model to model_sigmoid_nuclei.h5\n",
            "Epoch 42/50\n",
            "84/84 [==============================] - 273s 3s/step - loss: 0.0296 - accuracy: 0.9955 - auc: 0.9963 - dice_coefficient: 0.9773 - confusion: 0.9773 - tanimoto_coefficient: 0.9557 - val_loss: 0.0422 - val_accuracy: 0.9909 - val_auc: 0.9925 - val_dice_coefficient: 0.9766 - val_confusion: 0.9766 - val_tanimoto_coefficient: 0.9544\n",
            "\n",
            "Epoch 00042: val_tanimoto_coefficient improved from 0.95315 to 0.95443, saving model to model_sigmoid_nuclei.h5\n",
            "Epoch 43/50\n",
            "84/84 [==============================] - 272s 3s/step - loss: 0.0278 - accuracy: 0.9957 - auc: 0.9964 - dice_coefficient: 0.9788 - confusion: 0.9788 - tanimoto_coefficient: 0.9586 - val_loss: 0.0419 - val_accuracy: 0.9909 - val_auc: 0.9924 - val_dice_coefficient: 0.9773 - val_confusion: 0.9773 - val_tanimoto_coefficient: 0.9559\n",
            "\n",
            "Epoch 00043: val_tanimoto_coefficient improved from 0.95443 to 0.95592, saving model to model_sigmoid_nuclei.h5\n",
            "Epoch 44/50\n",
            "84/84 [==============================] - 272s 3s/step - loss: 0.0275 - accuracy: 0.9952 - auc: 0.9960 - dice_coefficient: 0.9797 - confusion: 0.9797 - tanimoto_coefficient: 0.9603 - val_loss: 0.0409 - val_accuracy: 0.9911 - val_auc: 0.9926 - val_dice_coefficient: 0.9786 - val_confusion: 0.9786 - val_tanimoto_coefficient: 0.9582\n",
            "\n",
            "Epoch 00044: val_tanimoto_coefficient improved from 0.95592 to 0.95822, saving model to model_sigmoid_nuclei.h5\n",
            "Epoch 45/50\n",
            "84/84 [==============================] - 272s 3s/step - loss: 0.0267 - accuracy: 0.9952 - auc: 0.9960 - dice_coefficient: 0.9805 - confusion: 0.9805 - tanimoto_coefficient: 0.9618 - val_loss: 0.0397 - val_accuracy: 0.9911 - val_auc: 0.9926 - val_dice_coefficient: 0.9790 - val_confusion: 0.9790 - val_tanimoto_coefficient: 0.9591\n",
            "\n",
            "Epoch 00045: val_tanimoto_coefficient improved from 0.95822 to 0.95908, saving model to model_sigmoid_nuclei.h5\n",
            "Epoch 46/50\n",
            "84/84 [==============================] - 272s 3s/step - loss: 0.0253 - accuracy: 0.9954 - auc: 0.9962 - dice_coefficient: 0.9814 - confusion: 0.9814 - tanimoto_coefficient: 0.9635 - val_loss: 0.0406 - val_accuracy: 0.9908 - val_auc: 0.9923 - val_dice_coefficient: 0.9796 - val_confusion: 0.9796 - val_tanimoto_coefficient: 0.9602\n",
            "\n",
            "Epoch 00046: val_tanimoto_coefficient improved from 0.95908 to 0.96019, saving model to model_sigmoid_nuclei.h5\n",
            "Epoch 47/50\n",
            "84/84 [==============================] - 272s 3s/step - loss: 0.0240 - accuracy: 0.9956 - auc: 0.9963 - dice_coefficient: 0.9824 - confusion: 0.9824 - tanimoto_coefficient: 0.9654 - val_loss: 0.0388 - val_accuracy: 0.9909 - val_auc: 0.9925 - val_dice_coefficient: 0.9801 - val_confusion: 0.9801 - val_tanimoto_coefficient: 0.9611\n",
            "\n",
            "Epoch 00047: val_tanimoto_coefficient improved from 0.96019 to 0.96109, saving model to model_sigmoid_nuclei.h5\n",
            "Epoch 48/50\n",
            "84/84 [==============================] - 273s 3s/step - loss: 0.0234 - accuracy: 0.9951 - auc: 0.9960 - dice_coefficient: 0.9834 - confusion: 0.9834 - tanimoto_coefficient: 0.9674 - val_loss: 0.0365 - val_accuracy: 0.9917 - val_auc: 0.9931 - val_dice_coefficient: 0.9814 - val_confusion: 0.9814 - val_tanimoto_coefficient: 0.9637\n",
            "\n",
            "Epoch 00048: val_tanimoto_coefficient improved from 0.96109 to 0.96373, saving model to model_sigmoid_nuclei.h5\n",
            "Epoch 49/50\n",
            "84/84 [==============================] - 273s 3s/step - loss: 0.0219 - accuracy: 0.9957 - auc: 0.9964 - dice_coefficient: 0.9841 - confusion: 0.9841 - tanimoto_coefficient: 0.9687 - val_loss: 0.0394 - val_accuracy: 0.9904 - val_auc: 0.9921 - val_dice_coefficient: 0.9810 - val_confusion: 0.9810 - val_tanimoto_coefficient: 0.9631\n",
            "\n",
            "Epoch 00049: val_tanimoto_coefficient did not improve from 0.96373\n",
            "Epoch 50/50\n",
            "84/84 [==============================] - 273s 3s/step - loss: 0.0239 - accuracy: 0.9948 - auc: 0.9957 - dice_coefficient: 0.9837 - confusion: 0.9837 - tanimoto_coefficient: 0.9680 - val_loss: 0.0348 - val_accuracy: 0.9917 - val_auc: 0.9931 - val_dice_coefficient: 0.9830 - val_confusion: 0.9830 - val_tanimoto_coefficient: 0.9667\n",
            "\n",
            "Epoch 00050: val_tanimoto_coefficient improved from 0.96373 to 0.96667, saving model to model_sigmoid_nuclei.h5\n"
          ]
        }
      ],
      "source": [
        "history2 = model.fit(x_train_first, y_train_first, validation_data = (x_valid_first, y_valid_first), epochs=50, batch_size=1, verbose=1, callbacks=callbacks)"
      ]
    },
    {
      "cell_type": "markdown",
      "metadata": {
        "papermill": {
          "duration": 1.160501,
          "end_time": "2022-05-14T22:29:05.541888",
          "exception": false,
          "start_time": "2022-05-14T22:29:04.381387",
          "status": "completed"
        },
        "tags": [],
        "id": "S0UY48nTNS4L"
      },
      "source": [
        "# Saving the model"
      ]
    },
    {
      "cell_type": "code",
      "execution_count": null,
      "metadata": {
        "execution": {
          "iopub.execute_input": "2022-05-14T22:29:08.171088Z",
          "iopub.status.busy": "2022-05-14T22:29:08.151765Z",
          "iopub.status.idle": "2022-05-14T22:29:08.948625Z",
          "shell.execute_reply": "2022-05-14T22:29:08.948118Z",
          "shell.execute_reply.started": "2022-05-13T20:40:41.047482Z"
        },
        "papermill": {
          "duration": 2.132785,
          "end_time": "2022-05-14T22:29:08.948793",
          "exception": false,
          "start_time": "2022-05-14T22:29:06.816008",
          "status": "completed"
        },
        "tags": [],
        "id": "iWkvSV7eNS4M"
      },
      "outputs": [],
      "source": [
        "model.save('model.h5')"
      ]
    },
    {
      "cell_type": "markdown",
      "metadata": {
        "papermill": {
          "duration": 1.680638,
          "end_time": "2022-05-14T22:29:11.790226",
          "exception": false,
          "start_time": "2022-05-14T22:29:10.109588",
          "status": "completed"
        },
        "tags": [],
        "id": "t-LS7-SSNS4O"
      },
      "source": [
        "# Evolution Graphs"
      ]
    },
    {
      "cell_type": "code",
      "execution_count": null,
      "metadata": {
        "execution": {
          "iopub.execute_input": "2022-05-14T22:29:14.738402Z",
          "iopub.status.busy": "2022-05-14T22:29:14.737539Z",
          "iopub.status.idle": "2022-05-14T22:29:14.925633Z",
          "shell.execute_reply": "2022-05-14T22:29:14.926080Z",
          "shell.execute_reply.started": "2022-05-13T20:40:41.85819Z"
        },
        "papermill": {
          "duration": 1.826161,
          "end_time": "2022-05-14T22:29:14.926233",
          "exception": false,
          "start_time": "2022-05-14T22:29:13.100072",
          "status": "completed"
        },
        "tags": [],
        "id": "jGMr4bK7NS4P",
        "outputId": "3e591b79-f0f8-44d2-a285-d001094b3a39"
      },
      "outputs": [
        {
          "data": {
            "image/png": "[encoded data removed]",
            "text/plain": [
              "<Figure size 432x288 with 1 Axes>"
            ]
          },
          "metadata": {
            "needs_background": "light"
          },
          "output_type": "display_data"
        }
      ],
      "source": [
        "loss_train = history2.history['dice_coefficient']\n",
        "loss_val = history2.history['val_dice_coefficient']\n",
        "nr_epochs = 50\n",
        "epochs = range(1,nr_epochs+1)\n",
        "plt.plot(epochs[:len(loss_train)], loss_train[:len(loss_train)], 'g', label='Training dice coefficient')\n",
        "plt.plot(epochs[:len(loss_train)], loss_val[:len(loss_train)], 'b', label='Validation dice coefficient')\n",
        "plt.title('Training and Validation dice coefficient')\n",
        "plt.xlabel('Epochs')\n",
        "plt.ylabel('Dice Coefficient')\n",
        "plt.legend()\n",
        "plt.show()"
      ]
    },
    {
      "cell_type": "code",
      "execution_count": null,
      "metadata": {
        "execution": {
          "iopub.execute_input": "2022-05-14T22:29:17.338210Z",
          "iopub.status.busy": "2022-05-14T22:29:17.336697Z",
          "iopub.status.idle": "2022-05-14T22:29:17.471381Z",
          "shell.execute_reply": "2022-05-14T22:29:17.471818Z",
          "shell.execute_reply.started": "2022-05-13T20:40:42.033071Z"
        },
        "papermill": {
          "duration": 1.370738,
          "end_time": "2022-05-14T22:29:17.471969",
          "exception": false,
          "start_time": "2022-05-14T22:29:16.101231",
          "status": "completed"
        },
        "tags": [],
        "id": "_BRvIeRqNS4Q",
        "outputId": "3cb03b71-3dc2-41c7-ae13-481fb3923f66"
      },
      "outputs": [
        {
          "data": {
            "image/png": "[encoded data removed]",
            "text/plain": [
              "<Figure size 432x288 with 1 Axes>"
            ]
          },
          "metadata": {
            "needs_background": "light"
          },
          "output_type": "display_data"
        }
      ],
      "source": [
        "loss_train_l = history2.history['loss']\n",
        "loss_val_l = history2.history['val_loss']\n",
        "nr_epochs = 50\n",
        "epochs = range(1,nr_epochs+1)\n",
        "plt.plot(epochs[:len(loss_train_l)], loss_train_l[:len(loss_train_l)], 'g', label='Training dice coefficient')\n",
        "plt.plot(epochs[:len(loss_train_l)], loss_val_l[:len(loss_train_l)], 'b', label='Validation dice coefficient')\n",
        "plt.title('Training and Validation loss')\n",
        "plt.xlabel('Epochs')\n",
        "plt.ylabel('Loss')\n",
        "plt.legend()\n",
        "plt.show()"
      ]
    },
    {
      "cell_type": "code",
      "execution_count": null,
      "metadata": {
        "execution": {
          "iopub.execute_input": "2022-05-14T22:29:19.888235Z",
          "iopub.status.busy": "2022-05-14T22:29:19.886669Z",
          "iopub.status.idle": "2022-05-14T22:29:19.889220Z",
          "shell.execute_reply": "2022-05-14T22:29:19.889630Z"
        },
        "papermill": {
          "duration": 1.185899,
          "end_time": "2022-05-14T22:29:19.889791",
          "exception": false,
          "start_time": "2022-05-14T22:29:18.703892",
          "status": "completed"
        },
        "tags": [],
        "id": "TPDu5TIiNS4S"
      },
      "outputs": [],
      "source": [
        "# loss_train = history_3.history['dice_coefficient']\n",
        "# loss_val = history_3.history['val_dice_coefficient']\n",
        "# nr_epochs = 20\n",
        "# epochs = range(1,nr_epochs+1)\n",
        "# plt.plot(epochs[:nr_epochs], loss_train[:nr_epochs], 'g', label='Training dice coefficient')\n",
        "# plt.plot(epochs[:nr_epochs], loss_val[:nr_epochs], 'b', label='Validation dice coefficient')\n",
        "# plt.title('Training and Validation dice coefficient')\n",
        "# plt.xlabel('Epochs')\n",
        "# plt.ylabel('Dice Coefficient')\n",
        "# plt.legend()\n",
        "# plt.show()"
      ]
    },
    {
      "cell_type": "code",
      "execution_count": null,
      "metadata": {
        "execution": {
          "iopub.execute_input": "2022-05-14T22:29:22.359103Z",
          "iopub.status.busy": "2022-05-14T22:29:22.358074Z",
          "iopub.status.idle": "2022-05-14T22:29:22.361213Z",
          "shell.execute_reply": "2022-05-14T22:29:22.360700Z"
        },
        "papermill": {
          "duration": 1.295245,
          "end_time": "2022-05-14T22:29:22.361343",
          "exception": false,
          "start_time": "2022-05-14T22:29:21.066098",
          "status": "completed"
        },
        "tags": [],
        "id": "ohThYcd2NS4T"
      },
      "outputs": [],
      "source": [
        "# loss_train_l = history_3.history['loss']\n",
        "# loss_val_l = history_3.history['val_loss']\n",
        "# nr_epochs = 20\n",
        "# epochs = range(1,nr_epochs+1)\n",
        "# plt.plot(epochs[:nr_epochs], loss_train_l[:nr_epochs], 'g', label='Training loss')\n",
        "# plt.plot(epochs[:nr_epochs], loss_val_l[:nr_epochs], 'b', label='Validation loss')\n",
        "# plt.title('Training and Validation loss')\n",
        "# plt.xlabel('Epochs')\n",
        "# plt.ylabel('Loss')\n",
        "# plt.legend()\n",
        "# plt.show()"
      ]
    },
    {
      "cell_type": "code",
      "execution_count": null,
      "metadata": {
        "execution": {
          "iopub.execute_input": "2022-05-14T22:29:25.023387Z",
          "iopub.status.busy": "2022-05-14T22:29:25.022485Z",
          "iopub.status.idle": "2022-05-14T22:29:25.024252Z",
          "shell.execute_reply": "2022-05-14T22:29:25.024674Z"
        },
        "papermill": {
          "duration": 1.434352,
          "end_time": "2022-05-14T22:29:25.024819",
          "exception": false,
          "start_time": "2022-05-14T22:29:23.590467",
          "status": "completed"
        },
        "tags": [],
        "id": "kWfanSx0NS4U"
      },
      "outputs": [],
      "source": [
        "# loss_train = history_3.history['dice_coefficient']\n",
        "# loss_val = history_3.history['val_dice_coefficient']\n",
        "# nr_epochs = 40\n",
        "# epochs = range(1,nr_epochs+1)\n",
        "# plt.plot(epochs[:nr_epochs], loss_train[:nr_epochs], 'g', label='Training dice coefficient')\n",
        "# plt.plot(epochs[:nr_epochs], loss_val[:nr_epochs], 'b', label='Validation dice coefficient')\n",
        "# plt.title('Training and Validation dice coefficient')\n",
        "# plt.xlabel('Epochs')\n",
        "# plt.ylabel('Dice Coefficient')\n",
        "# plt.legend()\n",
        "# plt.show()"
      ]
    },
    {
      "cell_type": "code",
      "execution_count": null,
      "metadata": {
        "execution": {
          "iopub.execute_input": "2022-05-14T22:29:27.450071Z",
          "iopub.status.busy": "2022-05-14T22:29:27.448252Z",
          "iopub.status.idle": "2022-05-14T22:29:27.450715Z",
          "shell.execute_reply": "2022-05-14T22:29:27.451126Z"
        },
        "papermill": {
          "duration": 1.172805,
          "end_time": "2022-05-14T22:29:27.451265",
          "exception": false,
          "start_time": "2022-05-14T22:29:26.278460",
          "status": "completed"
        },
        "tags": [],
        "id": "C198Fni2NS4V"
      },
      "outputs": [],
      "source": [
        "# loss_train_l = history_3.history['loss']\n",
        "# loss_val_l = history_3.history['val_loss']\n",
        "# nr_epochs = 40\n",
        "# epochs = range(1,nr_epochs+1)\n",
        "# plt.plot(epochs[:nr_epochs], loss_train_l[:nr_epochs], 'g', label='Training loss')\n",
        "# plt.plot(epochs[:nr_epochs], loss_val_l[:nr_epochs], 'b', label='Validation loss')\n",
        "# plt.title('Training and Validation loss')\n",
        "# plt.xlabel('Epochs')\n",
        "# plt.ylabel('Loss')\n",
        "# plt.legend()\n",
        "# plt.show()"
      ]
    },
    {
      "cell_type": "markdown",
      "metadata": {
        "papermill": {
          "duration": 1.162824,
          "end_time": "2022-05-14T22:29:29.777924",
          "exception": false,
          "start_time": "2022-05-14T22:29:28.615100",
          "status": "completed"
        },
        "tags": [],
        "id": "a_Un9lR7NS4W"
      },
      "source": [
        "# Comparing"
      ]
    },
    {
      "cell_type": "code",
      "execution_count": null,
      "metadata": {
        "execution": {
          "iopub.execute_input": "2022-05-14T22:29:32.213719Z",
          "iopub.status.busy": "2022-05-14T22:29:32.211900Z",
          "iopub.status.idle": "2022-05-14T22:29:32.214285Z",
          "shell.execute_reply": "2022-05-14T22:29:32.214699Z",
          "shell.execute_reply.started": "2022-05-13T20:42:39.993562Z"
        },
        "papermill": {
          "duration": 1.165423,
          "end_time": "2022-05-14T22:29:32.214840",
          "exception": false,
          "start_time": "2022-05-14T22:29:31.049417",
          "status": "completed"
        },
        "tags": [],
        "id": "Ip9EyzEgNS4X"
      },
      "outputs": [],
      "source": [
        "def calculate_dice(y_true,y_pred):\n",
        "    dice=dice_coefficient(y_true,y_pred)\n",
        "    result=round(tf.keras.backend.get_value(dice),3)\n",
        "    return result"
      ]
    },
    {
      "cell_type": "code",
      "execution_count": null,
      "metadata": {
        "execution": {
          "iopub.execute_input": "2022-05-14T22:29:34.689104Z",
          "iopub.status.busy": "2022-05-14T22:29:34.687275Z",
          "iopub.status.idle": "2022-05-14T22:29:34.689692Z",
          "shell.execute_reply": "2022-05-14T22:29:34.690099Z",
          "shell.execute_reply.started": "2022-05-13T20:42:40.159997Z"
        },
        "papermill": {
          "duration": 1.28222,
          "end_time": "2022-05-14T22:29:34.690238",
          "exception": false,
          "start_time": "2022-05-14T22:29:33.408018",
          "status": "completed"
        },
        "tags": [],
        "id": "cOztzxAsNS4X"
      },
      "outputs": [],
      "source": [
        "def choose_slice(patient):\n",
        "    max_t_px = 0\n",
        "    nr_slice = 0\n",
        "    for x in range(patient.shape[2]):\n",
        "        px = np.count_nonzero(patient[:,:,x,1] == 1)\n",
        "        if px >= max_t_px:\n",
        "            nr_slice = x\n",
        "            max_t_px = px\n",
        "    return nr_slice"
      ]
    },
    {
      "cell_type": "code",
      "execution_count": null,
      "metadata": {
        "execution": {
          "iopub.execute_input": "2022-05-14T22:29:37.321757Z",
          "iopub.status.busy": "2022-05-14T22:29:37.320951Z",
          "iopub.status.idle": "2022-05-14T22:29:37.324171Z",
          "shell.execute_reply": "2022-05-14T22:29:37.323737Z",
          "shell.execute_reply.started": "2022-05-13T20:42:40.328612Z"
        },
        "papermill": {
          "duration": 1.176335,
          "end_time": "2022-05-14T22:29:37.324286",
          "exception": false,
          "start_time": "2022-05-14T22:29:36.147951",
          "status": "completed"
        },
        "tags": [],
        "id": "ahytrL0NNS4Y"
      },
      "outputs": [],
      "source": [
        "def choose_slice_best(patient,true):\n",
        "    volume = np.copy(patient)\n",
        "    max_dice = 0\n",
        "    nr_slice = 0\n",
        "    for z in range(patient.shape[2]):\n",
        "        pat = np.copy(patient)\n",
        "        dice, _ = automate_thrs(pat,true,z,1)\n",
        "        px = np.count_nonzero(true[:,:,z,1] == 1)\n",
        "        if dice>max_dice and px>0:\n",
        "            max_dice = dice\n",
        "            nr_slice = z\n",
        "    return nr_slice"
      ]
    },
    {
      "cell_type": "code",
      "execution_count": null,
      "metadata": {
        "execution": {
          "iopub.execute_input": "2022-05-14T22:29:39.739324Z",
          "iopub.status.busy": "2022-05-14T22:29:39.738464Z",
          "iopub.status.idle": "2022-05-14T22:29:39.741482Z",
          "shell.execute_reply": "2022-05-14T22:29:39.741046Z",
          "shell.execute_reply.started": "2022-05-13T20:42:40.520313Z"
        },
        "papermill": {
          "duration": 1.25073,
          "end_time": "2022-05-14T22:29:39.741601",
          "exception": false,
          "start_time": "2022-05-14T22:29:38.490871",
          "status": "completed"
        },
        "tags": [],
        "id": "4DLtob3HNS4Z"
      },
      "outputs": [],
      "source": [
        "def automate_thrs(volume,true,x,cls):\n",
        "    thrs = [i/100 for i in range(100)]\n",
        "    max_dice = 0\n",
        "    thr_max = 0\n",
        "    \n",
        "    for t in thrs:\n",
        "        patient = np.copy(volume)\n",
        "        patient[:,:,x,cls] = np.where( patient[:,:,x,cls]>=t, 1, patient[:,:,x,cls])\n",
        "        patient[:,:,x,cls] = np.where( patient[:,:,x,cls]<t, 0, patient[:,:,x,cls])\n",
        "        dice = calculate_dice(true[:,:,x,cls],patient[:,:,x,cls])\n",
        "\n",
        "        if dice>max_dice:\n",
        "            thr_max = t\n",
        "            max_dice = dice\n",
        "    \n",
        "    return max_dice, thr_max"
      ]
    },
    {
      "cell_type": "code",
      "execution_count": null,
      "metadata": {
        "execution": {
          "iopub.execute_input": "2022-05-14T22:29:42.202943Z",
          "iopub.status.busy": "2022-05-14T22:29:42.202005Z",
          "iopub.status.idle": "2022-05-14T22:29:42.205106Z",
          "shell.execute_reply": "2022-05-14T22:29:42.204573Z",
          "shell.execute_reply.started": "2022-05-13T20:42:40.635085Z"
        },
        "papermill": {
          "duration": 1.241657,
          "end_time": "2022-05-14T22:29:42.205236",
          "exception": false,
          "start_time": "2022-05-14T22:29:40.963579",
          "status": "completed"
        },
        "tags": [],
        "id": "wOtgcXgHNS4Z"
      },
      "outputs": [],
      "source": [
        "# predict_pacurar = model_unet_3d.predict(patients)\n",
        "# predicted_labels_pacurar = np.copy(predict_pacurar)"
      ]
    },
    {
      "cell_type": "code",
      "execution_count": null,
      "metadata": {
        "execution": {
          "iopub.execute_input": "2022-05-14T22:29:45.295827Z",
          "iopub.status.busy": "2022-05-14T22:29:45.295008Z",
          "iopub.status.idle": "2022-05-14T22:29:45.297578Z",
          "shell.execute_reply": "2022-05-14T22:29:45.297994Z",
          "shell.execute_reply.started": "2022-05-13T20:42:40.828633Z"
        },
        "papermill": {
          "duration": 1.748986,
          "end_time": "2022-05-14T22:29:45.298142",
          "exception": false,
          "start_time": "2022-05-14T22:29:43.549156",
          "status": "completed"
        },
        "tags": [],
        "id": "vYcg0O51NS4a"
      },
      "outputs": [],
      "source": [
        "# def predicted_categorical_truth(nr,thr_w,thr_t):\n",
        "#     fig, ax = plt.subplots(1,5, figsize=[8, 8])\n",
        "# #     fig.suptitle('Predicted masks vs Ground truth', fontsize=16)\n",
        "#     x = choose_slice(y_test[nr])\n",
        "#     img_label_0 = patients[nr][:,:,x]\n",
        "# #     img_label_1 = denoise_bilateral(predicted_labels_pacurar[nr][:,:,x,2], sigma_color=0.1, sigma_spatial=15)\n",
        "# #     img_label_2 = denoise_bilateral(predicted_labels_pacurar[nr][:,:,x,1], sigma_color=0.01, sigma_spatial=20)\n",
        "#     img_label_1 = predicted_labels_pacurar[nr][:,:,x,2]\n",
        "#     img_label_2 = predicted_labels_pacurar[nr][:,:,x,1]\n",
        "# #     img_label_1 = predicted_labels_pacurar[nr][:,:,x,2]\n",
        "# #     img_label_2 = predicted_labels_pacurar[nr][:,:,x,1]\n",
        "    \n",
        "#     img_label_1_p = np.where(img_label_1>=thr_w,1,img_label_1)\n",
        "#     img_label_1_p = np.where(img_label_1_p<thr_w,0,img_label_1_p)\n",
        "#     img_label_2_p = np.where(img_label_2>=thr_t,1,img_label_2)\n",
        "#     img_label_2_p = np.where(img_label_2_p<thr_t,0,img_label_2_p)\n",
        "    \n",
        "#     img_label_1 = img_label_1_p\n",
        "#     img_label_2 = img_label_2_p\n",
        "\n",
        "#     img_label_3=y_test[nr][:,:,x,1]\n",
        "#     img_label_4=y_test[nr][:,:,x,2]\n",
        "    \n",
        "#     rotated_img_lb_0 = ndimage.rotate(img_label_0, 270)\n",
        "#     rotated_img_lb_1 = ndimage.rotate(img_label_1, 270)\n",
        "#     rotated_img_lb_2 = ndimage.rotate(img_label_2, 270)\n",
        "#     rotated_img_lb_3 = ndimage.rotate(img_label_3, 270)\n",
        "#     rotated_img_lb_4 = ndimage.rotate(img_label_4, 270)\n",
        "    \n",
        "# #     prediction = predicted_labels_pacurar[nr]\n",
        "    \n",
        "#     dice_p,dice_t = slice_calculate_dice(predicted_labels_pacurar[nr], y_test[nr], x, thr_w, thr_t)\n",
        "#     dice_p = round(tf.keras.backend.get_value(dice_p),3)\n",
        "#     dice_t = round(tf.keras.backend.get_value(dice_t),3)\n",
        "    \n",
        "#     ax[0].imshow(rotated_img_lb_0,cmap='gray')\n",
        "#     ax[0].axis('off')\n",
        "#     ax[1].set_title(\"    DSC for wall: \"+str(dice_p))\n",
        "#     ax[1].imshow(rotated_img_lb_4,cmap='gray')\n",
        "#     ax[1].axis('off')\n",
        "# #     ax[0][1].set_title(\"Dice value for wall: \"+str(dice_p))\n",
        "#     ax[2].imshow(rotated_img_lb_1,cmap='gray')\n",
        "#     ax[2].axis('off')\n",
        "#     ax[3].set_title(\"       DSC for tumor: \"+str(dice_t))\n",
        "#     ax[3].imshow(rotated_img_lb_3,cmap='gray')\n",
        "#     ax[3].axis('off')\n",
        "#     ax[4].imshow(rotated_img_lb_2,cmap='gray')\n",
        "#     ax[4].axis('off')\n",
        "#     plt.tight_layout()\n",
        "#     plt.show()"
      ]
    },
    {
      "cell_type": "code",
      "execution_count": null,
      "metadata": {
        "execution": {
          "iopub.execute_input": "2022-05-14T22:29:47.943805Z",
          "iopub.status.busy": "2022-05-14T22:29:47.942896Z",
          "iopub.status.idle": "2022-05-14T22:29:47.945133Z",
          "shell.execute_reply": "2022-05-14T22:29:47.946884Z",
          "shell.execute_reply.started": "2022-05-13T20:42:41.068721Z"
        },
        "papermill": {
          "duration": 1.225848,
          "end_time": "2022-05-14T22:29:47.947079",
          "exception": false,
          "start_time": "2022-05-14T22:29:46.721231",
          "status": "completed"
        },
        "tags": [],
        "id": "gKmr1GeVNS4b"
      },
      "outputs": [],
      "source": [
        "# def predicted_categorical_truth(nr,thr_w=0.1,thr_t=0.1,thr_b=0.001):\n",
        "#     fig, ax = plt.subplots(1,7, figsize=[8, 8])\n",
        "#     x = choose_slice(y_test[nr])\n",
        "#     img_label_0 = patients[nr][:,:,x]\n",
        "# #     img_label_1 = denoise_bilateral(predicted_labels_pacurar[nr][:,:,x,2], sigma_color=0.1, sigma_spatial=15)\n",
        "# #     img_label_2 = denoise_bilateral(predicted_labels_pacurar[nr][:,:,x,1], sigma_color=0.01, sigma_spatial=20)\n",
        "#     img_label_2 = np.copy(predicted_labels_pacurar[nr][:,:,x,2])\n",
        "#     img_label_4 = np.copy(predicted_labels_pacurar[nr][:,:,x,1])\n",
        "#     img_label_6 = np.copy(predicted_labels_pacurar[nr][:,:,x,0])\n",
        "# #     img_label_1 = predicted_labels_pacurar[nr][:,:,x,2]\n",
        "# #     img_label_2 = predicted_labels_pacurar[nr][:,:,x,1]\n",
        "    \n",
        "#     img_label_2_p = np.where(img_label_2>=thr_w,1,img_label_2)\n",
        "#     img_label_2_p = np.where(img_label_2_p<thr_w,0,img_label_2_p)\n",
        "#     img_label_4_p = np.where(img_label_4>=thr_t,1,img_label_4)\n",
        "#     img_label_4_p = np.where(img_label_4_p<thr_t,0,img_label_4_p)\n",
        "#     img_label_6_p = np.where(img_label_6>=0.8,1,img_label_6)\n",
        "#     img_label_6_p = np.where(img_label_6_p<0.8,0,img_label_6_p)\n",
        "    \n",
        "#     img_label_2 = img_label_2_p\n",
        "#     img_label_4 = img_label_4_p\n",
        "#     img_label_6 = img_label_6_p\n",
        "\n",
        "#     img_label_1=y_test[nr][:,:,x,2]\n",
        "#     img_label_3=y_test[nr][:,:,x,1]\n",
        "#     img_label_5=y_test[nr][:,:,x,0]\n",
        "    \n",
        "#     rotated_img_lb_0 = ndimage.rotate(img_label_0, 270)\n",
        "#     rotated_img_lb_1 = ndimage.rotate(img_label_1, 270)\n",
        "#     rotated_img_lb_2 = ndimage.rotate(img_label_2, 270)\n",
        "#     rotated_img_lb_3 = ndimage.rotate(img_label_3, 270)\n",
        "#     rotated_img_lb_4 = ndimage.rotate(img_label_4, 270)\n",
        "#     rotated_img_lb_5 = ndimage.rotate(img_label_5, 270)\n",
        "#     rotated_img_lb_6 = ndimage.rotate(img_label_6, 270)\n",
        "    \n",
        "# #     prediction = predicted_labels_pacurar[nr]\n",
        "    \n",
        "#     dice_p, dice_t, dice_b = slice_calculate_dice(predicted_labels_pacurar[nr], y_test[nr], x, thr_w, thr_t, thr_b)\n",
        "#     dice_p = round(tf.keras.backend.get_value(dice_p),3)\n",
        "#     dice_t = round(tf.keras.backend.get_value(dice_t),3)\n",
        "    \n",
        "#     ax[0].imshow(rotated_img_lb_0,cmap='gray')\n",
        "#     ax[0].axis('off')\n",
        "#     ax[1].set_title(\"    DSC for wall: \"+str(dice_p))\n",
        "#     ax[1].imshow(rotated_img_lb_1,cmap='gray')\n",
        "#     ax[1].axis('off')\n",
        "# #     ax[0][1].set_title(\"Dice value for wall: \"+str(dice_p))\n",
        "#     ax[2].imshow(rotated_img_lb_2,cmap='gray')\n",
        "#     ax[2].axis('off')\n",
        "#     ax[3].set_title(\"       DSC for tumor: \"+str(dice_t))\n",
        "#     ax[3].imshow(rotated_img_lb_3,cmap='gray')\n",
        "#     ax[3].axis('off')\n",
        "#     ax[4].imshow(rotated_img_lb_4,cmap='gray')\n",
        "#     ax[4].axis('off')\n",
        "#     ax[5].set_title(\"       DSC for bg: \"+str(dice_b))\n",
        "#     ax[5].imshow(rotated_img_lb_5,cmap='gray')\n",
        "#     ax[5].axis('off')\n",
        "#     ax[6].imshow(rotated_img_lb_6,cmap='gray')\n",
        "#     ax[6].axis('off')\n",
        "#     plt.tight_layout()\n",
        "#     plt.show()"
      ]
    },
    {
      "cell_type": "code",
      "execution_count": null,
      "metadata": {
        "execution": {
          "iopub.execute_input": "2022-05-14T22:29:50.322884Z",
          "iopub.status.busy": "2022-05-14T22:29:50.322024Z",
          "iopub.status.idle": "2022-05-14T22:29:50.324836Z",
          "shell.execute_reply": "2022-05-14T22:29:50.324289Z",
          "shell.execute_reply.started": "2022-05-13T20:42:41.322923Z"
        },
        "papermill": {
          "duration": 1.217741,
          "end_time": "2022-05-14T22:29:50.324954",
          "exception": false,
          "start_time": "2022-05-14T22:29:49.107213",
          "status": "completed"
        },
        "tags": [],
        "id": "S5-G6Db2NS4d"
      },
      "outputs": [],
      "source": [
        "def predicted_categorical_truth(fname, thr_w=0.1,thr_t=0.1,thr_b=0.9):\n",
        "    fig, ax = plt.subplots(5,7, figsize=[8, 8])\n",
        "    \n",
        "#     x = choose_slice(y_test[nr])\n",
        "    for i in range(5):\n",
        "        x = choose_slice_best(predicted_labels_pacurar[i], y_test[i])\n",
        "        img_label_0 = patients[i][:,:,x]\n",
        "        img_label_1=y_test[i][:,:,x,2]\n",
        "        img_label_3=y_test[i][:,:,x,1]\n",
        "        img_label_5=y_test[i][:,:,x,0]\n",
        "\n",
        "        img_label_2 = np.copy(predicted_labels_pacurar[i][:,:,x,2])\n",
        "        img_label_4 = np.copy(predicted_labels_pacurar[i][:,:,x,1])\n",
        "        img_label_6 = np.copy(predicted_labels_pacurar[i][:,:,x,0])\n",
        "\n",
        "\n",
        "        dice_b, thr_b = automate_thrs(predicted_labels_pacurar[i],y_test[i],x,0)\n",
        "        dice_p, thr_w = automate_thrs(predicted_labels_pacurar[i],y_test[i],x,2)\n",
        "        dice_t, thr_t = automate_thrs(predicted_labels_pacurar[i],y_test[i],x,1)\n",
        "\n",
        "        img_label_2_p = np.where(img_label_2>=thr_w,1,img_label_2)\n",
        "        img_label_2_p = np.where(img_label_2_p<thr_w,0,img_label_2_p)\n",
        "        img_label_4_p = np.where(img_label_4>=thr_t,1,img_label_4)\n",
        "        img_label_4_p = np.where(img_label_4_p<thr_t,0,img_label_4_p)\n",
        "        img_label_6_p = np.where(img_label_6>=thr_b,1,img_label_6)\n",
        "        img_label_6_p = np.where(img_label_6_p<thr_b,0,img_label_6_p)\n",
        "\n",
        "        img_label_2 = img_label_2_p\n",
        "        img_label_4 = img_label_4_p\n",
        "        img_label_6 = img_label_6_p\n",
        "\n",
        "\n",
        "        rotated_img_lb_0 = ndimage.rotate(img_label_0, 270)\n",
        "        rotated_img_lb_1 = ndimage.rotate(img_label_1, 270)\n",
        "        rotated_img_lb_2 = ndimage.rotate(img_label_2, 270)\n",
        "        rotated_img_lb_3 = ndimage.rotate(img_label_3, 270)\n",
        "        rotated_img_lb_4 = ndimage.rotate(img_label_4, 270)\n",
        "        rotated_img_lb_5 = ndimage.rotate(img_label_5, 270)\n",
        "        rotated_img_lb_6 = ndimage.rotate(img_label_6, 270)\n",
        "\n",
        "\n",
        "        dice_b = round(tf.keras.backend.get_value(dice_b),3)\n",
        "        dice_p = round(tf.keras.backend.get_value(dice_p),3)\n",
        "        dice_t = round(tf.keras.backend.get_value(dice_t),3)\n",
        "\n",
        "        ax[i][0].imshow(rotated_img_lb_0,cmap='gray')\n",
        "        ax[i][0].axis('off')\n",
        "        ax[i][1].set_title(\"    DSC for wall: \"+str(dice_p))\n",
        "        ax[i][1].imshow(rotated_img_lb_1,cmap='gray')\n",
        "        ax[i][1].axis('off')\n",
        "    #     ax[0][1].set_title(\"Dice value for wall: \"+str(dice_p))\n",
        "        ax[i][2].imshow(rotated_img_lb_2,cmap='gray')\n",
        "        ax[i][2].axis('off')\n",
        "        ax[i][3].set_title(\"       DSC for tumor: \"+str(dice_t))\n",
        "        ax[i][3].imshow(rotated_img_lb_3,cmap='gray')\n",
        "        ax[i][3].axis('off')\n",
        "        ax[i][4].imshow(rotated_img_lb_4,cmap='gray')\n",
        "        ax[i][4].axis('off')\n",
        "        ax[i][5].set_title(\"       DSC for bg: \"+str(dice_b))\n",
        "        ax[i][5].imshow(rotated_img_lb_5,cmap='gray')\n",
        "        ax[i][5].axis('off')\n",
        "        ax[i][6].imshow(rotated_img_lb_6,cmap='gray')\n",
        "        ax[i][6].axis('off')\n",
        "    plt.tight_layout()\n",
        "    plt.show()\n",
        "    plt.savefig(fname)\n"
      ]
    },
    {
      "cell_type": "code",
      "execution_count": null,
      "metadata": {
        "execution": {
          "iopub.execute_input": "2022-05-14T22:29:52.824113Z",
          "iopub.status.busy": "2022-05-14T22:29:52.823328Z",
          "iopub.status.idle": "2022-05-14T22:29:52.826101Z",
          "shell.execute_reply": "2022-05-14T22:29:52.825668Z",
          "shell.execute_reply.started": "2022-05-13T20:42:41.599186Z"
        },
        "papermill": {
          "duration": 1.273186,
          "end_time": "2022-05-14T22:29:52.826216",
          "exception": false,
          "start_time": "2022-05-14T22:29:51.553030",
          "status": "completed"
        },
        "tags": [],
        "id": "T31tYJnvNS4e"
      },
      "outputs": [],
      "source": [
        "def slice_calculate_dice(vol_pred, vol_true, x, thr_w, thr_t, thr_b):\n",
        "    prediction = np.copy(vol_pred)\n",
        "    prediction[:,:,x,2] = np.where(prediction[:,:,x,2]>=thr_w,1,prediction[:,:,x,2])\n",
        "    prediction[:,:,x,2] = np.where(prediction[:,:,x,2]<thr_w,0,prediction[:,:,x,2])\n",
        "    prediction[:,:,x,1] = np.where(prediction[:,:,x,1]>=thr_t,1,prediction[:,:,x,1])\n",
        "    prediction[:,:,x,1] = np.where(prediction[:,:,x,1]<thr_t,0,prediction[:,:,x,1])\n",
        "    prediction[:,:,x,0] = np.where(prediction[:,:,x,0]>=thr_b,1,prediction[:,:,x,0])\n",
        "    prediction[:,:,x,0] = np.where(prediction[:,:,x,0]<thr_b,0,prediction[:,:,x,0])\n",
        "\n",
        "    dice_b = calculate_dice(vol_true[:,:,x,0], prediction[:,:,x,0])\n",
        "    dice_t = calculate_dice(vol_true[:,:,x,1], prediction[:,:,x,1])\n",
        "    dice_p = calculate_dice(vol_true[:,:,x,2], prediction[:,:,x,2])\n",
        "    return dice_p, dice_t, dice_b\n"
      ]
    },
    {
      "cell_type": "code",
      "execution_count": null,
      "metadata": {
        "execution": {
          "iopub.execute_input": "2022-05-14T22:29:55.220085Z",
          "iopub.status.busy": "2022-05-14T22:29:55.215802Z",
          "iopub.status.idle": "2022-05-14T22:29:55.223228Z",
          "shell.execute_reply": "2022-05-14T22:29:55.222746Z",
          "shell.execute_reply.started": "2022-05-13T20:42:41.771218Z"
        },
        "papermill": {
          "duration": 1.222592,
          "end_time": "2022-05-14T22:29:55.223358",
          "exception": false,
          "start_time": "2022-05-14T22:29:54.000766",
          "status": "completed"
        },
        "tags": [],
        "id": "VAw1ITLYNS4g"
      },
      "outputs": [],
      "source": [
        "def slice_calculate_dice_updated(vol_pred, vol_true, x, thr_w, thr_t, thr_b):\n",
        "    prediction = np.copy(vol_pred)\n",
        "    prediction[:,:,x,2] = np.where(prediction[:,:,x,2]>=prediction[:,:,x,1] and prediction[:,:,x,2]>=prediction[:,:,x,0],1,prediction[:,:,x,2])\n",
        "    prediction[:,:,x,2] = np.where(prediction[:,:,x,2]!=1,0,prediction[:,:,x,2])\n",
        "    prediction[:,:,x,1] = np.where(prediction[:,:,x,1]>=prediction[:,:,x,2] and prediction[:,:,x,1]>=prediction[:,:,x,0],1,prediction[:,:,x,1])\n",
        "    prediction[:,:,x,1] = np.where(prediction[:,:,x,1]!=1,0,prediction[:,:,x,1])\n",
        "    prediction[:,:,x,0] = np.where(prediction[:,:,x,0]>=prediction[:,:,x,2] and prediction[:,:,x,0]>=prediction[:,:,x,1],1,prediction[:,:,x,0])\n",
        "    prediction[:,:,x,0] = np.where(prediction[:,:,x,0]!=1,0,prediction[:,:,x,0])\n",
        "\n",
        "    dice_b = calculate_dice(vol_true[:,:,x,0], prediction[:,:,x,0])\n",
        "    dice_t = calculate_dice(vol_true[:,:,x,1], prediction[:,:,x,1])\n",
        "    dice_p = calculate_dice(vol_true[:,:,x,2], prediction[:,:,x,2])\n",
        "    return dice_p, dice_t, dice_b\n"
      ]
    },
    {
      "cell_type": "code",
      "execution_count": null,
      "metadata": {
        "execution": {
          "iopub.execute_input": "2022-05-14T22:29:57.920307Z",
          "iopub.status.busy": "2022-05-14T22:29:57.919494Z",
          "iopub.status.idle": "2022-05-14T22:29:57.922349Z",
          "shell.execute_reply": "2022-05-14T22:29:57.921949Z",
          "shell.execute_reply.started": "2022-05-13T20:42:42.047062Z"
        },
        "papermill": {
          "duration": 1.494206,
          "end_time": "2022-05-14T22:29:57.922477",
          "exception": false,
          "start_time": "2022-05-14T22:29:56.428271",
          "status": "completed"
        },
        "tags": [],
        "id": "okq-R-jeNS4h"
      },
      "outputs": [],
      "source": [
        "# dependencies = {\n",
        "#     'dice_coefficient' : dice_coefficient,\n",
        "#     'auc' : auc,\n",
        "#     'confusion' : confusion,\n",
        "#     'weighted_categorical_crossentropy': weighted_categorical_crossentropy\n",
        "# }\n",
        "\n",
        "# # # import tensorflow as tf\n",
        "# # # mdel=tf.keras.models.load_model(\"../input/modele-antrenate/model_antrenat.h5\",custom_objects=dependencies)\n",
        "\n",
        "# import tensorflow as tf\n",
        "# model_dc_unet = tf.keras.models.load_model(\"../input/150-epochs-bladder/model_sigmoid_nuclei.h5\", custom_objects=dependencies)"
      ]
    },
    {
      "cell_type": "code",
      "execution_count": null,
      "metadata": {
        "execution": {
          "iopub.execute_input": "2022-05-14T22:30:00.304058Z",
          "iopub.status.busy": "2022-05-14T22:30:00.303280Z",
          "iopub.status.idle": "2022-05-14T22:30:00.306240Z",
          "shell.execute_reply": "2022-05-14T22:30:00.305819Z",
          "shell.execute_reply.started": "2022-05-13T20:42:52.622809Z"
        },
        "papermill": {
          "duration": 1.195085,
          "end_time": "2022-05-14T22:30:00.306362",
          "exception": false,
          "start_time": "2022-05-14T22:29:59.111277",
          "status": "completed"
        },
        "tags": [],
        "id": "Os653_NuNS4i"
      },
      "outputs": [],
      "source": [
        "patients = x_test\n",
        "labels = y_test"
      ]
    },
    {
      "cell_type": "code",
      "execution_count": null,
      "metadata": {
        "execution": {
          "iopub.execute_input": "2022-05-14T22:30:02.692023Z",
          "iopub.status.busy": "2022-05-14T22:30:02.691048Z",
          "iopub.status.idle": "2022-05-14T22:30:04.500039Z",
          "shell.execute_reply": "2022-05-14T22:30:04.499028Z",
          "shell.execute_reply.started": "2022-05-13T20:42:53.11291Z"
        },
        "papermill": {
          "duration": 3.01046,
          "end_time": "2022-05-14T22:30:04.500183",
          "exception": false,
          "start_time": "2022-05-14T22:30:01.489723",
          "status": "completed"
        },
        "tags": [],
        "id": "N9olhYt1NS4j"
      },
      "outputs": [],
      "source": [
        "predict_pacurar = model.predict(patients)\n",
        "predicted_labels_pacurar = np.copy(predict_pacurar)"
      ]
    },
    {
      "cell_type": "code",
      "execution_count": null,
      "metadata": {
        "execution": {
          "iopub.execute_input": "2022-05-14T22:30:07.003166Z",
          "iopub.status.busy": "2022-05-14T22:30:07.002335Z",
          "iopub.status.idle": "2022-05-14T22:30:49.340406Z",
          "shell.execute_reply": "2022-05-14T22:30:49.339959Z",
          "shell.execute_reply.started": "2022-05-13T20:42:56.500633Z"
        },
        "papermill": {
          "duration": 43.626834,
          "end_time": "2022-05-14T22:30:49.340528",
          "exception": false,
          "start_time": "2022-05-14T22:30:05.713694",
          "status": "completed"
        },
        "tags": [],
        "id": "XT_1VBR-NS4j",
        "outputId": "9f0e636a-476e-48ff-b8af-8429ecd38649"
      },
      "outputs": [
        {
          "data": {
            "image/png": "[encoded data removed]",
            "text/plain": [
              "<Figure size 576x576 with 35 Axes>"
            ]
          },
          "metadata": {
            "needs_background": "light"
          },
          "output_type": "display_data"
        },
        {
          "data": {
            "text/plain": [
              "<Figure size 432x288 with 0 Axes>"
            ]
          },
          "metadata": {},
          "output_type": "display_data"
        }
      ],
      "source": [
        "predicted_categorical_truth(\"DC-Unet_50epochs.jpg\")"
      ]
    },
    {
      "cell_type": "code",
      "execution_count": null,
      "metadata": {
        "execution": {
          "iopub.execute_input": "2022-05-14T22:30:52.461567Z",
          "iopub.status.busy": "2022-05-14T22:30:52.460739Z",
          "iopub.status.idle": "2022-05-14T22:30:52.468243Z",
          "shell.execute_reply": "2022-05-14T22:30:52.469104Z",
          "shell.execute_reply.started": "2022-05-10T18:50:07.849714Z"
        },
        "papermill": {
          "duration": 1.335701,
          "end_time": "2022-05-14T22:30:52.469294",
          "exception": false,
          "start_time": "2022-05-14T22:30:51.133593",
          "status": "completed"
        },
        "tags": [],
        "id": "1ECpakceNS4k"
      },
      "outputs": [],
      "source": [
        "def volume_calculate_dice(vol_pred,vol_true, thr_w=0.1, thr_t=0.1, thr_b=0.8):\n",
        "    dice_p = 0\n",
        "    dice_t = 0\n",
        "    dice_b = 0\n",
        "    for z in range(vol_pred.shape[2]):\n",
        "        patient = np.copy(vol_pred)\n",
        "        dice_b_z, thr_b = automate_thrs(patient,vol_true,z,0)\n",
        "        dice_p_z, thr_w = automate_thrs(patient,vol_true,z,2)\n",
        "        dice_t_z, thr_t = automate_thrs(patient,vol_true,z,1)\n",
        "\n",
        "        dice_p += dice_p_z\n",
        "        dice_t += dice_t_z\n",
        "        dice_b += dice_b_z\n",
        "    return dice_p/vol_pred.shape[2], dice_t/vol_pred.shape[2], dice_b/vol_pred.shape[2]\n",
        "\n",
        "def total_dice(list_vol_pred,list_vol_true,thr_w=0.1, thr_t=0.1, thr_b=0.8):\n",
        "    d_p = 0\n",
        "    d_t = 0\n",
        "    d_b = 0\n",
        "    for i in range(len(list_vol_pred)):\n",
        "        d_p_i,d_t_i,d_b_i = volume_calculate_dice(list_vol_pred[i],list_vol_true[i], thr_w, thr_t, thr_b)\n",
        "        d_p += d_p_i\n",
        "        d_t += d_t_i\n",
        "        d_b += d_b_i\n",
        "    return d_p/len(list_vol_pred),d_t/len(list_vol_pred),d_b/len(list_vol_pred)"
      ]
    },
    {
      "cell_type": "code",
      "execution_count": null,
      "metadata": {
        "execution": {
          "iopub.execute_input": "2022-05-14T22:30:54.901021Z",
          "iopub.status.busy": "2022-05-14T22:30:54.900103Z",
          "iopub.status.idle": "2022-05-14T22:32:43.979508Z",
          "shell.execute_reply": "2022-05-14T22:32:43.980228Z",
          "shell.execute_reply.started": "2022-05-10T18:50:08.589813Z"
        },
        "papermill": {
          "duration": 110.249497,
          "end_time": "2022-05-14T22:32:43.980472",
          "exception": false,
          "start_time": "2022-05-14T22:30:53.730975",
          "status": "completed"
        },
        "tags": [],
        "id": "V0FWLI_3NS4l",
        "outputId": "ddcd5237-ae35-457b-e381-632be6aa4be8"
      },
      "outputs": [
        {
          "name": "stdout",
          "output_type": "stream",
          "text": [
            "epochs 40: wall: 0.7681249989385833 tumor: 0.9210500000976026 bg: 0.9945875000208616\n"
          ]
        }
      ],
      "source": [
        "d_p, d_t, d_b = total_dice(predicted_labels_pacurar,y_test,0.1,0.1)\n",
        "print(\"epochs 40: wall: \"+ str(d_p)+\" tumor: \"+str(d_t)+ \" bg: \"+ str(d_b))"
      ]
    },
    {
      "cell_type": "code",
      "execution_count": null,
      "metadata": {
        "execution": {
          "iopub.execute_input": "2022-05-14T22:32:46.341513Z",
          "iopub.status.busy": "2022-05-14T22:32:46.340089Z",
          "iopub.status.idle": "2022-05-14T22:32:46.343703Z",
          "shell.execute_reply": "2022-05-14T22:32:46.342068Z",
          "shell.execute_reply.started": "2022-05-10T18:51:57.442522Z"
        },
        "papermill": {
          "duration": 1.18586,
          "end_time": "2022-05-14T22:32:46.343826",
          "exception": false,
          "start_time": "2022-05-14T22:32:45.157966",
          "status": "completed"
        },
        "tags": [],
        "id": "irESyikANS4m",
        "outputId": "9f36ab97-24f0-4f1e-e3da-1d86a34126f2"
      },
      "outputs": [
        {
          "name": "stdout",
          "output_type": "stream",
          "text": [
            "medie: 0.8945874996856825\n"
          ]
        }
      ],
      "source": [
        "print(\"medie: \" + str((d_p + d_t + d_b)/3))"
      ]
    },
    {
      "cell_type": "code",
      "execution_count": null,
      "metadata": {
        "execution": {
          "iopub.execute_input": "2022-05-14T22:32:48.761153Z",
          "iopub.status.busy": "2022-05-14T22:32:48.760595Z",
          "iopub.status.idle": "2022-05-14T22:32:54.206573Z",
          "shell.execute_reply": "2022-05-14T22:32:54.205501Z",
          "shell.execute_reply.started": "2022-05-10T18:51:57.44955Z"
        },
        "papermill": {
          "duration": 6.638653,
          "end_time": "2022-05-14T22:32:54.206772",
          "exception": false,
          "start_time": "2022-05-14T22:32:47.568119",
          "status": "completed"
        },
        "tags": [],
        "id": "dxVsH8LCNS4n"
      },
      "outputs": [],
      "source": [
        "dependencies = {\n",
        "    'dice_coefficient' : dice_coefficient,\n",
        "    'auc' : auc,\n",
        "    'confusion' : confusion,\n",
        "    'weighted_categorical_crossentropy': weighted_categorical_crossentropy\n",
        "}\n",
        "\n",
        "# # import tensorflow as tf\n",
        "# # mdel=tf.keras.models.load_model(\"../input/modele-antrenate/model_antrenat.h5\",custom_objects=dependencies)\n",
        "\n",
        "import tensorflow as tf\n",
        "model_dc_unet_3d=tf.keras.models.load_model(\"../input/40-epochs/model_sigmoid_nuclei.h5\", custom_objects=dependencies)"
      ]
    },
    {
      "cell_type": "code",
      "execution_count": null,
      "metadata": {
        "execution": {
          "iopub.execute_input": "2022-05-14T22:32:56.829276Z",
          "iopub.status.busy": "2022-05-14T22:32:56.828271Z",
          "iopub.status.idle": "2022-05-14T22:32:57.512681Z",
          "shell.execute_reply": "2022-05-14T22:32:57.512037Z",
          "shell.execute_reply.started": "2022-05-10T18:52:02.851634Z"
        },
        "papermill": {
          "duration": 1.89666,
          "end_time": "2022-05-14T22:32:57.512835",
          "exception": false,
          "start_time": "2022-05-14T22:32:55.616175",
          "status": "completed"
        },
        "tags": [],
        "id": "-VA-v1zXNS4o"
      },
      "outputs": [],
      "source": [
        "predict_pacurar = model_dc_unet_3d.predict(patients)\n",
        "predicted_labels_pacurar = np.copy(predict_pacurar)"
      ]
    },
    {
      "cell_type": "code",
      "execution_count": null,
      "metadata": {
        "execution": {
          "iopub.execute_input": "2022-05-14T22:33:00.269597Z",
          "iopub.status.busy": "2022-05-14T22:33:00.268752Z",
          "iopub.status.idle": "2022-05-14T22:33:43.713526Z",
          "shell.execute_reply": "2022-05-14T22:33:43.713087Z",
          "shell.execute_reply.started": "2022-05-10T18:52:05.722753Z"
        },
        "papermill": {
          "duration": 44.964442,
          "end_time": "2022-05-14T22:33:43.713663",
          "exception": false,
          "start_time": "2022-05-14T22:32:58.749221",
          "status": "completed"
        },
        "tags": [],
        "id": "xbbuQ-QCNS4p",
        "outputId": "75cf2a43-4c35-49b8-f28b-8f6cdb02f6dd"
      },
      "outputs": [
        {
          "data": {
            "image/png": "[encoded data removed]",
            "text/plain": [
              "<Figure size 576x576 with 35 Axes>"
            ]
          },
          "metadata": {
            "needs_background": "light"
          },
          "output_type": "display_data"
        },
        {
          "data": {
            "text/plain": [
              "<Figure size 432x288 with 0 Axes>"
            ]
          },
          "metadata": {},
          "output_type": "display_data"
        }
      ],
      "source": [
        "predicted_categorical_truth(\"DC-UNet-40epochs.jpg\")"
      ]
    },
    {
      "cell_type": "code",
      "execution_count": null,
      "metadata": {
        "execution": {
          "iopub.execute_input": "2022-05-14T22:33:46.182038Z",
          "iopub.status.busy": "2022-05-14T22:33:46.181013Z",
          "iopub.status.idle": "2022-05-14T22:35:35.101999Z",
          "shell.execute_reply": "2022-05-14T22:35:35.102660Z",
          "shell.execute_reply.started": "2022-05-10T18:52:47.043375Z"
        },
        "papermill": {
          "duration": 110.118339,
          "end_time": "2022-05-14T22:35:35.102866",
          "exception": false,
          "start_time": "2022-05-14T22:33:44.984527",
          "status": "completed"
        },
        "tags": [],
        "id": "a_aGItHENS4q",
        "outputId": "baf5faf0-8de1-42a8-88a1-974a82f73669"
      },
      "outputs": [
        {
          "name": "stdout",
          "output_type": "stream",
          "text": [
            "epochs 40: wall: 0.8276937498740153 tumor: 0.8139500002434943 bg: 0.993775000050664\n"
          ]
        }
      ],
      "source": [
        "d_p, d_t, d_b = total_dice(predicted_labels_pacurar,y_test,0.1,0.1)\n",
        "print(\"epochs 40: wall: \"+ str(d_p)+\" tumor: \"+str(d_t)+ \" bg: \"+ str(d_b))"
      ]
    },
    {
      "cell_type": "code",
      "execution_count": null,
      "metadata": {
        "execution": {
          "iopub.execute_input": "2022-05-14T22:35:37.561113Z",
          "iopub.status.busy": "2022-05-14T22:35:37.560233Z",
          "iopub.status.idle": "2022-05-14T22:35:37.563181Z",
          "shell.execute_reply": "2022-05-14T22:35:37.563772Z",
          "shell.execute_reply.started": "2022-05-10T18:54:36.145435Z"
        },
        "papermill": {
          "duration": 1.244755,
          "end_time": "2022-05-14T22:35:37.563963",
          "exception": false,
          "start_time": "2022-05-14T22:35:36.319208",
          "status": "completed"
        },
        "tags": [],
        "id": "dZ3x4-nGNS4q",
        "outputId": "c4298670-4ddf-467c-eb31-dcf77129769c"
      },
      "outputs": [
        {
          "name": "stdout",
          "output_type": "stream",
          "text": [
            "medie: 0.8784729167227244\n"
          ]
        }
      ],
      "source": [
        "print(\"medie: \" + str((d_p+d_t+d_b)/3))"
      ]
    }
  ],
  "metadata": {
    "kernelspec": {
      "display_name": "Python 3",
      "language": "python",
      "name": "python3"
    },
    "language_info": {
      "codemirror_mode": {
        "name": "ipython",
        "version": 3
      },
      "file_extension": ".py",
      "mimetype": "text/x-python",
      "name": "python",
      "nbconvert_exporter": "python",
      "pygments_lexer": "ipython3",
      "version": "3.7.9"
    },
    "papermill": {
      "default_parameters": {},
      "duration": 14125.546694,
      "end_time": "2022-05-14T22:35:40.949122",
      "environment_variables": {},
      "exception": null,
      "input_path": "__notebook__.ipynb",
      "output_path": "__notebook__.ipynb",
      "parameters": {},
      "start_time": "2022-05-14T18:40:15.402428",
      "version": "2.2.2"
    },
    "colab": {
      "name": "Running-DC-on-bladder.ipynb",
      "provenance": []
    }
  },
  "nbformat": 4,
  "nbformat_minor": 0
}