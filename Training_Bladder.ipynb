{
  "cells": [
    {
      "cell_type": "code",
      "execution_count": null,
      "metadata": {
        "execution": {
          "iopub.execute_input": "2022-05-18T21:37:36.774838Z",
          "iopub.status.busy": "2022-05-18T21:37:36.774148Z",
          "iopub.status.idle": "2022-05-18T21:37:42.343174Z",
          "shell.execute_reply": "2022-05-18T21:37:42.342454Z",
          "shell.execute_reply.started": "2022-05-10T21:13:26.677081Z"
        },
        "id": "OL2rjQ-PAVGm",
        "papermill": {
          "duration": 5.63507,
          "end_time": "2022-05-18T21:37:42.343409",
          "exception": false,
          "start_time": "2022-05-18T21:37:36.708339",
          "status": "completed"
        },
        "tags": [],
        "outputId": "3deb0154-a3fc-48d2-b67b-7f07f152a57b"
      },
      "outputs": [
        {
          "name": "stdout",
          "output_type": "stream",
          "text": [
            "2.4.1\n",
            "2.4.3\n"
          ]
        }
      ],
      "source": [
        "# Licenta\n",
        "# This is a work in progress that tries to segment bladder cancer\n",
        "import tensorflow as tf\n",
        "import keras\n",
        "print(tf.__version__)\n",
        "print(keras.__version__)"
      ]
    },
    {
      "cell_type": "code",
      "execution_count": null,
      "metadata": {
        "execution": {
          "iopub.execute_input": "2022-05-18T21:37:42.472062Z",
          "iopub.status.busy": "2022-05-18T21:37:42.471497Z",
          "iopub.status.idle": "2022-05-18T21:37:42.522990Z",
          "shell.execute_reply": "2022-05-18T21:37:42.522085Z",
          "shell.execute_reply.started": "2022-05-10T21:13:28.546284Z"
        },
        "papermill": {
          "duration": 0.115334,
          "end_time": "2022-05-18T21:37:42.523121",
          "exception": false,
          "start_time": "2022-05-18T21:37:42.407787",
          "status": "completed"
        },
        "tags": [],
        "id": "nGzyvghdMjuR",
        "outputId": "94f020cc-5a0c-46cc-ed92-679a6272d8d7"
      },
      "outputs": [
        {
          "name": "stdout",
          "output_type": "stream",
          "text": [
            "../input/datefinale/x_second_batch.npz\n",
            "../input/datefinale/y_valid_first_batch.npz\n",
            "../input/datefinale/x_valid_first_batch.npz\n",
            "../input/datefinale/y_valid_second_batch.npz\n",
            "../input/datefinale/x_valid_second_batch.npz\n",
            "../input/datefinale/x_first_batch.npz\n",
            "../input/datefinale/y_test.npz\n",
            "../input/datefinale/y_second_batch.npz\n",
            "../input/datefinale/x_test.npz\n",
            "../input/datefinale/y_first_batch.npz\n",
            "../input/datefinale/__results___files/__results___11_0.png\n",
            "../input/datefinale/__results___files/__results___60_0.png\n",
            "../input/datefinale/__results___files/__results___10_0.png\n",
            "../input/datefinale/__results___files/__results___31_0.png\n",
            "../input/datefinale/__results___files/__results___40_1.png\n",
            "../input/datefinale/__results___files/__results___12_0.png\n",
            "../input/datefinale/__results___files/__results___30_0.png\n",
            "../input/datefinale/__results___files/__results___62_0.png\n",
            "../input/datefinale/__results___files/__results___29_0.png\n",
            "../input/date5perpacient/x_second_batch.npz\n",
            "../input/date5perpacient/y_valid_first_batch.npz\n",
            "../input/date5perpacient/x_valid_first_batch.npz\n",
            "../input/date5perpacient/y_valid_second_batch.npz\n",
            "../input/date5perpacient/x_valid_second_batch.npz\n",
            "../input/date5perpacient/x_first_batch.npz\n",
            "../input/date5perpacient/y_test.npz\n",
            "../input/date5perpacient/y_second_batch.npz\n",
            "../input/date5perpacient/x_test.npz\n",
            "../input/date5perpacient/y_first_batch.npz\n",
            "../input/date5perpacient/__results___files/__results___41_1.png\n",
            "../input/date5perpacient/__results___files/__results___11_0.png\n",
            "../input/date5perpacient/__results___files/__results___61_0.png\n",
            "../input/date5perpacient/__results___files/__results___10_0.png\n",
            "../input/date5perpacient/__results___files/__results___31_0.png\n",
            "../input/date5perpacient/__results___files/__results___63_0.png\n",
            "../input/date5perpacient/__results___files/__results___12_0.png\n",
            "../input/date5perpacient/__results___files/__results___30_0.png\n",
            "../input/date5perpacient/__results___files/__results___32_0.png\n",
            "../input/model-antrenate-vezica/model_4lvl_WCE_40epchs_scenariu2_batch2_nrdate77.h5\n",
            "../input/movel-lvl5/U-Net_nuclei.h5\n",
            "../input/movel-lvl5/__results___files/__results___100_0.png\n",
            "../input/movel-lvl5/__results___files/__results___20_0.png\n",
            "../input/movel-lvl5/__results___files/__results___31_1.png\n",
            "../input/movel-lvl5/__results___files/__results___100_3.png\n",
            "../input/movel-lvl5/__results___files/__results___19_0.png\n",
            "../input/movel-lvl5/__results___files/__results___21_0.png\n",
            "../input/movel-lvl5/__results___files/__results___100_2.png\n",
            "../input/movel-lvl5/__results___files/__results___100_1.png\n",
            "../input/movel-lvl5/__results___files/__results___100_4.png\n",
            "../input/movel-lvl5/logs/validation/events.out.tfevents.1652004728.eb0a37203f00.39.178397.v2\n",
            "../input/movel-lvl5/logs/train/events.out.tfevents.1652004675.eb0a37203f00.39.5246.v2\n",
            "../input/movel-lvl5/logs/train/events.out.tfevents.1652004685.eb0a37203f00.profile-empty\n",
            "../input/movel-lvl5/logs/train/plugins/profile/2022_05_08_10_11_25/eb0a37203f00.overview_page.pb\n",
            "../input/movel-lvl5/logs/train/plugins/profile/2022_05_08_10_11_25/eb0a37203f00.trace.json\n",
            "../input/movel-lvl5/logs/train/plugins/profile/2022_05_08_10_11_25/eb0a37203f00.kernel_stats.pb\n",
            "../input/movel-lvl5/logs/train/plugins/profile/2022_05_08_10_11_25/eb0a37203f00.tensorflow_stats.pb\n",
            "../input/movel-lvl5/logs/train/plugins/profile/2022_05_08_10_11_25/eb0a37203f00.xplane.pb\n",
            "../input/movel-lvl5/logs/train/plugins/profile/2022_05_08_10_11_25/eb0a37203f00.input_pipeline.pb\n",
            "../input/movel-lvl5/logs/train/plugins/profile/2022_05_08_10_11_25/eb0a37203f00.memory_profile.json\n"
          ]
        }
      ],
      "source": [
        "import os\n",
        "inputFolder = '../input/'\n",
        "for root, directories, filenames in os.walk(inputFolder):\n",
        "    for filename in filenames: print(os.path.join(root,filename))"
      ]
    },
    {
      "cell_type": "markdown",
      "metadata": {
        "papermill": {
          "duration": 0.061305,
          "end_time": "2022-05-18T21:37:42.644056",
          "exception": false,
          "start_time": "2022-05-18T21:37:42.582751",
          "status": "completed"
        },
        "tags": [],
        "id": "JpiuJemiMjuW"
      },
      "source": [
        "# Set up Tensorboard"
      ]
    },
    {
      "cell_type": "code",
      "execution_count": null,
      "metadata": {
        "execution": {
          "iopub.execute_input": "2022-05-18T21:37:42.771598Z",
          "iopub.status.busy": "2022-05-18T21:37:42.770743Z",
          "iopub.status.idle": "2022-05-18T21:37:42.773419Z",
          "shell.execute_reply": "2022-05-18T21:37:42.772991Z",
          "shell.execute_reply.started": "2021-12-16T10:54:13.911947Z"
        },
        "papermill": {
          "duration": 0.068812,
          "end_time": "2022-05-18T21:37:42.773530",
          "exception": false,
          "start_time": "2022-05-18T21:37:42.704718",
          "status": "completed"
        },
        "tags": [],
        "id": "ZsGpLW-XMjub"
      },
      "outputs": [],
      "source": [
        "# # Download Ngrok to tunnel the tensorboard port to an external port\n",
        "# !wget https://bin.equinox.io/c/4VmDzA7iaHb/ngrok-stable-linux-amd64.zip \n",
        "# !unzip ngrok-stable-linux-amd64.zip \n",
        "\n",
        "# # Run tensorboard as well as Ngrox (for tunneling as non-blocking processes)\n",
        "# import os\n",
        "# import multiprocessing\n",
        "\n",
        "\n",
        "# pool = multiprocessing.Pool(processes = 10)\n",
        "# results_of_processes = [pool.apply_async(os.system, args=(cmd, ), callback = None )\n",
        "#                         for cmd in [\n",
        "#                         f\"tensorboard --logdir ./logs/ --host 0.0.0.0 --port 6006 &\",\n",
        "#                         \"./ngrok http 6006 &\"\n",
        "#                         ]]"
      ]
    },
    {
      "cell_type": "code",
      "execution_count": null,
      "metadata": {
        "execution": {
          "iopub.execute_input": "2022-05-18T21:37:42.902187Z",
          "iopub.status.busy": "2022-05-18T21:37:42.901598Z",
          "iopub.status.idle": "2022-05-18T21:37:42.905461Z",
          "shell.execute_reply": "2022-05-18T21:37:42.904997Z",
          "shell.execute_reply.started": "2021-12-16T10:54:13.934033Z"
        },
        "papermill": {
          "duration": 0.069622,
          "end_time": "2022-05-18T21:37:42.905574",
          "exception": false,
          "start_time": "2022-05-18T21:37:42.835952",
          "status": "completed"
        },
        "tags": [],
        "id": "pLrrfjg1Mjud"
      },
      "outputs": [],
      "source": [
        "# ! curl -s http://localhost:4040/api/tunnels | python3 -c \\\n",
        "#     \"import sys, json; print(json.load(sys.stdin)['tunnels'][0]['public_url'])\""
      ]
    },
    {
      "cell_type": "markdown",
      "metadata": {
        "papermill": {
          "duration": 0.061277,
          "end_time": "2022-05-18T21:37:43.027156",
          "exception": false,
          "start_time": "2022-05-18T21:37:42.965879",
          "status": "completed"
        },
        "tags": [],
        "id": "RBkOA-DEMjuh"
      },
      "source": [
        "# Importing the libraries"
      ]
    },
    {
      "cell_type": "code",
      "execution_count": null,
      "metadata": {
        "execution": {
          "iopub.execute_input": "2022-05-18T21:37:43.157117Z",
          "iopub.status.busy": "2022-05-18T21:37:43.156478Z",
          "iopub.status.idle": "2022-05-18T21:37:50.515570Z",
          "shell.execute_reply": "2022-05-18T21:37:50.514823Z",
          "shell.execute_reply.started": "2022-05-10T21:13:31.038149Z"
        },
        "papermill": {
          "duration": 7.425417,
          "end_time": "2022-05-18T21:37:50.515714",
          "exception": false,
          "start_time": "2022-05-18T21:37:43.090297",
          "status": "completed"
        },
        "tags": [],
        "id": "LgrHILaoMjui",
        "outputId": "6b844349-328a-4a6b-f855-a77ce0b9b085"
      },
      "outputs": [
        {
          "name": "stdout",
          "output_type": "stream",
          "text": [
            "Collecting pynrrd\r\n",
            "  Downloading pynrrd-0.4.3-py2.py3-none-any.whl (18 kB)\r\n",
            "Requirement already satisfied: numpy>=1.11.1 in /opt/conda/lib/python3.7/site-packages (from pynrrd) (1.19.5)\r\n",
            "Installing collected packages: pynrrd\r\n",
            "Successfully installed pynrrd-0.4.3\r\n",
            "\u001b[33mWARNING: You are using pip version 21.0.1; however, version 22.1 is available.\r\n",
            "You should consider upgrading via the '/opt/conda/bin/python3.7 -m pip install --upgrade pip' command.\u001b[0m\r\n"
          ]
        }
      ],
      "source": [
        "!pip install pynrrd"
      ]
    },
    {
      "cell_type": "code",
      "execution_count": null,
      "metadata": {
        "execution": {
          "iopub.execute_input": "2022-05-18T21:37:50.657091Z",
          "iopub.status.busy": "2022-05-18T21:37:50.656190Z",
          "iopub.status.idle": "2022-05-18T21:37:51.488185Z",
          "shell.execute_reply": "2022-05-18T21:37:51.487643Z",
          "shell.execute_reply.started": "2022-05-10T21:13:38.076819Z"
        },
        "papermill": {
          "duration": 0.908703,
          "end_time": "2022-05-18T21:37:51.488331",
          "exception": false,
          "start_time": "2022-05-18T21:37:50.579628",
          "status": "completed"
        },
        "tags": [],
        "id": "EBNfT627Mjuk"
      },
      "outputs": [],
      "source": [
        "%matplotlib inline\n",
        "\n",
        "# Importing libraries needed for data processing\n",
        "\n",
        "import os\n",
        "import numpy as np\n",
        "import nrrd\n",
        "import tensorflow as tf\n",
        "from numpy import load\n",
        "# Adding a path\n",
        "\n",
        "from pathlib import Path\n",
        "\n",
        "\n",
        "# Necessary libraries for image alteration and animations\n",
        "\n",
        "from ipywidgets import interact, interactive, IntSlider, ToggleButtons\n",
        "from scipy import ndimage\n",
        "from skimage import measure\n",
        "import matplotlib.pyplot as plt\n",
        "import matplotlib.animation as animation\n",
        "\n",
        "\n",
        "\n",
        "\n",
        "# Keras\n",
        "\n",
        "import os\n",
        "import skimage.io as io\n",
        "import skimage.transform as trans\n",
        "# import tensorflow.contrib.keras as keras\n",
        "# from tensorflow.keras.models import Model\n"
      ]
    },
    {
      "cell_type": "code",
      "execution_count": null,
      "metadata": {
        "execution": {
          "iopub.execute_input": "2022-05-18T21:37:51.620639Z",
          "iopub.status.busy": "2022-05-18T21:37:51.619915Z",
          "iopub.status.idle": "2022-05-18T21:37:51.941908Z",
          "shell.execute_reply": "2022-05-18T21:37:51.941087Z",
          "shell.execute_reply.started": "2022-05-10T21:13:38.40379Z"
        },
        "papermill": {
          "duration": 0.38995,
          "end_time": "2022-05-18T21:37:51.942047",
          "exception": false,
          "start_time": "2022-05-18T21:37:51.552097",
          "status": "completed"
        },
        "tags": [],
        "id": "Ex4fggHDMjup"
      },
      "outputs": [],
      "source": [
        "\n",
        "from tensorflow.keras.models import *\n",
        "from keras.layers import *\n",
        "from keras.optimizers import *\n",
        "from keras.callbacks import ModelCheckpoint, LearningRateScheduler,EarlyStopping , ReduceLROnPlateau\n",
        "from keras import backend as keras\n",
        "from keras import utils\n",
        "from keras.utils import np_utils\n",
        "from functools import partial\n",
        "from keras import backend as K\n",
        "\n",
        "\n",
        "# Importing needed libraries for constructing 3DUnet\n",
        "from keras.layers import Input, LeakyReLU, Add, UpSampling3D, Activation, SpatialDropout3D, Conv3D,Conv3DTranspose,PReLU,Softmax,ReLU,Concatenate \n",
        "from keras.engine import Model\n",
        "from keras.optimizers import Adam\n",
        "from keras.layers.normalization import BatchNormalization\n",
        "from keras.layers.merge import concatenate\n",
        "from keras.losses import categorical_crossentropy,mse\n",
        "\n",
        "# K.set_image_data_format(\"channels_first\")\n",
        "K.set_image_data_format(\"channels_last\")\n",
        "\n",
        "# Time\n",
        "from tqdm.notebook import tqdm\n",
        "import time\n",
        "import datetime\n",
        "\n",
        "# Visualization\n",
        "import tensorboard\n",
        "\n",
        "# Post-processing\n",
        "from skimage.restoration import (denoise_tv_chambolle, denoise_bilateral,\n",
        "                                 denoise_wavelet, estimate_sigma)"
      ]
    },
    {
      "cell_type": "markdown",
      "metadata": {
        "papermill": {
          "duration": 0.061635,
          "end_time": "2022-05-18T21:37:52.065497",
          "exception": false,
          "start_time": "2022-05-18T21:37:52.003862",
          "status": "completed"
        },
        "tags": [],
        "id": "jiKunwB7Mjut"
      },
      "source": [
        "# Loading the data"
      ]
    },
    {
      "cell_type": "code",
      "execution_count": null,
      "metadata": {
        "execution": {
          "iopub.execute_input": "2022-05-18T21:37:52.194721Z",
          "iopub.status.busy": "2022-05-18T21:37:52.194191Z",
          "iopub.status.idle": "2022-05-18T21:37:52.395937Z",
          "shell.execute_reply": "2022-05-18T21:37:52.395002Z",
          "shell.execute_reply.started": "2022-05-10T21:13:38.617202Z"
        },
        "papermill": {
          "duration": 0.268727,
          "end_time": "2022-05-18T21:37:52.396099",
          "exception": false,
          "start_time": "2022-05-18T21:37:52.127372",
          "status": "completed"
        },
        "tags": [],
        "id": "wfhtM46oMjuv"
      },
      "outputs": [],
      "source": [
        "# Training data\n",
        "\n",
        "package = 'date5perpacient'\n",
        "# package = 'scenariu-2-final-final'\n",
        "x_interm_train = load('../input/'+ package +'/x_first_batch.npz')\n",
        "y_interm_train = load('../input/'+ package +'/y_first_batch.npz')\n",
        "\n",
        "# Validation data\n",
        "x_interm_valid = load('../input/'+ package +'/x_valid_first_batch.npz')\n",
        "y_interm_valid = load('../input/'+ package +'/y_valid_first_batch.npz')\n",
        "\n",
        "# Data from the second batch of patients\n",
        "x_second = load('../input/'+ package +'/x_second_batch.npz')\n",
        "y_second = load('../input/'+ package +'/y_second_batch.npz')\n",
        "\n",
        "# Validation data from the second batch of patients\n",
        "x_valid_second = load('../input/'+ package +'/x_valid_second_batch.npz')\n",
        "y_valid_second = load('../input/'+ package +'/y_valid_second_batch.npz')\n",
        "\n",
        "# Data from the second batch of patients\n",
        "x_test = load('../input/'+ package +'/x_test.npz')\n",
        "y_test = load('../input/'+ package +'/y_test.npz')\n"
      ]
    },
    {
      "cell_type": "markdown",
      "metadata": {
        "papermill": {
          "duration": 0.077784,
          "end_time": "2022-05-18T21:37:52.535263",
          "exception": false,
          "start_time": "2022-05-18T21:37:52.457479",
          "status": "completed"
        },
        "tags": [],
        "id": "OudjHIeCMjux"
      },
      "source": [
        ""
      ]
    },
    {
      "cell_type": "code",
      "execution_count": null,
      "metadata": {
        "execution": {
          "iopub.execute_input": "2022-05-18T21:37:52.769561Z",
          "iopub.status.busy": "2022-05-18T21:37:52.768716Z",
          "iopub.status.idle": "2022-05-18T21:37:58.999500Z",
          "shell.execute_reply": "2022-05-18T21:37:58.998675Z",
          "shell.execute_reply.started": "2022-05-10T21:13:39.915578Z"
        },
        "papermill": {
          "duration": 6.346684,
          "end_time": "2022-05-18T21:37:58.999650",
          "exception": false,
          "start_time": "2022-05-18T21:37:52.652966",
          "status": "completed"
        },
        "tags": [],
        "id": "fLEERSBjMjux"
      },
      "outputs": [],
      "source": [
        "x_train_first = x_interm_train['arr_0']\n",
        "y_train_first = y_interm_train['arr_0']\n",
        "\n",
        "x_valid_first = x_interm_valid['arr_0']\n",
        "y_valid_first = y_interm_valid['arr_0']\n",
        "\n",
        "x_train_second = x_second['arr_0']\n",
        "y_train_second = y_second['arr_0']\n",
        "\n",
        "x_valid_second = x_valid_second['arr_0']\n",
        "y_valid_second = y_valid_second['arr_0']\n",
        "\n",
        "x_test = x_test['arr_0']\n",
        "y_test = y_test['arr_0']"
      ]
    },
    {
      "cell_type": "code",
      "execution_count": null,
      "metadata": {
        "execution": {
          "iopub.execute_input": "2022-05-18T21:37:59.142066Z",
          "iopub.status.busy": "2022-05-18T21:37:59.140754Z",
          "iopub.status.idle": "2022-05-18T21:37:59.518378Z",
          "shell.execute_reply": "2022-05-18T21:37:59.517711Z",
          "shell.execute_reply.started": "2022-05-10T21:13:46.475521Z"
        },
        "papermill": {
          "duration": 0.452106,
          "end_time": "2022-05-18T21:37:59.518583",
          "exception": false,
          "start_time": "2022-05-18T21:37:59.066477",
          "status": "completed"
        },
        "tags": [],
        "id": "-szJq2FHMjuz"
      },
      "outputs": [],
      "source": [
        "x_train_first = np.concatenate((x_train_second,x_train_first),axis=0)\n",
        "y_train_first = np.concatenate((y_train_second,y_train_first),axis=0)\n",
        "\n",
        "x_valid_first = np.concatenate((x_valid_second,x_valid_first),axis=0)\n",
        "y_valid_first = np.concatenate((y_valid_second,y_valid_first),axis=0)"
      ]
    },
    {
      "cell_type": "code",
      "execution_count": null,
      "metadata": {
        "execution": {
          "iopub.execute_input": "2022-05-18T21:37:59.651746Z",
          "iopub.status.busy": "2022-05-18T21:37:59.650863Z",
          "iopub.status.idle": "2022-05-18T21:37:59.657156Z",
          "shell.execute_reply": "2022-05-18T21:37:59.656652Z",
          "shell.execute_reply.started": "2022-05-10T21:13:46.868297Z"
        },
        "papermill": {
          "duration": 0.074054,
          "end_time": "2022-05-18T21:37:59.657283",
          "exception": false,
          "start_time": "2022-05-18T21:37:59.583229",
          "status": "completed"
        },
        "tags": [],
        "id": "47oFsKxZMju1",
        "outputId": "e49c20af-04c1-450a-d28c-3209a9a490e5"
      },
      "outputs": [
        {
          "name": "stdout",
          "output_type": "stream",
          "text": [
            "|---------------------------------------------|\n",
            "|           X          |           Y          |\n",
            "|----------------------|----------------------|\n",
            "|                First   batch                |\n",
            "|---------------------------------------------|\n",
            "|(84, 128, 128, 32, 1) |(84, 128, 128, 32, 3) |\n",
            "|(14, 128, 128, 32, 1)  |(14, 128, 128, 32, 3)  |\n",
            "|---------------------------------------------|\n",
            "|                 Second batch                |\n",
            "|---------------------------------------------|\n",
            "|(42, 128, 128, 32, 1) |(42, 128, 128, 32, 3) |\n",
            "|(7, 128, 128, 32, 1)  | (7, 128, 128, 32, 3) |\n",
            "|---------------------------------------------|\n",
            "|                    Test                     |\n",
            "|---------------------------------------------|\n",
            "| (5, 128, 128, 32, 1) | (5, 128, 128, 32, 3) |\n",
            "|---------------------------------------------|\n"
          ]
        }
      ],
      "source": [
        "print('|---------------------------------------------|')\n",
        "print('|           X          |           Y          |')\n",
        "print('|----------------------|----------------------|')\n",
        "print('|                First   batch                |')\n",
        "print('|---------------------------------------------|')\n",
        "print('|'+str(x_train_first.shape)+' |'+str(y_train_first.shape)+' |')\n",
        "print('|'+str(x_valid_first.shape)+'  |'+str(y_valid_first.shape)+'  |')\n",
        "print('|---------------------------------------------|')\n",
        "print('|                 Second batch                |')\n",
        "print('|---------------------------------------------|')\n",
        "print('|'+str(x_train_second.shape)+' |'+str(y_train_second.shape)+' |')\n",
        "print('|'+str(x_valid_second.shape)+'  | '+str(y_valid_second.shape)+' |')\n",
        "print('|---------------------------------------------|')\n",
        "print('|                    Test                     |')\n",
        "print('|---------------------------------------------|')\n",
        "print('| '+str(x_test.shape)+' | '+str(y_test.shape)+' |')\n",
        "print('|---------------------------------------------|')\n",
        "\n"
      ]
    },
    {
      "cell_type": "markdown",
      "metadata": {
        "papermill": {
          "duration": 0.06107,
          "end_time": "2022-05-18T21:37:59.781373",
          "exception": false,
          "start_time": "2022-05-18T21:37:59.720303",
          "status": "completed"
        },
        "tags": [],
        "id": "YJktTpxMMju2"
      },
      "source": [
        "# Vizualizing the data"
      ]
    },
    {
      "cell_type": "code",
      "execution_count": null,
      "metadata": {
        "execution": {
          "iopub.execute_input": "2022-05-18T21:37:59.910991Z",
          "iopub.status.busy": "2022-05-18T21:37:59.910208Z",
          "iopub.status.idle": "2022-05-18T21:37:59.912595Z",
          "shell.execute_reply": "2022-05-18T21:37:59.913099Z",
          "shell.execute_reply.started": "2022-05-10T21:13:46.886773Z"
        },
        "papermill": {
          "duration": 0.070272,
          "end_time": "2022-05-18T21:37:59.913239",
          "exception": false,
          "start_time": "2022-05-18T21:37:59.842967",
          "status": "completed"
        },
        "tags": [],
        "id": "Gk2GUyTRMjvE"
      },
      "outputs": [],
      "source": [
        "def ground_truth_visualize(x,nr):\n",
        "    fig, ax = plt.subplots(1,3, figsize=[12, 12])\n",
        "    img_org = x_train_first[nr][:,:,x]\n",
        "    img_label_1 = y_train_first[nr][:,:,x,1]\n",
        "    img_label_2 = y_train_first[nr][:,:,x,2]\n",
        "    rotated_img = ndimage.rotate(img_org, 270)\n",
        "    rotated_img_lb = ndimage.rotate(img_label_1, 270)\n",
        "    rotated_img_lb_2 = ndimage.rotate(img_label_2, 270)\n",
        "#     ax[0].set_title(\" Original \")\n",
        "    ax[0].imshow(rotated_img,cmap='gray')\n",
        "    ax[0].axis('off')\n",
        "#     ax[1].set_title(\"Segmentation Class 1\")\n",
        "    ax[1].imshow(rotated_img_lb,cmap='gray')\n",
        "    ax[1].axis('off')\n",
        "#     ax[2].set_title(\"Segmentation Class 2\")\n",
        "    ax[2].imshow(rotated_img_lb_2,cmap='gray')\n",
        "    ax[2].axis('off')\n",
        "    plt.show()\n"
      ]
    },
    {
      "cell_type": "code",
      "execution_count": null,
      "metadata": {
        "execution": {
          "iopub.execute_input": "2022-05-18T21:38:00.057265Z",
          "iopub.status.busy": "2022-05-18T21:38:00.055950Z",
          "iopub.status.idle": "2022-05-18T21:38:00.224415Z",
          "shell.execute_reply": "2022-05-18T21:38:00.224846Z",
          "shell.execute_reply.started": "2022-05-10T21:13:46.907304Z"
        },
        "papermill": {
          "duration": 0.250656,
          "end_time": "2022-05-18T21:38:00.225015",
          "exception": false,
          "start_time": "2022-05-18T21:37:59.974359",
          "status": "completed"
        },
        "tags": [],
        "id": "fskVI8dXMjvG",
        "outputId": "4994124c-86d5-4388-a3d3-b541f0bd662c"
      },
      "outputs": [
        {
          "data": {
            "image/png": "[encoded data removed]",
            "text/plain": [
              "<Figure size 864x864 with 3 Axes>"
            ]
          },
          "metadata": {
            "needs_background": "light"
          },
          "output_type": "display_data"
        }
      ],
      "source": [
        "ground_truth_visualize(10,15)"
      ]
    },
    {
      "cell_type": "code",
      "execution_count": null,
      "metadata": {
        "execution": {
          "iopub.execute_input": "2022-05-18T21:38:00.390784Z",
          "iopub.status.busy": "2022-05-18T21:38:00.382715Z",
          "iopub.status.idle": "2022-05-18T21:38:00.531989Z",
          "shell.execute_reply": "2022-05-18T21:38:00.531454Z",
          "shell.execute_reply.started": "2022-05-10T21:13:47.107927Z"
        },
        "papermill": {
          "duration": 0.242248,
          "end_time": "2022-05-18T21:38:00.532123",
          "exception": false,
          "start_time": "2022-05-18T21:38:00.289875",
          "status": "completed"
        },
        "tags": [],
        "id": "aCFj7-dqMjvH",
        "outputId": "e13a45ec-08b7-4ccd-8a7e-b9514ab31ea8"
      },
      "outputs": [
        {
          "data": {
            "image/png": "[encoded data removed]",
            "text/plain": [
              "<Figure size 864x864 with 3 Axes>"
            ]
          },
          "metadata": {
            "needs_background": "light"
          },
          "output_type": "display_data"
        }
      ],
      "source": [
        "ground_truth_visualize(18,9)"
      ]
    },
    {
      "cell_type": "code",
      "execution_count": null,
      "metadata": {
        "execution": {
          "iopub.execute_input": "2022-05-18T21:38:00.691012Z",
          "iopub.status.busy": "2022-05-18T21:38:00.690198Z",
          "iopub.status.idle": "2022-05-18T21:38:00.998389Z",
          "shell.execute_reply": "2022-05-18T21:38:00.998783Z",
          "shell.execute_reply.started": "2022-05-10T21:13:47.279521Z"
        },
        "papermill": {
          "duration": 0.398228,
          "end_time": "2022-05-18T21:38:00.998975",
          "exception": false,
          "start_time": "2022-05-18T21:38:00.600747",
          "status": "completed"
        },
        "tags": [],
        "id": "iscHewGMMjvI",
        "outputId": "3f3f646b-35f3-4d9f-b86c-ca98b8b0dfe0"
      },
      "outputs": [
        {
          "data": {
            "image/png": "[encoded data removed]",
            "text/plain": [
              "<Figure size 864x864 with 3 Axes>"
            ]
          },
          "metadata": {
            "needs_background": "light"
          },
          "output_type": "display_data"
        }
      ],
      "source": [
        "ground_truth_visualize(16,25)"
      ]
    },
    {
      "cell_type": "markdown",
      "metadata": {
        "papermill": {
          "duration": 0.065186,
          "end_time": "2022-05-18T21:38:01.131873",
          "exception": false,
          "start_time": "2022-05-18T21:38:01.066687",
          "status": "completed"
        },
        "tags": [],
        "id": "Ez-WDGHUMjvJ"
      },
      "source": [
        "# Separare date"
      ]
    },
    {
      "cell_type": "code",
      "execution_count": null,
      "metadata": {
        "execution": {
          "iopub.execute_input": "2022-05-18T21:38:01.268789Z",
          "iopub.status.busy": "2022-05-18T21:38:01.267940Z",
          "iopub.status.idle": "2022-05-18T21:38:01.270520Z",
          "shell.execute_reply": "2022-05-18T21:38:01.270097Z",
          "shell.execute_reply.started": "2022-05-10T21:13:47.606981Z"
        },
        "papermill": {
          "duration": 0.073889,
          "end_time": "2022-05-18T21:38:01.270639",
          "exception": false,
          "start_time": "2022-05-18T21:38:01.196750",
          "status": "completed"
        },
        "tags": [],
        "id": "tFWy-dClMjvJ"
      },
      "outputs": [],
      "source": [
        "def function_delete_surplus_data_nr(X,Y,nr):\n",
        "  \n",
        "    indexes = [i for i in range(X.shape[0])]\n",
        "    indexes_2 = np.random.choice(indexes,size=nr,replace=False)\n",
        "\n",
        "    x_l=[X[i] for i in indexes_2]\n",
        "    y_l=[Y[i] for i in indexes_2]\n",
        "    return x_l,y_l"
      ]
    },
    {
      "cell_type": "code",
      "execution_count": null,
      "metadata": {
        "execution": {
          "iopub.execute_input": "2022-05-18T21:38:01.410413Z",
          "iopub.status.busy": "2022-05-18T21:38:01.409681Z",
          "iopub.status.idle": "2022-05-18T21:38:01.413547Z",
          "shell.execute_reply": "2022-05-18T21:38:01.413103Z",
          "shell.execute_reply.started": "2022-05-10T21:13:47.614976Z"
        },
        "papermill": {
          "duration": 0.07698,
          "end_time": "2022-05-18T21:38:01.413663",
          "exception": false,
          "start_time": "2022-05-18T21:38:01.336683",
          "status": "completed"
        },
        "tags": [],
        "id": "Icoow6sjMjvK"
      },
      "outputs": [],
      "source": [
        "def function_shuffle(X,Y):\n",
        "  \n",
        "    indexes = [i for i in range(X.shape[0])]\n",
        "    trainSample = np.random.choice(indexes,size=len(indexes),replace=False)\n",
        "\n",
        "    x_train=[X[i] for i in trainSample]\n",
        "    y_train=[Y[i] for i in trainSample]\n",
        "    \n",
        "    y_train = np.array(y_train)\n",
        "    x_train = np.array(x_train)\n",
        "\n",
        "    return x_train,y_train"
      ]
    },
    {
      "cell_type": "code",
      "execution_count": null,
      "metadata": {
        "execution": {
          "iopub.execute_input": "2022-05-18T21:38:01.552601Z",
          "iopub.status.busy": "2022-05-18T21:38:01.551411Z",
          "iopub.status.idle": "2022-05-18T21:38:01.808099Z",
          "shell.execute_reply": "2022-05-18T21:38:01.807557Z",
          "shell.execute_reply.started": "2022-05-10T21:13:47.627896Z"
        },
        "papermill": {
          "duration": 0.32842,
          "end_time": "2022-05-18T21:38:01.808242",
          "exception": false,
          "start_time": "2022-05-18T21:38:01.479822",
          "status": "completed"
        },
        "tags": [],
        "id": "WI1bmbljMjvM"
      },
      "outputs": [],
      "source": [
        "# x_train, y_train = function_delete_surplus_data(x_train, y_train, 90)\n",
        "x_train_first, y_train_first = function_shuffle(x_train_first, y_train_first)\n",
        "# x_valid, y_valid = function_delete_surplus_data_nr(x_valid,y_valid,9)\n"
      ]
    },
    {
      "cell_type": "markdown",
      "metadata": {
        "papermill": {
          "duration": 0.064666,
          "end_time": "2022-05-18T21:38:01.939890",
          "exception": false,
          "start_time": "2022-05-18T21:38:01.875224",
          "status": "completed"
        },
        "tags": [],
        "id": "-hcCLgRbMjvM"
      },
      "source": [
        "# Metrics and loss functions"
      ]
    },
    {
      "cell_type": "code",
      "execution_count": null,
      "metadata": {
        "execution": {
          "iopub.execute_input": "2022-05-18T21:38:02.090986Z",
          "iopub.status.busy": "2022-05-18T21:38:02.090127Z",
          "iopub.status.idle": "2022-05-18T21:38:02.093043Z",
          "shell.execute_reply": "2022-05-18T21:38:02.092619Z",
          "shell.execute_reply.started": "2022-05-10T21:13:48.01522Z"
        },
        "papermill": {
          "duration": 0.087383,
          "end_time": "2022-05-18T21:38:02.093162",
          "exception": false,
          "start_time": "2022-05-18T21:38:02.005779",
          "status": "completed"
        },
        "tags": [],
        "id": "uD33EWZ_MjvN"
      },
      "outputs": [],
      "source": [
        "#INCERCATE DAR NIMIC BUN\n",
        "\n",
        "def dice_coefficient(y_true, y_pred, smooth=1.):\n",
        "    \"\"\"\n",
        "    Calcularea coeficientul DICE\n",
        "    :param y_true:(3D Numpy Array) imaginea originala\n",
        "    :param y_true:(3D Numpy Array) imaginea prezisa de model\n",
        "    :returns:\n",
        "    coeficientul DICE (float)\n",
        "    \"\"\"\n",
        "    y_true_f = K.flatten(y_true)\n",
        "    y_pred_f = K.flatten(y_pred)\n",
        "    intersection = K.sum(y_true_f * y_pred_f)\n",
        "    return (2. * intersection + smooth) / (K.sum(y_true_f) + K.sum(y_pred_f) + smooth)\n",
        "\n",
        "def dice_coef(y_true, y_pred, smooth=1.):\n",
        "    y_true_f = K.flatten(y_true)\n",
        "    y_pred_f = K.flatten(y_pred)\n",
        "    intersection = K.sum(y_true_f * y_pred_f)\n",
        "    return (2. * intersection + smooth) / (K.sum(y_true_f) + K.sum(y_pred_f) + smooth)\n",
        "\n",
        "def dice_coef_multilabel(y_true, y_pred, numLabels=3,weights=[0.1,0.4,0.5]):\n",
        "    dice=0\n",
        "    for index in range(numLabels):\n",
        "        dice += weights[index]*dice_coef(y_true[:,index,:,:,:], y_pred[:,index,:,:,:])\n",
        "    \n",
        "    return 1-dice\n",
        "\n",
        "def dice_coefficient_loss(y_true, y_pred, axis=(1, 2, 3), \n",
        "                     epsilon=0.00001):\n",
        "    \n",
        "    dice_numerator = 2*K.sum(y_true*y_pred,axis=(1,2,3))+epsilon\n",
        "    dice_denominator = K.sum(y_true+y_pred,axis=(1,2,3))+epsilon\n",
        "    dice_coefficient = K.mean(dice_numerator/dice_denominator)\n",
        "   \n",
        "    return 1-dice_coefficient\n",
        "\n",
        "def soft_dice_loss(y_true, y_pred, axis=(1, 2, 3), \n",
        "                   epsilon=0.00001):\n",
        "   \n",
        "    dice_numerator = 2.*K.sum(y_true*y_pred,axis=(0,1,2,3))+epsilon\n",
        "    dice_denominator = K.sum(y_true*y_true + y_pred*y_pred,axis=(0,1,2,3))+epsilon\n",
        "    \n",
        "    dice_loss = 3 - K.sum(dice_numerator/dice_denominator)\n",
        "\n",
        "    return dice_loss\n",
        "\n",
        "# --- METRICS ---\n",
        "\n",
        "def dice_coefficient(y_true, y_pred, smooth=1.):\n",
        "    \"\"\"\n",
        "    Calcularea coeficientul DICE\n",
        "    :param y_true:(3D Numpy Array) imaginea originala\n",
        "    :param y_true:(3D Numpy Array) imaginea prezisa de model\n",
        "    :returns:\n",
        "    coeficientul DICE (float)\n",
        "    \"\"\"\n",
        "    y_true_f = K.flatten(y_true)\n",
        "    y_pred_f = K.flatten(y_pred)\n",
        "    intersection = K.sum(y_true_f * y_pred_f)\n",
        "    return (2. * intersection + smooth) / (K.sum(y_true_f) + K.sum(y_pred_f) + smooth)\n",
        "\n",
        "\n",
        "def dsc(y_true, y_pred):\n",
        "    smooth = 1.\n",
        "    y_true_f = K.flatten(y_true)\n",
        "    y_pred_f = K.flatten(y_pred)\n",
        "    intersection = K.sum(y_true_f * y_pred_f)\n",
        "    score = (2. * intersection + smooth) / (K.sum(y_true_f) + K.sum(y_pred_f) + smooth)\n",
        "    return score\n",
        "\n",
        "\n",
        "def auc(y_true, y_pred):\n",
        "    smooth = 1\n",
        "    y_pred_pos = np.round(np.clip(y_pred, 0, 1))\n",
        "    y_pred_neg = 1 - y_pred_pos\n",
        "    y_pos = np.round(np.clip(y_true, 0, 1))\n",
        "    y_neg = 1 - y_pos\n",
        "    tp = np.sum(y_pos * y_pred_pos)\n",
        "    tn = np.sum(y_neg * y_pred_neg)\n",
        "    fp = np.sum(y_neg * y_pred_pos)\n",
        "    fn = np.sum(y_pos * y_pred_neg)\n",
        "    tpr = (tp + smooth) / (tp + fn + smooth) #recall\n",
        "    tnr = (tn + smooth) / (tn + fp + smooth)\n",
        "    prec = (tp + smooth) / (tp + fp + smooth) #precision\n",
        "    return [tpr, tnr, prec]\n",
        "\n",
        "def confusion(y_true, y_pred):\n",
        "    smooth=1\n",
        "    y_pred_pos = K.clip(y_pred, 0, 1)\n",
        "    y_pred_neg = 1 - y_pred_pos\n",
        "    y_pos = K.clip(y_true, 0, 1)\n",
        "    y_neg = 1 - y_pos\n",
        "    tp = K.sum(y_pos * y_pred_pos)\n",
        "    fp = K.sum(y_neg * y_pred_pos)\n",
        "    fn = K.sum(y_pos * y_pred_neg) \n",
        "    prec = (tp + smooth)/(tp+fp+smooth)\n",
        "    recall = (tp+smooth)/(tp+fn+smooth)\n",
        "    return prec, recall\n"
      ]
    },
    {
      "cell_type": "code",
      "execution_count": null,
      "metadata": {
        "execution": {
          "iopub.execute_input": "2022-05-18T21:38:02.229753Z",
          "iopub.status.busy": "2022-05-18T21:38:02.229040Z",
          "iopub.status.idle": "2022-05-18T21:38:02.231994Z",
          "shell.execute_reply": "2022-05-18T21:38:02.231446Z"
        },
        "papermill": {
          "duration": 0.073517,
          "end_time": "2022-05-18T21:38:02.232117",
          "exception": false,
          "start_time": "2022-05-18T21:38:02.158600",
          "status": "completed"
        },
        "tags": [],
        "id": "Z6XvlIAAMjvP"
      },
      "outputs": [],
      "source": [
        "def tanimoto_coefficient(y_true, y_pred, smooth=1.):\n",
        "    \"\"\"\n",
        "    Calcularea coeficientul DICE\n",
        "    :param y_true:(3D Numpy Array) imaginea originala\n",
        "    :param y_true:(3D Numpy Array) imaginea prezisa de model\n",
        "    :returns:\n",
        "    coeficientul DICE (float)\n",
        "    \"\"\"\n",
        "    y_true_f = K.flatten(y_true)\n",
        "    y_pred_f = K.flatten(y_pred)\n",
        "    intersection = K.sum(y_true_f * y_pred_f)\n",
        "    return (intersection + smooth) / (K.sum(y_true_f) + K.sum(y_pred_f) - intersection + smooth)"
      ]
    },
    {
      "cell_type": "code",
      "execution_count": null,
      "metadata": {
        "execution": {
          "iopub.execute_input": "2022-05-18T21:38:02.375734Z",
          "iopub.status.busy": "2022-05-18T21:38:02.374951Z",
          "iopub.status.idle": "2022-05-18T21:38:02.377744Z",
          "shell.execute_reply": "2022-05-18T21:38:02.377331Z",
          "shell.execute_reply.started": "2022-05-10T21:13:48.335251Z"
        },
        "papermill": {
          "duration": 0.079595,
          "end_time": "2022-05-18T21:38:02.377895",
          "exception": false,
          "start_time": "2022-05-18T21:38:02.298300",
          "status": "completed"
        },
        "tags": [],
        "id": "r3bscfE9MjvP"
      },
      "outputs": [],
      "source": [
        "from keras import backend as K\n",
        "import numpy as np\n",
        "import tensorflow as tf\n",
        "from scipy.ndimage import distance_transform_edt as distance\n",
        "\n",
        "\n",
        "def calc_dist_map(seg):\n",
        "    res = np.zeros_like(seg)\n",
        "    posmask = seg.astype(np.bool)\n",
        "\n",
        "    if posmask.any():\n",
        "        negmask = ~posmask\n",
        "        res = distance(negmask) * negmask - (distance(posmask) - 1) * posmask\n",
        "\n",
        "    return res\n",
        "\n",
        "def calc_dist_map_batch(y_true):\n",
        "    y_true_numpy = y_true.numpy()\n",
        "    return np.array([calc_dist_map(y)\n",
        "                     for y in y_true_numpy]).astype(np.float32)\n",
        "\n",
        "def surface_loss(y_true, y_pred):\n",
        "    y_true_dist_map = tf.py_function(func=calc_dist_map_batch,\n",
        "                                     inp=[y_true],\n",
        "                                     Tout=tf.float32)\n",
        "    multipled = y_pred * y_true_dist_map\n",
        "    return K.mean(multipled)"
      ]
    },
    {
      "cell_type": "code",
      "execution_count": null,
      "metadata": {
        "execution": {
          "iopub.execute_input": "2022-05-18T21:38:02.526276Z",
          "iopub.status.busy": "2022-05-18T21:38:02.525398Z",
          "iopub.status.idle": "2022-05-18T21:38:02.528182Z",
          "shell.execute_reply": "2022-05-18T21:38:02.527703Z",
          "shell.execute_reply.started": "2022-05-10T21:13:48.737384Z"
        },
        "papermill": {
          "duration": 0.082269,
          "end_time": "2022-05-18T21:38:02.528309",
          "exception": false,
          "start_time": "2022-05-18T21:38:02.446040",
          "status": "completed"
        },
        "tags": [],
        "id": "PpTndxPlMjvQ"
      },
      "outputs": [],
      "source": [
        "# y_train=np.moveaxis(y_train,-1,-4)"
      ]
    },
    {
      "cell_type": "code",
      "execution_count": null,
      "metadata": {
        "execution": {
          "iopub.execute_input": "2022-05-18T21:38:02.667985Z",
          "iopub.status.busy": "2022-05-18T21:38:02.667233Z",
          "iopub.status.idle": "2022-05-18T21:38:02.670181Z",
          "shell.execute_reply": "2022-05-18T21:38:02.669622Z",
          "shell.execute_reply.started": "2022-05-10T21:13:49.395216Z"
        },
        "papermill": {
          "duration": 0.075691,
          "end_time": "2022-05-18T21:38:02.670303",
          "exception": false,
          "start_time": "2022-05-18T21:38:02.594612",
          "status": "completed"
        },
        "tags": [],
        "id": "FDiSGQ3FMjvR"
      },
      "outputs": [],
      "source": [
        "# Ref: salehi17, \"Twersky loss function for image segmentation using 3D FCDN\"\n",
        "# -> the score is computed for each class separately and then summed\n",
        "# alpha=beta=0.5 : dice coefficient\n",
        "# alpha=beta=1   : tanimoto coefficient (also known as jaccard)\n",
        "# alpha+beta=1   : produces set of F*-scores\n",
        "# implemented by E. Moebel, 06/04/18\n",
        "\n",
        "def tversky_loss(y_true, y_pred):\n",
        "    alpha = 0.5\n",
        "    beta  = 0.5\n",
        "    ones = K.ones(K.shape(y_true))\n",
        "    p0 = y_pred      # proba that voxels are class i\n",
        "    p1 = ones-y_pred # proba that voxels are not class i\n",
        "    g0 = y_true\n",
        "    g1 = ones-y_true\n",
        "    # alpha - FP      beta - FN\n",
        "    num = K.sum(p0*g0, (0,1,2,3))\n",
        "    den = num + alpha*K.sum(p0*g1,(0,1,2,3)) + beta*K.sum(p1*g0,(0,1,2,3))\n",
        "    \n",
        "    T = K.sum(num/den) # when summing over classes, T has dynamic range [0 Ncl]\n",
        "    \n",
        "    Ncl = K.cast(K.shape(y_true)[-1], 'float32')\n",
        "    return Ncl - T\n",
        "\n"
      ]
    },
    {
      "cell_type": "code",
      "execution_count": null,
      "metadata": {
        "execution": {
          "iopub.execute_input": "2022-05-18T21:38:02.812474Z",
          "iopub.status.busy": "2022-05-18T21:38:02.811691Z",
          "iopub.status.idle": "2022-05-18T21:38:02.814473Z",
          "shell.execute_reply": "2022-05-18T21:38:02.814960Z",
          "shell.execute_reply.started": "2022-05-10T21:13:51.137489Z"
        },
        "papermill": {
          "duration": 0.077859,
          "end_time": "2022-05-18T21:38:02.815108",
          "exception": false,
          "start_time": "2022-05-18T21:38:02.737249",
          "status": "completed"
        },
        "tags": [],
        "id": "mkkJZfSwMjvS"
      },
      "outputs": [],
      "source": [
        "def tversky_loss_mean(y_true, y_pred):  \n",
        "    # a mers intr-un mod interesant, trb schimbat cv la el dar da rezultate surprinzatoare\n",
        "    alpha = 0.5\n",
        "    beta  = 0.5\n",
        "    \n",
        "    ones = K.ones(K.shape(y_true))\n",
        "    p0 = y_pred      # proba that voxels are class i\n",
        "    p1 = ones-y_pred # proba that voxels are not class i\n",
        "    g0 = y_true\n",
        "    g1 = ones-y_true\n",
        "    # alpha - FP      beta - FN\n",
        "    num = K.sum(p0*g0, (0,1,2,3))\n",
        "    den = num + alpha*K.sum(p0*g1,(0,1,2,3)) + beta*K.sum(p1*g0,(0,1,2,3))\n",
        "    \n",
        "    T = K.mean(num/den) # when summing over classes, T has dynamic range [0 Ncl]\n",
        "\n",
        "    return 1. - T\n",
        "\n",
        "def focal_tversky_loss_mean(y_true,y_pred): # nu prea a mers\n",
        "    pt_1 = tversky_loss_mean(y_true, y_pred)\n",
        "    gamma = 3\n",
        "    return K.pow(pt_1, 1/gamma)"
      ]
    },
    {
      "cell_type": "code",
      "execution_count": null,
      "metadata": {
        "execution": {
          "iopub.execute_input": "2022-05-18T21:38:02.954841Z",
          "iopub.status.busy": "2022-05-18T21:38:02.954145Z",
          "iopub.status.idle": "2022-05-18T21:38:02.956939Z",
          "shell.execute_reply": "2022-05-18T21:38:02.956468Z",
          "shell.execute_reply.started": "2022-05-10T21:13:52.024753Z"
        },
        "papermill": {
          "duration": 0.075738,
          "end_time": "2022-05-18T21:38:02.957122",
          "exception": false,
          "start_time": "2022-05-18T21:38:02.881384",
          "status": "completed"
        },
        "tags": [],
        "id": "Z6OAAHYrMjvT"
      },
      "outputs": [],
      "source": [
        "def GDC(y_true, y_pred):\n",
        "#     weights = None\n",
        "    weights = [1,5,7]\n",
        "    \n",
        "    if weights == None:\n",
        "        weights = np.zeros((1,3))\n",
        "        weights=1/((K.sum(g0,(0,1,2,3)).numpy())**2+1e-4)\n",
        "\n",
        "    ones = K.ones(K.shape(y_true))\n",
        "    p0 = y_pred      # proba that voxels are class i\n",
        "    p1 = ones-y_pred # proba that voxels are not class i\n",
        "    g0 = y_true\n",
        "    g1 = ones-y_true\n",
        "    \n",
        "    # alpha - FP      beta - FN\n",
        "    num = weights*K.sum(p0*g0, (0,1,2,3))\n",
        "    den = weights*K.sum(p0+g0,(0,1,2,3))\n",
        "    T = K.mean(num/den) # when summing over classes, T has dynamic range [0 Ncl]\n",
        "    \n",
        "    Res = 1 - 2*T\n",
        "    return Res"
      ]
    },
    {
      "cell_type": "code",
      "execution_count": null,
      "metadata": {
        "execution": {
          "iopub.execute_input": "2022-05-18T21:38:03.097502Z",
          "iopub.status.busy": "2022-05-18T21:38:03.096727Z",
          "iopub.status.idle": "2022-05-18T21:38:03.099759Z",
          "shell.execute_reply": "2022-05-18T21:38:03.099289Z",
          "shell.execute_reply.started": "2022-05-10T21:13:52.838144Z"
        },
        "papermill": {
          "duration": 0.076026,
          "end_time": "2022-05-18T21:38:03.099922",
          "exception": false,
          "start_time": "2022-05-18T21:38:03.023896",
          "status": "completed"
        },
        "tags": [],
        "id": "Al47tRlxMjvU"
      },
      "outputs": [],
      "source": [
        "def pGDC(y_true, y_pred):\n",
        "    alpha = 0.5\n",
        "    beta  = 0.5\n",
        "    #weights = None\n",
        "    weights = K.constant([1,5,10])\n",
        "    \n",
        "    if weights == None:\n",
        "        weights = np.zeros((1,3))\n",
        "        weights = 1/((K.sum(g0,(0,1,2,3)).numpy())**2+1e-4)\n",
        "\n",
        "    \n",
        "    ones = K.ones(K.shape(y_true))\n",
        "    p0 = y_pred      # proba that voxels are class i\n",
        "    p1 = ones-y_pred # proba that voxels are not class i\n",
        "    g0 = y_true\n",
        "    g1 = ones-y_true\n",
        "    \n",
        "    # alpha - FP      beta - FN\n",
        "    num = weights*K.sum(p0*g0, (0,1,2,3))\n",
        "    den = weights*(K.sum(p0+g0,(0,1,2,3))+ alpha*K.sum(p0*g1,(0,1,2,3)) + beta*K.sum(p1*g0,(0,1,2,3)))\n",
        "    \n",
        "    T = K.mean(num/den) # when summing over classes, T has dynamic range [0 Ncl]\n",
        "    \n",
        "    return 1- 2.*T"
      ]
    },
    {
      "cell_type": "code",
      "execution_count": null,
      "metadata": {
        "execution": {
          "iopub.execute_input": "2022-05-18T21:38:03.245129Z",
          "iopub.status.busy": "2022-05-18T21:38:03.244373Z",
          "iopub.status.idle": "2022-05-18T21:38:03.247357Z",
          "shell.execute_reply": "2022-05-18T21:38:03.246706Z",
          "shell.execute_reply.started": "2022-05-10T21:13:53.66772Z"
        },
        "papermill": {
          "duration": 0.081491,
          "end_time": "2022-05-18T21:38:03.247483",
          "exception": false,
          "start_time": "2022-05-18T21:38:03.165992",
          "status": "completed"
        },
        "tags": [],
        "id": "aAJKueVKMjvV"
      },
      "outputs": [],
      "source": [
        "\n",
        "def soft_dice_loss_sum_2tp_sum(y_true, y_pred, axis=(1, 2, 3), \n",
        "                   epsilon=0.00001):\n",
        "    \"\"\"\n",
        "    paper: https://ieeexplore.ieee.org/stamp/stamp.jsp?arnumber=9180275\n",
        "    TODO:: Trb sa mai incerc cu CE si weighted dice loss\n",
        "    \"\"\"\n",
        "    p0 = y_pred\n",
        "    p1 = 1- y_pred\n",
        "    g0 = y_true\n",
        "    g1 = 1- y_true\n",
        "    dice_numerator = 2.*K.sum(y_true*y_pred,axis=(0,1,2,3))+epsilon\n",
        "    dice_denominator = K.sum(2.*y_true*y_pred + p0*g1 + p1*g0 ,axis=(0,1,2,3))+epsilon\n",
        "    \n",
        "    dice_loss = 3 - K.sum(dice_numerator/dice_denominator)\n",
        "\n",
        "    return dice_loss\n",
        "\n",
        "def soft_dice_loss_mean_2tp_mean(y_true, y_pred, axis=(1, 2, 3), \n",
        "                   epsilon=0.00001):\n",
        "    \"\"\"\n",
        "    paper: https://ieeexplore.ieee.org/stamp/stamp.jsp?arnumber=9180275\n",
        "    TODO:: Trb sa mai incerc cu CE si weighted dice loss\n",
        "    \"\"\"\n",
        "    p0 = y_pred\n",
        "    p1 = 1- y_pred\n",
        "    g0 = y_true\n",
        "    g1 = 1- y_true\n",
        "    dice_numerator = 2.*K.sum(y_true*y_pred,axis=(0,1,2,3))+epsilon\n",
        "    dice_denominator = K.sum(2.*y_true*y_pred + p0*g1 + p1*g0 ,axis=(0,1,2,3))+epsilon\n",
        "    \n",
        "    dice_loss = 1 - K.mean(dice_numerator/dice_denominator)\n",
        "\n",
        "    return dice_loss\n",
        "\n",
        "def soft_dice_loss_mean_powtp_sum(y_true, y_pred, axis=(1, 2, 3), \n",
        "                   epsilon=0.00001):\n",
        "   \n",
        "    dice_numerator = 2.*K.sum(y_true*y_pred,axis=(0,1,2,3))+epsilon\n",
        "    dice_denominator = K.sum(y_true*y_true + y_pred*y_pred,axis=(0,1,2,3))+epsilon\n",
        "    \n",
        "    dice_loss = 3 - K.sum(dice_numerator/dice_denominator)\n",
        "\n",
        "    return dice_loss\n",
        "\n",
        "def soft_dice_loss_mean_powtp_mean(y_true, y_pred,\n",
        "                   epsilon=0.00001):\n",
        "   \n",
        "    dice_numerator = 2.*K.sum(y_true*y_pred,axis=(0,1,2,3))+epsilon\n",
        "    dice_denominator = K.sum(y_true*y_true + y_pred*y_pred,axis=(0,1,2,3))+epsilon\n",
        "    \n",
        "    dice_loss = 1 - K.mean(dice_numerator/dice_denominator)\n",
        "\n",
        "    return dice_loss"
      ]
    },
    {
      "cell_type": "code",
      "execution_count": null,
      "metadata": {
        "execution": {
          "iopub.execute_input": "2022-05-18T21:38:03.387947Z",
          "iopub.status.busy": "2022-05-18T21:38:03.387210Z",
          "iopub.status.idle": "2022-05-18T21:38:03.390175Z",
          "shell.execute_reply": "2022-05-18T21:38:03.389647Z",
          "shell.execute_reply.started": "2022-05-10T21:13:54.37774Z"
        },
        "papermill": {
          "duration": 0.075754,
          "end_time": "2022-05-18T21:38:03.390292",
          "exception": false,
          "start_time": "2022-05-18T21:38:03.314538",
          "status": "completed"
        },
        "tags": [],
        "id": "quTuU5ihMjvX"
      },
      "outputs": [],
      "source": [
        "def categorical_crossentropy_multi_class(y_true,y_pred):\n",
        "    \"\"\"\n",
        "    paper: https://arxiv.org/pdf/1708.02002.pdf\n",
        "    gamma: [0,5]\n",
        "    When γ = 0, FL is equivalent to CE\n",
        "    γ is increased the effect of the modulating factor is likewise increased \n",
        "    they found γ = 2 to work best in their experiments\n",
        "    \"\"\"\n",
        "    gamma = 2\n",
        "    alpha = 0.25\n",
        "    ones = K.ones(K.shape(y_true))\n",
        "    p0 = y_pred      # proba that voxels are class i\n",
        "    p1 = ones-y_pred # proba that voxels are not class i\n",
        "    g0 = y_true\n",
        "    g1 = ones-y_true\n",
        "    # alpha - FP      beta - FN\n",
        "\n",
        "    T = K.sum((K.pow(y_true,gamma)*K.log(y_pred)) + ((1-y_true)**gamma)*K.log(1-y_pred), axis = (0,1,2,3))\n",
        "    T = alpha*K.mean(T)\n",
        "\n",
        "    return -T"
      ]
    },
    {
      "cell_type": "code",
      "execution_count": null,
      "metadata": {
        "execution": {
          "iopub.execute_input": "2022-05-18T21:38:03.554302Z",
          "iopub.status.busy": "2022-05-18T21:38:03.552897Z",
          "iopub.status.idle": "2022-05-18T21:38:03.563269Z",
          "shell.execute_reply": "2022-05-18T21:38:03.565333Z",
          "shell.execute_reply.started": "2022-05-10T21:13:55.005507Z"
        },
        "papermill": {
          "duration": 0.109099,
          "end_time": "2022-05-18T21:38:03.565709",
          "exception": false,
          "start_time": "2022-05-18T21:38:03.456610",
          "status": "completed"
        },
        "tags": [],
        "id": "ph1zSbELMjvY"
      },
      "outputs": [],
      "source": [
        "def focal_loss_mean(y_true, y_pred,gamma=2., alpha=.25):\n",
        "\n",
        "    pt_1 = tf.where(tf.equal(y_true, 1), y_pred, tf.ones_like(y_pred))\n",
        "    pt_0 = tf.where(tf.equal(y_true, 0), y_pred, tf.zeros_like(y_pred))\n",
        "\n",
        "    return -K.mean(alpha * K.pow(1. - pt_1, gamma) * K.log(pt_1+K.epsilon())) - K.mean((1 - alpha) * K.pow(pt_0, gamma) * K.log(1. - pt_0 + K.epsilon()))"
      ]
    },
    {
      "cell_type": "code",
      "execution_count": null,
      "metadata": {
        "execution": {
          "iopub.execute_input": "2022-05-18T21:38:03.813739Z",
          "iopub.status.busy": "2022-05-18T21:38:03.812982Z",
          "iopub.status.idle": "2022-05-18T21:38:03.817279Z",
          "shell.execute_reply": "2022-05-18T21:38:03.817867Z",
          "shell.execute_reply.started": "2022-05-10T21:13:55.507577Z"
        },
        "papermill": {
          "duration": 0.126283,
          "end_time": "2022-05-18T21:38:03.818071",
          "exception": false,
          "start_time": "2022-05-18T21:38:03.691788",
          "status": "completed"
        },
        "tags": [],
        "id": "eUxbKGdrMjva"
      },
      "outputs": [],
      "source": [
        "def focal_loss_sum_mean(y_true, y_pred,gamma=2., alpha=.25):\n",
        "\n",
        "    pt_1 = tf.where(tf.equal(y_true, 1), y_pred, tf.ones_like(y_pred))\n",
        "    pt_0 = tf.where(tf.equal(y_true, 0), y_pred, tf.zeros_like(y_pred))\n",
        "\n",
        "    return -K.sum(alpha * K.mean(K.pow(1. - pt_1, gamma) * K.log(pt_1+K.epsilon()),axis=(0,1,2,3))) - K.sum((1 - alpha) * K.mean(K.pow(pt_0, gamma) * K.log(1. - pt_0 + K.epsilon()),axis=(0,1,2,3)))\n"
      ]
    },
    {
      "cell_type": "code",
      "execution_count": null,
      "metadata": {
        "execution": {
          "iopub.execute_input": "2022-05-18T21:38:04.048023Z",
          "iopub.status.busy": "2022-05-18T21:38:04.047219Z",
          "iopub.status.idle": "2022-05-18T21:38:04.050534Z",
          "shell.execute_reply": "2022-05-18T21:38:04.051117Z",
          "shell.execute_reply.started": "2022-05-10T21:13:56.185163Z"
        },
        "papermill": {
          "duration": 0.122926,
          "end_time": "2022-05-18T21:38:04.051317",
          "exception": false,
          "start_time": "2022-05-18T21:38:03.928391",
          "status": "completed"
        },
        "tags": [],
        "id": "l1dcS1bDMjvb"
      },
      "outputs": [],
      "source": [
        "def weighted_categorical_crossentropy(y_true,y_pred,weights=[1,10,5]):\n",
        "    \"\"\"\n",
        "    A weighted version of keras.objectives.categorical_crossentropy\n",
        "    \n",
        "    Variables:\n",
        "        weights: numpy array of shape (C,) where C is the number of classes\n",
        "\n",
        "    Usage:\n",
        "        weights = np.array([0.5,2,10]) # Class one at 0.5, class 2 twice the normal weights, class 3 10x.\n",
        "        loss = weighted_categorical_crossentropy(weights)\n",
        "        model.compile(loss=loss,optimizer='adam')\n",
        "    \"\"\"\n",
        "    weights = K.variable(weights)\n",
        "    # scale predictions so that the class probas of each sample sum to 1\n",
        "    y_pred /= K.sum(y_pred, axis=-1, keepdims=True)\n",
        "    # clip to prevent NaN's and Inf's\n",
        "    y_pred = K.clip(y_pred, K.epsilon(), 1 - K.epsilon())\n",
        "    # calc\n",
        "    loss = y_true * K.log(y_pred) * weights\n",
        "    loss = -K.sum(loss, -1)\n",
        "    return loss"
      ]
    },
    {
      "cell_type": "code",
      "execution_count": null,
      "metadata": {
        "execution": {
          "iopub.execute_input": "2022-05-18T21:38:04.222617Z",
          "iopub.status.busy": "2022-05-18T21:38:04.221772Z",
          "iopub.status.idle": "2022-05-18T21:38:04.224616Z",
          "shell.execute_reply": "2022-05-18T21:38:04.224198Z",
          "shell.execute_reply.started": "2022-05-10T21:13:56.898101Z"
        },
        "papermill": {
          "duration": 0.083288,
          "end_time": "2022-05-18T21:38:04.224738",
          "exception": false,
          "start_time": "2022-05-18T21:38:04.141450",
          "status": "completed"
        },
        "tags": [],
        "id": "OkZ5Pt5wMjvb"
      },
      "outputs": [],
      "source": [
        "def weighted_categorical_crossentropy_a(y_true,y_pred,weights=[1,10,5]):\n",
        "    \"\"\"\n",
        "    A weighted version of keras.objectives.categorical_crossentropy\n",
        "    \n",
        "    Variables:\n",
        "        weights: numpy array of shape (C,) where C is the number of classes\n",
        "\n",
        "    Usage:\n",
        "        weights = np.array([0.5,2,10]) # Class one at 0.5, class 2 twice the normal weights, class 3 10x.\n",
        "        loss = weighted_categorical_crossentropy(weights)\n",
        "        model.compile(loss=loss,optimizer='adam')\n",
        "    \"\"\"\n",
        "\n",
        "    weights = K.variable(weights)\n",
        "    # scale predictions so that the class probas of each sample sum to 1\n",
        "    y_pred /= K.sum(y_pred, axis=-1, keepdims=True)\n",
        "    # clip to prevent NaN's and Inf's\n",
        "    y_pred = K.clip(y_pred, K.epsilon(), 1 - K.epsilon())\n",
        "    # calc\n",
        "    loss = y_true * K.log(y_pred) * weights\n",
        "    loss = -K.mean(loss)\n",
        "    return loss\n",
        "\n",
        "  "
      ]
    },
    {
      "cell_type": "code",
      "execution_count": null,
      "metadata": {
        "execution": {
          "iopub.execute_input": "2022-05-18T21:38:04.365505Z",
          "iopub.status.busy": "2022-05-18T21:38:04.364687Z",
          "iopub.status.idle": "2022-05-18T21:38:04.368257Z",
          "shell.execute_reply": "2022-05-18T21:38:04.367749Z",
          "shell.execute_reply.started": "2022-05-10T21:13:57.675931Z"
        },
        "papermill": {
          "duration": 0.07708,
          "end_time": "2022-05-18T21:38:04.368387",
          "exception": false,
          "start_time": "2022-05-18T21:38:04.291307",
          "status": "completed"
        },
        "tags": [],
        "id": "ggvXD6ovMjvd"
      },
      "outputs": [],
      "source": [
        "\n",
        "def weighted_categorical_crossentropy_inverse(y_true,y_pred):\n",
        "    #     A weighted version of keras.objectives.categorical_crossentropy\n",
        "    \"\"\"\n",
        "     Variables:\n",
        "         weights: numpy array of shape (C,) where C is the number of classes\n",
        "\n",
        "     Usage:\n",
        "         weights = np.array([0.5,2,10]) # Class one at 0.5, class 2 twice the normal weights, class 3 10x.\n",
        "         loss = weighted_categorical_crossentropy(weights)\n",
        "         model.compile(loss=loss,optimizer='adam')\n",
        "     \"\"\"\n",
        "    \n",
        "    N = K.sum(K.ones(y_true.shape[1:-1]))\n",
        "    N = tf.cast(N,tf.float32)\n",
        "    \n",
        "#     weights = K.variable(weights)\n",
        "\n",
        "    weights = 1/K.sum(y_true,axis=(0,1,2,3))\n",
        "    \n",
        "    # scale predictions so that the class probas of each sample sum to 1\n",
        "#     y_pred /= K.sum(y_pred, axis=-1, keepdims=True)\n",
        "    \n",
        "    # clip to prevent NaN's and Inf's\n",
        "    y_pred = K.clip(y_pred, K.epsilon(), 1 - K.epsilon())\n",
        "    loss = K.sum(y_true * K.log(y_pred) * weights,axis=-1)\n",
        "    loss = loss * 1/N\n",
        "    # calc\n",
        "    \n",
        "    return -loss"
      ]
    },
    {
      "cell_type": "code",
      "execution_count": null,
      "metadata": {
        "execution": {
          "iopub.execute_input": "2022-05-18T21:38:04.510421Z",
          "iopub.status.busy": "2022-05-18T21:38:04.509581Z",
          "iopub.status.idle": "2022-05-18T21:38:04.512475Z",
          "shell.execute_reply": "2022-05-18T21:38:04.511966Z",
          "shell.execute_reply.started": "2022-05-10T21:13:58.207614Z"
        },
        "papermill": {
          "duration": 0.077198,
          "end_time": "2022-05-18T21:38:04.512604",
          "exception": false,
          "start_time": "2022-05-18T21:38:04.435406",
          "status": "completed"
        },
        "tags": [],
        "id": "lKuvH431Mjve"
      },
      "outputs": [],
      "source": [
        "def weighted_categorical_crossentropy_median(y_true,y_pred):\n",
        "    #     A weighted version of keras.objectives.categorical_crossentropy\n",
        "    \"\"\"\n",
        "     Variables:\n",
        "         weights: numpy array of shape (C,) where C is the number of classes\n",
        "\n",
        "     Usage:\n",
        "         weights = np.array([0.5,2,10]) # Class one at 0.5, class 2 twice the normal weights, class 3 10x.\n",
        "         loss = weighted_categorical_crossentropy(weights)\n",
        "         model.compile(loss=loss,optimizer='adam')\n",
        "     \"\"\"\n",
        "    \n",
        "    N = K.sum(K.ones(y_true.shape[1:-1]))\n",
        "    N = tf.cast(N,tf.float32)\n",
        "    \n",
        "    Fc = K.sum(y_true,axis=(0,1,2,3))/N\n",
        "    medianFc= K.mean(Fc)\n",
        "#     weights = K.variable(weights)\n",
        "\n",
        "    weights = medianFc/Fc\n",
        "    \n",
        "    # scale predictions so that the class probas of each sample sum to 1\n",
        "#     y_pred /= K.sum(y_pred, axis=-1, keepdims=True)\n",
        "    \n",
        "    # clip to prevent NaN's and Inf's\n",
        "    y_pred = K.clip(y_pred, K.epsilon(), 1 - K.epsilon())\n",
        "    loss = K.sum(y_true * K.log(y_pred) * weights,axis=-1)\n",
        "    \n",
        "    loss = loss * 1/N\n",
        "    # calc\n",
        "    return - loss"
      ]
    },
    {
      "cell_type": "code",
      "execution_count": null,
      "metadata": {
        "execution": {
          "iopub.execute_input": "2022-05-18T21:38:04.653482Z",
          "iopub.status.busy": "2022-05-18T21:38:04.652687Z",
          "iopub.status.idle": "2022-05-18T21:38:04.655518Z",
          "shell.execute_reply": "2022-05-18T21:38:04.655061Z",
          "shell.execute_reply.started": "2022-05-10T21:13:58.795059Z"
        },
        "papermill": {
          "duration": 0.074971,
          "end_time": "2022-05-18T21:38:04.655637",
          "exception": false,
          "start_time": "2022-05-18T21:38:04.580666",
          "status": "completed"
        },
        "tags": [],
        "id": "u9Or2795Mjvg"
      },
      "outputs": [],
      "source": [
        "def weighted_categorical_crossentropy_focal(y_true,y_pred):\n",
        "    \"\"\"\n",
        "     Variables:\n",
        "         weights: numpy array of shape (C,) where C is the number of classes\n",
        "\n",
        "     Usage:\n",
        "         weights = np.array([0.5,2,10]) # Class one at 0.5, class 2 twice the normal weights, class 3 10x.\n",
        "         loss = weighted_categorical_crossentropy(weights)\n",
        "         model.compile(loss=loss,optimizer='adam')\n",
        "     \"\"\"\n",
        "    N = K.sum(K.ones(y_true.shape[1:-1]))\n",
        "    N = tf.cast(N,tf.float32)\n",
        "\n",
        "    # clip to prevent NaN's and Inf's\n",
        "    y_pred = K.clip(y_pred, K.epsilon(), 1 - K.epsilon())\n",
        "    loss = K.sum(y_true * (1-y_pred) * (1-y_pred) * K.log(y_pred),axis=-1)\n",
        "\n",
        "    loss = loss * 1/N\n",
        "    # calc\n",
        "    return - loss"
      ]
    },
    {
      "cell_type": "code",
      "execution_count": null,
      "metadata": {
        "execution": {
          "iopub.execute_input": "2022-05-18T21:38:04.797652Z",
          "iopub.status.busy": "2022-05-18T21:38:04.796874Z",
          "iopub.status.idle": "2022-05-18T21:38:04.799980Z",
          "shell.execute_reply": "2022-05-18T21:38:04.799479Z",
          "shell.execute_reply.started": "2022-05-10T21:13:59.279318Z"
        },
        "papermill": {
          "duration": 0.075073,
          "end_time": "2022-05-18T21:38:04.800118",
          "exception": false,
          "start_time": "2022-05-18T21:38:04.725045",
          "status": "completed"
        },
        "tags": [],
        "id": "ZdwX-eq-Mjvh"
      },
      "outputs": [],
      "source": [
        "def ELL_Dice(y_true,y_pred,gamma=1):\n",
        "    num = K.sum(2*y_true*y_pred + 1.,axis=(0,1,2,3))\n",
        "    dem = K.sum(y_true+y_pred +1.,axis=(0,1,2,3))\n",
        "    dice = num/dem\n",
        "    dice = K.mean(K.pow(-K.log(dice),gamma))\n",
        "    return dice"
      ]
    },
    {
      "cell_type": "code",
      "execution_count": null,
      "metadata": {
        "execution": {
          "iopub.execute_input": "2022-05-18T21:38:04.940532Z",
          "iopub.status.busy": "2022-05-18T21:38:04.939687Z",
          "iopub.status.idle": "2022-05-18T21:38:04.942525Z",
          "shell.execute_reply": "2022-05-18T21:38:04.942113Z",
          "shell.execute_reply.started": "2022-05-10T21:14:00.025819Z"
        },
        "papermill": {
          "duration": 0.074695,
          "end_time": "2022-05-18T21:38:04.942642",
          "exception": false,
          "start_time": "2022-05-18T21:38:04.867947",
          "status": "completed"
        },
        "tags": [],
        "id": "-CFNa3IhMjvi"
      },
      "outputs": [],
      "source": [
        "def ELL(y_true,y_pred):\n",
        "    \"\"\"\n",
        "\n",
        "    \"\"\"\n",
        "    weight = K.sum(y_pred,axis=(0,1,2,3))\n",
        "    weight = weight/K.sum(y_true,axis=(0,1,2,3))\n",
        "    T = K.mean(weight*y_true*K.log(y_pred))\n",
        "    D = ELL_Dice(y_true,y_pred)\n",
        "    return T + D"
      ]
    },
    {
      "cell_type": "code",
      "execution_count": null,
      "metadata": {
        "execution": {
          "iopub.execute_input": "2022-05-18T21:38:05.077950Z",
          "iopub.status.busy": "2022-05-18T21:38:05.077235Z",
          "iopub.status.idle": "2022-05-18T21:38:05.080541Z",
          "shell.execute_reply": "2022-05-18T21:38:05.080060Z",
          "shell.execute_reply.started": "2022-05-10T21:14:01.187643Z"
        },
        "papermill": {
          "duration": 0.072262,
          "end_time": "2022-05-18T21:38:05.080653",
          "exception": false,
          "start_time": "2022-05-18T21:38:05.008391",
          "status": "completed"
        },
        "tags": [],
        "id": "E2It4U_-Mjvj"
      },
      "outputs": [],
      "source": [
        "# def focal_loss_with_logits(logits, targets, alpha, gamma, y_pred):\n",
        "#     weight_a = alpha * (1 - y_pred) ** gamma * targets\n",
        "#     weight_b = (1 - alpha) * y_pred ** gamma * (1 - targets)\n",
        "\n",
        "#     return (tf.log1p(tf.exp(-tf.abs(logits))) + tf.nn.relu(-logits)) * (weight_a + weight_b) + logits * weight_b \n",
        "\n",
        "\n",
        "# def focal_loss(y_true, y_pred):\n",
        "#     y_pred = tf.clip_by_value(y_pred, tf.keras.backend.epsilon(), 1 - tf.keras.backend.epsilon())\n",
        "#     logits = tf.log(y_pred / (1 - y_pred))\n",
        "\n",
        "#     loss = focshow_labelsal_loss_with_logits(logits=logits, targets=y_true, alpha=alpha, gamma=gamma, y_pred=y_pred)\n",
        "\n",
        "#     return tf.reduce_mean(loss)"
      ]
    },
    {
      "cell_type": "code",
      "execution_count": null,
      "metadata": {
        "execution": {
          "iopub.execute_input": "2022-05-18T21:38:05.218692Z",
          "iopub.status.busy": "2022-05-18T21:38:05.218029Z",
          "iopub.status.idle": "2022-05-18T21:38:05.221246Z",
          "shell.execute_reply": "2022-05-18T21:38:05.220831Z",
          "shell.execute_reply.started": "2022-05-10T21:14:02.045364Z"
        },
        "papermill": {
          "duration": 0.074741,
          "end_time": "2022-05-18T21:38:05.221362",
          "exception": false,
          "start_time": "2022-05-18T21:38:05.146621",
          "status": "completed"
        },
        "tags": [],
        "id": "7trWv57yMjvk"
      },
      "outputs": [],
      "source": [
        "# def weighted_categorical_crossentropy_median(y_true,y_pred,weights=[1,10,5]):\n",
        "#     \"\"\"\n",
        "#     A weighted version of keras.objectives.categorical_crossentropy\n",
        "    \n",
        "#     Variables:\n",
        "#         weights: numpy array of shape (C,) where C is the number of classes\n",
        "\n",
        "#     Usage:\n",
        "#         weights = np.array([0.5,2,10]) # Class one at 0.5, class 2 twice the normal weights, class 3 10x.\n",
        "#         loss = weighted_categorical_crossentropy(weights)\n",
        "#         model.compile(loss=loss,optimizer='adam')\n",
        "#     \"\"\"\n",
        "#     # scale predictions so that the class probas of each sample sum to 1\n",
        "#     N_m = K.ones(y_true.shape)\n",
        "#     N = K.sum(N_m)\n",
        "#     Fc = K.sum(y_true/N, axis=(0,1,2,3))\n",
        "#     weights = K.mean(Fc)/Fc\n",
        "\n",
        "#     # clip to prevent NaN's and Inf's\n",
        "#     y_pred = K.clip(y_pred, K.epsilon(), 1 - K.epsilon())\n",
        "\n",
        "#     loss = K.sum(y_true*K.log(y_pred),axis=(0,1,2,3)) * weights\n",
        "#     loss = -(1/K.sum(N)) *K.sum(loss)\n",
        "#     return loss\n",
        "\n",
        "# # DPT and Focal and DTM"
      ]
    },
    {
      "cell_type": "code",
      "execution_count": null,
      "metadata": {
        "execution": {
          "iopub.execute_input": "2022-05-18T21:38:05.359406Z",
          "iopub.status.busy": "2022-05-18T21:38:05.358531Z",
          "iopub.status.idle": "2022-05-18T21:38:05.361706Z",
          "shell.execute_reply": "2022-05-18T21:38:05.361288Z",
          "shell.execute_reply.started": "2022-05-10T21:14:03.017663Z"
        },
        "papermill": {
          "duration": 0.074475,
          "end_time": "2022-05-18T21:38:05.361843",
          "exception": false,
          "start_time": "2022-05-18T21:38:05.287368",
          "status": "completed"
        },
        "tags": [],
        "id": "c-MVN28nMjvl"
      },
      "outputs": [],
      "source": [
        "# m=categorical_crossentropy(y_test,y_test)\n",
        "# m"
      ]
    },
    {
      "cell_type": "code",
      "execution_count": null,
      "metadata": {
        "execution": {
          "iopub.execute_input": "2022-05-18T21:38:05.500104Z",
          "iopub.status.busy": "2022-05-18T21:38:05.499211Z",
          "iopub.status.idle": "2022-05-18T21:38:05.502687Z",
          "shell.execute_reply": "2022-05-18T21:38:05.502074Z",
          "shell.execute_reply.started": "2022-05-10T21:14:03.474771Z"
        },
        "papermill": {
          "duration": 0.073189,
          "end_time": "2022-05-18T21:38:05.502824",
          "exception": false,
          "start_time": "2022-05-18T21:38:05.429635",
          "status": "completed"
        },
        "tags": [],
        "id": "VhrgUKiWMjvm"
      },
      "outputs": [],
      "source": [
        "# -K.sum(m)/K.sum(K.ones(m.shape))"
      ]
    },
    {
      "cell_type": "markdown",
      "metadata": {
        "papermill": {
          "duration": 0.066493,
          "end_time": "2022-05-18T21:38:05.638276",
          "exception": false,
          "start_time": "2022-05-18T21:38:05.571783",
          "status": "completed"
        },
        "tags": [],
        "id": "0AfCvU7jMjvn"
      },
      "source": [
        "# Loading the model"
      ]
    },
    {
      "cell_type": "code",
      "execution_count": null,
      "metadata": {
        "execution": {
          "iopub.execute_input": "2022-05-18T21:38:05.778382Z",
          "iopub.status.busy": "2022-05-18T21:38:05.777541Z",
          "iopub.status.idle": "2022-05-18T21:38:05.780982Z",
          "shell.execute_reply": "2022-05-18T21:38:05.780532Z",
          "shell.execute_reply.started": "2022-05-10T20:42:13.399674Z"
        },
        "papermill": {
          "duration": 0.075991,
          "end_time": "2022-05-18T21:38:05.781108",
          "exception": false,
          "start_time": "2022-05-18T21:38:05.705117",
          "status": "completed"
        },
        "tags": [],
        "id": "QaFbwIOkMjvo"
      },
      "outputs": [],
      "source": [
        "# # FOR LOADING AN ALREADY TRAINED MODEL\n",
        "\n",
        "# dependencies = {\n",
        "#     'dice_coefficient' : dice_coefficient,\n",
        "#     'auc' : auc,\n",
        "#     'confusion' : confusion,\n",
        "#     'tversky_loss' : tversky_loss,\n",
        "#     'weighted_categorical_crossentropy': weighted_categorical_crossentropy\n",
        "# }\n",
        "\n",
        "# # # import tensorflow as tf\n",
        "# # # mdel=tf.keras.models.load_model(\"../input/modele-antrenate/model_antrenat.h5\",custom_objects=dependencies)\n",
        "\n",
        "# import tensorflow as tf\n",
        "# model_unet_3d=tf.keras.models.load_model(\"../input/modele-antrenate/model_antrenat_weigh_cat_cross_40_epochs_scenariu_1.h5\", custom_objects=dependencies)"
      ]
    },
    {
      "cell_type": "code",
      "execution_count": null,
      "metadata": {
        "execution": {
          "iopub.execute_input": "2022-05-18T21:38:05.920468Z",
          "iopub.status.busy": "2022-05-18T21:38:05.919565Z",
          "iopub.status.idle": "2022-05-18T21:38:05.922588Z",
          "shell.execute_reply": "2022-05-18T21:38:05.922084Z",
          "shell.execute_reply.started": "2022-05-10T20:42:13.406017Z"
        },
        "papermill": {
          "duration": 0.074446,
          "end_time": "2022-05-18T21:38:05.922702",
          "exception": false,
          "start_time": "2022-05-18T21:38:05.848256",
          "status": "completed"
        },
        "tags": [],
        "id": "QK810JYrMjvp"
      },
      "outputs": [],
      "source": [
        "# # # FOR LOADING AN ALREADY TRAINED MODEL\n",
        "\n",
        "# dependencies = {\n",
        "#     'dice_coefficient' : dice_coefficient,\n",
        "#     'auc' : auc,\n",
        "#     'confusion' : confusion,\n",
        "#     'tversky_loss' : tversky_loss,\n",
        "#     'weighted_categorical_crossentropy': weighted_categorical_crossentropy\n",
        "# }\n",
        "\n",
        "# # # import tensorflow as tf\n",
        "# # # mdel=tf.keras.models.load_model(\"../input/modele-antrenate/model_antrenat.h5\",custom_objects=dependencies)\n",
        "\n",
        "# import tensorflow as tf\n",
        "# model_unet_3d_5lvl_sc1=tf.keras.models.load_model(\"../input/modele-antrenate/model_antrenat_2_weigh_cat_cross_40_epochs_scenariu_1.h5\", custom_objects=dependencies)"
      ]
    },
    {
      "cell_type": "code",
      "execution_count": null,
      "metadata": {
        "execution": {
          "iopub.execute_input": "2022-05-18T21:38:06.059642Z",
          "iopub.status.busy": "2022-05-18T21:38:06.058730Z",
          "iopub.status.idle": "2022-05-18T21:38:06.061783Z",
          "shell.execute_reply": "2022-05-18T21:38:06.061266Z",
          "shell.execute_reply.started": "2022-05-10T21:14:19.746021Z"
        },
        "papermill": {
          "duration": 0.073134,
          "end_time": "2022-05-18T21:38:06.061913",
          "exception": false,
          "start_time": "2022-05-18T21:38:05.988779",
          "status": "completed"
        },
        "tags": [],
        "id": "fVC4HfjWMjvr"
      },
      "outputs": [],
      "source": [
        "# # FOR LOADING AN ALREADY TRAINED MODEL\n",
        "# dependencies = {\n",
        "#     'dice_coefficient' : dice_coefficient,\n",
        "#     'auc' : auc,\n",
        "#     'confusion' : confusion,\n",
        "#     'tversky_loss' : tversky_loss,\n",
        "#     'weighted_categorical_crossentropy': weighted_categorical_crossentropy\n",
        "# }\n",
        "\n",
        "# import tensorflow as tf\n",
        "# model_unet_3d=tf.keras.models.load_model(\"../input/movel-lvl5/U-Net_nuclei.h5\", custom_objects=dependencies)"
      ]
    },
    {
      "cell_type": "markdown",
      "metadata": {
        "id": "7GPzWc14BpxV",
        "papermill": {
          "duration": 0.066571,
          "end_time": "2022-05-18T21:38:06.195375",
          "exception": false,
          "start_time": "2022-05-18T21:38:06.128804",
          "status": "completed"
        },
        "tags": []
      },
      "source": [
        "# Crearea modelului \n",
        "\n",
        "\n",
        "#### Pentru crearea modelului s-a folosit o arhitectura similara cu ce este propus in articolul:\n",
        "Dolz, J., Xu, X., Rony, J., Yuan, J., Liu, Y., Granger, E., Desrosiers, C., Zhang, X., Ben Ayed, I., & Lu, H. (2018). Multiregion segmentation of bladder cancer structures in MRI with progressive dilated convolutional networks. Medical Physics, 45(12), 5482–5493. https://doi.org/10.1002/mp.13240\n",
        "\n",
        "![image.png](attachment:image.png)\n",
        "\n",
        "Modelul are o adancime de 6 nivele si este format din doua parti: *Encoder* si *Decoder*\n",
        "\n",
        "Encoder-ul este alcatuit in felul urmator:\n",
        "- 15 layere convolutionale (urmate de BatchNormalization + activare folosind PReLU) in care se alterneaza rata de dilatare de la 1 la 2 si respectiv 4) in care primul layer pentru fiecare adancime are strides= 2\n",
        "- un \"bridge\" bloc format din 2 layere convolutionale(fiecare cu normalizare si PReLU) si un bloc rezidual\n",
        "\n",
        "Decoder-ul este alcatuit in felul urmator:\n",
        "- 6 adancimi, la inceputul fiecarei adancimi are loc UpSampling3D, pentru a se reveni la forma initiala urmat de 2 layere convolutionale(cu BatchNormalization si PReLU)\n",
        "- In final se aplica un layer convolutional cu 3 filtere si kernel_size=(1,1,1)(sunt 3 filtere deoarece numarul de clase in care vrem sa impartim imaginea este 3) cu BatchNormalization si PReLU urmat de un layer de activare Softmax \n",
        "\n",
        "**Modelul este diferit fata de cel implementat in articol prin faptul ca adancimea este 6 si nu 5**\n",
        "\n"
      ]
    },
    {
      "cell_type": "code",
      "execution_count": null,
      "metadata": {
        "execution": {
          "iopub.execute_input": "2022-05-18T21:38:06.349885Z",
          "iopub.status.busy": "2022-05-18T21:38:06.349088Z",
          "iopub.status.idle": "2022-05-18T21:38:06.351844Z",
          "shell.execute_reply": "2022-05-18T21:38:06.351416Z",
          "shell.execute_reply.started": "2021-12-16T10:54:41.680476Z"
        },
        "id": "hbzpcuttbRmS",
        "papermill": {
          "duration": 0.089336,
          "end_time": "2022-05-18T21:38:06.352053",
          "exception": false,
          "start_time": "2022-05-18T21:38:06.262717",
          "status": "completed"
        },
        "tags": []
      },
      "outputs": [],
      "source": [
        "def convolutional_layer(layer,n_filters,dilation_rate=1,strides=1,padding='same'):\n",
        "    \"\"\"\n",
        "    Crearea unui layer convolutional pe baza celui vechi, caruia i se aplica BatchNormalization si activare PReLU\n",
        "    :param layer: layer-ul curent\n",
        "    :param n_filters:(int) numarul de filtere pe care o sa-l aiba noul layer\n",
        "    :param dilation_rate:(int) rata de dilatare pe care o sa-l aiba noul layer\n",
        "    :param strides:(int) numarul de strides pe care o sa-l aiba noul layer\n",
        "    :param padding:(string) ce fel de padding o sa aiba noul layer\n",
        "    :returns:\n",
        "    noul layer\n",
        "    \"\"\"\n",
        "    layer2 = Conv3D(n_filters, kernel_size=(3,3,3), padding=padding, strides=strides,dilation_rate=dilation_rate)(layer)\n",
        "    layer2=BatchNormalization(axis=-1)(layer2)\n",
        "    layer2=PReLU()(layer2)\n",
        "    \n",
        "    return layer2\n",
        "\n",
        "\n",
        "def model_6lvl(input_shape,initial_learning_rate=1e-4):\n",
        "    \"\"\"\n",
        "    Crearea modelului 3DUnet\n",
        "    :param input_shape:care este shape-ul datelor \n",
        "    :param initial_learning_rate: rata de invatare a modelului\n",
        "    :returns:\n",
        "    modelul compilat\n",
        "    \"\"\"\n",
        "    inputs = Input(input_shape)\n",
        "\n",
        "    #Encoder\n",
        "\n",
        "    #Level1\n",
        "    current_layer = inputs\n",
        "    conv1 = convolutional_layer(current_layer,n_filters=32,dilation_rate=1)\n",
        "    conv1= convolutional_layer(conv1,n_filters=32,dilation_rate=2)\n",
        "    conv1= convolutional_layer(conv1,n_filters=32,dilation_rate=4)\n",
        "    merge = conv1\n",
        "    \n",
        "    #Level 2\n",
        "    conv2= convolutional_layer(conv1,n_filters=64,dilation_rate=1,strides=2)\n",
        "    conv2= convolutional_layer(conv2,n_filters=64,dilation_rate=2)\n",
        "    conv2= convolutional_layer(conv2,n_filters=64,dilation_rate=4)\n",
        "\n",
        "    #Level 3\n",
        "    conv3= convolutional_layer(conv2,n_filters=128,dilation_rate=1,strides=2)\n",
        "    conv3= convolutional_layer(conv3,n_filters=128,dilation_rate=2)\n",
        "    conv3= convolutional_layer(conv3,n_filters=128,dilation_rate=4)\n",
        "\n",
        "    #Level 4\n",
        "    conv4= convolutional_layer(conv3,n_filters=256,dilation_rate=1,strides=2)\n",
        "    conv4= convolutional_layer(conv4,n_filters=256,dilation_rate=2)\n",
        "    conv4= convolutional_layer(conv4,n_filters=256,dilation_rate=4)\n",
        "\n",
        "    #Level 5\n",
        "    conv4_5= convolutional_layer(conv4,n_filters=512,dilation_rate=1,strides=2)\n",
        "    conv4_5= convolutional_layer(conv4_5,n_filters=512,dilation_rate=2)\n",
        "    conv4_5= convolutional_layer(conv4_5,n_filters=512,dilation_rate=4)\n",
        "\n",
        "    #Level 6\n",
        "    conv5 = convolutional_layer(conv4_5,n_filters=1024,dilation_rate=1,strides=2)\n",
        "\n",
        "    #Residual Block\n",
        "    res_block = convolutional_layer(conv5,n_filters=1024,dilation_rate=1)\n",
        "    res_block_shortcut = res_block\n",
        "\n",
        "    res_block =  Conv3D(1024, kernel_size=(3,3,3), padding='same', strides=1,dilation_rate=1)(res_block)\n",
        "    res_block =  PReLU()(res_block)\n",
        "    res_block = Conv3D(1024, kernel_size=(3,3,3), padding='same', strides=1,dilation_rate=1)(res_block)\n",
        "    res_block = Add()([res_block,res_block_shortcut])\n",
        "    res_block = PReLU()(res_block)\n",
        "\n",
        "    res_block = convolutional_layer(res_block,n_filters=1024,dilation_rate=1)\n",
        "    #Decoder\n",
        "\n",
        "    #Up 1.5\n",
        "\n",
        "    conv6_5=UpSampling3D(size=(2,2,2))(res_block)\n",
        "    merge6_5=concatenate([conv6_5,conv4_5])\n",
        "    up6_5= convolutional_layer(merge6_5,n_filters=512)\n",
        "    up6_5= convolutional_layer(up6_5,n_filters=512)\n",
        "\n",
        "    #Up 1\n",
        "    conv6=UpSampling3D(size=(2,2,2))(up6_5)\n",
        "    merge6=concatenate([conv6,conv4])\n",
        "    up6= convolutional_layer(merge6,n_filters=256)\n",
        "    up6= convolutional_layer(up6,n_filters=256)\n",
        "\n",
        "    #Up 2\n",
        "\n",
        "    conv7=UpSampling3D(size=2)(up6)\n",
        "    merge7=concatenate([conv7,conv3])\n",
        "    up7= convolutional_layer(merge7,n_filters=128)\n",
        "    up7= convolutional_layer(up7,n_filters=128)\n",
        "    \n",
        "    #Up 3\n",
        "\n",
        "    conv8=UpSampling3D(size=2)(up7)\n",
        "    merge8=concatenate([conv8,conv2])\n",
        "    up8= convolutional_layer(merge8,n_filters=64)\n",
        "    up8= convolutional_layer(up8,n_filters=64)\n",
        "\n",
        "    #Up 2\n",
        "\n",
        "    conv9=UpSampling3D(size=2)(up8)\n",
        "    merge9=concatenate([conv9,merge])\n",
        "    up9= convolutional_layer(merge9,n_filters=32)\n",
        "    up9= convolutional_layer(up9,n_filters=32)\n",
        "    up9= Conv3D(3, kernel_size=(1,1,1), padding='same', strides=1,dilation_rate=1)(up9)\n",
        "    final =Softmax()(up9)\n",
        "\n",
        "    model = Model(inputs=inputs, outputs=final)\n",
        "    model.compile(optimizer=Adam(lr=initial_learning_rate), loss=categorical_crossentropy,metrics=['accuracy', auc, dice_coefficient, confusion, tanimoto_coefficient])\n",
        "    model.summary()\n",
        "    return model"
      ]
    },
    {
      "cell_type": "code",
      "execution_count": null,
      "metadata": {
        "execution": {
          "iopub.execute_input": "2022-05-18T21:38:06.513706Z",
          "iopub.status.busy": "2022-05-18T21:38:06.512756Z",
          "iopub.status.idle": "2022-05-18T21:38:06.515743Z",
          "shell.execute_reply": "2022-05-18T21:38:06.515225Z",
          "shell.execute_reply.started": "2021-12-16T10:54:41.715335Z"
        },
        "papermill": {
          "duration": 0.091771,
          "end_time": "2022-05-18T21:38:06.515890",
          "exception": false,
          "start_time": "2022-05-18T21:38:06.424119",
          "status": "completed"
        },
        "tags": [],
        "id": "WdCF-NWOMjvu"
      },
      "outputs": [],
      "source": [
        "def convolutional_layer(layer,n_filters,dilation_rate=1,strides=1,padding='same'):\n",
        "    \"\"\"\n",
        "    Crearea unui layer convolutional pe baza celui vechi, caruia i se aplica BatchNormalization si activare PReLU\n",
        "    :param layer: layer-ul curent\n",
        "    :param n_filters:(int) numarul de filtere pe care o sa-l aiba noul layer\n",
        "    :param dilation_rate:(int) rata de dilatare pe care o sa-l aiba noul layer\n",
        "    :param strides:(int) numarul de strides pe care o sa-l aiba noul layer\n",
        "    :param padding:(string) ce fel de padding o sa aiba noul layer\n",
        "    :returns:\n",
        "    noul layer\n",
        "    \"\"\"\n",
        "    layer2 = Conv3D(n_filters, kernel_size=(3,3,3), padding=padding, strides=strides,dilation_rate=dilation_rate)(layer)\n",
        "    layer2=BatchNormalization(axis=-1)(layer2)\n",
        "    layer2=PReLU()(layer2)\n",
        "    \n",
        "    return layer2\n",
        "\n",
        "\n",
        "def model_5lvl(input_shape,initial_learning_rate=1e-4):\n",
        "    \"\"\"\n",
        "    Crearea modelului 3DUnet\n",
        "    :param input_shape:care este shape-ul datelor \n",
        "    :param initial_learning_rate: rata de invatare a modelului\n",
        "    :returns:\n",
        "    modelul compilat\n",
        "    \"\"\"\n",
        "    inputs = Input(input_shape)\n",
        "\n",
        "    #Encoder\n",
        "\n",
        "    #Level1\n",
        "    current_layer = inputs\n",
        "    conv1 = convolutional_layer(current_layer,n_filters=32,dilation_rate=1)\n",
        "    conv1= convolutional_layer(conv1,n_filters=32,dilation_rate=2)\n",
        "    conv1= convolutional_layer(conv1,n_filters=32,dilation_rate=4)\n",
        "    merge = conv1\n",
        "    \n",
        "    #Level 2\n",
        "    conv2= convolutional_layer(conv1,n_filters=64,dilation_rate=1,strides=2)\n",
        "    conv2= convolutional_layer(conv2,n_filters=64,dilation_rate=2)\n",
        "    conv2= convolutional_layer(conv2,n_filters=64,dilation_rate=4)\n",
        "\n",
        "    #Level 3\n",
        "    conv3= convolutional_layer(conv2,n_filters=128,dilation_rate=1,strides=2)\n",
        "    conv3= convolutional_layer(conv3,n_filters=128,dilation_rate=2)\n",
        "    conv3= convolutional_layer(conv3,n_filters=128,dilation_rate=4)\n",
        "\n",
        "    #Level 4\n",
        "    conv4= convolutional_layer(conv3,n_filters=256,dilation_rate=1,strides=2)\n",
        "    conv4= convolutional_layer(conv4,n_filters=256,dilation_rate=2)\n",
        "    conv4= convolutional_layer(conv4,n_filters=256,dilation_rate=4)\n",
        "\n",
        "    #Level 5\n",
        "    conv5= convolutional_layer(conv4,n_filters=512,dilation_rate=1,strides=2)\n",
        "  \n",
        "\n",
        "    #Residual Block\n",
        "    res_block = convolutional_layer(conv5,n_filters=512,dilation_rate=1)\n",
        "    res_block_shortcut = res_block\n",
        "\n",
        "    res_block =  Conv3D(512, kernel_size=(3,3,3), padding='same', strides=1,dilation_rate=1)(res_block)\n",
        "    res_block =  PReLU()(res_block)\n",
        "    res_block = Conv3D(512, kernel_size=(3,3,3), padding='same', strides=1,dilation_rate=1)(res_block)\n",
        "    res_block = Add()([res_block,res_block_shortcut])\n",
        "    res_block = PReLU()(res_block)\n",
        "\n",
        "    res_block = convolutional_layer(res_block,n_filters=512,dilation_rate=1)\n",
        "    #Decoder\n",
        " \n",
        "    #Up 1\n",
        "    conv6=UpSampling3D(size=(2,2,2))(res_block)\n",
        "    merge6=concatenate([conv6,conv4])\n",
        "    up6= convolutional_layer(merge6,n_filters=256)\n",
        "    up6= convolutional_layer(up6,n_filters=256)\n",
        "\n",
        "    #Up 2\n",
        "\n",
        "    conv7=UpSampling3D(size=2)(up6)\n",
        "    merge7=concatenate([conv7,conv3])\n",
        "    up7= convolutional_layer(merge7,n_filters=128)\n",
        "    up7= convolutional_layer(up7,n_filters=128)\n",
        "    \n",
        "    #Up 3\n",
        "\n",
        "    conv8=UpSampling3D(size=2)(up7)\n",
        "    merge8=concatenate([conv8,conv2])\n",
        "    up8= convolutional_layer(merge8,n_filters=64)\n",
        "    up8= convolutional_layer(up8,n_filters=64)\n",
        "\n",
        "    #Up 4\n",
        "\n",
        "    conv9=UpSampling3D(size=2)(up8)\n",
        "    merge9=concatenate([conv9,merge])\n",
        "    up9= convolutional_layer(merge9,n_filters=32)\n",
        "    up9= convolutional_layer(up9,n_filters=32)\n",
        "    up9= Conv3D(3, kernel_size=(1,1,1), padding='same', strides=1,dilation_rate=1)(up9)\n",
        "    final =Softmax()(up9)\n",
        "\n",
        "    model = Model(inputs=inputs, outputs=final)\n",
        "    model.compile(optimizer=Adam(lr=initial_learning_rate), loss=categorical_crossentropy,metrics=['accuracy', auc, dice_coefficient, confusion, tanimoto_coefficient])\n",
        "    model.summary()\n",
        "    return model"
      ]
    },
    {
      "cell_type": "code",
      "execution_count": null,
      "metadata": {
        "execution": {
          "iopub.execute_input": "2022-05-18T21:38:06.665885Z",
          "iopub.status.busy": "2022-05-18T21:38:06.665035Z",
          "iopub.status.idle": "2022-05-18T21:38:06.667520Z",
          "shell.execute_reply": "2022-05-18T21:38:06.667903Z",
          "shell.execute_reply.started": "2021-12-16T10:54:41.741546Z"
        },
        "papermill": {
          "duration": 0.085221,
          "end_time": "2022-05-18T21:38:06.668049",
          "exception": false,
          "start_time": "2022-05-18T21:38:06.582828",
          "status": "completed"
        },
        "tags": [],
        "id": "NHO6_pN8Mjvv"
      },
      "outputs": [],
      "source": [
        "def convolutional_layer(layer,n_filters,dilation_rate=1,strides=1,padding='same'):\n",
        "    \"\"\"\n",
        "    Crearea unui layer convolutional pe baza celui vechi, caruia i se aplica BatchNormalization si activare PReLU\n",
        "    :param layer: layer-ul curent\n",
        "    :param n_filters:(int) numarul de filtere pe care o sa-l aiba noul layer\n",
        "    :param dilation_rate:(int) rata de dilatare pe care o sa-l aiba noul layer\n",
        "    :param strides:(int) numarul de strides pe care o sa-l aiba noul layer\n",
        "    :param padding:(string) ce fel de padding o sa aiba noul layer\n",
        "    :returns:\n",
        "    noul layer\n",
        "    \"\"\"\n",
        "    layer2 = Conv3D(n_filters, kernel_size=(3,3,3), padding=padding, strides=strides,dilation_rate=dilation_rate)(layer)\n",
        "    layer2=BatchNormalization(axis=-1)(layer2)\n",
        "    layer2=PReLU()(layer2)\n",
        "    \n",
        "    return layer2\n",
        "\n",
        "\n",
        "def model_4lvl(input_shape,initial_learning_rate=1e-4):\n",
        "    \"\"\"\n",
        "    Crearea modelului 3DUnet\n",
        "    :param input_shape:care este shape-ul datelor \n",
        "    :param initial_learning_rate: rata de invatare a modelului\n",
        "    :returns:\n",
        "    modelul compilat\n",
        "    \"\"\"\n",
        "    inputs = Input(input_shape)\n",
        "\n",
        "    #Encoder\n",
        "\n",
        "    #Level1\n",
        "    current_layer = inputs\n",
        "    conv1 = convolutional_layer(current_layer,n_filters=32,dilation_rate=1)\n",
        "    conv1= convolutional_layer(conv1,n_filters=32,dilation_rate=2)\n",
        "    conv1= convolutional_layer(conv1,n_filters=32,dilation_rate=4)\n",
        "    merge = conv1\n",
        "    \n",
        "    #Level 2\n",
        "    conv2= convolutional_layer(conv1,n_filters=64,dilation_rate=1,strides=2)\n",
        "    conv2= convolutional_layer(conv2,n_filters=64,dilation_rate=2)\n",
        "    conv2= convolutional_layer(conv2,n_filters=64,dilation_rate=4)\n",
        "\n",
        "    #Level 3\n",
        "    conv3= convolutional_layer(conv2,n_filters=128,dilation_rate=1,strides=2)\n",
        "    conv3= convolutional_layer(conv3,n_filters=128,dilation_rate=2)\n",
        "    conv3= convolutional_layer(conv3,n_filters=128,dilation_rate=4)\n",
        "\n",
        "    #Level 4\n",
        "    conv4= convolutional_layer(conv3,n_filters=256,dilation_rate=1,strides=2)\n",
        "  \n",
        "    #Residual Block\n",
        "    res_block = convolutional_layer(conv4,n_filters=256,dilation_rate=1)\n",
        "    res_block_shortcut = res_block\n",
        "\n",
        "    res_block =  Conv3D(256, kernel_size=(3,3,3), padding='same', strides=1,dilation_rate=1)(res_block)\n",
        "    res_block =  PReLU()(res_block)\n",
        "    res_block = Conv3D(256, kernel_size=(3,3,3), padding='same', strides=1,dilation_rate=1)(res_block)\n",
        "    res_block = Add()([res_block,res_block_shortcut])\n",
        "    res_block = PReLU()(res_block)\n",
        "\n",
        "    res_block = convolutional_layer(res_block,n_filters=256,dilation_rate=1)\n",
        "    #Decoder\n",
        "  \n",
        "    #Up 1\n",
        "    conv7=UpSampling3D(size=2)(res_block)\n",
        "    merge7=concatenate([conv7,conv3])\n",
        "    up7= convolutional_layer(merge7,n_filters=128)\n",
        "    up7= convolutional_layer(up7,n_filters=128)\n",
        "    \n",
        "    #Up 2\n",
        "\n",
        "    conv8=UpSampling3D(size=2)(up7)\n",
        "    merge8=concatenate([conv8,conv2])\n",
        "    up8= convolutional_layer(merge8,n_filters=64)\n",
        "    up8= convolutional_layer(up8,n_filters=64)\n",
        "\n",
        "    #Up 3\n",
        "\n",
        "    conv9=UpSampling3D(size=2)(up8)\n",
        "    merge9=concatenate([conv9,merge])\n",
        "    up9= convolutional_layer(merge9,n_filters=32)\n",
        "    up9= convolutional_layer(up9,n_filters=32)\n",
        "    up9= Conv3D(3, kernel_size=(1,1,1), padding='same', strides=1,dilation_rate=1)(up9)\n",
        "    final =Softmax()(up9)\n",
        "\n",
        "    model = Model(inputs=inputs, outputs=final)\n",
        "    model.compile(optimizer=Adam(lr=initial_learning_rate), loss=weighted_categorical_crossentropy,metrics=['accuracy', auc, dice_coefficient, confusion, tanimoto_coefficient])\n",
        "    model.summary()\n",
        "    return model"
      ]
    },
    {
      "cell_type": "code",
      "execution_count": null,
      "metadata": {
        "execution": {
          "iopub.execute_input": "2022-05-18T21:38:06.806562Z",
          "iopub.status.busy": "2022-05-18T21:38:06.805796Z",
          "iopub.status.idle": "2022-05-18T21:38:06.808859Z",
          "shell.execute_reply": "2022-05-18T21:38:06.808320Z",
          "shell.execute_reply.started": "2021-12-16T10:54:41.763543Z"
        },
        "id": "EOrdD0uXzI_H",
        "papermill": {
          "duration": 0.073736,
          "end_time": "2022-05-18T21:38:06.808989",
          "exception": false,
          "start_time": "2022-05-18T21:38:06.735253",
          "status": "completed"
        },
        "tags": []
      },
      "outputs": [],
      "source": [
        "# model = model_6lvl(input_shape=(128,128,32,1),initial_learning_rate=5e-4)"
      ]
    },
    {
      "cell_type": "code",
      "execution_count": null,
      "metadata": {
        "execution": {
          "iopub.execute_input": "2022-05-18T21:38:06.945867Z",
          "iopub.status.busy": "2022-05-18T21:38:06.945215Z",
          "iopub.status.idle": "2022-05-18T21:38:10.445044Z",
          "shell.execute_reply": "2022-05-18T21:38:10.444198Z",
          "shell.execute_reply.started": "2021-12-16T10:54:41.774905Z"
        },
        "papermill": {
          "duration": 3.570298,
          "end_time": "2022-05-18T21:38:10.445258",
          "exception": false,
          "start_time": "2022-05-18T21:38:06.874960",
          "status": "completed"
        },
        "tags": [],
        "id": "W4KjK9-4Mjvx",
        "outputId": "a4cb9b2f-f7f9-48f0-f92d-f6460ba502d9"
      },
      "outputs": [
        {
          "name": "stdout",
          "output_type": "stream",
          "text": [
            "Model: \"model\"\n",
            "__________________________________________________________________________________________________\n",
            "Layer (type)                    Output Shape         Param #     Connected to                     \n",
            "==================================================================================================\n",
            "input_1 (InputLayer)            [(None, 128, 128, 32 0                                            \n",
            "__________________________________________________________________________________________________\n",
            "conv3d (Conv3D)                 (None, 128, 128, 32, 896         input_1[0][0]                    \n",
            "__________________________________________________________________________________________________\n",
            "batch_normalization (BatchNorma (None, 128, 128, 32, 128         conv3d[0][0]                     \n",
            "__________________________________________________________________________________________________\n",
            "p_re_lu (PReLU)                 (None, 128, 128, 32, 16777216    batch_normalization[0][0]        \n",
            "__________________________________________________________________________________________________\n",
            "conv3d_1 (Conv3D)               (None, 128, 128, 32, 27680       p_re_lu[0][0]                    \n",
            "__________________________________________________________________________________________________\n",
            "batch_normalization_1 (BatchNor (None, 128, 128, 32, 128         conv3d_1[0][0]                   \n",
            "__________________________________________________________________________________________________\n",
            "p_re_lu_1 (PReLU)               (None, 128, 128, 32, 16777216    batch_normalization_1[0][0]      \n",
            "__________________________________________________________________________________________________\n",
            "conv3d_2 (Conv3D)               (None, 128, 128, 32, 27680       p_re_lu_1[0][0]                  \n",
            "__________________________________________________________________________________________________\n",
            "batch_normalization_2 (BatchNor (None, 128, 128, 32, 128         conv3d_2[0][0]                   \n",
            "__________________________________________________________________________________________________\n",
            "p_re_lu_2 (PReLU)               (None, 128, 128, 32, 16777216    batch_normalization_2[0][0]      \n",
            "__________________________________________________________________________________________________\n",
            "conv3d_3 (Conv3D)               (None, 64, 64, 16, 6 55360       p_re_lu_2[0][0]                  \n",
            "__________________________________________________________________________________________________\n",
            "batch_normalization_3 (BatchNor (None, 64, 64, 16, 6 256         conv3d_3[0][0]                   \n",
            "__________________________________________________________________________________________________\n",
            "p_re_lu_3 (PReLU)               (None, 64, 64, 16, 6 4194304     batch_normalization_3[0][0]      \n",
            "__________________________________________________________________________________________________\n",
            "conv3d_4 (Conv3D)               (None, 64, 64, 16, 6 110656      p_re_lu_3[0][0]                  \n",
            "__________________________________________________________________________________________________\n",
            "batch_normalization_4 (BatchNor (None, 64, 64, 16, 6 256         conv3d_4[0][0]                   \n",
            "__________________________________________________________________________________________________\n",
            "p_re_lu_4 (PReLU)               (None, 64, 64, 16, 6 4194304     batch_normalization_4[0][0]      \n",
            "__________________________________________________________________________________________________\n",
            "conv3d_5 (Conv3D)               (None, 64, 64, 16, 6 110656      p_re_lu_4[0][0]                  \n",
            "__________________________________________________________________________________________________\n",
            "batch_normalization_5 (BatchNor (None, 64, 64, 16, 6 256         conv3d_5[0][0]                   \n",
            "__________________________________________________________________________________________________\n",
            "p_re_lu_5 (PReLU)               (None, 64, 64, 16, 6 4194304     batch_normalization_5[0][0]      \n",
            "__________________________________________________________________________________________________\n",
            "conv3d_6 (Conv3D)               (None, 32, 32, 8, 12 221312      p_re_lu_5[0][0]                  \n",
            "__________________________________________________________________________________________________\n",
            "batch_normalization_6 (BatchNor (None, 32, 32, 8, 12 512         conv3d_6[0][0]                   \n",
            "__________________________________________________________________________________________________\n",
            "p_re_lu_6 (PReLU)               (None, 32, 32, 8, 12 1048576     batch_normalization_6[0][0]      \n",
            "__________________________________________________________________________________________________\n",
            "conv3d_7 (Conv3D)               (None, 32, 32, 8, 12 442496      p_re_lu_6[0][0]                  \n",
            "__________________________________________________________________________________________________\n",
            "batch_normalization_7 (BatchNor (None, 32, 32, 8, 12 512         conv3d_7[0][0]                   \n",
            "__________________________________________________________________________________________________\n",
            "p_re_lu_7 (PReLU)               (None, 32, 32, 8, 12 1048576     batch_normalization_7[0][0]      \n",
            "__________________________________________________________________________________________________\n",
            "conv3d_8 (Conv3D)               (None, 32, 32, 8, 12 442496      p_re_lu_7[0][0]                  \n",
            "__________________________________________________________________________________________________\n",
            "batch_normalization_8 (BatchNor (None, 32, 32, 8, 12 512         conv3d_8[0][0]                   \n",
            "__________________________________________________________________________________________________\n",
            "p_re_lu_8 (PReLU)               (None, 32, 32, 8, 12 1048576     batch_normalization_8[0][0]      \n",
            "__________________________________________________________________________________________________\n",
            "conv3d_9 (Conv3D)               (None, 16, 16, 4, 25 884992      p_re_lu_8[0][0]                  \n",
            "__________________________________________________________________________________________________\n",
            "batch_normalization_9 (BatchNor (None, 16, 16, 4, 25 1024        conv3d_9[0][0]                   \n",
            "__________________________________________________________________________________________________\n",
            "p_re_lu_9 (PReLU)               (None, 16, 16, 4, 25 262144      batch_normalization_9[0][0]      \n",
            "__________________________________________________________________________________________________\n",
            "conv3d_10 (Conv3D)              (None, 16, 16, 4, 25 1769728     p_re_lu_9[0][0]                  \n",
            "__________________________________________________________________________________________________\n",
            "batch_normalization_10 (BatchNo (None, 16, 16, 4, 25 1024        conv3d_10[0][0]                  \n",
            "__________________________________________________________________________________________________\n",
            "p_re_lu_10 (PReLU)              (None, 16, 16, 4, 25 262144      batch_normalization_10[0][0]     \n",
            "__________________________________________________________________________________________________\n",
            "conv3d_11 (Conv3D)              (None, 16, 16, 4, 25 1769728     p_re_lu_10[0][0]                 \n",
            "__________________________________________________________________________________________________\n",
            "batch_normalization_11 (BatchNo (None, 16, 16, 4, 25 1024        conv3d_11[0][0]                  \n",
            "__________________________________________________________________________________________________\n",
            "p_re_lu_11 (PReLU)              (None, 16, 16, 4, 25 262144      batch_normalization_11[0][0]     \n",
            "__________________________________________________________________________________________________\n",
            "conv3d_12 (Conv3D)              (None, 8, 8, 2, 512) 3539456     p_re_lu_11[0][0]                 \n",
            "__________________________________________________________________________________________________\n",
            "batch_normalization_12 (BatchNo (None, 8, 8, 2, 512) 2048        conv3d_12[0][0]                  \n",
            "__________________________________________________________________________________________________\n",
            "p_re_lu_12 (PReLU)              (None, 8, 8, 2, 512) 65536       batch_normalization_12[0][0]     \n",
            "__________________________________________________________________________________________________\n",
            "conv3d_13 (Conv3D)              (None, 8, 8, 2, 512) 7078400     p_re_lu_12[0][0]                 \n",
            "__________________________________________________________________________________________________\n",
            "batch_normalization_13 (BatchNo (None, 8, 8, 2, 512) 2048        conv3d_13[0][0]                  \n",
            "__________________________________________________________________________________________________\n",
            "p_re_lu_13 (PReLU)              (None, 8, 8, 2, 512) 65536       batch_normalization_13[0][0]     \n",
            "__________________________________________________________________________________________________\n",
            "conv3d_14 (Conv3D)              (None, 8, 8, 2, 512) 7078400     p_re_lu_13[0][0]                 \n",
            "__________________________________________________________________________________________________\n",
            "p_re_lu_14 (PReLU)              (None, 8, 8, 2, 512) 65536       conv3d_14[0][0]                  \n",
            "__________________________________________________________________________________________________\n",
            "conv3d_15 (Conv3D)              (None, 8, 8, 2, 512) 7078400     p_re_lu_14[0][0]                 \n",
            "__________________________________________________________________________________________________\n",
            "add (Add)                       (None, 8, 8, 2, 512) 0           conv3d_15[0][0]                  \n",
            "                                                                 p_re_lu_13[0][0]                 \n",
            "__________________________________________________________________________________________________\n",
            "p_re_lu_15 (PReLU)              (None, 8, 8, 2, 512) 65536       add[0][0]                        \n",
            "__________________________________________________________________________________________________\n",
            "conv3d_16 (Conv3D)              (None, 8, 8, 2, 512) 7078400     p_re_lu_15[0][0]                 \n",
            "__________________________________________________________________________________________________\n",
            "batch_normalization_14 (BatchNo (None, 8, 8, 2, 512) 2048        conv3d_16[0][0]                  \n",
            "__________________________________________________________________________________________________\n",
            "p_re_lu_16 (PReLU)              (None, 8, 8, 2, 512) 65536       batch_normalization_14[0][0]     \n",
            "__________________________________________________________________________________________________\n",
            "up_sampling3d (UpSampling3D)    (None, 16, 16, 4, 51 0           p_re_lu_16[0][0]                 \n",
            "__________________________________________________________________________________________________\n",
            "concatenate (Concatenate)       (None, 16, 16, 4, 76 0           up_sampling3d[0][0]              \n",
            "                                                                 p_re_lu_11[0][0]                 \n",
            "__________________________________________________________________________________________________\n",
            "conv3d_17 (Conv3D)              (None, 16, 16, 4, 25 5308672     concatenate[0][0]                \n",
            "__________________________________________________________________________________________________\n",
            "batch_normalization_15 (BatchNo (None, 16, 16, 4, 25 1024        conv3d_17[0][0]                  \n",
            "__________________________________________________________________________________________________\n",
            "p_re_lu_17 (PReLU)              (None, 16, 16, 4, 25 262144      batch_normalization_15[0][0]     \n",
            "__________________________________________________________________________________________________\n",
            "conv3d_18 (Conv3D)              (None, 16, 16, 4, 25 1769728     p_re_lu_17[0][0]                 \n",
            "__________________________________________________________________________________________________\n",
            "batch_normalization_16 (BatchNo (None, 16, 16, 4, 25 1024        conv3d_18[0][0]                  \n",
            "__________________________________________________________________________________________________\n",
            "p_re_lu_18 (PReLU)              (None, 16, 16, 4, 25 262144      batch_normalization_16[0][0]     \n",
            "__________________________________________________________________________________________________\n",
            "up_sampling3d_1 (UpSampling3D)  (None, 32, 32, 8, 25 0           p_re_lu_18[0][0]                 \n",
            "__________________________________________________________________________________________________\n",
            "concatenate_1 (Concatenate)     (None, 32, 32, 8, 38 0           up_sampling3d_1[0][0]            \n",
            "                                                                 p_re_lu_8[0][0]                  \n",
            "__________________________________________________________________________________________________\n",
            "conv3d_19 (Conv3D)              (None, 32, 32, 8, 12 1327232     concatenate_1[0][0]              \n",
            "__________________________________________________________________________________________________\n",
            "batch_normalization_17 (BatchNo (None, 32, 32, 8, 12 512         conv3d_19[0][0]                  \n",
            "__________________________________________________________________________________________________\n",
            "p_re_lu_19 (PReLU)              (None, 32, 32, 8, 12 1048576     batch_normalization_17[0][0]     \n",
            "__________________________________________________________________________________________________\n",
            "conv3d_20 (Conv3D)              (None, 32, 32, 8, 12 442496      p_re_lu_19[0][0]                 \n",
            "__________________________________________________________________________________________________\n",
            "batch_normalization_18 (BatchNo (None, 32, 32, 8, 12 512         conv3d_20[0][0]                  \n",
            "__________________________________________________________________________________________________\n",
            "p_re_lu_20 (PReLU)              (None, 32, 32, 8, 12 1048576     batch_normalization_18[0][0]     \n",
            "__________________________________________________________________________________________________\n",
            "up_sampling3d_2 (UpSampling3D)  (None, 64, 64, 16, 1 0           p_re_lu_20[0][0]                 \n",
            "__________________________________________________________________________________________________\n",
            "concatenate_2 (Concatenate)     (None, 64, 64, 16, 1 0           up_sampling3d_2[0][0]            \n",
            "                                                                 p_re_lu_5[0][0]                  \n",
            "__________________________________________________________________________________________________\n",
            "conv3d_21 (Conv3D)              (None, 64, 64, 16, 6 331840      concatenate_2[0][0]              \n",
            "__________________________________________________________________________________________________\n",
            "batch_normalization_19 (BatchNo (None, 64, 64, 16, 6 256         conv3d_21[0][0]                  \n",
            "__________________________________________________________________________________________________\n",
            "p_re_lu_21 (PReLU)              (None, 64, 64, 16, 6 4194304     batch_normalization_19[0][0]     \n",
            "__________________________________________________________________________________________________\n",
            "conv3d_22 (Conv3D)              (None, 64, 64, 16, 6 110656      p_re_lu_21[0][0]                 \n",
            "__________________________________________________________________________________________________\n",
            "batch_normalization_20 (BatchNo (None, 64, 64, 16, 6 256         conv3d_22[0][0]                  \n",
            "__________________________________________________________________________________________________\n",
            "p_re_lu_22 (PReLU)              (None, 64, 64, 16, 6 4194304     batch_normalization_20[0][0]     \n",
            "__________________________________________________________________________________________________\n",
            "up_sampling3d_3 (UpSampling3D)  (None, 128, 128, 32, 0           p_re_lu_22[0][0]                 \n",
            "__________________________________________________________________________________________________\n",
            "concatenate_3 (Concatenate)     (None, 128, 128, 32, 0           up_sampling3d_3[0][0]            \n",
            "                                                                 p_re_lu_2[0][0]                  \n",
            "__________________________________________________________________________________________________\n",
            "conv3d_23 (Conv3D)              (None, 128, 128, 32, 82976       concatenate_3[0][0]              \n",
            "__________________________________________________________________________________________________\n",
            "batch_normalization_21 (BatchNo (None, 128, 128, 32, 128         conv3d_23[0][0]                  \n",
            "__________________________________________________________________________________________________\n",
            "p_re_lu_23 (PReLU)              (None, 128, 128, 32, 16777216    batch_normalization_21[0][0]     \n",
            "__________________________________________________________________________________________________\n",
            "conv3d_24 (Conv3D)              (None, 128, 128, 32, 27680       p_re_lu_23[0][0]                 \n",
            "__________________________________________________________________________________________________\n",
            "batch_normalization_22 (BatchNo (None, 128, 128, 32, 128         conv3d_24[0][0]                  \n",
            "__________________________________________________________________________________________________\n",
            "p_re_lu_24 (PReLU)              (None, 128, 128, 32, 16777216    batch_normalization_22[0][0]     \n",
            "__________________________________________________________________________________________________\n",
            "conv3d_25 (Conv3D)              (None, 128, 128, 32, 99          p_re_lu_24[0][0]                 \n",
            "__________________________________________________________________________________________________\n",
            "softmax (Softmax)               (None, 128, 128, 32, 0           conv3d_25[0][0]                  \n",
            "==================================================================================================\n",
            "Total params: 158,872,739\n",
            "Trainable params: 158,864,867\n",
            "Non-trainable params: 7,872\n",
            "__________________________________________________________________________________________________\n"
          ]
        }
      ],
      "source": [
        "model = model_5lvl(input_shape=(128,128,32,1),initial_learning_rate=5e-4)"
      ]
    },
    {
      "cell_type": "code",
      "execution_count": null,
      "metadata": {
        "execution": {
          "iopub.execute_input": "2022-05-18T21:38:10.594509Z",
          "iopub.status.busy": "2022-05-18T21:38:10.593643Z",
          "iopub.status.idle": "2022-05-18T21:38:10.595937Z",
          "shell.execute_reply": "2022-05-18T21:38:10.596345Z",
          "shell.execute_reply.started": "2021-12-16T10:54:41.784979Z"
        },
        "papermill": {
          "duration": 0.077344,
          "end_time": "2022-05-18T21:38:10.596496",
          "exception": false,
          "start_time": "2022-05-18T21:38:10.519152",
          "status": "completed"
        },
        "tags": [],
        "id": "dX827pj-Mjvy"
      },
      "outputs": [],
      "source": [
        "# model = model_4lvl(input_shape=(128,128,32,1),initial_learning_rate=5e-4)"
      ]
    },
    {
      "cell_type": "markdown",
      "metadata": {
        "id": "q-Iri01eb6vJ",
        "papermill": {
          "duration": 0.067592,
          "end_time": "2022-05-18T21:38:10.731560",
          "exception": false,
          "start_time": "2022-05-18T21:38:10.663968",
          "status": "completed"
        },
        "tags": []
      },
      "source": [
        "# Antrenarea modelului"
      ]
    },
    {
      "cell_type": "code",
      "execution_count": null,
      "metadata": {
        "execution": {
          "iopub.execute_input": "2022-05-18T21:38:10.873989Z",
          "iopub.status.busy": "2022-05-18T21:38:10.873284Z",
          "iopub.status.idle": "2022-05-18T21:38:10.876511Z",
          "shell.execute_reply": "2022-05-18T21:38:10.875969Z",
          "shell.execute_reply.started": "2021-12-16T10:54:41.793308Z"
        },
        "papermill": {
          "duration": 0.076459,
          "end_time": "2022-05-18T21:38:10.876672",
          "exception": false,
          "start_time": "2022-05-18T21:38:10.800213",
          "status": "completed"
        },
        "tags": [],
        "id": "xSNWjCM3Mjv0"
      },
      "outputs": [],
      "source": [
        "# IA PREA MULTA MEMORIE, POATE IN VIITOR\n",
        "\n",
        "# log_dir = \"logs/fit/\" + datetime.datetime.now().strftime(\"%Y%m%d-%H%M%S\")\n",
        "# tensorboard_callback = tf.keras.callbacks.TensorBoard(log_dir=log_dir, histogram_freq=1)\n",
        "\n",
        "from tensorflow.keras.callbacks import ReduceLROnPlateau\n",
        "\n",
        "reduce_lr = ReduceLROnPlateau(\n",
        "                            monitor = 'val_loss', \n",
        "                            factor = 0.8,\n",
        "                            patience = 10,\n",
        "                            min_lr = 0.00001,\n",
        "                            verbose = 1\n",
        "                            )\n",
        "\n",
        "callbacks = [\n",
        "        tf.keras.callbacks.EarlyStopping(patience=10, monitor='val_dice_coefficient',mode='max'),\n",
        "        tf.keras.callbacks.ModelCheckpoint('model_sigmoid_nuclei.h5', monitor='val_dice_coefficient',\n",
        "                                           verbose=1, save_best_only=True,mode='max')\n",
        "]"
      ]
    },
    {
      "cell_type": "code",
      "execution_count": null,
      "metadata": {
        "execution": {
          "iopub.execute_input": "2022-05-18T21:38:11.017498Z",
          "iopub.status.busy": "2022-05-18T21:38:11.016754Z",
          "iopub.status.idle": "2022-05-18T21:38:11.019745Z",
          "shell.execute_reply": "2022-05-18T21:38:11.019273Z",
          "shell.execute_reply.started": "2021-12-16T10:54:41.801931Z"
        },
        "papermill": {
          "duration": 0.075275,
          "end_time": "2022-05-18T21:38:11.019905",
          "exception": false,
          "start_time": "2022-05-18T21:38:10.944630",
          "status": "completed"
        },
        "tags": [],
        "id": "UYzrkpJmMjv0"
      },
      "outputs": [],
      "source": [
        "import tensorflow as tf\n",
        "tf.config.experimental_run_functions_eagerly(True)"
      ]
    },
    {
      "cell_type": "code",
      "execution_count": null,
      "metadata": {
        "execution": {
          "iopub.execute_input": "2022-05-18T21:38:11.161106Z",
          "iopub.status.busy": "2022-05-18T21:38:11.160471Z",
          "iopub.status.idle": "2022-05-18T22:15:14.987367Z",
          "shell.execute_reply": "2022-05-18T22:15:14.987942Z",
          "shell.execute_reply.started": "2021-12-16T10:54:41.813292Z"
        },
        "papermill": {
          "duration": 2223.901317,
          "end_time": "2022-05-18T22:15:14.988162",
          "exception": false,
          "start_time": "2022-05-18T21:38:11.086845",
          "status": "completed"
        },
        "tags": [],
        "id": "8EnNjN3vMjv1",
        "outputId": "f11992e6-40de-4553-982f-d6d1ea63be7e"
      },
      "outputs": [
        {
          "name": "stderr",
          "output_type": "stream",
          "text": [
            "/opt/conda/lib/python3.7/site-packages/tensorflow/python/data/ops/dataset_ops.py:3504: UserWarning: Even though the tf.config.experimental_run_functions_eagerly option is set, this option does not apply to tf.data functions. tf.data functions are still traced and executed as graphs.\n",
            "  \"Even though the tf.config.experimental_run_functions_eagerly \"\n"
          ]
        },
        {
          "name": "stdout",
          "output_type": "stream",
          "text": [
            "Epoch 1/50\n",
            "42/42 [==============================] - 54s 1s/step - loss: 0.6520 - accuracy: 0.8267 - auc: 0.8384 - dice_coefficient: 0.5633 - confusion: 0.5633 - tanimoto_coefficient: 0.4011 - val_loss: 15.6236 - val_accuracy: 0.0286 - val_auc: 0.1905 - val_dice_coefficient: 0.0286 - val_confusion: 0.0286 - val_tanimoto_coefficient: 0.0145\n",
            "\n",
            "Epoch 00001: val_dice_coefficient improved from -inf to 0.02861, saving model to model_sigmoid_nuclei.h5\n",
            "Epoch 2/50\n",
            "42/42 [==============================] - 46s 1s/step - loss: 0.2707 - accuracy: 0.9733 - auc: 0.9778 - dice_coefficient: 0.7869 - confusion: 0.7869 - tanimoto_coefficient: 0.6494 - val_loss: 0.8242 - val_accuracy: 0.9138 - val_auc: 0.9239 - val_dice_coefficient: 0.7548 - val_confusion: 0.7548 - val_tanimoto_coefficient: 0.6074\n",
            "\n",
            "Epoch 00002: val_dice_coefficient improved from 0.02861 to 0.75478, saving model to model_sigmoid_nuclei.h5\n",
            "Epoch 3/50\n",
            "42/42 [==============================] - 46s 1s/step - loss: 0.2045 - accuracy: 0.9729 - auc: 0.9774 - dice_coefficient: 0.8506 - confusion: 0.8506 - tanimoto_coefficient: 0.7405 - val_loss: 0.2447 - val_accuracy: 0.9776 - val_auc: 0.9813 - val_dice_coefficient: 0.8044 - val_confusion: 0.8044 - val_tanimoto_coefficient: 0.6730\n",
            "\n",
            "Epoch 00003: val_dice_coefficient improved from 0.75478 to 0.80439, saving model to model_sigmoid_nuclei.h5\n",
            "Epoch 4/50\n",
            "42/42 [==============================] - 46s 1s/step - loss: 0.1558 - accuracy: 0.9782 - auc: 0.9819 - dice_coefficient: 0.8900 - confusion: 0.8900 - tanimoto_coefficient: 0.8019 - val_loss: 0.1773 - val_accuracy: 0.9777 - val_auc: 0.9814 - val_dice_coefficient: 0.8653 - val_confusion: 0.8653 - val_tanimoto_coefficient: 0.7628\n",
            "\n",
            "Epoch 00004: val_dice_coefficient improved from 0.80439 to 0.86528, saving model to model_sigmoid_nuclei.h5\n",
            "Epoch 5/50\n",
            "42/42 [==============================] - 46s 1s/step - loss: 0.1655 - accuracy: 0.9704 - auc: 0.9753 - dice_coefficient: 0.8989 - confusion: 0.8989 - tanimoto_coefficient: 0.8169 - val_loss: 0.1424 - val_accuracy: 0.9777 - val_auc: 0.9814 - val_dice_coefficient: 0.9026 - val_confusion: 0.9026 - val_tanimoto_coefficient: 0.8228\n",
            "\n",
            "Epoch 00005: val_dice_coefficient improved from 0.86528 to 0.90259, saving model to model_sigmoid_nuclei.h5\n",
            "Epoch 6/50\n",
            "42/42 [==============================] - 46s 1s/step - loss: 0.1388 - accuracy: 0.9753 - auc: 0.9794 - dice_coefficient: 0.9175 - confusion: 0.9175 - tanimoto_coefficient: 0.8479 - val_loss: 0.1491 - val_accuracy: 0.9777 - val_auc: 0.9814 - val_dice_coefficient: 0.8895 - val_confusion: 0.8895 - val_tanimoto_coefficient: 0.8013\n",
            "\n",
            "Epoch 00006: val_dice_coefficient did not improve from 0.90259\n",
            "Epoch 7/50\n",
            "42/42 [==============================] - 46s 1s/step - loss: 0.1537 - accuracy: 0.9674 - auc: 0.9728 - dice_coefficient: 0.9148 - confusion: 0.9148 - tanimoto_coefficient: 0.8438 - val_loss: 0.1192 - val_accuracy: 0.9777 - val_auc: 0.9814 - val_dice_coefficient: 0.9276 - val_confusion: 0.9276 - val_tanimoto_coefficient: 0.8654\n",
            "\n",
            "Epoch 00007: val_dice_coefficient improved from 0.90259 to 0.92765, saving model to model_sigmoid_nuclei.h5\n",
            "Epoch 8/50\n",
            "42/42 [==============================] - 46s 1s/step - loss: 0.1105 - accuracy: 0.9799 - auc: 0.9833 - dice_coefficient: 0.9373 - confusion: 0.9373 - tanimoto_coefficient: 0.8823 - val_loss: 0.1183 - val_accuracy: 0.9777 - val_auc: 0.9814 - val_dice_coefficient: 0.9218 - val_confusion: 0.9218 - val_tanimoto_coefficient: 0.8551\n",
            "\n",
            "Epoch 00008: val_dice_coefficient did not improve from 0.92765\n",
            "Epoch 9/50\n",
            "42/42 [==============================] - 46s 1s/step - loss: 0.1167 - accuracy: 0.9769 - auc: 0.9808 - dice_coefficient: 0.9367 - confusion: 0.9367 - tanimoto_coefficient: 0.8812 - val_loss: 0.1137 - val_accuracy: 0.9777 - val_auc: 0.9814 - val_dice_coefficient: 0.9240 - val_confusion: 0.9240 - val_tanimoto_coefficient: 0.8589\n",
            "\n",
            "Epoch 00009: val_dice_coefficient did not improve from 0.92765\n",
            "Epoch 10/50\n",
            "42/42 [==============================] - 46s 1s/step - loss: 0.1206 - accuracy: 0.9740 - auc: 0.9783 - dice_coefficient: 0.9350 - confusion: 0.9350 - tanimoto_coefficient: 0.8785 - val_loss: 0.1062 - val_accuracy: 0.9777 - val_auc: 0.9814 - val_dice_coefficient: 0.9328 - val_confusion: 0.9328 - val_tanimoto_coefficient: 0.8744\n",
            "\n",
            "Epoch 00010: val_dice_coefficient improved from 0.92765 to 0.93280, saving model to model_sigmoid_nuclei.h5\n",
            "Epoch 11/50\n",
            "42/42 [==============================] - 46s 1s/step - loss: 0.1134 - accuracy: 0.9753 - auc: 0.9794 - dice_coefficient: 0.9406 - confusion: 0.9406 - tanimoto_coefficient: 0.8882 - val_loss: 0.0897 - val_accuracy: 0.9777 - val_auc: 0.9814 - val_dice_coefficient: 0.9519 - val_confusion: 0.9519 - val_tanimoto_coefficient: 0.9086\n",
            "\n",
            "Epoch 00011: val_dice_coefficient improved from 0.93280 to 0.95190, saving model to model_sigmoid_nuclei.h5\n",
            "Epoch 12/50\n",
            "42/42 [==============================] - 46s 1s/step - loss: 0.1210 - accuracy: 0.9734 - auc: 0.9778 - dice_coefficient: 0.9403 - confusion: 0.9403 - tanimoto_coefficient: 0.8877 - val_loss: 0.0922 - val_accuracy: 0.9777 - val_auc: 0.9814 - val_dice_coefficient: 0.9422 - val_confusion: 0.9422 - val_tanimoto_coefficient: 0.8910\n",
            "\n",
            "Epoch 00012: val_dice_coefficient did not improve from 0.95190\n",
            "Epoch 13/50\n",
            "42/42 [==============================] - 46s 1s/step - loss: 0.1112 - accuracy: 0.9764 - auc: 0.9803 - dice_coefficient: 0.9466 - confusion: 0.9466 - tanimoto_coefficient: 0.8989 - val_loss: 0.1012 - val_accuracy: 0.9775 - val_auc: 0.9813 - val_dice_coefficient: 0.9486 - val_confusion: 0.9486 - val_tanimoto_coefficient: 0.9026\n",
            "\n",
            "Epoch 00013: val_dice_coefficient did not improve from 0.95190\n",
            "Epoch 14/50\n",
            "42/42 [==============================] - 46s 1s/step - loss: 0.1068 - accuracy: 0.9758 - auc: 0.9798 - dice_coefficient: 0.9475 - confusion: 0.9475 - tanimoto_coefficient: 0.9007 - val_loss: 0.0953 - val_accuracy: 0.9777 - val_auc: 0.9815 - val_dice_coefficient: 0.9416 - val_confusion: 0.9416 - val_tanimoto_coefficient: 0.8898\n",
            "\n",
            "Epoch 00014: val_dice_coefficient did not improve from 0.95190\n",
            "Epoch 15/50\n",
            "42/42 [==============================] - 46s 1s/step - loss: 0.1044 - accuracy: 0.9752 - auc: 0.9794 - dice_coefficient: 0.9475 - confusion: 0.9475 - tanimoto_coefficient: 0.9006 - val_loss: 0.0750 - val_accuracy: 0.9822 - val_auc: 0.9853 - val_dice_coefficient: 0.9485 - val_confusion: 0.9485 - val_tanimoto_coefficient: 0.9023\n",
            "\n",
            "Epoch 00015: val_dice_coefficient did not improve from 0.95190\n",
            "Epoch 16/50\n",
            "42/42 [==============================] - 46s 1s/step - loss: 0.0921 - accuracy: 0.9793 - auc: 0.9828 - dice_coefficient: 0.9553 - confusion: 0.9553 - tanimoto_coefficient: 0.9146 - val_loss: 0.0740 - val_accuracy: 0.9823 - val_auc: 0.9854 - val_dice_coefficient: 0.9533 - val_confusion: 0.9533 - val_tanimoto_coefficient: 0.9110\n",
            "\n",
            "Epoch 00016: val_dice_coefficient improved from 0.95190 to 0.95334, saving model to model_sigmoid_nuclei.h5\n",
            "Epoch 17/50\n",
            "42/42 [==============================] - 46s 1s/step - loss: 0.1264 - accuracy: 0.9699 - auc: 0.9750 - dice_coefficient: 0.9447 - confusion: 0.9447 - tanimoto_coefficient: 0.8962 - val_loss: 0.1279 - val_accuracy: 0.9735 - val_auc: 0.9780 - val_dice_coefficient: 0.9282 - val_confusion: 0.9282 - val_tanimoto_coefficient: 0.8663\n",
            "\n",
            "Epoch 00017: val_dice_coefficient did not improve from 0.95334\n",
            "Epoch 18/50\n",
            "42/42 [==============================] - 46s 1s/step - loss: 0.1087 - accuracy: 0.9751 - auc: 0.9792 - dice_coefficient: 0.9509 - confusion: 0.9509 - tanimoto_coefficient: 0.9067 - val_loss: 0.0904 - val_accuracy: 0.9777 - val_auc: 0.9814 - val_dice_coefficient: 0.9494 - val_confusion: 0.9494 - val_tanimoto_coefficient: 0.9039\n",
            "\n",
            "Epoch 00018: val_dice_coefficient did not improve from 0.95334\n",
            "Epoch 19/50\n",
            "42/42 [==============================] - 46s 1s/step - loss: 0.1134 - accuracy: 0.9717 - auc: 0.9764 - dice_coefficient: 0.9444 - confusion: 0.9444 - tanimoto_coefficient: 0.8953 - val_loss: 0.0726 - val_accuracy: 0.9778 - val_auc: 0.9816 - val_dice_coefficient: 0.9532 - val_confusion: 0.9532 - val_tanimoto_coefficient: 0.9109\n",
            "\n",
            "Epoch 00019: val_dice_coefficient did not improve from 0.95334\n",
            "Epoch 20/50\n",
            "42/42 [==============================] - 46s 1s/step - loss: 0.1039 - accuracy: 0.9765 - auc: 0.9804 - dice_coefficient: 0.9530 - confusion: 0.9530 - tanimoto_coefficient: 0.9105 - val_loss: 0.0800 - val_accuracy: 0.9777 - val_auc: 0.9814 - val_dice_coefficient: 0.9501 - val_confusion: 0.9501 - val_tanimoto_coefficient: 0.9051\n",
            "\n",
            "Epoch 00020: val_dice_coefficient did not improve from 0.95334\n",
            "Epoch 21/50\n",
            "42/42 [==============================] - 46s 1s/step - loss: 0.1051 - accuracy: 0.9735 - auc: 0.9779 - dice_coefficient: 0.9485 - confusion: 0.9485 - tanimoto_coefficient: 0.9027 - val_loss: 0.1043 - val_accuracy: 0.9777 - val_auc: 0.9814 - val_dice_coefficient: 0.9402 - val_confusion: 0.9402 - val_tanimoto_coefficient: 0.8873\n",
            "\n",
            "Epoch 00021: val_dice_coefficient did not improve from 0.95334\n",
            "Epoch 22/50\n",
            "42/42 [==============================] - 46s 1s/step - loss: 0.0987 - accuracy: 0.9762 - auc: 0.9802 - dice_coefficient: 0.9543 - confusion: 0.9543 - tanimoto_coefficient: 0.9131 - val_loss: 0.1277 - val_accuracy: 0.9774 - val_auc: 0.9811 - val_dice_coefficient: 0.9274 - val_confusion: 0.9274 - val_tanimoto_coefficient: 0.8648\n",
            "\n",
            "Epoch 00022: val_dice_coefficient did not improve from 0.95334\n",
            "Epoch 23/50\n",
            "42/42 [==============================] - 46s 1s/step - loss: 0.0869 - accuracy: 0.9788 - auc: 0.9823 - dice_coefficient: 0.9569 - confusion: 0.9569 - tanimoto_coefficient: 0.9176 - val_loss: 0.0857 - val_accuracy: 0.9777 - val_auc: 0.9815 - val_dice_coefficient: 0.9500 - val_confusion: 0.9500 - val_tanimoto_coefficient: 0.9049\n",
            "\n",
            "Epoch 00023: val_dice_coefficient did not improve from 0.95334\n",
            "Epoch 24/50\n",
            "42/42 [==============================] - 46s 1s/step - loss: 0.0972 - accuracy: 0.9740 - auc: 0.9784 - dice_coefficient: 0.9507 - confusion: 0.9507 - tanimoto_coefficient: 0.9065 - val_loss: 0.0782 - val_accuracy: 0.9777 - val_auc: 0.9815 - val_dice_coefficient: 0.9626 - val_confusion: 0.9626 - val_tanimoto_coefficient: 0.9283\n",
            "\n",
            "Epoch 00024: val_dice_coefficient improved from 0.95334 to 0.96262, saving model to model_sigmoid_nuclei.h5\n",
            "Epoch 25/50\n",
            "42/42 [==============================] - 46s 1s/step - loss: 0.1272 - accuracy: 0.9697 - auc: 0.9747 - dice_coefficient: 0.9465 - confusion: 0.9465 - tanimoto_coefficient: 0.8989 - val_loss: 0.0698 - val_accuracy: 0.9778 - val_auc: 0.9815 - val_dice_coefficient: 0.9572 - val_confusion: 0.9572 - val_tanimoto_coefficient: 0.9181\n",
            "\n",
            "Epoch 00025: val_dice_coefficient did not improve from 0.96262\n",
            "Epoch 26/50\n",
            "42/42 [==============================] - 46s 1s/step - loss: 0.0966 - accuracy: 0.9758 - auc: 0.9799 - dice_coefficient: 0.9563 - confusion: 0.9563 - tanimoto_coefficient: 0.9167 - val_loss: 0.0877 - val_accuracy: 0.9777 - val_auc: 0.9814 - val_dice_coefficient: 0.9544 - val_confusion: 0.9544 - val_tanimoto_coefficient: 0.9131\n",
            "\n",
            "Epoch 00026: val_dice_coefficient did not improve from 0.96262\n",
            "Epoch 27/50\n",
            "42/42 [==============================] - 46s 1s/step - loss: 0.1034 - accuracy: 0.9722 - auc: 0.9768 - dice_coefficient: 0.9514 - confusion: 0.9514 - tanimoto_coefficient: 0.9078 - val_loss: 0.0760 - val_accuracy: 0.9779 - val_auc: 0.9816 - val_dice_coefficient: 0.9522 - val_confusion: 0.9522 - val_tanimoto_coefficient: 0.9090\n",
            "\n",
            "Epoch 00027: val_dice_coefficient did not improve from 0.96262\n",
            "Epoch 28/50\n",
            "42/42 [==============================] - 46s 1s/step - loss: 0.1000 - accuracy: 0.9729 - auc: 0.9774 - dice_coefficient: 0.9518 - confusion: 0.9518 - tanimoto_coefficient: 0.9086 - val_loss: 0.0647 - val_accuracy: 0.9778 - val_auc: 0.9815 - val_dice_coefficient: 0.9617 - val_confusion: 0.9617 - val_tanimoto_coefficient: 0.9265\n",
            "\n",
            "Epoch 00028: val_dice_coefficient did not improve from 0.96262\n",
            "Epoch 29/50\n",
            "42/42 [==============================] - 46s 1s/step - loss: 0.1091 - accuracy: 0.9721 - auc: 0.9767 - dice_coefficient: 0.9496 - confusion: 0.9496 - tanimoto_coefficient: 0.9048 - val_loss: 0.0610 - val_accuracy: 0.9786 - val_auc: 0.9822 - val_dice_coefficient: 0.9629 - val_confusion: 0.9629 - val_tanimoto_coefficient: 0.9288\n",
            "\n",
            "Epoch 00029: val_dice_coefficient improved from 0.96262 to 0.96290, saving model to model_sigmoid_nuclei.h5\n",
            "Epoch 30/50\n",
            "42/42 [==============================] - 46s 1s/step - loss: 0.0832 - accuracy: 0.9775 - auc: 0.9812 - dice_coefficient: 0.9616 - confusion: 0.9616 - tanimoto_coefficient: 0.9263 - val_loss: 0.0726 - val_accuracy: 0.9788 - val_auc: 0.9824 - val_dice_coefficient: 0.9541 - val_confusion: 0.9541 - val_tanimoto_coefficient: 0.9125\n",
            "\n",
            "Epoch 00030: val_dice_coefficient did not improve from 0.96290\n",
            "Epoch 31/50\n",
            "42/42 [==============================] - 46s 1s/step - loss: 0.0890 - accuracy: 0.9758 - auc: 0.9799 - dice_coefficient: 0.9564 - confusion: 0.9564 - tanimoto_coefficient: 0.9169 - val_loss: 0.0693 - val_accuracy: 0.9787 - val_auc: 0.9823 - val_dice_coefficient: 0.9538 - val_confusion: 0.9538 - val_tanimoto_coefficient: 0.9118\n",
            "\n",
            "Epoch 00031: val_dice_coefficient did not improve from 0.96290\n",
            "Epoch 32/50\n",
            "42/42 [==============================] - 46s 1s/step - loss: 0.0809 - accuracy: 0.9776 - auc: 0.9814 - dice_coefficient: 0.9606 - confusion: 0.9606 - tanimoto_coefficient: 0.9248 - val_loss: 0.0704 - val_accuracy: 0.9786 - val_auc: 0.9822 - val_dice_coefficient: 0.9602 - val_confusion: 0.9602 - val_tanimoto_coefficient: 0.9237\n",
            "\n",
            "Epoch 00032: val_dice_coefficient did not improve from 0.96290\n",
            "Epoch 33/50\n",
            "42/42 [==============================] - 46s 1s/step - loss: 0.1044 - accuracy: 0.9738 - auc: 0.9782 - dice_coefficient: 0.9549 - confusion: 0.9549 - tanimoto_coefficient: 0.9144 - val_loss: 0.1950 - val_accuracy: 0.9741 - val_auc: 0.9783 - val_dice_coefficient: 0.9485 - val_confusion: 0.9485 - val_tanimoto_coefficient: 0.9025\n",
            "\n",
            "Epoch 00033: val_dice_coefficient did not improve from 0.96290\n",
            "Epoch 34/50\n",
            "42/42 [==============================] - 46s 1s/step - loss: 0.0732 - accuracy: 0.9774 - auc: 0.9812 - dice_coefficient: 0.9634 - confusion: 0.9634 - tanimoto_coefficient: 0.9297 - val_loss: 0.0791 - val_accuracy: 0.9779 - val_auc: 0.9817 - val_dice_coefficient: 0.9483 - val_confusion: 0.9483 - val_tanimoto_coefficient: 0.9019\n",
            "\n",
            "Epoch 00034: val_dice_coefficient did not improve from 0.96290\n",
            "Epoch 35/50\n",
            "42/42 [==============================] - 46s 1s/step - loss: 0.0994 - accuracy: 0.9733 - auc: 0.9778 - dice_coefficient: 0.9545 - confusion: 0.9545 - tanimoto_coefficient: 0.9136 - val_loss: 0.0636 - val_accuracy: 0.9782 - val_auc: 0.9819 - val_dice_coefficient: 0.9588 - val_confusion: 0.9588 - val_tanimoto_coefficient: 0.9211\n",
            "\n",
            "Epoch 00035: val_dice_coefficient did not improve from 0.96290\n",
            "Epoch 36/50\n",
            "42/42 [==============================] - 46s 1s/step - loss: 0.0896 - accuracy: 0.9750 - auc: 0.9793 - dice_coefficient: 0.9570 - confusion: 0.9570 - tanimoto_coefficient: 0.9179 - val_loss: 0.0583 - val_accuracy: 0.9803 - val_auc: 0.9837 - val_dice_coefficient: 0.9625 - val_confusion: 0.9625 - val_tanimoto_coefficient: 0.9279\n",
            "\n",
            "Epoch 00036: val_dice_coefficient did not improve from 0.96290\n",
            "Epoch 37/50\n",
            "42/42 [==============================] - 46s 1s/step - loss: 0.0691 - accuracy: 0.9783 - auc: 0.9820 - dice_coefficient: 0.9639 - confusion: 0.9639 - tanimoto_coefficient: 0.9308 - val_loss: 0.0440 - val_accuracy: 0.9839 - val_auc: 0.9866 - val_dice_coefficient: 0.9747 - val_confusion: 0.9747 - val_tanimoto_coefficient: 0.9509\n",
            "\n",
            "Epoch 00037: val_dice_coefficient improved from 0.96290 to 0.97474, saving model to model_sigmoid_nuclei.h5\n",
            "Epoch 38/50\n",
            "42/42 [==============================] - 46s 1s/step - loss: 0.0666 - accuracy: 0.9812 - auc: 0.9845 - dice_coefficient: 0.9660 - confusion: 0.9660 - tanimoto_coefficient: 0.9347 - val_loss: 0.0426 - val_accuracy: 0.9863 - val_auc: 0.9887 - val_dice_coefficient: 0.9722 - val_confusion: 0.9722 - val_tanimoto_coefficient: 0.9459\n",
            "\n",
            "Epoch 00038: val_dice_coefficient did not improve from 0.97474\n",
            "Epoch 39/50\n",
            "42/42 [==============================] - 46s 1s/step - loss: 0.1188 - accuracy: 0.9656 - auc: 0.9714 - dice_coefficient: 0.9508 - confusion: 0.9508 - tanimoto_coefficient: 0.9076 - val_loss: 0.0625 - val_accuracy: 0.9833 - val_auc: 0.9862 - val_dice_coefficient: 0.9577 - val_confusion: 0.9577 - val_tanimoto_coefficient: 0.9189\n",
            "\n",
            "Epoch 00039: val_dice_coefficient did not improve from 0.97474\n",
            "Epoch 40/50\n",
            "42/42 [==============================] - 46s 1s/step - loss: 0.0929 - accuracy: 0.9746 - auc: 0.9789 - dice_coefficient: 0.9591 - confusion: 0.9591 - tanimoto_coefficient: 0.9221 - val_loss: 0.0656 - val_accuracy: 0.9799 - val_auc: 0.9833 - val_dice_coefficient: 0.9621 - val_confusion: 0.9621 - val_tanimoto_coefficient: 0.9271\n",
            "\n",
            "Epoch 00040: val_dice_coefficient did not improve from 0.97474\n",
            "Epoch 41/50\n",
            "42/42 [==============================] - 46s 1s/step - loss: 0.0762 - accuracy: 0.9749 - auc: 0.9793 - dice_coefficient: 0.9590 - confusion: 0.9590 - tanimoto_coefficient: 0.9217 - val_loss: 0.0439 - val_accuracy: 0.9844 - val_auc: 0.9871 - val_dice_coefficient: 0.9744 - val_confusion: 0.9744 - val_tanimoto_coefficient: 0.9503\n",
            "\n",
            "Epoch 00041: val_dice_coefficient did not improve from 0.97474\n",
            "Epoch 42/50\n",
            "42/42 [==============================] - 46s 1s/step - loss: 0.0911 - accuracy: 0.9731 - auc: 0.9777 - dice_coefficient: 0.9584 - confusion: 0.9584 - tanimoto_coefficient: 0.9218 - val_loss: 0.0856 - val_accuracy: 0.9775 - val_auc: 0.9812 - val_dice_coefficient: 0.9499 - val_confusion: 0.9499 - val_tanimoto_coefficient: 0.9048\n",
            "\n",
            "Epoch 00042: val_dice_coefficient did not improve from 0.97474\n",
            "Epoch 43/50\n",
            "42/42 [==============================] - 46s 1s/step - loss: 0.0893 - accuracy: 0.9752 - auc: 0.9793 - dice_coefficient: 0.9573 - confusion: 0.9573 - tanimoto_coefficient: 0.9185 - val_loss: 0.0619 - val_accuracy: 0.9787 - val_auc: 0.9823 - val_dice_coefficient: 0.9676 - val_confusion: 0.9676 - val_tanimoto_coefficient: 0.9373\n",
            "\n",
            "Epoch 00043: val_dice_coefficient did not improve from 0.97474\n",
            "Epoch 44/50\n",
            "42/42 [==============================] - 46s 1s/step - loss: 0.0732 - accuracy: 0.9776 - auc: 0.9816 - dice_coefficient: 0.9641 - confusion: 0.9641 - tanimoto_coefficient: 0.9311 - val_loss: 0.0619 - val_accuracy: 0.9823 - val_auc: 0.9854 - val_dice_coefficient: 0.9571 - val_confusion: 0.9571 - val_tanimoto_coefficient: 0.9178\n",
            "\n",
            "Epoch 00044: val_dice_coefficient did not improve from 0.97474\n",
            "Epoch 45/50\n",
            "42/42 [==============================] - 46s 1s/step - loss: 0.0742 - accuracy: 0.9771 - auc: 0.9810 - dice_coefficient: 0.9624 - confusion: 0.9624 - tanimoto_coefficient: 0.9281 - val_loss: 0.0604 - val_accuracy: 0.9790 - val_auc: 0.9826 - val_dice_coefficient: 0.9651 - val_confusion: 0.9651 - val_tanimoto_coefficient: 0.9327\n",
            "\n",
            "Epoch 00045: val_dice_coefficient did not improve from 0.97474\n",
            "Epoch 46/50\n",
            "42/42 [==============================] - 46s 1s/step - loss: 0.0773 - accuracy: 0.9767 - auc: 0.9807 - dice_coefficient: 0.9611 - confusion: 0.9611 - tanimoto_coefficient: 0.9258 - val_loss: 0.0483 - val_accuracy: 0.9821 - val_auc: 0.9852 - val_dice_coefficient: 0.9699 - val_confusion: 0.9699 - val_tanimoto_coefficient: 0.9417\n",
            "\n",
            "Epoch 00046: val_dice_coefficient did not improve from 0.97474\n",
            "Epoch 47/50\n",
            "42/42 [==============================] - 46s 1s/step - loss: 0.0868 - accuracy: 0.9732 - auc: 0.9778 - dice_coefficient: 0.9596 - confusion: 0.9596 - tanimoto_coefficient: 0.9233 - val_loss: 0.0905 - val_accuracy: 0.9779 - val_auc: 0.9815 - val_dice_coefficient: 0.9600 - val_confusion: 0.9600 - val_tanimoto_coefficient: 0.9234\n",
            "\n",
            "Epoch 00047: val_dice_coefficient did not improve from 0.97474\n"
          ]
        }
      ],
      "source": [
        "# Scenariu 1:\n",
        "history2 = model.fit(x_train_first, y_train_first, validation_data = (x_valid_first, y_valid_first), epochs=50, verbose=1, batch_size=2, shuffle='batch', callbacks = callbacks)"
      ]
    },
    {
      "cell_type": "markdown",
      "metadata": {
        "papermill": {
          "duration": 0.59762,
          "end_time": "2022-05-18T22:15:16.185311",
          "exception": false,
          "start_time": "2022-05-18T22:15:15.587691",
          "status": "completed"
        },
        "tags": [],
        "id": "EmqcPvtiMjv3"
      },
      "source": [
        "# Saving the model"
      ]
    },
    {
      "cell_type": "code",
      "execution_count": null,
      "metadata": {
        "execution": {
          "iopub.execute_input": "2022-05-18T22:15:17.689746Z",
          "iopub.status.busy": "2022-05-18T22:15:17.688902Z",
          "iopub.status.idle": "2022-05-18T22:15:22.124059Z",
          "shell.execute_reply": "2022-05-18T22:15:22.123530Z",
          "shell.execute_reply.started": "2021-12-16T10:54:41.84274Z"
        },
        "papermill": {
          "duration": 5.114323,
          "end_time": "2022-05-18T22:15:22.124203",
          "exception": false,
          "start_time": "2022-05-18T22:15:17.009880",
          "status": "completed"
        },
        "tags": [],
        "id": "SWhEjbGKMjv4"
      },
      "outputs": [],
      "source": [
        "model_unet_3d = model\n",
        "model_unet_3d.save('model_4_lvl.h5')"
      ]
    },
    {
      "cell_type": "markdown",
      "metadata": {
        "papermill": {
          "duration": 0.638823,
          "end_time": "2022-05-18T22:15:24.267687",
          "exception": false,
          "start_time": "2022-05-18T22:15:23.628864",
          "status": "completed"
        },
        "tags": [],
        "id": "eKrNxVMgMjv5"
      },
      "source": [
        "# Histograme"
      ]
    },
    {
      "cell_type": "code",
      "execution_count": null,
      "metadata": {
        "execution": {
          "iopub.execute_input": "2022-05-18T22:15:25.551076Z",
          "iopub.status.busy": "2022-05-18T22:15:25.550120Z",
          "iopub.status.idle": "2022-05-18T22:15:25.721775Z",
          "shell.execute_reply": "2022-05-18T22:15:25.722225Z",
          "shell.execute_reply.started": "2021-12-16T10:54:41.849877Z"
        },
        "papermill": {
          "duration": 0.820364,
          "end_time": "2022-05-18T22:15:25.722392",
          "exception": false,
          "start_time": "2022-05-18T22:15:24.902028",
          "status": "completed"
        },
        "tags": [],
        "id": "FfQ9zjwrMjv5",
        "outputId": "77f525cd-5dd6-4ade-fac1-92f05da00d72"
      },
      "outputs": [
        {
          "data": {
            "image/png": "[encoded data removed]",
            "text/plain": [
              "<Figure size 432x288 with 1 Axes>"
            ]
          },
          "metadata": {
            "needs_background": "light"
          },
          "output_type": "display_data"
        }
      ],
      "source": [
        "loss_train = history2.history['dice_coefficient']\n",
        "loss_val = history2.history['val_dice_coefficient']\n",
        "nr_epochs = 50\n",
        "epochs = range(1,nr_epochs+1)\n",
        "plt.plot(epochs[:len(loss_train)], loss_train[:len(loss_train)], 'g', label='Training dice coefficient')\n",
        "plt.plot(epochs[:len(loss_train)], loss_val[:len(loss_train)], 'b', label='Validation dice coefficient')\n",
        "plt.title('Training and Validation dice coefficient')\n",
        "plt.xlabel('Epochs')\n",
        "plt.ylabel('Dice Coefficient')\n",
        "plt.legend()\n",
        "plt.show()"
      ]
    },
    {
      "cell_type": "code",
      "execution_count": null,
      "metadata": {
        "execution": {
          "iopub.execute_input": "2022-05-18T22:15:27.972975Z",
          "iopub.status.busy": "2022-05-18T22:15:27.969908Z",
          "iopub.status.idle": "2022-05-18T22:15:28.449989Z",
          "shell.execute_reply": "2022-05-18T22:15:28.450980Z",
          "shell.execute_reply.started": "2021-12-16T10:54:41.85718Z"
        },
        "papermill": {
          "duration": 2.075327,
          "end_time": "2022-05-18T22:15:28.451193",
          "exception": false,
          "start_time": "2022-05-18T22:15:26.375866",
          "status": "completed"
        },
        "tags": [],
        "id": "U_OOXt0uMjv6",
        "outputId": "6cbf723b-61b1-45c3-cec7-dca2cb651754"
      },
      "outputs": [
        {
          "data": {
            "image/png": "[encoded data removed]",
            "text/plain": [
              "<Figure size 432x288 with 1 Axes>"
            ]
          },
          "metadata": {
            "needs_background": "light"
          },
          "output_type": "display_data"
        }
      ],
      "source": [
        "loss_train_l = history2.history['loss']\n",
        "loss_val_l = history2.history['val_loss']\n",
        "nr_epochs = 50\n",
        "epochs = range(1,nr_epochs+1)\n",
        "plt.plot(epochs[:len(loss_train_l)], loss_train_l[:len(loss_train_l)], 'g', label='Training dice coefficient')\n",
        "plt.plot(epochs[:len(loss_train_l)], loss_val_l[:len(loss_train_l)], 'b', label='Validation dice coefficient')\n",
        "plt.title('Training and Validation loss')\n",
        "plt.xlabel('Epochs')\n",
        "plt.ylabel('Loss')\n",
        "plt.legend()\n",
        "plt.show()"
      ]
    },
    {
      "cell_type": "markdown",
      "metadata": {
        "papermill": {
          "duration": 0.603157,
          "end_time": "2022-05-18T22:15:34.684592",
          "exception": false,
          "start_time": "2022-05-18T22:15:34.081435",
          "status": "completed"
        },
        "tags": [],
        "id": "du5jNp8fMjv_"
      },
      "source": [
        "# Comparing"
      ]
    },
    {
      "cell_type": "code",
      "execution_count": null,
      "metadata": {
        "execution": {
          "iopub.execute_input": "2022-05-18T22:15:35.893557Z",
          "iopub.status.busy": "2022-05-18T22:15:35.892708Z",
          "iopub.status.idle": "2022-05-18T22:15:35.895263Z",
          "shell.execute_reply": "2022-05-18T22:15:35.894848Z",
          "shell.execute_reply.started": "2022-05-10T21:14:36.179462Z"
        },
        "papermill": {
          "duration": 0.608954,
          "end_time": "2022-05-18T22:15:35.895384",
          "exception": false,
          "start_time": "2022-05-18T22:15:35.286430",
          "status": "completed"
        },
        "tags": [],
        "id": "4of1F-PCMjwA"
      },
      "outputs": [],
      "source": [
        "def calculate_dice(y_true,y_pred):\n",
        "    dice=dice_coefficient(y_true,y_pred)\n",
        "    result=round(tf.keras.backend.get_value(dice),3)\n",
        "    return result"
      ]
    },
    {
      "cell_type": "code",
      "execution_count": null,
      "metadata": {
        "execution": {
          "iopub.execute_input": "2022-05-18T22:15:37.103439Z",
          "iopub.status.busy": "2022-05-18T22:15:37.102561Z",
          "iopub.status.idle": "2022-05-18T22:15:37.105278Z",
          "shell.execute_reply": "2022-05-18T22:15:37.104748Z",
          "shell.execute_reply.started": "2022-05-10T21:14:36.46071Z"
        },
        "papermill": {
          "duration": 0.608691,
          "end_time": "2022-05-18T22:15:37.105397",
          "exception": false,
          "start_time": "2022-05-18T22:15:36.496706",
          "status": "completed"
        },
        "tags": [],
        "id": "aRq6nzk-MjwC"
      },
      "outputs": [],
      "source": [
        "def choose_slice(patient):\n",
        "    max_t_px = 0\n",
        "    nr_slice = 0\n",
        "    for x in range(patient.shape[2]):\n",
        "        px = np.count_nonzero(patient[:,:,x,1] == 1)\n",
        "        if px >= max_t_px:\n",
        "            nr_slice = x\n",
        "            max_t_px = px\n",
        "    return nr_slice"
      ]
    },
    {
      "cell_type": "code",
      "execution_count": null,
      "metadata": {
        "execution": {
          "iopub.execute_input": "2022-05-18T22:15:38.315091Z",
          "iopub.status.busy": "2022-05-18T22:15:38.314330Z",
          "iopub.status.idle": "2022-05-18T22:15:38.317285Z",
          "shell.execute_reply": "2022-05-18T22:15:38.316876Z",
          "shell.execute_reply.started": "2022-05-10T21:14:37.245399Z"
        },
        "papermill": {
          "duration": 0.608863,
          "end_time": "2022-05-18T22:15:38.317406",
          "exception": false,
          "start_time": "2022-05-18T22:15:37.708543",
          "status": "completed"
        },
        "tags": [],
        "id": "Gf1CHlZKMjwD"
      },
      "outputs": [],
      "source": [
        "def choose_slice_best(patient,true):\n",
        "    volume = np.copy(patient)\n",
        "    max_dice = 0\n",
        "    nr_slice = 0\n",
        "    for z in range(patient.shape[2]):\n",
        "        pat = np.copy(patient)\n",
        "        dice, _ = automate_thrs(pat,true,z,1)\n",
        "        px = np.count_nonzero(true[:,:,z,1] == 1)\n",
        "#         print('dice' + str(dice))\n",
        "#         print('px'+str(px))\n",
        "        if dice>max_dice and px>0:\n",
        "#             print(z)\n",
        "            max_dice = dice\n",
        "            nr_slice = z\n",
        "    return nr_slice"
      ]
    },
    {
      "cell_type": "code",
      "execution_count": null,
      "metadata": {
        "execution": {
          "iopub.execute_input": "2022-05-18T22:15:39.801155Z",
          "iopub.status.busy": "2022-05-18T22:15:39.800254Z",
          "iopub.status.idle": "2022-05-18T22:15:39.803247Z",
          "shell.execute_reply": "2022-05-18T22:15:39.802724Z",
          "shell.execute_reply.started": "2022-05-10T21:14:37.797997Z"
        },
        "papermill": {
          "duration": 0.629646,
          "end_time": "2022-05-18T22:15:39.803379",
          "exception": false,
          "start_time": "2022-05-18T22:15:39.173733",
          "status": "completed"
        },
        "tags": [],
        "id": "cuqr9SUfMjwD"
      },
      "outputs": [],
      "source": [
        "def automate_thrs(volume,true,x,cls):\n",
        "    \n",
        "    thrs = [i/100 for i in range(100)]\n",
        "    max_dice = 0\n",
        "    thr_max = 0\n",
        "\n",
        "    for t in thrs:\n",
        "        patient = np.copy(volume)\n",
        "        patient[:,:,x,cls] = np.where( patient[:,:,x,cls]>=t, 1, patient[:,:,x,cls])\n",
        "        patient[:,:,x,cls] = np.where( patient[:,:,x,cls]<t, 0, patient[:,:,x,cls])\n",
        "        dice = calculate_dice(true[:,:,x,cls],patient[:,:,x,cls])\n",
        "        if dice>max_dice:\n",
        "            thr_max = t\n",
        "            max_dice = dice\n",
        "    \n",
        "    return max_dice, thr_max"
      ]
    },
    {
      "cell_type": "code",
      "execution_count": null,
      "metadata": {
        "execution": {
          "iopub.execute_input": "2022-05-18T22:15:41.014029Z",
          "iopub.status.busy": "2022-05-18T22:15:41.013260Z",
          "iopub.status.idle": "2022-05-18T22:15:41.016396Z",
          "shell.execute_reply": "2022-05-18T22:15:41.015882Z",
          "shell.execute_reply.started": "2022-05-10T21:14:38.308439Z"
        },
        "papermill": {
          "duration": 0.611498,
          "end_time": "2022-05-18T22:15:41.016524",
          "exception": false,
          "start_time": "2022-05-18T22:15:40.405026",
          "status": "completed"
        },
        "tags": [],
        "id": "nEBBINI-MjwE"
      },
      "outputs": [],
      "source": [
        "# predict_pacurar = model_unet_3d.predict(patients)\n",
        "# predicted_labels_pacurar = np.copy(predict_pacurar)"
      ]
    },
    {
      "cell_type": "code",
      "execution_count": null,
      "metadata": {
        "execution": {
          "iopub.execute_input": "2022-05-18T22:15:42.247499Z",
          "iopub.status.busy": "2022-05-18T22:15:42.246561Z",
          "iopub.status.idle": "2022-05-18T22:15:42.249629Z",
          "shell.execute_reply": "2022-05-18T22:15:42.249186Z",
          "shell.execute_reply.started": "2022-05-10T21:14:38.805833Z"
        },
        "papermill": {
          "duration": 0.639474,
          "end_time": "2022-05-18T22:15:42.249756",
          "exception": false,
          "start_time": "2022-05-18T22:15:41.610282",
          "status": "completed"
        },
        "tags": [],
        "id": "Yshqh6F-MjwE"
      },
      "outputs": [],
      "source": [
        "# def predicted_categorical_truth(nr,thr_w,thr_t):\n",
        "#     fig, ax = plt.subplots(1,5, figsize=[8, 8])\n",
        "# #     fig.suptitle('Predicted masks vs Ground truth', fontsize=16)\n",
        "#     x = choose_slice(y_test[nr])\n",
        "#     img_label_0 = patients[nr][:,:,x]\n",
        "# #     img_label_1 = denoise_bilateral(predicted_labels_pacurar[nr][:,:,x,2], sigma_color=0.1, sigma_spatial=15)\n",
        "# #     img_label_2 = denoise_bilateral(predicted_labels_pacurar[nr][:,:,x,1], sigma_color=0.01, sigma_spatial=20)\n",
        "#     img_label_1 = predicted_labels_pacurar[nr][:,:,x,2]\n",
        "#     img_label_2 = predicted_labels_pacurar[nr][:,:,x,1]\n",
        "# #     img_label_1 = predicted_labels_pacurar[nr][:,:,x,2]\n",
        "# #     img_label_2 = predicted_labels_pacurar[nr][:,:,x,1]\n",
        "    \n",
        "#     img_label_1_p = np.where(img_label_1>=thr_w,1,img_label_1)\n",
        "#     img_label_1_p = np.where(img_label_1_p<thr_w,0,img_label_1_p)\n",
        "#     img_label_2_p = np.where(img_label_2>=thr_t,1,img_label_2)\n",
        "#     img_label_2_p = np.where(img_label_2_p<thr_t,0,img_label_2_p)\n",
        "    \n",
        "#     img_label_1 = img_label_1_p\n",
        "#     img_label_2 = img_label_2_p\n",
        "\n",
        "#     img_label_3=y_test[nr][:,:,x,1]\n",
        "#     img_label_4=y_test[nr][:,:,x,2]\n",
        "    \n",
        "#     rotated_img_lb_0 = ndimage.rotate(img_label_0, 270)\n",
        "#     rotated_img_lb_1 = ndimage.rotate(img_label_1, 270)\n",
        "#     rotated_img_lb_2 = ndimage.rotate(img_label_2, 270)\n",
        "#     rotated_img_lb_3 = ndimage.rotate(img_label_3, 270)\n",
        "#     rotated_img_lb_4 = ndimage.rotate(img_label_4, 270)\n",
        "    \n",
        "# #     prediction = predicted_labels_pacurar[nr]\n",
        "    \n",
        "#     dice_p,dice_t = slice_calculate_dice(predicted_labels_pacurar[nr], y_test[nr], x, thr_w, thr_t)\n",
        "#     dice_p = round(tf.keras.backend.get_value(dice_p),3)\n",
        "#     dice_t = round(tf.keras.backend.get_value(dice_t),3)\n",
        "    \n",
        "#     ax[0].imshow(rotated_img_lb_0,cmap='gray')\n",
        "#     ax[0].axis('off')\n",
        "#     ax[1].set_title(\"    DSC for wall: \"+str(dice_p))\n",
        "#     ax[1].imshow(rotated_img_lb_4,cmap='gray')\n",
        "#     ax[1].axis('off')\n",
        "# #     ax[0][1].set_title(\"Dice value for wall: \"+str(dice_p))\n",
        "#     ax[2].imshow(rotated_img_lb_1,cmap='gray')\n",
        "#     ax[2].axis('off')\n",
        "#     ax[3].set_title(\"       DSC for tumor: \"+str(dice_t))\n",
        "#     ax[3].imshow(rotated_img_lb_3,cmap='gray')\n",
        "#     ax[3].axis('off')\n",
        "#     ax[4].imshow(rotated_img_lb_2,cmap='gray')\n",
        "#     ax[4].axis('off')\n",
        "#     plt.tight_layout()\n",
        "#     plt.show()"
      ]
    },
    {
      "cell_type": "code",
      "execution_count": null,
      "metadata": {
        "execution": {
          "iopub.execute_input": "2022-05-18T22:15:43.473533Z",
          "iopub.status.busy": "2022-05-18T22:15:43.472705Z",
          "iopub.status.idle": "2022-05-18T22:15:43.476012Z",
          "shell.execute_reply": "2022-05-18T22:15:43.475433Z",
          "shell.execute_reply.started": "2022-05-10T21:14:39.105308Z"
        },
        "papermill": {
          "duration": 0.609799,
          "end_time": "2022-05-18T22:15:43.476144",
          "exception": false,
          "start_time": "2022-05-18T22:15:42.866345",
          "status": "completed"
        },
        "tags": [],
        "id": "GyBch_FqMjwF"
      },
      "outputs": [],
      "source": [
        "# def predicted_categorical_truth(nr,thr_w=0.1,thr_t=0.1,thr_b=0.001):\n",
        "#     fig, ax = plt.subplots(1,7, figsize=[8, 8])\n",
        "#     x = choose_slice(y_test[nr])\n",
        "#     img_label_0 = patients[nr][:,:,x]\n",
        "# #     img_label_1 = denoise_bilateral(predicted_labels_pacurar[nr][:,:,x,2], sigma_color=0.1, sigma_spatial=15)\n",
        "# #     img_label_2 = denoise_bilateral(predicted_labels_pacurar[nr][:,:,x,1], sigma_color=0.01, sigma_spatial=20)\n",
        "#     img_label_2 = np.copy(predicted_labels_pacurar[nr][:,:,x,2])\n",
        "#     img_label_4 = np.copy(predicted_labels_pacurar[nr][:,:,x,1])\n",
        "#     img_label_6 = np.copy(predicted_labels_pacurar[nr][:,:,x,0])\n",
        "# #     img_label_1 = predicted_labels_pacurar[nr][:,:,x,2]\n",
        "# #     img_label_2 = predicted_labels_pacurar[nr][:,:,x,1]\n",
        "    \n",
        "#     img_label_2_p = np.where(img_label_2>=thr_w,1,img_label_2)\n",
        "#     img_label_2_p = np.where(img_label_2_p<thr_w,0,img_label_2_p)\n",
        "#     img_label_4_p = np.where(img_label_4>=thr_t,1,img_label_4)\n",
        "#     img_label_4_p = np.where(img_label_4_p<thr_t,0,img_label_4_p)\n",
        "#     img_label_6_p = np.where(img_label_6>=0.8,1,img_label_6)\n",
        "#     img_label_6_p = np.where(img_label_6_p<0.8,0,img_label_6_p)\n",
        "    \n",
        "#     img_label_2 = img_label_2_p\n",
        "#     img_label_4 = img_label_4_p\n",
        "#     img_label_6 = img_label_6_p\n",
        "\n",
        "#     img_label_1=y_test[nr][:,:,x,2]\n",
        "#     img_label_3=y_test[nr][:,:,x,1]\n",
        "#     img_label_5=y_test[nr][:,:,x,0]\n",
        "    \n",
        "#     rotated_img_lb_0 = ndimage.rotate(img_label_0, 270)\n",
        "#     rotated_img_lb_1 = ndimage.rotate(img_label_1, 270)\n",
        "#     rotated_img_lb_2 = ndimage.rotate(img_label_2, 270)\n",
        "#     rotated_img_lb_3 = ndimage.rotate(img_label_3, 270)\n",
        "#     rotated_img_lb_4 = ndimage.rotate(img_label_4, 270)\n",
        "#     rotated_img_lb_5 = ndimage.rotate(img_label_5, 270)\n",
        "#     rotated_img_lb_6 = ndimage.rotate(img_label_6, 270)\n",
        "    \n",
        "# #     prediction = predicted_labels_pacurar[nr]\n",
        "    \n",
        "#     dice_p, dice_t, dice_b = slice_calculate_dice(predicted_labels_pacurar[nr], y_test[nr], x, thr_w, thr_t, thr_b)\n",
        "#     dice_p = round(tf.keras.backend.get_value(dice_p),3)\n",
        "#     dice_t = round(tf.keras.backend.get_value(dice_t),3)\n",
        "    \n",
        "#     ax[0].imshow(rotated_img_lb_0,cmap='gray')\n",
        "#     ax[0].axis('off')\n",
        "#     ax[1].set_title(\"    DSC for wall: \"+str(dice_p))\n",
        "#     ax[1].imshow(rotated_img_lb_1,cmap='gray')\n",
        "#     ax[1].axis('off')\n",
        "# #     ax[0][1].set_title(\"Dice value for wall: \"+str(dice_p))\n",
        "#     ax[2].imshow(rotated_img_lb_2,cmap='gray')\n",
        "#     ax[2].axis('off')\n",
        "#     ax[3].set_title(\"       DSC for tumor: \"+str(dice_t))\n",
        "#     ax[3].imshow(rotated_img_lb_3,cmap='gray')\n",
        "#     ax[3].axis('off')\n",
        "#     ax[4].imshow(rotated_img_lb_4,cmap='gray')\n",
        "#     ax[4].axis('off')\n",
        "#     ax[5].set_title(\"       DSC for bg: \"+str(dice_b))\n",
        "#     ax[5].imshow(rotated_img_lb_5,cmap='gray')\n",
        "#     ax[5].axis('off')\n",
        "#     ax[6].imshow(rotated_img_lb_6,cmap='gray')\n",
        "#     ax[6].axis('off')\n",
        "#     plt.tight_layout()\n",
        "#     plt.show()"
      ]
    },
    {
      "cell_type": "code",
      "execution_count": null,
      "metadata": {
        "execution": {
          "iopub.execute_input": "2022-05-18T22:15:44.736524Z",
          "iopub.status.busy": "2022-05-18T22:15:44.735685Z",
          "iopub.status.idle": "2022-05-18T22:15:44.738398Z",
          "shell.execute_reply": "2022-05-18T22:15:44.737989Z",
          "shell.execute_reply.started": "2022-05-10T21:14:39.475217Z"
        },
        "papermill": {
          "duration": 0.639838,
          "end_time": "2022-05-18T22:15:44.738518",
          "exception": false,
          "start_time": "2022-05-18T22:15:44.098680",
          "status": "completed"
        },
        "tags": [],
        "id": "uNoIYJN0MjwG"
      },
      "outputs": [],
      "source": [
        "def predicted_categorical_truth(fname, thr_w=0.1,thr_t=0.1,thr_b=0.9):\n",
        "    fig, ax = plt.subplots(5,7, figsize=[8, 8])\n",
        "    \n",
        "#     x = choose_slice(y_test[nr])\n",
        "    for i in range(5):\n",
        "        x = choose_slice_best(predicted_labels_pacurar[i], y_test[i])\n",
        "        img_label_0 = patients[i][:,:,x]\n",
        "        img_label_1=y_test[i][:,:,x,2]\n",
        "        img_label_3=y_test[i][:,:,x,1]\n",
        "        img_label_5=y_test[i][:,:,x,0]\n",
        "\n",
        "        img_label_2 = np.copy(predicted_labels_pacurar[i][:,:,x,2])\n",
        "        img_label_4 = np.copy(predicted_labels_pacurar[i][:,:,x,1])\n",
        "        img_label_6 = np.copy(predicted_labels_pacurar[i][:,:,x,0])\n",
        "\n",
        "\n",
        "        dice_b, thr_b = automate_thrs(predicted_labels_pacurar[i],y_test[i],x,0)\n",
        "        dice_p, thr_w = automate_thrs(predicted_labels_pacurar[i],y_test[i],x,2)\n",
        "        dice_t, thr_t = automate_thrs(predicted_labels_pacurar[i],y_test[i],x,1)\n",
        "\n",
        "        img_label_2_p = np.where(img_label_2>=thr_w,1,img_label_2)\n",
        "        img_label_2_p = np.where(img_label_2_p<thr_w,0,img_label_2_p)\n",
        "        img_label_4_p = np.where(img_label_4>=thr_t,1,img_label_4)\n",
        "        img_label_4_p = np.where(img_label_4_p<thr_t,0,img_label_4_p)\n",
        "        img_label_6_p = np.where(img_label_6>=thr_b,1,img_label_6)\n",
        "        img_label_6_p = np.where(img_label_6_p<thr_b,0,img_label_6_p)\n",
        "\n",
        "        img_label_2 = img_label_2_p\n",
        "        img_label_4 = img_label_4_p\n",
        "        img_label_6 = img_label_6_p\n",
        "\n",
        "\n",
        "        rotated_img_lb_0 = ndimage.rotate(img_label_0, 270)\n",
        "        rotated_img_lb_1 = ndimage.rotate(img_label_1, 270)\n",
        "        rotated_img_lb_2 = ndimage.rotate(img_label_2, 270)\n",
        "        rotated_img_lb_3 = ndimage.rotate(img_label_3, 270)\n",
        "        rotated_img_lb_4 = ndimage.rotate(img_label_4, 270)\n",
        "        rotated_img_lb_5 = ndimage.rotate(img_label_5, 270)\n",
        "        rotated_img_lb_6 = ndimage.rotate(img_label_6, 270)\n",
        "\n",
        "\n",
        "        dice_b = round(tf.keras.backend.get_value(dice_b),3)\n",
        "        dice_p = round(tf.keras.backend.get_value(dice_p),3)\n",
        "        dice_t = round(tf.keras.backend.get_value(dice_t),3)\n",
        "\n",
        "        ax[i][0].imshow(rotated_img_lb_0,cmap='gray')\n",
        "        ax[i][0].axis('off')\n",
        "        ax[i][1].set_title(\"    DSC for wall: \"+str(dice_p))\n",
        "        ax[i][1].imshow(rotated_img_lb_1,cmap='gray')\n",
        "        ax[i][1].axis('off')\n",
        "    #     ax[0][1].set_title(\"Dice value for wall: \"+str(dice_p))\n",
        "        ax[i][2].imshow(rotated_img_lb_2,cmap='gray')\n",
        "        ax[i][2].axis('off')\n",
        "        ax[i][3].set_title(\"       DSC for tumor: \"+str(dice_t))\n",
        "        ax[i][3].imshow(rotated_img_lb_3,cmap='gray')\n",
        "        ax[i][3].axis('off')\n",
        "        ax[i][4].imshow(rotated_img_lb_4,cmap='gray')\n",
        "        ax[i][4].axis('off')\n",
        "        ax[i][5].set_title(\"       DSC for bg: \"+str(dice_b))\n",
        "        ax[i][5].imshow(rotated_img_lb_5,cmap='gray')\n",
        "        ax[i][5].axis('off')\n",
        "        ax[i][6].imshow(rotated_img_lb_6,cmap='gray')\n",
        "        ax[i][6].axis('off')\n",
        "    plt.tight_layout()\n",
        "    plt.show()\n",
        "    plt.savefig(fname)\n"
      ]
    },
    {
      "cell_type": "code",
      "execution_count": null,
      "metadata": {
        "execution": {
          "iopub.execute_input": "2022-05-18T22:15:45.961659Z",
          "iopub.status.busy": "2022-05-18T22:15:45.960895Z",
          "iopub.status.idle": "2022-05-18T22:15:45.963585Z",
          "shell.execute_reply": "2022-05-18T22:15:45.963180Z",
          "shell.execute_reply.started": "2022-05-10T21:14:40.000723Z"
        },
        "papermill": {
          "duration": 0.620391,
          "end_time": "2022-05-18T22:15:45.963708",
          "exception": false,
          "start_time": "2022-05-18T22:15:45.343317",
          "status": "completed"
        },
        "tags": [],
        "id": "Obt2Lu-BMjwI"
      },
      "outputs": [],
      "source": [
        "def slice_calculate_dice(vol_pred, vol_true, x, thr_w, thr_t, thr_b):\n",
        "    prediction = np.copy(vol_pred)\n",
        "    prediction[:,:,x,2] = np.where(prediction[:,:,x,2]>=thr_w,1,prediction[:,:,x,2])\n",
        "    prediction[:,:,x,2] = np.where(prediction[:,:,x,2]<thr_w,0,prediction[:,:,x,2])\n",
        "    prediction[:,:,x,1] = np.where(prediction[:,:,x,1]>=thr_t,1,prediction[:,:,x,1])\n",
        "    prediction[:,:,x,1] = np.where(prediction[:,:,x,1]<thr_t,0,prediction[:,:,x,1])\n",
        "    prediction[:,:,x,0] = np.where(prediction[:,:,x,0]>=thr_b,1,prediction[:,:,x,0])\n",
        "    prediction[:,:,x,0] = np.where(prediction[:,:,x,0]<thr_b,0,prediction[:,:,x,0])\n",
        "\n",
        "    dice_b = calculate_dice(vol_true[:,:,x,0], prediction[:,:,x,0])\n",
        "    dice_t = calculate_dice(vol_true[:,:,x,1], prediction[:,:,x,1])\n",
        "    dice_p = calculate_dice(vol_true[:,:,x,2], prediction[:,:,x,2])\n",
        "    return dice_p, dice_t, dice_b\n"
      ]
    },
    {
      "cell_type": "code",
      "execution_count": null,
      "metadata": {
        "execution": {
          "iopub.execute_input": "2022-05-18T22:15:47.189143Z",
          "iopub.status.busy": "2022-05-18T22:15:47.187300Z",
          "iopub.status.idle": "2022-05-18T22:15:47.189694Z",
          "shell.execute_reply": "2022-05-18T22:15:47.190131Z",
          "shell.execute_reply.started": "2022-05-10T21:14:40.655828Z"
        },
        "papermill": {
          "duration": 0.619714,
          "end_time": "2022-05-18T22:15:47.190283",
          "exception": false,
          "start_time": "2022-05-18T22:15:46.570569",
          "status": "completed"
        },
        "tags": [],
        "id": "XcqpBLnQMjwL"
      },
      "outputs": [],
      "source": [
        "def slice_calculate_dice_updated(vol_pred, vol_true, x, thr_w, thr_t, thr_b):\n",
        "    prediction = np.copy(vol_pred)\n",
        "    prediction[:,:,x,2] = np.where(prediction[:,:,x,2]>=prediction[:,:,x,1] and prediction[:,:,x,2]>=prediction[:,:,x,0],1,prediction[:,:,x,2])\n",
        "    prediction[:,:,x,2] = np.where(prediction[:,:,x,2]!=1,0,prediction[:,:,x,2])\n",
        "    prediction[:,:,x,1] = np.where(prediction[:,:,x,1]>=prediction[:,:,x,2] and prediction[:,:,x,1]>=prediction[:,:,x,0],1,prediction[:,:,x,1])\n",
        "    prediction[:,:,x,1] = np.where(prediction[:,:,x,1]!=1,0,prediction[:,:,x,1])\n",
        "    prediction[:,:,x,0] = np.where(prediction[:,:,x,0]>=prediction[:,:,x,2] and prediction[:,:,x,0]>=prediction[:,:,x,1],1,prediction[:,:,x,0])\n",
        "    prediction[:,:,x,0] = np.where(prediction[:,:,x,0]!=1,0,prediction[:,:,x,0])\n",
        "\n",
        "    dice_b = calculate_dice(vol_true[:,:,x,0], prediction[:,:,x,0])\n",
        "    dice_t = calculate_dice(vol_true[:,:,x,1], prediction[:,:,x,1])\n",
        "    dice_p = calculate_dice(vol_true[:,:,x,2], prediction[:,:,x,2])\n",
        "    return dice_p, dice_t, dice_b\n"
      ]
    },
    {
      "cell_type": "code",
      "execution_count": null,
      "metadata": {
        "execution": {
          "iopub.execute_input": "2022-05-18T22:15:48.423074Z",
          "iopub.status.busy": "2022-05-18T22:15:48.422306Z",
          "iopub.status.idle": "2022-05-18T22:15:48.425479Z",
          "shell.execute_reply": "2022-05-18T22:15:48.424955Z",
          "shell.execute_reply.started": "2022-05-10T21:14:41.177347Z"
        },
        "papermill": {
          "duration": 0.633001,
          "end_time": "2022-05-18T22:15:48.425597",
          "exception": false,
          "start_time": "2022-05-18T22:15:47.792596",
          "status": "completed"
        },
        "tags": [],
        "id": "ICzSyWzjMjwN"
      },
      "outputs": [],
      "source": [
        "patients = x_test\n",
        "labels = y_test\n",
        "# model_unet_3d = model_unet_3d_5_lvl\n",
        "# model_unet_3d = model_unet_3d_5_lvl\n",
        "# model_unet_3d = model_unet_3d_6_lvl\n",
        "# model_unet_3d = model_unet_3d_4_lvl"
      ]
    },
    {
      "cell_type": "code",
      "execution_count": null,
      "metadata": {
        "execution": {
          "iopub.execute_input": "2022-05-18T22:15:49.815262Z",
          "iopub.status.busy": "2022-05-18T22:15:49.814431Z",
          "iopub.status.idle": "2022-05-18T22:15:51.714627Z",
          "shell.execute_reply": "2022-05-18T22:15:51.713710Z",
          "shell.execute_reply.started": "2022-05-10T21:14:46.738894Z"
        },
        "papermill": {
          "duration": 2.681291,
          "end_time": "2022-05-18T22:15:51.714770",
          "exception": false,
          "start_time": "2022-05-18T22:15:49.033479",
          "status": "completed"
        },
        "tags": [],
        "id": "No5Evg9rMjwO"
      },
      "outputs": [],
      "source": [
        "# # TREBUIE SA SCOT PARTEA ASTA PT SCENARIUL 3\n",
        "predict_pacurar = model_unet_3d.predict(patients)\n",
        "predicted_labels_pacurar = np.copy(predict_pacurar)\n",
        "\n",
        "# predict_pacurar_2 = model_unet_3d_2.predict(patients)\n",
        "# predicted_labels_pacurar_2 = np.copy(predict_pacurar_2)\n",
        "\n",
        "# predict_pacurar_3 = model_unet_3d_3.predict(patients)\n",
        "# predicted_labels_pacurar_3 = np.copy(predict_pacurar_3)"
      ]
    },
    {
      "cell_type": "code",
      "execution_count": null,
      "metadata": {
        "execution": {
          "iopub.execute_input": "2022-05-18T22:15:52.951952Z",
          "iopub.status.busy": "2022-05-18T22:15:52.949535Z",
          "iopub.status.idle": "2022-05-18T22:16:35.564748Z",
          "shell.execute_reply": "2022-05-18T22:16:35.564296Z",
          "shell.execute_reply.started": "2021-12-16T10:54:42.546934Z"
        },
        "papermill": {
          "duration": 43.241945,
          "end_time": "2022-05-18T22:16:35.564883",
          "exception": false,
          "start_time": "2022-05-18T22:15:52.322938",
          "status": "completed"
        },
        "tags": [],
        "id": "RpsZtQkqMjwO",
        "outputId": "e633ebaf-3592-464f-c497-9f20142f9165"
      },
      "outputs": [
        {
          "data": {
            "image/png": "[encoded data removed]",
            "text/plain": [
              "<Figure size 576x576 with 35 Axes>"
            ]
          },
          "metadata": {
            "needs_background": "light"
          },
          "output_type": "display_data"
        },
        {
          "data": {
            "text/plain": [
              "<Figure size 432x288 with 0 Axes>"
            ]
          },
          "metadata": {},
          "output_type": "display_data"
        }
      ],
      "source": [
        "predicted_categorical_truth(\"Lvl_4_Dilated.jpg\")"
      ]
    },
    {
      "cell_type": "markdown",
      "metadata": {
        "papermill": {
          "duration": 0.598875,
          "end_time": "2022-05-18T22:16:36.767084",
          "exception": false,
          "start_time": "2022-05-18T22:16:36.168209",
          "status": "completed"
        },
        "tags": [],
        "id": "ipRrFiqPMjwP"
      },
      "source": [
        "# Tensorboard "
      ]
    },
    {
      "cell_type": "code",
      "execution_count": null,
      "metadata": {
        "execution": {
          "iopub.execute_input": "2022-05-18T22:16:37.978741Z",
          "iopub.status.busy": "2022-05-18T22:16:37.977890Z",
          "iopub.status.idle": "2022-05-18T22:16:37.980582Z",
          "shell.execute_reply": "2022-05-18T22:16:37.980156Z",
          "shell.execute_reply.started": "2021-12-16T10:55:25.621556Z"
        },
        "papermill": {
          "duration": 0.612635,
          "end_time": "2022-05-18T22:16:37.980706",
          "exception": false,
          "start_time": "2022-05-18T22:16:37.368071",
          "status": "completed"
        },
        "tags": [],
        "id": "PG6uEY1BMjwQ"
      },
      "outputs": [],
      "source": [
        "# !tensorboard --logdir=./output/logs/fit/20210728-185949 --host localhost --port 8088\n",
        "# !tensorboard --logdir=\"./output/logs/fit/20210728-185949\" --host localhost --port 8088\n",
        "# !tensorboard --logdir=\"./output/logs/fit/20210728-185949\" --host localhost --port 6006"
      ]
    },
    {
      "cell_type": "markdown",
      "metadata": {
        "papermill": {
          "duration": 0.620439,
          "end_time": "2022-05-18T22:16:39.213813",
          "exception": false,
          "start_time": "2022-05-18T22:16:38.593374",
          "status": "completed"
        },
        "tags": [],
        "id": "OlJz4SF7MjwR"
      },
      "source": [
        "# Salvarea modelului"
      ]
    },
    {
      "cell_type": "code",
      "execution_count": null,
      "metadata": {
        "papermill": {
          "duration": 0.609546,
          "end_time": "2022-05-18T22:16:40.440158",
          "exception": false,
          "start_time": "2022-05-18T22:16:39.830612",
          "status": "completed"
        },
        "tags": [],
        "id": "lT831SXyMjwS"
      },
      "outputs": [],
      "source": [
        ""
      ]
    },
    {
      "cell_type": "code",
      "execution_count": null,
      "metadata": {
        "execution": {
          "iopub.execute_input": "2022-05-18T22:16:41.691506Z",
          "iopub.status.busy": "2022-05-18T22:16:41.689586Z",
          "iopub.status.idle": "2022-05-18T22:16:41.692111Z",
          "shell.execute_reply": "2022-05-18T22:16:41.692523Z",
          "shell.execute_reply.started": "2021-12-16T10:55:25.627444Z"
        },
        "papermill": {
          "duration": 0.644954,
          "end_time": "2022-05-18T22:16:41.692663",
          "exception": false,
          "start_time": "2022-05-18T22:16:41.047709",
          "status": "completed"
        },
        "tags": [],
        "id": "57J0KWSIMjwS"
      },
      "outputs": [],
      "source": [
        "# model_unet_3d.save('model_4lvl_weigh_cat_cross_40epchs_scenariur_bch2.h5')"
      ]
    },
    {
      "cell_type": "code",
      "execution_count": null,
      "metadata": {
        "execution": {
          "iopub.execute_input": "2022-05-18T22:16:42.899893Z",
          "iopub.status.busy": "2022-05-18T22:16:42.898897Z",
          "iopub.status.idle": "2022-05-18T22:16:42.901610Z",
          "shell.execute_reply": "2022-05-18T22:16:42.901193Z",
          "shell.execute_reply.started": "2021-12-16T10:55:25.637054Z"
        },
        "papermill": {
          "duration": 0.606873,
          "end_time": "2022-05-18T22:16:42.901733",
          "exception": false,
          "start_time": "2022-05-18T22:16:42.294860",
          "status": "completed"
        },
        "tags": [],
        "id": "7t_pA4ZbMjwU"
      },
      "outputs": [],
      "source": [
        "# def evaluation_history_model(history1):\n",
        "#     eval_dice_coef=np.mean(history1.history['val_dice_coefficient'])\n",
        "#     eval_accuracy=np.mean(history1.history['val_accuracy'])\n",
        "    \n",
        "#     return eval_accuracy,eval_dice_coef"
      ]
    },
    {
      "cell_type": "code",
      "execution_count": null,
      "metadata": {
        "execution": {
          "iopub.execute_input": "2022-05-18T22:16:44.111120Z",
          "iopub.status.busy": "2022-05-18T22:16:44.110224Z",
          "iopub.status.idle": "2022-05-18T22:16:44.112963Z",
          "shell.execute_reply": "2022-05-18T22:16:44.112521Z",
          "shell.execute_reply.started": "2021-12-16T10:55:25.651416Z"
        },
        "papermill": {
          "duration": 0.608597,
          "end_time": "2022-05-18T22:16:44.113084",
          "exception": false,
          "start_time": "2022-05-18T22:16:43.504487",
          "status": "completed"
        },
        "tags": [],
        "id": "Q08t-LamMjwV"
      },
      "outputs": [],
      "source": [
        "# evaluation_history_model(history)"
      ]
    },
    {
      "cell_type": "code",
      "execution_count": null,
      "metadata": {
        "execution": {
          "iopub.execute_input": "2022-05-18T22:16:45.629616Z",
          "iopub.status.busy": "2022-05-18T22:16:45.628186Z",
          "iopub.status.idle": "2022-05-18T22:16:45.631651Z",
          "shell.execute_reply": "2022-05-18T22:16:45.631205Z",
          "shell.execute_reply.started": "2021-12-16T10:55:25.6573Z"
        },
        "papermill": {
          "duration": 0.757257,
          "end_time": "2022-05-18T22:16:45.631779",
          "exception": false,
          "start_time": "2022-05-18T22:16:44.874522",
          "status": "completed"
        },
        "tags": [],
        "id": "oL-yzyvxMjwW"
      },
      "outputs": [],
      "source": [
        "# evaluation_history_model(history_2)"
      ]
    },
    {
      "cell_type": "code",
      "execution_count": null,
      "metadata": {
        "execution": {
          "iopub.execute_input": "2022-05-18T22:16:46.895029Z",
          "iopub.status.busy": "2022-05-18T22:16:46.893045Z",
          "iopub.status.idle": "2022-05-18T22:16:46.895595Z",
          "shell.execute_reply": "2022-05-18T22:16:46.896027Z",
          "shell.execute_reply.started": "2021-12-16T10:55:25.66494Z"
        },
        "papermill": {
          "duration": 0.613571,
          "end_time": "2022-05-18T22:16:46.896175",
          "exception": false,
          "start_time": "2022-05-18T22:16:46.282604",
          "status": "completed"
        },
        "tags": [],
        "id": "8sdia02-MjwW"
      },
      "outputs": [],
      "source": [
        "def volume_calculate_dice(vol_pred,vol_true, thr_w=0.1, thr_t=0.1, thr_b=0.8):\n",
        "    dice_p = 0\n",
        "    dice_t = 0\n",
        "    dice_b = 0\n",
        "    for z in range(vol_pred.shape[2]):\n",
        "        patient = np.copy(vol_pred)\n",
        "        dice_b_z, thr_b = automate_thrs(patient,vol_true,z,0)\n",
        "        dice_p_z, thr_w = automate_thrs(patient,vol_true,z,2)\n",
        "        dice_t_z, thr_t = automate_thrs(patient,vol_true,z,1)\n",
        "\n",
        "        dice_p += dice_p_z\n",
        "        dice_t += dice_t_z\n",
        "        dice_b += dice_b_z\n",
        "    return dice_p/vol_pred.shape[2], dice_t/vol_pred.shape[2], dice_b/vol_pred.shape[2]\n",
        "\n",
        "def total_dice(list_vol_pred,list_vol_true,thr_w=0.1, thr_t=0.1, thr_b=0.8):\n",
        "    d_p = 0\n",
        "    d_t = 0\n",
        "    d_b = 0\n",
        "    for i in range(len(list_vol_pred)):\n",
        "        d_p_i,d_t_i,d_b_i = volume_calculate_dice(list_vol_pred[i],list_vol_true[i], thr_w, thr_t, thr_b)\n",
        "        d_p += d_p_i\n",
        "        d_t += d_t_i\n",
        "        d_b += d_b_i\n",
        "    return d_p/len(list_vol_pred),d_t/len(list_vol_pred),d_b/len(list_vol_pred)"
      ]
    },
    {
      "cell_type": "code",
      "execution_count": null,
      "metadata": {
        "execution": {
          "iopub.execute_input": "2022-05-18T22:16:48.122921Z",
          "iopub.status.busy": "2022-05-18T22:16:48.121990Z",
          "iopub.status.idle": "2022-05-18T22:18:38.411083Z",
          "shell.execute_reply": "2022-05-18T22:18:38.411636Z",
          "shell.execute_reply.started": "2021-12-16T10:55:25.678588Z"
        },
        "papermill": {
          "duration": 110.912722,
          "end_time": "2022-05-18T22:18:38.411858",
          "exception": false,
          "start_time": "2022-05-18T22:16:47.499136",
          "status": "completed"
        },
        "tags": [],
        "id": "yGse8McwMjwW",
        "outputId": "ec77b959-2b0f-4124-b794-20e22c28fe81"
      },
      "outputs": [
        {
          "name": "stdout",
          "output_type": "stream",
          "text": [
            "lvl 5: wall: 0.842718749307096 tumor: 0.8918625002494082 bg: 0.9930000007152557\n"
          ]
        }
      ],
      "source": [
        "d_p, d_t, d_b = total_dice(predicted_labels_pacurar,y_test,0.1,0.1)\n",
        "# print(\"lvl 4: wall: \"+ str(d_p)+\" tumor: \"+str(d_t)+ \" bg: \"+ str(d_b))\n",
        "print(\"lvl 5: wall: \"+ str(d_p)+\" tumor: \"+str(d_t)+ \" bg: \"+ str(d_b))\n",
        "# print(\"lvl 6: wall: \"+ str(d_p)+\" tumor: \"+ str(d_t))"
      ]
    },
    {
      "cell_type": "code",
      "execution_count": null,
      "metadata": {
        "execution": {
          "iopub.execute_input": "2022-05-18T22:18:39.651146Z",
          "iopub.status.busy": "2022-05-18T22:18:39.648775Z",
          "iopub.status.idle": "2022-05-18T22:18:39.653639Z",
          "shell.execute_reply": "2022-05-18T22:18:39.652994Z",
          "shell.execute_reply.started": "2021-12-16T10:57:19.796167Z"
        },
        "papermill": {
          "duration": 0.621601,
          "end_time": "2022-05-18T22:18:39.653815",
          "exception": false,
          "start_time": "2022-05-18T22:18:39.032214",
          "status": "completed"
        },
        "tags": [],
        "id": "JQ6GqVHmMjwX",
        "outputId": "6d0c5c78-5d76-4d1d-f32e-490e25ccf1c0"
      },
      "outputs": [
        {
          "name": "stdout",
          "output_type": "stream",
          "text": [
            "medie: 0.9091937500905867\n"
          ]
        }
      ],
      "source": [
        "print(\"medie: \" + str((d_p+d_t+d_b)/3))"
      ]
    }
  ],
  "metadata": {
    "kernelspec": {
      "display_name": "Python 3",
      "language": "python",
      "name": "python3"
    },
    "language_info": {
      "codemirror_mode": {
        "name": "ipython",
        "version": 3
      },
      "file_extension": ".py",
      "mimetype": "text/x-python",
      "name": "python",
      "nbconvert_exporter": "python",
      "pygments_lexer": "ipython3",
      "version": "3.7.9"
    },
    "papermill": {
      "default_parameters": {},
      "duration": 2476.671888,
      "end_time": "2022-05-18T22:18:48.634117",
      "environment_variables": {},
      "exception": null,
      "input_path": "__notebook__.ipynb",
      "output_path": "__notebook__.ipynb",
      "parameters": {},
      "start_time": "2022-05-18T21:37:31.962229",
      "version": "2.2.2"
    },
    "colab": {
      "name": "Training-Bladder.ipynb",
      "provenance": [],
      "collapsed_sections": [
        "Ez-WDGHUMjvJ",
        "-hcCLgRbMjvM",
        "0AfCvU7jMjvn",
        "q-Iri01eb6vJ",
        "du5jNp8fMjv_"
      ]
    }
  },
  "nbformat": 4,
  "nbformat_minor": 0
}